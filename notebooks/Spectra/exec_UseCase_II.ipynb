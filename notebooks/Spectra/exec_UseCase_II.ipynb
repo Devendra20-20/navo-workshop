{
 "cells": [
  {
   "cell_type": "markdown",
   "metadata": {},
   "source": [
    "# Preparing a proposal\n",
    "\n",
    "The Story: Suppose that you are preparing to write a proposal on NGC1365, aiming to investigate the intriguing black hole spin this galaxy with Chandra grating observations (see: https://www.space.com/19980-monster-black-hole-spin-discovery.html ) \n",
    "\n",
    "In writing proposals, there are often the same tasks that are required: including finding and analyzing previous observations of the proposal, and creating figures that include, e.g., multiwavelength images and spectrum for the source. \n"
   ]
  },
  {
   "cell_type": "code",
   "execution_count": 1,
   "metadata": {},
   "outputs": [],
   "source": [
    "# As a hint, we include the code block for Python modules that you will likely need to import:   \n",
    "import matplotlib\n",
    "import matplotlib.pyplot as plt\n",
    "import numpy as np\n",
    "%matplotlib inline  \n",
    "\n",
    "# For downloading files\n",
    "from astropy.utils.data import download_file\n",
    "from astropy.io import fits\n",
    "\n",
    "import pyvo as vo\n",
    "\n",
    "## There are a number of relatively unimportant warnings that \n",
    "## show up, so for now, suppress them:\n",
    "import warnings\n",
    "warnings.filterwarnings(\"ignore\", module=\"astropy.io.votable.*\")\n",
    "warnings.filterwarnings(\"ignore\", module=\"pyvo.utils.xml.*\")"
   ]
  },
  {
   "cell_type": "markdown",
   "metadata": {},
   "source": [
    "### Step 1: Find out what the previously quoted Chandra 2-10 keV flux of the central source is for NGC 1365.  \n",
    "\n",
    "Hint: Do a table access protocol (TAP) search in the heasarc, to find potential table with this information"
   ]
  },
  {
   "cell_type": "code",
   "execution_count": 2,
   "metadata": {},
   "outputs": [],
   "source": [
    "#  This gets all services matching, which should be a list of only one:\n",
    "tap_services=vo.regsearch(servicetype='table',keywords=['heasarc'])\n",
    "#  This fetches the list of tables that this service serves:\n",
    "heasarc_tables=tap_services[0].service.tables"
   ]
  },
  {
   "cell_type": "code",
   "execution_count": 3,
   "metadata": {},
   "outputs": [
    {
     "name": "stdout",
     "output_type": "stream",
     "text": [
      "Table bmwchancat has columns=['\"__row\"', '\"__x_ra_dec\"', '\"__y_ra_dec\"', '\"__z_ra_dec\"', '\"time\"', 'ascds_version', 'bck_counts', 'bck_hb_counts', 'bck_sb_counts', 'bii', 'chi_squared', 'count_rate', 'count_rate_error', 'counted_band1_counts', 'counted_band2_counts', 'counted_band3_counts', 'counted_band4_counts', 'counted_bck_counts', 'counted_counts', 'counts', 'counts_error', 'cross_match_flag_1', 'cross_match_flag_2', 'data_mode', 'dec', 'dec_error', 'end_time', 'error_radius', 'exposure', 'extent_flag', 'field_target', 'field_target_dec_j2000', 'field_target_nh', 'field_target_ra_j2000', 'flux', 'flux_cr_corfac', 'frame_time', 'full_band_flux', 'full_band_obs_flux', 'hb_count_rate', 'hb_count_rate_error', 'hb_counted_bck_counts', 'hb_counted_counts', 'hb_counts', 'hb_counts_error', 'hb_flux', 'hb_psf_corr_factor', 'hb_snr', 'hb_vignetting_factor', 'hb_wavelet_snr', 'lii', 'name', 'nominal_exposure', 'obsid', 'off_axis', 'psf_corr_factor', 'quality_flag_1', 'quality_flag_2', 'ra', 'ra_error', 'rebin_number', 'sb_count_rate', 'sb_count_rate_error', 'sb_counted_bck_counts', 'sb_counted_counts', 'sb_counts', 'sb_counts_error', 'sb_flux', 'sb_psf_corr_factor', 'sb_snr', 'sb_vignetting_factor', 'sb_wavelet_snr', 'sequence_number', 'snr', 'source_number', 'src_wt_scale', 'vignetting_factor', 'wavelet_snr', 'wt_probability', 'wt_width', 'wt_width_error', 'wt_width_flag', 'x_pixel', 'y_pixel']\n",
      "\n",
      "Table chandfn1ms has columns=['\"__row\"', '\"__x_ra_dec\"', '\"__y_ra_dec\"', '\"__z_ra_dec\"', 'band_ratio', 'band_ratio_negerr', 'band_ratio_poserr', 'bii', 'dec', 'error_radius', 'exposure', 'fb_counts', 'fb_counts_error', 'fb_counts_flag', 'fb_flux', 'hb_counts', 'hb_counts_error', 'hb_counts_flag', 'hb_flux', 'lii', 'limit_band_ratio', 'limit_fb_counts', 'limit_fb_flux', 'limit_hb_counts', 'limit_hb_flux', 'limit_photon_index', 'limit_sb_counts', 'limit_sb_flux', 'limit_uhb_counts', 'limit_uhb_flux', 'name', 'photon_index', 'photon_index_flag', 'ra', 'sb_counts', 'sb_counts_error', 'sb_counts_flag', 'sb_flux', 'source_notes', 'uhb_counts', 'uhb_counts_error', 'uhb_counts_flag', 'uhb_flux']\n",
      "\n",
      "Table chandfn2ms has columns=['\"__row\"', '\"__x_ra_dec\"', '\"__y_ra_dec\"', '\"__z_ra_dec\"', 'bii', 'dec', 'error_radius', 'exposure', 'fb_counts', 'fb_counts_neg_err', 'fb_counts_pos_err', 'fb_flux', 'flag_fb_counts', 'flag_hb1_counts', 'flag_hb2_counts', 'flag_hb_counts', 'flag_photon_index', 'flag_sb1_counts', 'flag_sb2_counts', 'flag_sb_counts', 'hb1_counts', 'hb1_counts_neg_err', 'hb1_counts_pos_err', 'hb1_flux', 'hb2_counts', 'hb2_counts_neg_err', 'hb2_counts_pos_err', 'hb2_flux', 'hb_counts', 'hb_counts_neg_err', 'hb_counts_pos_err', 'hb_flux', 'lii', 'limit_fb_counts', 'limit_fb_flux', 'limit_hb1_counts', 'limit_hb1_flux', 'limit_hb2_counts', 'limit_hb2_flux', 'limit_hb_counts', 'limit_hb_flux', 'limit_photon_index', 'limit_ratio_1', 'limit_ratio_2', 'limit_ratio_3', 'limit_ratio_4', 'limit_sb1_counts', 'limit_sb1_flux', 'limit_sb2_counts', 'limit_sb2_flux', 'limit_sb_counts', 'limit_sb_flux', 'name', 'off_axis_angle', 'photon_index', 'photon_index_neg_err', 'photon_index_pos_err', 'ra', 'ratio_1', 'ratio_1_neg_err', 'ratio_1_pos_err', 'ratio_2', 'ratio_2_neg_err', 'ratio_2_pos_err', 'ratio_3', 'ratio_3_neg_err', 'ratio_3_pos_err', 'ratio_4', 'ratio_4_neg_err', 'ratio_4_pos_err', 'sb1_counts', 'sb1_counts_neg_err', 'sb1_counts_pos_err', 'sb1_flux', 'sb2_counts', 'sb2_counts_neg_err', 'sb2_counts_pos_err', 'sb2_flux', 'sb_counts', 'sb_counts_neg_err', 'sb_counts_pos_err', 'sb_flux', 'sequence_number', 'source_notes']\n",
      "\n",
      "Table chandfs1ms has columns=['\"__row\"', '\"__x_ra_dec\"', '\"__y_ra_dec\"', '\"__z_ra_dec\"', 'bii', 'dec', 'detect_method', 'error_radius', 'filter_rmag_1', 'filter_rmag_2', 'filter_rmag_3', 'hardness_ratio', 'hardness_ratio_error', 'hb_counts', 'hb_counts_error', 'hb_exposure', 'hb_flux', 'hb_flux_error', 'lii', 'limit_hb_flux', 'limit_rmag_1', 'limit_rmag_2', 'limit_rmag_3', 'limit_sb_flux', 'name', 'offset_1', 'offset_2', 'offset_3', 'optical_id', 'ra', 'rmag_1', 'rmag_1_error', 'rmag_2', 'rmag_2_error', 'rmag_3', 'rmag_3_error', 'sb_counts', 'sb_counts_error', 'sb_exposure', 'sb_flux', 'sb_flux_error', 'xray_id']\n",
      "\n",
      "Table chandfs2ms has columns=['\"__row\"', '\"__x_ra_dec\"', '\"__y_ra_dec\"', '\"__z_ra_dec\"', 'a03_dec', 'a03_ra', 'a03_source_number', 'alt_name', 'band_ratio', 'band_ratio_neg_err', 'band_ratio_pos_err', 'bii', 'dec', 'error_radius', 'fb_counts', 'fb_counts_neg_err', 'fb_counts_pos_err', 'fb_exposure', 'fb_flux', 'flux_5p8_um', 'g02_dec', 'g02_ra', 'g02_source_number', 'gems_name', 'goodss_source_number', 'hb_counts', 'hb_counts_neg_err', 'hb_counts_pos_err', 'hb_exposure', 'hb_flux', 'imag', 'irac_source_number', 'ks_mag', 'l05_dec', 'l05_ra', 'l05_source_number', 'lii', 'log_min_fp_prob', 'name', 'note_flags', 'off_axis', 'off_set', 'optical_dec', 'optical_ra', 'ra', 'redshift', 'ref_redshift', 'rmag', 'sb_counts', 'sb_counts_neg_err', 'sb_counts_pos_err', 'sb_exposure', 'sb_flux', 'sofi_source_number', 'source_identifier', 'source_sample', 'spectral_index', 'spectral_index_neg_err', 'spectral_index_pos_err', 'xid_source_number', 'zmag']\n",
      "\n",
      "Table chandfs4ms has columns=['\"__row\"', '\"__x_ra_dec\"', '\"__y_ra_dec\"', '\"__z_ra_dec\"', 'alt_name', 'band_ratio', 'band_ratio_neg_err', 'band_ratio_pos_err', 'bii', 'broad_type', 'class', 'crtpart_ab_mag', 'ctrpart_catalog', 'dec', 'error_radius', 'extent_flag', 'fb_counts', 'fb_counts_neg_err', 'fb_counts_pos_err', 'fb_exposure', 'fb_flux', 'gems_dec', 'gems_ra', 'gems_zmag', 'goodss_dec', 'goodss_ra', 'goodss_zmag', 'hb_counts', 'hb_counts_neg_err', 'hb_counts_pos_err', 'hb_exposure', 'hb_flux', 'l05_dec', 'l05_ra', 'l05_source_number', 'l08_dec', 'l08_ra', 'l08_source_number', 'lii', 'log_min_fp_prob', 'log_min_ns_prob', 'music_dec', 'music_kmag', 'music_ra', 'musyc_dec', 'musyc_kmag', 'musyc_ra', 'name', 'notes', 'off_axis', 'off_set', 'onir_dec', 'onir_ra', 'phot_redshift_1', 'phot_redshift_1_max', 'phot_redshift_1_min', 'phot_redshift_2', 'phot_redshift_3', 'phot_redshift_3_flag', 'phot_redshift_3_max', 'phot_redshift_3_min', 'phot_redshift_4', 'phot_redshift_4_max', 'phot_redshift_4_min', 'photon_index', 'photon_index_max', 'photon_index_min', 'ra', 'redshift', 'ref_spect_redshift', 'rf_lx', 'rmag', 'sb_counts', 'sb_counts_neg_err', 'sb_counts_pos_err', 'sb_exposure', 'sb_flux', 'simple_3p6_um_mag', 'simple_dec', 'simple_ra', 'spect_redshift', 'spect_redshift_flag', 'vla_20_cm_mag', 'vla_dec', 'vla_ra', 'wfi_dec', 'wfi_ra', 'xid_source_number']\n",
      "\n",
      "Table chandfs7ms has columns=['\"__row\"', '\"__x_ra_dec\"', '\"__y_ra_dec\"', '\"__z_ra_dec\"', 'abs_corr_lx', 'alt_name', 'band_ratio', 'band_ratio_neg_err', 'band_ratio_pos_err', 'bii', 'broad_type', 'candels_dec', 'candels_f125w_mag', 'candels_ra', 'class', 'ctrpart_catalog', 'ctrpart_note', 'dec', 'error_radius', 'fb_counts', 'fb_counts_neg_err', 'fb_counts_pos_err', 'fb_exposure', 'fb_flux', 'gems_dec', 'gems_ra', 'gems_zmag', 'goodss_dec', 'goodss_ra', 'goodss_zmag', 'hb_counts', 'hb_counts_neg_err', 'hb_counts_pos_err', 'hb_exposure', 'hb_flux', 'lii', 'log_min_fp_prob', 'log_min_ns_prob', 'name', 'nh', 'off_axis', 'off_set', 'phot_redshift_h14', 'phot_redshift_l10', 'phot_redshift_r11', 'phot_redshift_s14', 'phot_redshift_s15', 'phot_redshift_s16', 'photon_index', 'photon_index_neg_err', 'photon_index_pos_err', 'r13_source_number', 'ra', 'redshift', 'redshift_neg_err', 'redshift_pos_err', 'ref_redshift', 'ref_spect_redshift', 'rf_lx', 'sb_counts', 'sb_counts_neg_err', 'sb_counts_pos_err', 'sb_exposure', 'sb_flux', 'seds_3p6_um_mag', 'seds_dec', 'seds_ra', 'source_flag', 'source_sample', 'spect_redshift', 'spect_redshift_flag', 'tenis_dec', 'tenis_ks_mag', 'tenis_ra', 'vla_20_cm_mag', 'vla_dec', 'vla_ra', 'wfi_dec', 'wfi_ra', 'wfi_rmag', 'x11_source_number', 'x16_source_number', 'xid_source_number']\n",
      "\n",
      "Table chanextdfs has columns=['\"__row\"', '\"__x_ra_dec\"', '\"__y_ra_dec\"', '\"__z_ra_dec\"', 'a03_dec_j2000', 'a03_ra_j2000', 'a03_source_number', 'band_ratio', 'band_ratio_limit', 'band_ratio_neg_err', 'band_ratio_pos_err', 'bii', 'dec', 'dec_optical_j2000', 'ecdfs_field', 'error_radius', 'exposure', 'fb_counts', 'fb_counts_limit', 'fb_counts_neg_err', 'fb_counts_pos_err', 'fb_flux', 'fb_flux_limit', 'g02_dec_j2000', 'g02_ra_j2000', 'g02_source_number', 'hb_counts', 'hb_counts_limit', 'hb_counts_neg_err', 'hb_counts_pos_err', 'hb_exposure', 'hb_flux', 'hb_flux_limit', 'lii', 'log_min_fp_prob', 'name', 'notes', 'off_axis_angle', 'off_set', 'photon_index', 'photon_index_limit', 'photon_index_neg_err', 'photon_index_pos_err', 'ra', 'ra_optical_j2000', 'rmag', 'sb_counts', 'sb_counts_limit', 'sb_counts_neg_err', 'sb_counts_pos_err', 'sb_exposure', 'sb_flux', 'sb_flux_limit', 'source_number', 'source_type']\n",
      "\n",
      "Table changbscat has columns=['\"__row\"', '\"__x_ra_dec\"', '\"__y_ra_dec\"', '\"__z_ra_dec\"', 'bii', 'counts', 'dec', 'dec_error', 'error_radius', 'hardness_ratio', 'hardness_ratio_error', 'lii', 'name', 'num_detections', 'obsid', 'off_axis', 'ra', 'ra_error', 'source_flag', 'source_number']\n",
      "\n",
      "Table chanmaster has columns=['\"__row\"', '\"__x_ra_dec\"', '\"__y_ra_dec\"', '\"__z_ra_dec\"', '\"pi\"', '\"time\"', 'bii', 'category', 'class', 'cycle', 'data_mode', 'dec', 'detector', 'exposure', 'grating', 'lii', 'name', 'obsid', 'proposal', 'public_date', 'ra', 'sequence_number', 'status', 'type']\n",
      "\n",
      "Table channsgpsc has columns=['\"__row\"', '\"__x_ra_dec\"', '\"__y_ra_dec\"', '\"__z_ra_dec\"', 'bii', 'dec', 'fb_counts_1', 'fb_counts_1_error', 'fb_counts_1_flag', 'fb_counts_2', 'fb_counts_2_error', 'fb_counts_2_flag', 'flux_1', 'flux_1_error', 'flux_1_flag', 'flux_2', 'flux_2_error', 'flux_2_flag', 'galaxy_name', 'hard_color_1', 'hard_color_1_neg_err', 'hard_color_1_pos_err', 'hard_color_2', 'hard_color_2_neg_err', 'hard_color_2_pos_err', 'hb_counts_1', 'hb_counts_1_error', 'hb_counts_1_flag', 'hb_counts_2', 'hb_counts_2_error', 'hb_counts_2_flag', 'lii', 'lx_1', 'lx_1_error', 'lx_1_flag', 'lx_2', 'lx_2_error', 'lx_2_flag', 'mb_counts_1', 'mb_counts_1_error', 'mb_counts_1_flag', 'mb_counts_2', 'mb_counts_2_error', 'mb_counts_2_flag', 'name', 'notes', 'ra', 'sb_counts_1', 'sb_counts_1_error', 'sb_counts_1_flag', 'sb_counts_2', 'sb_counts_2_error', 'sb_counts_2_flag', 'soft_color_1', 'soft_color_1_neg_err', 'soft_color_1_pos_err', 'soft_color_2', 'soft_color_2_neg_err', 'soft_color_2_pos_err', 'variability_flag']\n",
      "\n",
      "Table chansexagn has columns=['\"__row\"', '\"__x_ra_dec\"', '\"__y_ra_dec\"', '\"__z_ra_dec\"', 'bii', 'class', 'dec', 'hardness_ratio', 'hb_flux', 'irac_3p6_um_flux', 'irac_3p6_um_flux_error', 'irac_3p6_um_flux_flag', 'irac_4p5_um_flux', 'irac_4p5_um_flux_error', 'irac_4p5_um_flux_flag', 'irac_5p8_um_flux', 'irac_5p8_um_flux_error', 'irac_5p8_um_flux_flag', 'irac_8p0_um_flux', 'irac_8p0_um_flux_error', 'irac_8p0_um_flux_flag', 'lii', 'log_hb_lx', 'log_hb_over_opt_flux', 'log_nh', 'mips_24_um_flux', 'mips_24_um_flux_error', 'mips_24_um_flux_flag', 'name', 'object_type', 'offset_dec', 'offset_ra', 'ra', 'redshift', 'rmag', 'rmag_flag', 'rmag_limit']\n",
      "\n",
      "Table chansexoid has columns=['\"__row\"', '\"__x_ra_dec\"', '\"__y_ra_dec\"', '\"__z_ra_dec\"', 'bii', 'cluster_flag', 'dec', 'hardness_ratio', 'hardness_ratio_flag', 'hb_flux', 'hb_snr', 'image_limit_rc_mag', 'lii', 'log_fx_fopt', 'log_lx', 'log_nh', 'log_nh_flag', 'log_nh_lower', 'log_nh_lower_flag', 'log_nh_upper', 'log_nh_upper_flag', 'lower_rf_wavelength', 'name', 'object_type', 'off_axis_angle', 'offset_dec', 'offset_ra', 'offset_total', 'optical_id_flag', 'ra', 'rc_mag', 'rc_mag_error', 'rc_mag_flag', 'redshift', 'spectral_notes', 'stellarity', 'upper_rf_wavelength']\n",
      "\n",
      "Table chansexsi has columns=['\"__row\"', '\"__x_ra_dec\"', '\"__y_ra_dec\"', '\"__z_ra_dec\"', 'bii', 'cluster_flag', 'dec', 'hardness_ratio', 'hb_bck_counts', 'hb_counts', 'hb_counts_snr', 'hb_flux', 'lii', 'name', 'off_axis_angle', 'ra', 'sb_bck_counts', 'sb_counts', 'sb_counts_snr', 'sb_flux']\n",
      "\n",
      "Table chansngcat has columns=['\"__row\"', '\"__x_ra_dec\"', '\"__y_ra_dec\"', '\"__z_ra_dec\"', '\"distance\"', 'agn_flag', 'bii', 'class', 'dec', 'exposure', 'fit_chi_squared', 'fit_dof', 'flux', 'flux_lower', 'flux_upper', 'hardness_ratio_0', 'hardness_ratio_0_error', 'hardness_ratio_1', 'hardness_ratio_1_error', 'hardness_ratio_2', 'hardness_ratio_2_error', 'hubble_type', 'instrument', 'lii', 'log_blackhole_mass', 'log_blackhole_mass_lower', 'log_blackhole_mass_upper', 'log_l_cpt1', 'log_l_cpt2', 'log_l_halpha', 'log_l_halpha_flag', 'log_lx', 'log_lx_lower', 'log_lx_note', 'log_lx_upper', 'name', 'nh', 'nh_from_hr', 'nh_from_hr_lower', 'nh_from_hr_upper', 'nh_gal', 'nh_lower', 'nh_upper', 'nuclear_class', 'obsid', 'off_set', 'ra', 'ref_spectrum', 'sigma', 'sigma_error', 'source_number', 'spectral_index', 'spectral_index_lower', 'spectral_index_upper', 'spectral_model', 'spectral_norm_cpt1', 'spectral_norm_cpt2', 'temperature', 'temperature_lower', 'temperature_upper']\n",
      "\n",
      "Table chantypgpr has columns=['\"__row\"', '\"__x_ra_dec\"', '\"__y_ra_dec\"', '\"__z_ra_dec\"', 'ao', 'bii', 'dec', 'error_radius', 'fb_count_rate', 'fb_count_rate_snr', 'hardness_ratio', 'hardness_ratio_error', 'hb_count_rate', 'hb_count_rate_snr', 'hb_flux', 'hmag', 'jmag', 'ks_mag', 'lii', 'name', 'near_ir_name', 'off_set', 'ra', 'sb_count_rate', 'sb_count_rate_snr', 'sb_flux', 'source_flag', 'source_number']\n",
      "\n",
      "Table chanulxcat has columns=['\"__row\"', '\"__x_ra_dec\"', '\"__y_ra_dec\"', '\"__z_ra_dec\"', 'bii', 'chi_squared', 'dec', 'dof', 'galaxy_name', 'hardness_ratio_1', 'hardness_ratio_2', 'lii', 'lx', 'lx_error', 'lx_flag', 'lx_obs', 'lx_obs_error', 'name', 'nh', 'nh_neg_err', 'nh_pos_err', 'prob_constant', 'ra', 'spect_shape', 'spect_shape_flag', 'spect_shape_neg_err', 'spect_shape_pos_err']\n",
      "\n",
      "Table chanvguide has columns=['\"__row\"', '\"__x_ra_dec\"', '\"__y_ra_dec\"', '\"__z_ra_dec\"', 'agascid', 'bii', 'class', 'dec', 'exposure', 'ir_flag', 'known_var_flag', 'lii', 'name', 'num_chandra_obs', 'ra', 'simbad_class', 'simbad_short_type', 'spect_type', 'uv_flag', 'var_category', 'var_epoch', 'var_period', 'var_status', 'var_type', 'xray_flag']\n",
      "\n"
     ]
    }
   ],
   "source": [
    "for tablename in heasarc_tables.keys():\n",
    "    if \"chan\" in tablename:  \n",
    "        print(\"Table {} has columns={}\\n\".format(\n",
    "            tablename,\n",
    "            sorted([k.name for k in heasarc_tables[tablename].columns ])))"
   ]
  },
  {
   "cell_type": "markdown",
   "metadata": {},
   "source": [
    "Hint: The Chansngcat ( https://heasarc.gsfc.nasa.gov/W3Browse/chandra/chansngcat.html ) table is likely the best table.  Create a table with ra, dec, exposure time, and flux (and flux errors) from the public.chansngcat catalog for Chandra observations matched within 0.1 degree."
   ]
  },
  {
   "cell_type": "code",
   "execution_count": 4,
   "metadata": {},
   "outputs": [
    {
     "data": {
      "text/html": [
       "<i>Table length=1</i>\n",
       "<table id=\"table4710680392\" class=\"table-striped table-bordered table-condensed\">\n",
       "<thead><tr><th>ra</th><th>dec</th><th>exposure</th><th>flux</th><th>flux_lower</th><th>flux_upper</th></tr></thead>\n",
       "<thead><tr><th>float64</th><th>float64</th><th>float64</th><th>float64</th><th>float64</th><th>float64</th></tr></thead>\n",
       "<tr><td>53.4019</td><td>-36.1407</td><td>15500.0</td><td>0.0</td><td>0.0</td><td>0.0</td></tr>\n",
       "</table>"
      ],
      "text/plain": [
       "<Table length=1>\n",
       "   ra     dec    exposure   flux  flux_lower flux_upper\n",
       "float64 float64  float64  float64  float64    float64  \n",
       "------- -------- -------- ------- ---------- ----------\n",
       "53.4019 -36.1407  15500.0     0.0        0.0        0.0"
      ]
     },
     "execution_count": 4,
     "metadata": {},
     "output_type": "execute_result"
    }
   ],
   "source": [
    "# Get the coordinate for NGC 1365\n",
    "import astropy.coordinates as coord\n",
    "pos=coord.SkyCoord.from_name(\"ngc1365\")\n",
    "# Construct a query that will get the ra, dec, exposure time, flux, and flux errors \n",
    "#  from this catalog in the region around this source:\n",
    "query=\"\"\"SELECT ra, dec, exposure, flux, flux_lower, flux_upper FROM public.chansngcat as cat \n",
    "    where contains(point('ICRS',cat.ra,cat.dec),circle('ICRS',{},{},0.1))=1 \n",
    "    and cat.exposure > 0 order by cat.exposure\"\"\".format(pos.ra.deg, pos.dec.deg)\n",
    "#  Submit the query.  (See the CS_Catalog_queries.ipynb for\n",
    "#    information about these two search options.)\n",
    "results=tap_services[0].service.run_async(query)\n",
    "#results=tap_services[0].search(query)\n",
    "#  Look at the results\n",
    "results.to_table()"
   ]
  },
  {
   "cell_type": "markdown",
   "metadata": {},
   "source": [
    "\n",
    "### Step 2: Make Images: \n",
    "\n",
    "#### Create ultraviolet and X-ray images\n",
    "Hint: Start by checking what UV image services exist (e.g., GALEX?)"
   ]
  },
  {
   "cell_type": "code",
   "execution_count": 5,
   "metadata": {},
   "outputs": [
    {
     "data": {
      "text/html": [
       "<i>Table length=5</i>\n",
       "<table id=\"table4827790360\" class=\"table-striped table-bordered table-condensed\">\n",
       "<thead><tr><th>ivoid</th><th>short_name</th></tr></thead>\n",
       "<thead><tr><th>object</th><th>object</th></tr></thead>\n",
       "<tr><td>ivo://archive.stsci.edu/sia/galex</td><td>GALEX</td></tr>\n",
       "<tr><td>ivo://irsa.ipac/spitzer/images/lvl</td><td>LVL</td></tr>\n",
       "<tr><td>ivo://irsa.ipac/wise/images/z0mgs</td><td>z0MGS</td></tr>\n",
       "<tr><td>ivo://mast.stsci/siap/galex_atlas</td><td>GALEX_Atlas</td></tr>\n",
       "<tr><td>ivo://nasa.heasarc/skyview/galex</td><td>GALEX</td></tr>\n",
       "</table>"
      ],
      "text/plain": [
       "<Table length=5>\n",
       "              ivoid                 short_name\n",
       "              object                  object  \n",
       "---------------------------------- -----------\n",
       " ivo://archive.stsci.edu/sia/galex       GALEX\n",
       "ivo://irsa.ipac/spitzer/images/lvl         LVL\n",
       " ivo://irsa.ipac/wise/images/z0mgs       z0MGS\n",
       " ivo://mast.stsci/siap/galex_atlas GALEX_Atlas\n",
       "  ivo://nasa.heasarc/skyview/galex       GALEX"
      ]
     },
     "execution_count": 5,
     "metadata": {},
     "output_type": "execute_result"
    }
   ],
   "source": [
    "## Note that to browse the columns, use the .table attribute\n",
    "uv_services=vo.regsearch(servicetype='image',keywords='galex', waveband='uv')\n",
    "uv_services.to_table()['ivoid','short_name']"
   ]
  },
  {
   "cell_type": "markdown",
   "metadata": {},
   "source": [
    "The keyword search for 'galex' returned a bunch of things that may have mentioned it, but let's just use the ones that have GALEX as their short name:"
   ]
  },
  {
   "cell_type": "code",
   "execution_count": 6,
   "metadata": {},
   "outputs": [
    {
     "data": {
      "text/html": [
       "<i>Table length=2</i>\n",
       "<table id=\"table4827029288\" class=\"table-striped table-bordered table-condensed\">\n",
       "<thead><tr><th>ivoid</th><th>short_name</th><th>access_url</th></tr></thead>\n",
       "<thead><tr><th>object</th><th>object</th><th>object</th></tr></thead>\n",
       "<tr><td>ivo://archive.stsci.edu/sia/galex</td><td>GALEX</td><td>https://mast.stsci.edu/portal/Mashup/VoQuery.asmx/SiaV1?MISSION=GALEX&amp;</td></tr>\n",
       "<tr><td>ivo://nasa.heasarc/skyview/galex</td><td>GALEX</td><td>https://skyview.gsfc.nasa.gov/cgi-bin/vo/sia.pl?survey=galex&amp;</td></tr>\n",
       "</table>"
      ],
      "text/plain": [
       "<Table length=2>\n",
       "              ivoid               ...\n",
       "              object              ...\n",
       "--------------------------------- ...\n",
       "ivo://archive.stsci.edu/sia/galex ...\n",
       " ivo://nasa.heasarc/skyview/galex ..."
      ]
     },
     "execution_count": 6,
     "metadata": {},
     "output_type": "execute_result"
    }
   ],
   "source": [
    "uv_services.to_table()[\n",
    "    np.isin(uv_services.to_table()['short_name'],b'GALEX')\n",
    "    ]['ivoid','short_name','access_url']"
   ]
  },
  {
   "cell_type": "markdown",
   "metadata": {},
   "source": [
    "Though using the result as an Astropy Table makes it easier to look at the contents, to call the service itself, we cannot use the row of that table.  You have to use the entry in the service result list itself.  So use the table to browse, but select the list of services itself using the properties that have been defined as attributes such as short_name and ivoid:"
   ]
  },
  {
   "cell_type": "code",
   "execution_count": 7,
   "metadata": {},
   "outputs": [],
   "source": [
    "galex_stsci=[s for s in uv_services if 'GALEX' in s.short_name and 'stsci' in s.ivoid][0]\n",
    "galex_heasarc=[s for s in uv_services if 'GALEX' in s.short_name and 'heasarc' in s.ivoid][0]"
   ]
  },
  {
   "cell_type": "markdown",
   "metadata": {},
   "source": [
    "Hint: Next create a UV image for the source "
   ]
  },
  {
   "cell_type": "code",
   "execution_count": 8,
   "metadata": {},
   "outputs": [
    {
     "data": {
      "text/html": [
       "<i>Table length=174</i>\n",
       "<table id=\"table4711547176\" class=\"table-striped table-bordered table-condensed\">\n",
       "<thead><tr><th>collection</th><th>insName</th><th>name</th><th>posLocationRA</th><th>posLocationDec</th><th>contentLength</th><th>naxes</th><th>naxis</th><th>scale</th><th>contentType</th><th>coordFrame</th><th>projection</th><th>crpix</th><th>crval</th><th>cdmatrix</th><th>enrEMBand</th><th>enrUnits</th><th>enrValue</th><th>enrMax</th><th>enrMin</th><th>accessURL</th></tr></thead>\n",
       "<thead><tr><th>object</th><th>object</th><th>object</th><th>float64</th><th>float64</th><th>int32</th><th>int32</th><th>object</th><th>object</th><th>object</th><th>object</th><th>bytes3</th><th>object</th><th>object</th><th>object</th><th>object</th><th>object</th><th>float64</th><th>float64</th><th>float64</th><th>object</th></tr></thead>\n",
       "<tr><td>GALEX</td><td>GALEX</td><td>fornax_mos06-xd-int_2color_medium_annot.jpg</td><td>53.0653359237686</td><td>-36.3609134371405</td><td>543324</td><td>2</td><td>[3840 3840]</td><td>[0.000416667 0.000416667]</td><td>image/jpeg</td><td>ICRS</td><td>TAN</td><td>[1920.5 1920.5]</td><td>[158.369 3.98986]</td><td>[-0.000416667 -0.0 -0.0 0.000416667]</td><td>UV</td><td>meters</td><td>2.35e-07</td><td>3.007e-07</td><td>1.693e-07</td><td>http://galex.stsci.edu/data/GR6/pipe/01-vsn/07090-FORNAX_MOS06/d/01-main/0001-img/07-try/qa/FORNAX_MOS06-xd-int_2color_medium_annot.jpg</td></tr>\n",
       "<tr><td>GALEX</td><td>GALEX</td><td>fornax_mos06-nd-int.fits.gz</td><td>53.0653359237686</td><td>-36.3609134371405</td><td>17443052</td><td>2</td><td>[3840 3840]</td><td>[0.000416667 0.000416667]</td><td>image/fits</td><td>ICRS</td><td>TAN</td><td>[1920.5 1920.5]</td><td>[158.369 3.98986]</td><td>[-0.000416667 -0.0 -0.0 0.000416667]</td><td>UV</td><td>meters</td><td>2.35e-07</td><td>3.007e-07</td><td>1.693e-07</td><td>http://galex.stsci.edu/data/GR6/pipe/01-vsn/07090-FORNAX_MOS06/d/01-main/0001-img/07-try/FORNAX_MOS06-nd-int.fits.gz</td></tr>\n",
       "<tr><td>GALEX</td><td>GALEX</td><td>fornax_mos06-xd-int_2color.jpg</td><td>53.0653359237686</td><td>-36.3609134371405</td><td>1799018</td><td>2</td><td>[3840 3840]</td><td>[0.000416667 0.000416667]</td><td>image/jpeg</td><td>ICRS</td><td>TAN</td><td>[1920.5 1920.5]</td><td>[273.981 16.9244]</td><td>[-0.000416667 -0.0 -0.0 0.000416667]</td><td>UV</td><td>meters</td><td>2.35e-07</td><td>3.007e-07</td><td>1.693e-07</td><td>http://galex.stsci.edu/data/GR6/pipe/01-vsn/07090-FORNAX_MOS06/d/01-main/0001-img/07-try/qa/FORNAX_MOS06-xd-int_2color.jpg</td></tr>\n",
       "<tr><td>GALEX</td><td>GALEX</td><td>fornax_mos06-xd-int_2color_large.jpg</td><td>53.0653359237686</td><td>-36.3609134371405</td><td>347009</td><td>2</td><td>[3840 3840]</td><td>[0.000416667 0.000416667]</td><td>image/jpeg</td><td>ICRS</td><td>TAN</td><td>[1920.5 1920.5]</td><td>[273.981 16.9244]</td><td>[-0.000416667 -0.0 -0.0 0.000416667]</td><td>UV</td><td>meters</td><td>2.35e-07</td><td>3.007e-07</td><td>1.693e-07</td><td>http://galex.stsci.edu/data/GR6/pipe/01-vsn/07090-FORNAX_MOS06/d/01-main/0001-img/07-try/qa/FORNAX_MOS06-xd-int_2color_large.jpg</td></tr>\n",
       "<tr><td>GALEX</td><td>GALEX</td><td>fornax_mos06-xd-int_2color_medium.jpg</td><td>53.0653359237686</td><td>-36.3609134371405</td><td>460391</td><td>2</td><td>[3840 3840]</td><td>[0.000416667 0.000416667]</td><td>image/jpeg</td><td>ICRS</td><td>TAN</td><td>[1920.5 1920.5]</td><td>[273.981 16.9244]</td><td>[-0.000416667 -0.0 -0.0 0.000416667]</td><td>UV</td><td>meters</td><td>2.35e-07</td><td>3.007e-07</td><td>1.693e-07</td><td>http://galex.stsci.edu/data/GR6/pipe/01-vsn/07090-FORNAX_MOS06/d/01-main/0001-img/07-try/qa/FORNAX_MOS06-xd-int_2color_medium.jpg</td></tr>\n",
       "<tr><td>GALEX</td><td>GALEX</td><td>fornax_mos06-xd-int_2color_small.jpg</td><td>53.0653359237686</td><td>-36.3609134371405</td><td>122927</td><td>2</td><td>[3840 3840]</td><td>[0.000416667 0.000416667]</td><td>image/jpeg</td><td>ICRS</td><td>TAN</td><td>[1920.5 1920.5]</td><td>[273.981 16.9244]</td><td>[-0.000416667 -0.0 -0.0 0.000416667]</td><td>UV</td><td>meters</td><td>2.35e-07</td><td>3.007e-07</td><td>1.693e-07</td><td>http://galex.stsci.edu/data/GR6/pipe/01-vsn/07090-FORNAX_MOS06/d/01-main/0001-img/07-try/qa/FORNAX_MOS06-xd-int_2color_small.jpg</td></tr>\n",
       "<tr><td>GALEX</td><td>GALEX</td><td>fornax_mos07-xd-int_2color_medium_annot.jpg</td><td>54.0331936068986</td><td>-36.367881838288</td><td>606044</td><td>2</td><td>[3840 3840]</td><td>[0.000416667 0.000416667]</td><td>image/jpeg</td><td>ICRS</td><td>TAN</td><td>[1920.5 1920.5]</td><td>[48.4385 0.19652]</td><td>[-0.000416667 -0.0 -0.0 0.000416667]</td><td>UV</td><td>meters</td><td>2.35e-07</td><td>3.007e-07</td><td>1.693e-07</td><td>http://galex.stsci.edu/data/GR6/pipe/01-vsn/07091-FORNAX_MOS07/d/01-main/0001-img/07-try/qa/FORNAX_MOS07-xd-int_2color_medium_annot.jpg</td></tr>\n",
       "<tr><td>GALEX</td><td>GALEX</td><td>fornax_mos07-nd-int.fits.gz</td><td>54.0331936068986</td><td>-36.367881838288</td><td>21333361</td><td>2</td><td>[3840 3840]</td><td>[0.000416667 0.000416667]</td><td>image/fits</td><td>ICRS</td><td>TAN</td><td>[1920.5 1920.5]</td><td>[48.4385 0.19652]</td><td>[-0.000416667 -0.0 -0.0 0.000416667]</td><td>UV</td><td>meters</td><td>2.35e-07</td><td>3.007e-07</td><td>1.693e-07</td><td>http://galex.stsci.edu/data/GR6/pipe/01-vsn/07091-FORNAX_MOS07/d/01-main/0001-img/07-try/FORNAX_MOS07-nd-int.fits.gz</td></tr>\n",
       "<tr><td>GALEX</td><td>GALEX</td><td>fornax_mos07-xd-int_2color.jpg</td><td>54.0331936068986</td><td>-36.367881838288</td><td>2275679</td><td>2</td><td>[3840 3840]</td><td>[0.000416667 0.000416667]</td><td>image/jpeg</td><td>ICRS</td><td>TAN</td><td>[1920.5 1920.5]</td><td>[357.46 -9.93379]</td><td>[-0.000416667 -0.0 -0.0 0.000416667]</td><td>UV</td><td>meters</td><td>2.35e-07</td><td>3.007e-07</td><td>1.693e-07</td><td>http://galex.stsci.edu/data/GR6/pipe/01-vsn/07091-FORNAX_MOS07/d/01-main/0001-img/07-try/qa/FORNAX_MOS07-xd-int_2color.jpg</td></tr>\n",
       "<tr><td>GALEX</td><td>GALEX</td><td>fornax_mos07-xd-int_2color_large.jpg</td><td>54.0331936068986</td><td>-36.367881838288</td><td>418366</td><td>2</td><td>[3840 3840]</td><td>[0.000416667 0.000416667]</td><td>image/jpeg</td><td>ICRS</td><td>TAN</td><td>[1920.5 1920.5]</td><td>[357.46 -9.93379]</td><td>[-0.000416667 -0.0 -0.0 0.000416667]</td><td>UV</td><td>meters</td><td>2.35e-07</td><td>3.007e-07</td><td>1.693e-07</td><td>http://galex.stsci.edu/data/GR6/pipe/01-vsn/07091-FORNAX_MOS07/d/01-main/0001-img/07-try/qa/FORNAX_MOS07-xd-int_2color_large.jpg</td></tr>\n",
       "<tr><td>...</td><td>...</td><td>...</td><td>...</td><td>...</td><td>...</td><td>...</td><td>...</td><td>...</td><td>...</td><td>...</td><td>...</td><td>...</td><td>...</td><td>...</td><td>...</td><td>...</td><td>...</td><td>...</td><td>...</td><td>...</td></tr>\n",
       "<tr><td>GALEX</td><td>GALEX</td><td>ais_423_0001_sg49-xd-int_2color_medium.jpg</td><td>53.9651195061398</td><td>-36.1056249532337</td><td>572260</td><td>2</td><td>[3840 3840]</td><td>[0.000416667 0.000416667]</td><td>image/jpeg</td><td>ICRS</td><td>TAN</td><td>[1920.5 1920.5]</td><td>[48.3851 -47.0098]</td><td>[-0.000416667 -0.0 -0.0 0.000416667]</td><td>UV</td><td>meters</td><td>1.573e-07</td><td>1.806e-07</td><td>1.34e-07</td><td>http://galex.stsci.edu/data/GR6/pipe/02-vsn/50423-AIS_423/d/00-visits/0001-img/07-try/qa/AIS_423_0001_sg49-xd-int_2color_medium.jpg</td></tr>\n",
       "<tr><td>GALEX</td><td>GALEX</td><td>ais_423_0001_sg49-xd-int_2color_small.jpg</td><td>53.9651195061398</td><td>-36.1056249532337</td><td>133489</td><td>2</td><td>[3840 3840]</td><td>[0.000416667 0.000416667]</td><td>image/jpeg</td><td>ICRS</td><td>TAN</td><td>[1920.5 1920.5]</td><td>[48.3851 -47.0098]</td><td>[-0.000416667 -0.0 -0.0 0.000416667]</td><td>UV</td><td>meters</td><td>1.573e-07</td><td>1.806e-07</td><td>1.34e-07</td><td>http://galex.stsci.edu/data/GR6/pipe/02-vsn/50423-AIS_423/d/00-visits/0001-img/07-try/qa/AIS_423_0001_sg49-xd-int_2color_small.jpg</td></tr>\n",
       "<tr><td>GALEX</td><td>GALEX</td><td>ais_423_0001_sg49-fd-int.fits.gz</td><td>53.9651195061398</td><td>-36.1056249532337</td><td>1138550</td><td>2</td><td>[3840 3840]</td><td>[0.000416667 0.000416667]</td><td>image/fits</td><td>ICRS</td><td>TAN</td><td>[1920.5 1920.5]</td><td>[95.6711 -67.0507]</td><td>[-0.000416667 -0.0 -0.0 0.000416667]</td><td>UV</td><td>meters</td><td>1.573e-07</td><td>1.806e-07</td><td>1.34e-07</td><td>http://galex.stsci.edu/data/GR6/pipe/02-vsn/50423-AIS_423/d/00-visits/0001-img/07-try/AIS_423_0001_sg49-fd-int.fits.gz</td></tr>\n",
       "<tr><td>GALEX</td><td>GALEX</td><td>ais_423_0001_sg49-xd-int_2color_medium_annot.jpg</td><td>53.9651195061398</td><td>-36.1056249532337</td><td>615324</td><td>2</td><td>[3840 3840]</td><td>[0.000416667 0.000416667]</td><td>image/jpeg</td><td>ICRS</td><td>TAN</td><td>[1920.5 1920.5]</td><td>[108.0 -62.2146]</td><td>[-0.000416667 -0.0 -0.0 0.000416667]</td><td>UV</td><td>meters</td><td>1.573e-07</td><td>1.806e-07</td><td>1.34e-07</td><td>http://galex.stsci.edu/data/GR6/pipe/02-vsn/50423-AIS_423/d/00-visits/0001-img/07-try/qa/AIS_423_0001_sg49-xd-int_2color_medium_annot.jpg</td></tr>\n",
       "<tr><td>GALEX</td><td>GALEX</td><td>ais_423_0002_sg49-xd-int_2color.jpg</td><td>53.9452301043047</td><td>-36.1117650864775</td><td>3487526</td><td>2</td><td>[3840 3840]</td><td>[0.000416667 0.000416667]</td><td>image/jpeg</td><td>ICRS</td><td>TAN</td><td>[1920.5 1920.5]</td><td>[57.959 -47.4409]</td><td>[-0.000416667 -0.0 -0.0 0.000416667]</td><td>UV</td><td>meters</td><td>1.573e-07</td><td>1.806e-07</td><td>1.34e-07</td><td>http://galex.stsci.edu/data/GR6/pipe/02-vsn/50423-AIS_423/d/00-visits/0002-img/07-try/qa/AIS_423_0002_sg49-xd-int_2color.jpg</td></tr>\n",
       "<tr><td>GALEX</td><td>GALEX</td><td>ais_423_0002_sg49-xd-int_2color_large.jpg</td><td>53.9452301043047</td><td>-36.1117650864775</td><td>663752</td><td>2</td><td>[3840 3840]</td><td>[0.000416667 0.000416667]</td><td>image/jpeg</td><td>ICRS</td><td>TAN</td><td>[1920.5 1920.5]</td><td>[57.959 -47.4409]</td><td>[-0.000416667 -0.0 -0.0 0.000416667]</td><td>UV</td><td>meters</td><td>1.573e-07</td><td>1.806e-07</td><td>1.34e-07</td><td>http://galex.stsci.edu/data/GR6/pipe/02-vsn/50423-AIS_423/d/00-visits/0002-img/07-try/qa/AIS_423_0002_sg49-xd-int_2color_large.jpg</td></tr>\n",
       "<tr><td>GALEX</td><td>GALEX</td><td>ais_423_0002_sg49-xd-int_2color_medium.jpg</td><td>53.9452301043047</td><td>-36.1117650864775</td><td>575892</td><td>2</td><td>[3840 3840]</td><td>[0.000416667 0.000416667]</td><td>image/jpeg</td><td>ICRS</td><td>TAN</td><td>[1920.5 1920.5]</td><td>[57.959 -47.4409]</td><td>[-0.000416667 -0.0 -0.0 0.000416667]</td><td>UV</td><td>meters</td><td>1.573e-07</td><td>1.806e-07</td><td>1.34e-07</td><td>http://galex.stsci.edu/data/GR6/pipe/02-vsn/50423-AIS_423/d/00-visits/0002-img/07-try/qa/AIS_423_0002_sg49-xd-int_2color_medium.jpg</td></tr>\n",
       "<tr><td>GALEX</td><td>GALEX</td><td>ais_423_0002_sg49-xd-int_2color_small.jpg</td><td>53.9452301043047</td><td>-36.1117650864775</td><td>134331</td><td>2</td><td>[3840 3840]</td><td>[0.000416667 0.000416667]</td><td>image/jpeg</td><td>ICRS</td><td>TAN</td><td>[1920.5 1920.5]</td><td>[57.959 -47.4409]</td><td>[-0.000416667 -0.0 -0.0 0.000416667]</td><td>UV</td><td>meters</td><td>1.573e-07</td><td>1.806e-07</td><td>1.34e-07</td><td>http://galex.stsci.edu/data/GR6/pipe/02-vsn/50423-AIS_423/d/00-visits/0002-img/07-try/qa/AIS_423_0002_sg49-xd-int_2color_small.jpg</td></tr>\n",
       "<tr><td>GALEX</td><td>GALEX</td><td>ais_423_0002_sg49-fd-int.fits.gz</td><td>53.9452301043047</td><td>-36.1117650864775</td><td>1176575</td><td>2</td><td>[3840 3840]</td><td>[0.000416667 0.000416667]</td><td>image/fits</td><td>ICRS</td><td>TAN</td><td>[1920.5 1920.5]</td><td>[57.959 -47.4409]</td><td>[-0.000416667 -0.0 -0.0 0.000416667]</td><td>UV</td><td>meters</td><td>1.573e-07</td><td>1.806e-07</td><td>1.34e-07</td><td>http://galex.stsci.edu/data/GR6/pipe/02-vsn/50423-AIS_423/d/00-visits/0002-img/07-try/AIS_423_0002_sg49-fd-int.fits.gz</td></tr>\n",
       "<tr><td>GALEX</td><td>GALEX</td><td>ais_423_0002_sg49-xd-int_2color_medium_annot.jpg</td><td>53.9452301043047</td><td>-36.1117650864775</td><td>618132</td><td>2</td><td>[3840 3840]</td><td>[0.000416667 0.000416667]</td><td>image/jpeg</td><td>ICRS</td><td>TAN</td><td>[1920.5 1920.5]</td><td>[71.0807 -56.9453]</td><td>[-0.000416667 -0.0 -0.0 0.000416667]</td><td>UV</td><td>meters</td><td>1.573e-07</td><td>1.806e-07</td><td>1.34e-07</td><td>http://galex.stsci.edu/data/GR6/pipe/02-vsn/50423-AIS_423/d/00-visits/0002-img/07-try/qa/AIS_423_0002_sg49-xd-int_2color_medium_annot.jpg</td></tr>\n",
       "</table>"
      ],
      "text/plain": [
       "<Table length=174>\n",
       "collection ...\n",
       "  object   ...\n",
       "---------- ...\n",
       "     GALEX ...\n",
       "     GALEX ...\n",
       "     GALEX ...\n",
       "     GALEX ...\n",
       "     GALEX ...\n",
       "     GALEX ...\n",
       "     GALEX ...\n",
       "     GALEX ...\n",
       "     GALEX ...\n",
       "     GALEX ...\n",
       "       ... ...\n",
       "     GALEX ...\n",
       "     GALEX ...\n",
       "     GALEX ...\n",
       "     GALEX ...\n",
       "     GALEX ...\n",
       "     GALEX ...\n",
       "     GALEX ...\n",
       "     GALEX ...\n",
       "     GALEX ...\n",
       "     GALEX ..."
      ]
     },
     "execution_count": 8,
     "metadata": {},
     "output_type": "execute_result"
    }
   ],
   "source": [
    "# Do an image search for NGC 1365 in the UV service found above\n",
    "im_table_stsci=galex_stsci.search(pos=pos,size=0.1)\n",
    "im_table_stsci.to_table()"
   ]
  },
  {
   "cell_type": "code",
   "execution_count": 9,
   "metadata": {},
   "outputs": [
    {
     "data": {
      "text/html": [
       "<i>Table length=2</i>\n",
       "<table id=\"table4836051544\" class=\"table-striped table-bordered table-condensed\">\n",
       "<thead><tr><th>Survey</th><th>Ra</th><th>Dec</th><th>Dim</th><th>Size</th><th>Scale</th><th>Format</th><th>PixFlags</th><th>URL</th><th>LogicalName</th></tr></thead>\n",
       "<thead><tr><th>object</th><th>float64</th><th>float64</th><th>int32</th><th>object</th><th>object</th><th>object</th><th>object</th><th>object</th><th>object</th></tr></thead>\n",
       "<tr><td>galexnear</td><td>53.40190833</td><td>-36.14065833</td><td>2</td><td>[300 300]</td><td>[-0.0003333333333333334 0.0003333333333333334]</td><td>image/fits</td><td>F</td><td>https://skyview.gsfc.nasa.gov/cgi-bin/images?position=53.40190833%2C-36.14065833&amp;survey=galexnear&amp;pixels=300%2C300&amp;sampler=LI&amp;size=0.10000000000000002%2C0.10000000000000002&amp;projection=Tan&amp;coordinates=J2000.0&amp;requestID=skv1579219643131&amp;return=FITS</td><td>1</td></tr>\n",
       "<tr><td>galexfar</td><td>53.40190833</td><td>-36.14065833</td><td>2</td><td>[300 300]</td><td>[-0.0003333333333333334 0.0003333333333333334]</td><td>image/fits</td><td>F</td><td>https://skyview.gsfc.nasa.gov/cgi-bin/images?position=53.40190833%2C-36.14065833&amp;survey=galexfar&amp;pixels=300%2C300&amp;sampler=LI&amp;size=0.10000000000000002%2C0.10000000000000002&amp;projection=Tan&amp;coordinates=J2000.0&amp;requestID=skv1579219643407&amp;return=FITS</td><td>2</td></tr>\n",
       "</table>"
      ],
      "text/plain": [
       "<Table length=2>\n",
       "  Survey       Ra     ... LogicalName\n",
       "  object    float64   ...    object  \n",
       "--------- ----------- ... -----------\n",
       "galexnear 53.40190833 ...           1\n",
       " galexfar 53.40190833 ...           2"
      ]
     },
     "execution_count": 9,
     "metadata": {},
     "output_type": "execute_result"
    }
   ],
   "source": [
    "#  Let's see what HEASARC offers, and this time limit it to FITS \n",
    "#   this option doesn't currently work for STScI's service)\n",
    "im_table_heasarc=galex_heasarc.search(pos=pos,size=0.1,format='image/fits')\n",
    "im_table_heasarc.to_table()"
   ]
  },
  {
   "cell_type": "code",
   "execution_count": 10,
   "metadata": {},
   "outputs": [
    {
     "name": "stdout",
     "output_type": "stream",
     "text": [
      "<class 'astropy.io.fits.hdu.hdulist.HDUList'>\n"
     ]
    }
   ],
   "source": [
    "## If you only run this once, you can do it in memory in one line:\n",
    "##  This fetches the FITS as an astropy.io.fits object in memory\n",
    "#dataobj=im_table_heasarc[0].getdataobj()\n",
    "## But if you might run this notebook repeatedly with limited bandwidth, \n",
    "##  download it once and cache it.  \n",
    "file_name = download_file(im_table_heasarc[0].getdataurl(),cache=True)\n",
    "dataobj=fits.open(file_name)\n",
    "print(type(dataobj))"
   ]
  },
  {
   "cell_type": "code",
   "execution_count": 11,
   "metadata": {},
   "outputs": [
    {
     "data": {
      "text/plain": [
       "<matplotlib.image.AxesImage at 0x120b9ceb8>"
      ]
     },
     "execution_count": 11,
     "metadata": {},
     "output_type": "execute_result"
    },
    {
     "data": {
      "image/png": "[encoded data removed]",
      "text/plain": [
       "<Figure size 288x288 with 1 Axes>"
      ]
     },
     "metadata": {
      "needs_background": "light"
     },
     "output_type": "display_data"
    }
   ],
   "source": [
    "# Get the FITS file (which is index 0 for the NUV image or index=2 for the FUV image)\n",
    "from pylab import figure, cm\n",
    "from matplotlib.colors import LogNorm\n",
    "plt.matshow(dataobj[0].data, origin='lower', cmap=cm.gray_r, norm=LogNorm(vmin=0.005, vmax=0.3))"
   ]
  },
  {
   "cell_type": "markdown",
   "metadata": {},
   "source": [
    "Hint: Repeat steps for X-ray image. (Note: Ideally, we would find an image in the Chandra 'cxc' catalog) "
   ]
  },
  {
   "cell_type": "code",
   "execution_count": 12,
   "metadata": {},
   "outputs": [
    {
     "name": "stdout",
     "output_type": "stream",
     "text": [
      " short_name                 ivoid                 \n",
      "----------- --------------------------------------\n",
      "        CDA         ivo://cxc.harvard.edu/cda.siap\n",
      "        CSC         ivo://cxc.harvard.edu/csc.siap\n",
      "      CSCR1       ivo://cxc.harvard.edu/cscr1.siap\n",
      "      CSCR2       ivo://cxc.harvard.edu/cscr2.siap\n",
      "    Chandra          ivo://nasa.heasarc/chanmaster\n",
      "GOODSACISFB ivo://nasa.heasarc/skyview/goodsacisfb\n"
     ]
    }
   ],
   "source": [
    "x_services=vo.regsearch(servicetype='image',keywords=['chandra'], waveband='x-ray')\n",
    "print(x_services.to_table()['short_name','ivoid'])"
   ]
  },
  {
   "cell_type": "code",
   "execution_count": 13,
   "metadata": {},
   "outputs": [
    {
     "name": "stdout",
     "output_type": "stream",
     "text": [
      "<TableColumns names=('name','instrument','date_obs','ra','dec','naxis','imgscale','imgfmt','accref','filesize','obsid')>\n"
     ]
    }
   ],
   "source": [
    "## Do an image search for NGC 1365 in the X-ray CDA service found above\n",
    "xim_table=x_services[0].search(pos=pos,size=0.2)\n",
    "## Some of these are FITS and some JPEG.  Look at the columns:\n",
    "print( xim_table.to_table().columns )\n",
    "first_fits_image_row=xim_table[ int(np.where(np.isin(xim_table.to_table()['imgfmt'],b'image/fits'))[0][0]) ] "
   ]
  },
  {
   "cell_type": "code",
   "execution_count": 14,
   "metadata": {},
   "outputs": [
    {
     "data": {
      "text/plain": [
       "(460, 560)"
      ]
     },
     "execution_count": 14,
     "metadata": {},
     "output_type": "execute_result"
    },
    {
     "data": {
      "image/png": "[encoded data removed]",
      "text/plain": [
       "<Figure size 432x288 with 1 Axes>"
      ]
     },
     "metadata": {
      "needs_background": "light"
     },
     "output_type": "display_data"
    }
   ],
   "source": [
    "## Create an image from the first FITS file (index=1) by downloading:\n",
    "## See above for options\n",
    "#xhdu_list=first_fits_image_row.getdataobj()\n",
    "file_name = download_file(first_fits_image_row.getdataurl(),cache=True)\n",
    "xhdu_list=fits.open(file_name)\n",
    "\n",
    "\n",
    "plt.imshow(xhdu_list[0].data, origin='lower', cmap='cool', norm=LogNorm(vmin=0.1, vmax=500.))\n",
    "plt.xlim(460, 560)\n",
    "plt.ylim(460, 560)"
   ]
  },
  {
   "cell_type": "markdown",
   "metadata": {},
   "source": [
    "\n",
    "### Step 3: Make a spectrum: \n",
    "\n",
    "#### Find what Chandra spectral observations exist already for this source. \n",
    "Hint: try searching for X-ray spectral data tables using the registry query"
   ]
  },
  {
   "cell_type": "code",
   "execution_count": 15,
   "metadata": {},
   "outputs": [
    {
     "data": {
      "text/html": [
       "<i>Table length=4</i>\n",
       "<table id=\"table4837648984\" class=\"table-striped table-bordered table-condensed\">\n",
       "<thead><tr><th>short_name</th><th>ivoid</th><th>waveband</th></tr></thead>\n",
       "<thead><tr><th>object</th><th>object</th><th>object</th></tr></thead>\n",
       "<tr><td>Chandra</td><td>ivo://nasa.heasarc/chanmaster</td><td>x-ray</td></tr>\n",
       "<tr><td>INTEGRAL/BSC</td><td>ivo://nasa.heasarc/intbsc</td><td>gamma-ray#x-ray</td></tr>\n",
       "<tr><td>NED/SED</td><td>ivo://ned.ipac/sed_data_near_position</td><td>radio#millimeter#infrared#optical#uv#euv#x-ray#gamma-ray</td></tr>\n",
       "<tr><td>HEAVENS @ ISDC</td><td>ivo://wfau.roe.ac.uk/heavens_at_isdc/light-curves</td><td>x-ray#gamma-ray</td></tr>\n",
       "</table>"
      ],
      "text/plain": [
       "<Table length=4>\n",
       "  short_name   ...                         waveband                        \n",
       "    object     ...                          object                         \n",
       "-------------- ... --------------------------------------------------------\n",
       "       Chandra ...                                                    x-ray\n",
       "  INTEGRAL/BSC ...                                          gamma-ray#x-ray\n",
       "       NED/SED ... radio#millimeter#infrared#optical#uv#euv#x-ray#gamma-ray\n",
       "HEAVENS @ ISDC ...                                          x-ray#gamma-ray"
      ]
     },
     "execution_count": 15,
     "metadata": {},
     "output_type": "execute_result"
    }
   ],
   "source": [
    "# Use the TAP protocol to list services that contain X-ray spectral data\n",
    "xsp_services=vo.regsearch(servicetype='ssa',waveband='x-ray')\n",
    "xsp_services.to_table()['short_name','ivoid','waveband']"
   ]
  },
  {
   "cell_type": "markdown",
   "metadata": {},
   "source": [
    "Hint 2: Take a look at what data exist for our candidate, NGC 1365."
   ]
  },
  {
   "cell_type": "code",
   "execution_count": 16,
   "metadata": {},
   "outputs": [
    {
     "data": {
      "text/html": [
       "<i>Table length=2</i>\n",
       "<table id=\"table4833844528\" class=\"table-striped table-bordered table-condensed\">\n",
       "<thead><tr><th>obsid</th><th>status</th><th>name</th><th>ra</th><th>dec</th><th>time</th><th>detector</th><th>grating</th><th>exposure</th><th>type</th><th>pi</th><th>public_date</th><th>SSA_start_time</th><th>SSA_tmid</th><th>SSA_stop_time</th><th>SSA_duration</th><th>SSA_coord_obs</th><th>SSA_ra</th><th>SSA_dec</th><th>SSA_title</th><th>SSA_reference</th><th>SSA_datalength</th><th>SSA_datamodel</th><th>SSA_instrument</th><th>SSA_publisher</th><th>SSA_format</th><th>SSA_fov</th><th>SSA_wavelength_min</th><th>SSA_wavelength_max</th><th>SSA_bandwidth</th><th>SSA_bandpass</th></tr></thead>\n",
       "<thead><tr><th></th><th></th><th></th><th>deg</th><th>deg</th><th>mjd</th><th></th><th></th><th>s</th><th></th><th></th><th>mjd</th><th>mjd</th><th>mjd</th><th>mjd</th><th>s</th><th>deg</th><th>deg</th><th>deg</th><th></th><th></th><th></th><th></th><th></th><th></th><th></th><th>deg</th><th>meter</th><th>meter</th><th>meter</th><th>meter</th></tr></thead>\n",
       "<thead><tr><th>object</th><th>object</th><th>object</th><th>float64</th><th>float64</th><th>float64</th><th>object</th><th>object</th><th>float64</th><th>object</th><th>object</th><th>int32</th><th>float64</th><th>float64</th><th>float64</th><th>float64</th><th>float64</th><th>float64</th><th>float64</th><th>object</th><th>object</th><th>object</th><th>object</th><th>object</th><th>object</th><th>object</th><th>float64</th><th>float64</th><th>float64</th><th>float64</th><th>float64</th></tr></thead>\n",
       "<tr><td>13920</td><td>archived</td><td>NGC 1365</td><td>53.40167</td><td>-36.14028</td><td>56026.4065</td><td>ACIS-S</td><td>HETG</td><td>90040</td><td>GO</td><td>Reeves</td><td>56398</td><td>56026.4065162037</td><td>56026.94252101314</td><td>56027.47776322905</td><td>90040.0</td><td>--</td><td>53.40167</td><td>-36.14028</td><td>acisf13920N001_pha2</td><td>https://heasarc.gsfc.nasa.gov/FTP/chandra/data/science/ao13/cat7/13920/primary/acisf13920N001_pha2.fits.gz</td><td>12.0</td><td>Spectrum-1.0</td><td>ACIS-S</td><td>HEASARC</td><td>application/fits</td><td>0.81</td><td>1.2398e-10</td><td>6.1992e-09</td><td>6.07522e-09</td><td>3.16159e-09</td></tr>\n",
       "<tr><td>13921</td><td>archived</td><td>NGC 1365</td><td>53.40167</td><td>-36.14028</td><td>56029.0272</td><td>ACIS-S</td><td>HETG</td><td>110050</td><td>GO</td><td>Reeves</td><td>56398</td><td>56029.0271643518</td><td>56029.68170909219</td><td>56030.335490666206</td><td>110050.0</td><td>--</td><td>53.40167</td><td>-36.14028</td><td>acisf13921N001_pha2</td><td>https://heasarc.gsfc.nasa.gov/FTP/chandra/data/science/ao13/cat7/13921/primary/acisf13921N001_pha2.fits.gz</td><td>12.0</td><td>Spectrum-1.0</td><td>ACIS-S</td><td>HEASARC</td><td>application/fits</td><td>0.81</td><td>1.2398e-10</td><td>6.1992e-09</td><td>6.07522e-09</td><td>3.16159e-09</td></tr>\n",
       "</table>"
      ],
      "text/plain": [
       "<Table length=2>\n",
       "obsid   status    name   ... SSA_wavelength_max SSA_bandwidth SSA_bandpass\n",
       "                         ...       meter            meter        meter    \n",
       "object  object   object  ...      float64          float64      float64   \n",
       "------ -------- -------- ... ------------------ ------------- ------------\n",
       " 13920 archived NGC 1365 ...         6.1992e-09   6.07522e-09  3.16159e-09\n",
       " 13921 archived NGC 1365 ...         6.1992e-09   6.07522e-09  3.16159e-09"
      ]
     },
     "execution_count": 16,
     "metadata": {},
     "output_type": "execute_result"
    }
   ],
   "source": [
    "spec_tables=xsp_services[0].search(pos=pos,radius=0.2,verbose=True)\n",
    "spec_tables.to_table()"
   ]
  },
  {
   "cell_type": "markdown",
   "metadata": {},
   "source": [
    "Hint 3: Download the data to make a spectrum. Note: you might end here and use Xspec to plot and model the spectrum. Or ... you can also try to take a quick look at the spectrum. "
   ]
  },
  {
   "cell_type": "code",
   "execution_count": 17,
   "metadata": {},
   "outputs": [
    {
     "name": "stdout",
     "output_type": "stream",
     "text": [
      "ColDefs(\n",
      "    name = 'SPEC_NUM'; format = '1I'; null = 0\n",
      "    name = 'TG_M'; format = '1I'; null = 99\n",
      "    name = 'TG_PART'; format = '1I'\n",
      "    name = 'TG_SRCID'; format = '1I'; null = 0\n",
      "    name = 'X'; format = '1E'; unit = 'pixel'\n",
      "    name = 'Y'; format = '1E'; unit = 'pixel'\n",
      "    name = 'CHANNEL'; format = '8192I'; null = 0\n",
      "    name = 'COUNTS'; format = '8192I'; unit = 'count'; null = -1\n",
      "    name = 'STAT_ERR'; format = '8192E'; unit = 'count'\n",
      "    name = 'BACKGROUND_UP'; format = '8192I'; unit = 'count'; null = -1\n",
      "    name = 'BACKGROUND_DOWN'; format = '8192I'; unit = 'count'; null = -1\n",
      "    name = 'BIN_LO'; format = '8192D'; unit = 'angstrom'\n",
      "    name = 'BIN_HI'; format = '8192D'; unit = 'angstrom'\n",
      ")\n",
      "12\n"
     ]
    }
   ],
   "source": [
    "#  Get it and look at it:\n",
    "#hdu_list=spec_tables[0].getdataobj()\n",
    "file_name = download_file(spec_tables[0].getdataurl(),cache=True)\n",
    "hdu_list=fits.open(file_name)\n",
    "\n",
    "spectra=hdu_list[1].data\n",
    "print(spectra.columns)\n",
    "print(len(spectra))"
   ]
  },
  {
   "cell_type": "code",
   "execution_count": 18,
   "metadata": {},
   "outputs": [],
   "source": [
    "## Or write it to disk\n",
    "import os\n",
    "if not os.path.isdir('downloads'):\n",
    "    os.makedirs(\"downloads\")\n",
    "fname=spec_tables[0].make_dataset_filename()\n",
    "#  Known issue where the suffix is incorrect:\n",
    "fname=fname.replace('None','fits')\n",
    "with open('downloads/{}'.format(fname),'wb') as outfile:\n",
    "    outfile.write(spec_tables[0].getdataset().read())"
   ]
  },
  {
   "cell_type": "markdown",
   "metadata": {},
   "source": [
    "Extension: Making a \"quick look\" spectrum. For our purposes, the 1st order of the HEG grating data would be sufficient."
   ]
  },
  {
   "cell_type": "code",
   "execution_count": 19,
   "metadata": {},
   "outputs": [
    {
     "data": {
      "image/png": "[encoded data removed]",
      "text/plain": [
       "<Figure size 576x216 with 2 Axes>"
      ]
     },
     "metadata": {
      "needs_background": "light"
     },
     "output_type": "display_data"
    }
   ],
   "source": [
    "j=1\n",
    "for i in range(len(spectra)):\n",
    "    matplotlib.rcParams['figure.figsize'] = (8, 3)\n",
    "    if abs(spectra['TG_M'][i]) == 1 and (spectra['TG_PART'][i]) == 1:\n",
    "        ax=plt.subplot(1,2,j)\n",
    "        pha = plt.plot( spectra['CHANNEL'][i],spectra['COUNTS'][i])\n",
    "        ax.set_yscale('log')\n",
    "        if spectra['TG_PART'][i] == 1:\n",
    "            instr='HEG'\n",
    "        ax.set_title(\"{grating}{order:+d}\".format(grating=instr, order=spectra['TG_M'][i]))\n",
    "        plt.tight_layout()\n",
    "        j=j+1\n"
   ]
  },
  {
   "cell_type": "markdown",
   "metadata": {},
   "source": [
    "This can then be analyzed in your favorite spectral analysis tool, e.g., [pyXspec](https://heasarc.gsfc.nasa.gov/xanadu/xspec/python/html/index.html).  (For the winter 2018 AAS workshop, we demonstrated this in a [notebook](https://github.com/NASA-NAVO/aas_workshop_2018/blob/master/heasarc/heasarc_Spectral_Access.ipynb) that you can consult for how to use pyXspec, but the pyXspec documentation will have more information.) "
   ]
  },
  {
   "cell_type": "markdown",
   "metadata": {},
   "source": [
    "Congratulations! You have completed this notebook exercise."
   ]
  }
 ],
 "metadata": {
  "anaconda-cloud": {},
  "kernelspec": {
   "display_name": "Python 3",
   "language": "python",
   "name": "python3"
  },
  "language_info": {
   "codemirror_mode": {
    "name": "ipython",
    "version": 3
   },
   "file_extension": ".py",
   "mimetype": "text/x-python",
   "name": "python",
   "nbconvert_exporter": "python",
   "pygments_lexer": "ipython3",
   "version": "3.6.7"
  },
  "nav_menu": {},
  "toc": {
   "navigate_menu": true,
   "number_sections": true,
   "sideBar": true,
   "threshold": 6,
   "toc_cell": false,
   "toc_section_display": "block",
   "toc_window_display": true
  }
 },
 "nbformat": 4,
 "nbformat_minor": 4
}
