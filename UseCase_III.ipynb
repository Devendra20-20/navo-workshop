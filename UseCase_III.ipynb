{
 "cells": [
  {
   "cell_type": "markdown",
   "metadata": {},
   "source": [
    "# WIP: Science Notebook \"Exploration\" of GW sources"
   ]
  },
  {
   "cell_type": "markdown",
   "metadata": {},
   "source": [
    "The story: Look at the exciting previous gravitational wave event GW170817 in NGC 4993. This was the GW event where two NS coalesced and therefore it is also interesting to study the multiwavelength from the event. \n",
    "\n",
    "Steps: \n",
    "1. Use the NED tool (https://ned.ipac.caltech.edu/uri/NED::GWFevents/) to find potential host galaxies (note NGC 4493 is on this list... need to narrow down using other data -- what? how?). \n",
    "\n",
    "2. Find what other X-ray data exist on the different sources. \n",
    "\n",
    "3. Make thumbnail images of potential host galaxies. \n",
    "\n",
    "4. Multi-wavlelength lightcurves of decay. (Would be really cool to make the type of plot of the different spectra as function of time. see https://www.eso.org/public/images/eso1733j/ ) \n",
    "\n",
    ".... Other things? ..."
   ]
  },
  {
   "cell_type": "markdown",
   "metadata": {},
   "source": [
    "## First, Set-up: Import the Python modules we'll be using."
   ]
  },
  {
   "cell_type": "code",
   "execution_count": 54,
   "metadata": {},
   "outputs": [],
   "source": [
    "# Suppress unimportant warnings.\n",
    "import warnings\n",
    "warnings.filterwarnings(\"ignore\", module=\"astropy.io.votable.*\")\n",
    "warnings.filterwarnings(\"ignore\", module=\"pyvo.utils.xml.*\")\n",
    "warnings.filterwarnings('ignore', '.*RADECSYS=*', append=True)\n",
    "\n",
    "import matplotlib.pyplot as plt\n",
    "import numpy as np\n",
    "\n",
    "# For downloading files\n",
    "from astropy.utils.data import download_file\n",
    "\n",
    "from astropy.coordinates import SkyCoord\n",
    "from astropy.io import fits\n",
    "from astropy.nddata import Cutout2D\n",
    "import astropy.visualization as vis\n",
    "from astropy.wcs import WCS\n",
    "from astroquery.ned import Ned\n",
    "\n",
    "import pyvo as vo\n",
    "\n",
    "### NEW\n",
    "import requests\n",
    "from astropy.io import ascii\n",
    "from astropy.table import Table\n",
    "import csv"
   ]
  },
  {
   "cell_type": "code",
   "execution_count": 32,
   "metadata": {},
   "outputs": [],
   "source": [
    "%matplotlib inline"
   ]
  },
  {
   "cell_type": "markdown",
   "metadata": {},
   "source": [
    "## Now, we can begin the science exploration:"
   ]
  },
  {
   "cell_type": "markdown",
   "metadata": {},
   "source": [
    "### Step 1: Use the NED tool (https://ned.ipac.caltech.edu/uri/NED::GWFevents/) to find potential host galaxies"
   ]
  },
  {
   "cell_type": "markdown",
   "metadata": {},
   "source": [
    "According to the NED API page, to grab the top 20 list of galaxies in the localization of event, \n",
    "sorted by 2MASS absolute K-band magnitude as a CSV output, you need the following URL\n",
    "(see https://ned.ipac.caltech.edu/Documents/Guides/Interface/GWF):\n",
    "https://ned.ipac.caltech.edu/uri/NED::GWFglist/csv/GW170817/latest/20"
   ]
  },
  {
   "cell_type": "code",
   "execution_count": 160,
   "metadata": {},
   "outputs": [],
   "source": [
    "url = \"https://ned.ipac.caltech.edu/uri/NED::GWFglist/csv/GW170817/latest/20\"\n",
    "response = requests.get(url, allow_redirects=True)\n",
    "\n",
    "data = response.content.decode('utf-8')"
   ]
  },
  {
   "cell_type": "markdown",
   "metadata": {},
   "source": [
    "Let's look at this information. The correct host galaxy is NGC4993 (idx=4). "
   ]
  },
  {
   "cell_type": "code",
   "execution_count": 162,
   "metadata": {},
   "outputs": [
    {
     "data": {
      "text/html": [
       "<i>Table length=20</i>\n",
       "<table id=\"table140202504086032-622056\" class=\"table-striped table-bordered table-condensed\">\n",
       "<thead><tr><th>idx</th><th>objname</th><th>ra</th><th>dec</th><th>pretype</th><th>z</th><th>zunc</th><th>DistMpc</th><th>DistMod</th><th>DistMethod</th><th>m_Ks</th><th>k_msig_k20fe</th><th>M_Ks</th><th>Merr_Ks</th><th>m_FUV</th><th>magerr_fuv</th><th>M_FUV</th><th>Merr_FUV</th><th>dP_dV</th><th>dP_dA</th></tr></thead>\n",
       "<tr><td>0</td><td>NGC 5078</td><td>199.95825</td><td>-27.41038888889</td><td>G</td><td>0.00723200012</td><td>1.99999995e-05</td><td>30.113245010375977</td><td>32.3937873840332</td><td>Kinematic</td><td>7.151000022888184</td><td>0.013000000268220901</td><td>-25.242786407470703</td><td>0.013000000268220901</td><td>nan</td><td>nan</td><td>nan</td><td>nan</td><td>0.0016472022029977132</td><td>58.94887964418315</td></tr>\n",
       "<tr><td>1</td><td>NGC 5061</td><td>199.521125</td><td>-26.837222222220007</td><td>G</td><td>0.00694500003</td><td>6.29999995e-05</td><td>24.700000762939453</td><td>31.963485717773438</td><td>Median</td><td>7.366000175476074</td><td>0.014000000432133675</td><td>-24.597484588623047</td><td>0.014000000432133675</td><td>17.97249984741211</td><td>0.09267310053110123</td><td>-13.990985870361328</td><td>0.09267310053110123</td><td>0.0009884641085415855</td><td>98.66444883107857</td></tr>\n",
       "<tr><td>2</td><td>NGC 4970</td><td>196.89058333333</td><td>-24.00855555556</td><td>G</td><td>0.0108580003</td><td>0.000117000003</td><td>42.70000076293945</td><td>33.152137756347656</td><td>Median</td><td>9.170000076293945</td><td>0.019999999552965164</td><td>-23.98213768005371</td><td>0.019999999552965164</td><td>nan</td><td>nan</td><td>nan</td><td>nan</td><td>0.0014576997107457305</td><td>67.43992470295204</td></tr>\n",
       "<tr><td>3</td><td>IC 4197</td><td>197.01804166667</td><td>-23.79686111111</td><td>G</td><td>0.0100969998</td><td>1.99999995e-05</td><td>45.85000228881836</td><td>33.306697845458984</td><td>Median</td><td>9.352999687194824</td><td>0.027000000700354576</td><td>-23.953697204589844</td><td>0.027000000700354576</td><td>nan</td><td>nan</td><td>nan</td><td>nan</td><td>0.0018727781291845522</td><td>136.56825676220575</td></tr>\n",
       "<tr><td>4</td><td>NGC 4993</td><td>197.44875</td><td>-23.38388888889</td><td>G</td><td>0.00972700026</td><td>4.99999987e-05</td><td>41.20000076293945</td><td>33.074485778808594</td><td>Median</td><td>9.329999923706055</td><td>0.026000000536441803</td><td>-23.74448585510254</td><td>0.026000000536441803</td><td>19.955799102783203</td><td>99.0</td><td>-13.11868667602539</td><td>99.0</td><td>0.0099267137099688</td><td>294.12262609641215</td></tr>\n",
       "<tr><td>5</td><td>IC 4180</td><td>196.735375</td><td>-23.91711111111</td><td>G</td><td>0.00991399959</td><td>5.99999985e-05</td><td>41.280792236328125</td><td>33.078739166259766</td><td>Kinematic</td><td>9.694000244140625</td><td>0.027000000700354576</td><td>-23.38473892211914</td><td>0.027000000700354576</td><td>19.017000198364258</td><td>0.11121299862861633</td><td>-14.061738967895508</td><td>0.11121299862861633</td><td>0.0014636385238314357</td><td>56.07310922978644</td></tr>\n",
       "<tr><td>6</td><td>IC 0874</td><td>199.75216666667</td><td>-27.628555555560002</td><td>G</td><td>0.0077490001</td><td>3.30000003e-05</td><td>31.25</td><td>32.47425079345703</td><td>Median</td><td>9.769000053405762</td><td>0.028999999165534973</td><td>-22.705249786376953</td><td>0.028999999165534973</td><td>20.5664005279541</td><td>99.0</td><td>-11.90785026550293</td><td>99.0</td><td>0.0024446315427621313</td><td>89.51009000297057</td></tr>\n",
       "<tr><td>7</td><td>ESO 508- G 033</td><td>199.096875</td><td>-26.56152777778</td><td>G</td><td>0.011094</td><td>0.00012</td><td>46.194183349609375</td><td>33.32293701171875</td><td>Kinematic</td><td>10.876999855041504</td><td>0.04800000041723251</td><td>-22.445938110351562</td><td>0.04800000041723251</td><td>17.489999771118164</td><td>0.047068800777196884</td><td>-15.832937240600586</td><td>0.047068800777196884</td><td>0.0028013262414659577</td><td>153.68893968985364</td></tr>\n",
       "<tr><td>8</td><td>ESO 508- G 010</td><td>196.90716666667</td><td>-23.578944444439998</td><td>G</td><td>0.0104740001</td><td>0.00013</td><td>43.612571716308594</td><td>33.19805908203125</td><td>Kinematic</td><td>11.303000450134277</td><td>0.08799999952316284</td><td>-21.895057678222656</td><td>0.08799999952316284</td><td>nan</td><td>nan</td><td>nan</td><td>nan</td><td>0.0034574610436782843</td><td>164.10119405342184</td></tr>\n",
       "<tr><td>9</td><td>IC 0879</td><td>199.91904166667</td><td>-27.42897222222</td><td>G</td><td>0.00796500035</td><td>3.9999999e-05</td><td>33.165374755859375</td><td>32.603424072265625</td><td>Kinematic</td><td>11.079999923706055</td><td>0.0729999989271164</td><td>-21.52342414855957</td><td>0.0729999989271164</td><td>17.311899185180664</td><td>0.03985830023884773</td><td>-15.291524887084961</td><td>0.03985830023884773</td><td>0.0020721203855033044</td><td>58.94887964418315</td></tr>\n",
       "<tr><td>10</td><td>ESO 575- G 053</td><td>196.27054166667</td><td>-22.383944444439997</td><td>G</td><td>0.00849299971</td><td>1.70000003e-05</td><td>33.79999923706055</td><td>32.64458465576172</td><td>Median</td><td>11.255000114440918</td><td>0.06199999898672104</td><td>-21.389583587646484</td><td>0.06199999898672104</td><td>17.238399505615234</td><td>0.04417920112609863</td><td>-15.406185150146484</td><td>0.04417920112609863</td><td>0.007537122249635773</td><td>179.85602860626466</td></tr>\n",
       "<tr><td>11</td><td>UGCA 331</td><td>197.69141666667</td><td>-23.86575</td><td>G</td><td>0.0095309997</td><td>2.20000002e-05</td><td>40.0</td><td>33.01029968261719</td><td>Median</td><td>11.621999740600586</td><td>0.09700000286102295</td><td>-21.3882999420166</td><td>0.09700000286102295</td><td>nan</td><td>nan</td><td>nan</td><td>nan</td><td>0.009155983294761832</td><td>248.4826219117893</td></tr>\n",
       "<tr><td>12</td><td>2MFGC 10484</td><td>197.46166666667</td><td>-24.24186111111</td><td>G</td><td>0.00987999979</td><td>0.000150000007</td><td>41.13922119140625</td><td>33.07128143310547</td><td>Kinematic</td><td>11.770000457763672</td><td>0.09600000083446503</td><td>-21.301280975341797</td><td>0.09600000083446503</td><td>nan</td><td>nan</td><td>nan</td><td>nan</td><td>0.004985578506765365</td><td>162.3647738402836</td></tr>\n",
       "<tr><td>13</td><td>ESO 508- G 003</td><td>196.6</td><td>-24.16405555556</td><td>G</td><td>0.00946000032</td><td>9.69999965e-05</td><td>39.39038848876953</td><td>32.976951599121094</td><td>Kinematic</td><td>11.942999839782715</td><td>0.10199999809265137</td><td>-21.033950805664062</td><td>0.10199999809265137</td><td>nan</td><td>nan</td><td>nan</td><td>nan</td><td>0.0009116187035568117</td><td>30.46988689079312</td></tr>\n",
       "<tr><td>14</td><td>ESO 575- G 055</td><td>196.66630500751</td><td>-22.456058336939996</td><td>G</td><td>0.0103869997</td><td>0.00013</td><td>43.25031280517578</td><td>33.17994689941406</td><td>Kinematic</td><td>12.411999702453613</td><td>0.07599999755620956</td><td>-20.767948150634766</td><td>0.07599999755620956</td><td>17.877500534057617</td><td>0.0594233013689518</td><td>-15.302446365356445</td><td>0.0594233013689518</td><td>0.0073592166614685935</td><td>292.2787065279501</td></tr>\n",
       "<tr><td>15</td><td>2MFGC 10461</td><td>197.177375</td><td>-23.775555555560004</td><td>G</td><td>0.00966299977</td><td>0.000102999998</td><td>40.23565673828125</td><td>33.02305603027344</td><td>Kinematic</td><td>12.541999816894531</td><td>0.10400000214576721</td><td>-20.481056213378906</td><td>0.10400000214576721</td><td>nan</td><td>nan</td><td>nan</td><td>nan</td><td>0.006350936697730601</td><td>191.08087905379924</td></tr>\n",
       "<tr><td>16</td><td>2MASX J13061939-2258491</td><td>196.58053413213003</td><td>-22.980345951079997</td><td>G</td><td>0.00969300047</td><td>0.000140000004</td><td>40.36057662963867</td><td>33.02978515625</td><td>Kinematic</td><td>13.590999603271484</td><td>0.11400000005960464</td><td>-19.438785552978516</td><td>0.11400000005960464</td><td>18.397600173950195</td><td>0.07494260370731354</td><td>-14.632184982299805</td><td>0.07494260370731354</td><td>0.005308417695163339</td><td>163.62184221613177</td></tr>\n",
       "<tr><td>17</td><td>2MASX J13232432-2935511</td><td>200.85129166667</td><td>-29.59761111111</td><td>G</td><td>0.00668800017</td><td>0.000150000007</td><td>27.84808921813965</td><td>32.223976135253906</td><td>Kinematic</td><td>12.958000183105469</td><td>0.10999999940395355</td><td>-19.265975952148438</td><td>0.10999999940395355</td><td>19.310400009155273</td><td>0.17684200406074524</td><td>-12.913576126098633</td><td>0.17684200406074524</td><td>0.001008076256025958</td><td>49.92307922686244</td></tr>\n",
       "<tr><td>18</td><td>ESO 508- G 004</td><td>196.71769517129002</td><td>-22.840472446630002</td><td>G</td><td>0.00965999998</td><td>3.30000003e-05</td><td>40.223167419433594</td><td>33.02238082885742</td><td>Kinematic</td><td>nan</td><td>nan</td><td>nan</td><td>nan</td><td>17.3971004486084</td><td>0.054019100964069366</td><td>-15.625280380249023</td><td>0.054019100964069366</td><td>0.009481896854602411</td><td>270.42770234746075</td></tr>\n",
       "<tr><td>19</td><td>UGCA 327</td><td>196.93695833333</td><td>-22.85786111111</td><td>G</td><td>0.00870699994</td><td>1.89999992e-05</td><td>28.5</td><td>32.27422332763672</td><td>Median</td><td>nan</td><td>nan</td><td>nan</td><td>nan</td><td>nan</td><td>nan</td><td>nan</td><td>nan</td><td>0.0068428962111655054</td><td>294.49583570818123</td></tr>\n",
       "</table><style>table.dataTable {clear: both; width: auto !important; margin: 0 !important;}\n",
       ".dataTables_info, .dataTables_length, .dataTables_filter, .dataTables_paginate{\n",
       "display: inline-block; margin-right: 1em; }\n",
       ".paginate_button { margin-right: 5px; }\n",
       "</style>\n",
       "<script>\n",
       "\n",
       "var astropy_sort_num = function(a, b) {\n",
       "    var a_num = parseFloat(a);\n",
       "    var b_num = parseFloat(b);\n",
       "\n",
       "    if (isNaN(a_num) && isNaN(b_num))\n",
       "        return ((a < b) ? -1 : ((a > b) ? 1 : 0));\n",
       "    else if (!isNaN(a_num) && !isNaN(b_num))\n",
       "        return ((a_num < b_num) ? -1 : ((a_num > b_num) ? 1 : 0));\n",
       "    else\n",
       "        return isNaN(a_num) ? -1 : 1;\n",
       "}\n",
       "\n",
       "require.config({paths: {\n",
       "    datatables: 'https://cdn.datatables.net/1.10.12/js/jquery.dataTables.min'\n",
       "}});\n",
       "require([\"datatables\"], function(){\n",
       "    console.log(\"$('#table140202504086032-622056').dataTable()\");\n",
       "    \n",
       "jQuery.extend( jQuery.fn.dataTableExt.oSort, {\n",
       "    \"optionalnum-asc\": astropy_sort_num,\n",
       "    \"optionalnum-desc\": function (a,b) { return -astropy_sort_num(a, b); }\n",
       "});\n",
       "\n",
       "    $('#table140202504086032-622056').dataTable({\n",
       "        order: [],\n",
       "        pageLength: 50,\n",
       "        lengthMenu: [[10, 25, 50, 100, 500, 1000, -1], [10, 25, 50, 100, 500, 1000, 'All']],\n",
       "        pagingType: \"full_numbers\",\n",
       "        columnDefs: [{targets: [0], type: \"optionalnum\"}]\n",
       "    });\n",
       "});\n",
       "</script>\n"
      ],
      "text/plain": [
       "<IPython.core.display.HTML object>"
      ]
     },
     "execution_count": 162,
     "metadata": {},
     "output_type": "execute_result"
    }
   ],
   "source": [
    "# Look at CSV content from url file \n",
    "csvdata = list(csv.reader(data.splitlines(), delimiter=','))\n",
    "t=Table(rows=csvdata[1:], names=csvdata[0])\n",
    "t.show_in_notebook()"
   ]
  },
  {
   "cell_type": "markdown",
   "metadata": {},
   "source": [
    "Good news is that the host galaxy is in the list. But we don't know this a priori and we also likely don't have real time monitoring of these potential candidates. However, in the case of GW170817, optical monitoring did discover an EM counterpart in NGC 4993. So we can now look at this galaxy in more detail. "
   ]
  },
  {
   "cell_type": "markdown",
   "metadata": {},
   "source": [
    "POTENTIAL IDEA: Can we use GCN data? Is that useful for our science case and to exemplify other NAVO services?"
   ]
  },
  {
   "cell_type": "markdown",
   "metadata": {},
   "source": []
  }
 ],
 "metadata": {
  "kernelspec": {
   "display_name": "Python 3",
   "language": "python",
   "name": "python3"
  },
  "language_info": {
   "codemirror_mode": {
    "name": "ipython",
    "version": 3
   },
   "file_extension": ".py",
   "mimetype": "text/x-python",
   "name": "python",
   "nbconvert_exporter": "python",
   "pygments_lexer": "ipython3",
   "version": "3.7.8"
  }
 },
 "nbformat": 4,
 "nbformat_minor": 4
}
