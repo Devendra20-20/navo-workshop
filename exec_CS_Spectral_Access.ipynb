{
 "cells": [
  {
   "cell_type": "markdown",
   "metadata": {},
   "source": [
    "# Retrieve spectra using Simple Spectral Access protocol\n",
    "\n",
    "This notebook is one of a set produced by NAVO to demonstrate data access with python tools. \n",
    "\n",
    "In this notebook, we show how to search for and retrieve spectra from VO services using the Registry and the __[Simple Spectral Access](http://www.ivoa.net/documents/SSA/)__ (SSA) protocol.\n"
   ]
  },
  {
   "cell_type": "code",
   "execution_count": 1,
   "metadata": {
    "execution": {
     "iopub.execute_input": "2020-11-25T19:46:10.192105Z",
     "iopub.status.busy": "2020-11-25T19:46:10.191553Z",
     "iopub.status.idle": "2020-11-25T19:46:11.481332Z",
     "shell.execute_reply": "2020-11-25T19:46:11.481768Z"
    }
   },
   "outputs": [],
   "source": [
    "import numpy as np\n",
    "\n",
    "import matplotlib\n",
    "import matplotlib.pyplot as plt\n",
    "%matplotlib inline  \n",
    "\n",
    "import requests, io\n",
    "\n",
    "from astropy.table import Table\n",
    "import astropy.io.fits as fits\n",
    "from astropy.coordinates import SkyCoord\n",
    "# For downloading files\n",
    "from astropy.utils.data import download_file\n",
    "\n",
    "import pyvo as vo\n",
    "\n",
    "# There are a number of relatively unimportant warnings that show up, so for now, suppress them:\n",
    "import warnings\n",
    "warnings.filterwarnings(\"ignore\", module=\"astropy.io.votable.*\")\n",
    "warnings.filterwarnings(\"ignore\", module=\"pyvo.utils.xml.*\")"
   ]
  },
  {
   "cell_type": "markdown",
   "metadata": {},
   "source": [
    "## Finding available Spectral Access Services\n",
    "\n",
    "First, we find out what spectral access services ('ssa') are available in the Registry offering x-ray data."
   ]
  },
  {
   "cell_type": "code",
   "execution_count": 2,
   "metadata": {
    "execution": {
     "iopub.execute_input": "2020-11-25T19:46:11.486332Z",
     "iopub.status.busy": "2020-11-25T19:46:11.485639Z",
     "iopub.status.idle": "2020-11-25T19:46:13.062622Z",
     "shell.execute_reply": "2020-11-25T19:46:13.063271Z"
    }
   },
   "outputs": [
    {
     "data": {
      "text/html": [
       "<i>Table length=4</i>\n",
       "<table id=\"table140401448276240\" class=\"table-striped table-bordered table-condensed\">\n",
       "<thead><tr><th>ivoid</th><th>short_name</th></tr></thead>\n",
       "<thead><tr><th>object</th><th>object</th></tr></thead>\n",
       "<tr><td>ivo://nasa.heasarc/chanmaster</td><td>Chandra</td></tr>\n",
       "<tr><td>ivo://nasa.heasarc/intbsc</td><td>INTEGRAL/BSC</td></tr>\n",
       "<tr><td>ivo://ned.ipac/sed_data_near_position</td><td>NED/SED</td></tr>\n",
       "<tr><td>ivo://wfau.roe.ac.uk/heavens_at_isdc/light-curves</td><td>HEAVENS @ ISDC</td></tr>\n",
       "</table>"
      ],
      "text/plain": [
       "<Table length=4>\n",
       "                      ivoid                         short_name  \n",
       "                      object                          object    \n",
       "------------------------------------------------- --------------\n",
       "                    ivo://nasa.heasarc/chanmaster        Chandra\n",
       "                        ivo://nasa.heasarc/intbsc   INTEGRAL/BSC\n",
       "            ivo://ned.ipac/sed_data_near_position        NED/SED\n",
       "ivo://wfau.roe.ac.uk/heavens_at_isdc/light-curves HEAVENS @ ISDC"
      ]
     },
     "execution_count": 1,
     "metadata": {},
     "output_type": "execute_result"
    }
   ],
   "source": [
    "services = vo.regsearch(servicetype='ssa',waveband='x-ray')\n",
    "services.to_table()['ivoid','short_name']"
   ]
  },
  {
   "cell_type": "markdown",
   "metadata": {},
   "source": [
    "We can look at only the Chandra entry:"
   ]
  },
  {
   "cell_type": "code",
   "execution_count": 3,
   "metadata": {
    "execution": {
     "iopub.execute_input": "2020-11-25T19:46:13.068485Z",
     "iopub.status.busy": "2020-11-25T19:46:13.067791Z",
     "iopub.status.idle": "2020-11-25T19:46:13.070728Z",
     "shell.execute_reply": "2020-11-25T19:46:13.071307Z"
    }
   },
   "outputs": [
    {
     "data": {
      "text/plain": [
       "'https://heasarc.gsfc.nasa.gov/xamin/vo/ssa?table=chanmaster&'"
      ]
     },
     "execution_count": 1,
     "metadata": {},
     "output_type": "execute_result"
    }
   ],
   "source": [
    "chandra_service = [s for s in services if 'Chandra' in s.short_name][0] \n",
    "chandra_service.access_url"
   ]
  },
  {
   "cell_type": "markdown",
   "metadata": {},
   "source": [
    "## Chandra Spectrum of Delta Ori\n",
    "\n",
    "Getting the list of spectra."
   ]
  },
  {
   "cell_type": "code",
   "execution_count": 4,
   "metadata": {
    "execution": {
     "iopub.execute_input": "2020-11-25T19:46:13.075298Z",
     "iopub.status.busy": "2020-11-25T19:46:13.074751Z",
     "iopub.status.idle": "2020-11-25T19:46:15.490896Z",
     "shell.execute_reply": "2020-11-25T19:46:15.491499Z"
    }
   },
   "outputs": [
    {
     "data": {
      "text/html": [
       "<i>Table length=6</i>\n",
       "<table id=\"table140401448836048-978989\" class=\"table-striped table-bordered table-condensed\">\n",
       "<thead><tr><th>idx</th><th>obsid</th><th>status</th><th>name</th><th>ra</th><th>dec</th><th>time</th><th>detector</th><th>grating</th><th>exposure</th><th>type</th><th>pi</th><th>public_date</th><th>SSA_start_time</th><th>SSA_tmid</th><th>SSA_stop_time</th><th>SSA_duration</th><th>SSA_coord_obs</th><th>SSA_ra</th><th>SSA_dec</th><th>SSA_title</th><th>SSA_reference</th><th>SSA_datalength</th><th>SSA_datamodel</th><th>SSA_instrument</th><th>SSA_publisher</th><th>SSA_format</th><th>SSA_fov</th><th>SSA_wavelength_min</th><th>SSA_wavelength_max</th><th>SSA_bandwidth</th><th>SSA_bandpass</th></tr></thead>\n",
       "<thead><tr><th></th><th></th><th></th><th></th><th>deg</th><th>deg</th><th>mjd</th><th></th><th></th><th>s</th><th></th><th></th><th>mjd</th><th>mjd</th><th>mjd</th><th>mjd</th><th>s</th><th>deg</th><th>deg</th><th>deg</th><th></th><th></th><th></th><th></th><th></th><th></th><th></th><th>deg</th><th>meter</th><th>meter</th><th>meter</th><th>meter</th></tr></thead>\n",
       "<tr><td>0</td><td>639</td><td>archived</td><td>DELTA ORI</td><td>83.00125</td><td>-0.29917</td><td>51556.1364</td><td>ACIS-S</td><td>HETG</td><td>49680</td><td>GO</td><td>Cassinelli</td><td>52037</td><td>51556.136400463</td><td>51556.43650057151</td><td>51556.735856340485</td><td>49680.0</td><td>--</td><td>83.00125</td><td>-0.29917</td><td>acisf00639N004_pha2</td><td>https://heasarc.gsfc.nasa.gov/FTP/chandra/data/science/ao01/cat2/639/primary/acisf00639N004_pha2.fits.gz</td><td>12.0</td><td>Spectrum-1.0</td><td>ACIS-S</td><td>HEASARC</td><td>application/fits</td><td>0.81</td><td>1.2398e-10</td><td>6.1992e-09</td><td>6.07522e-09</td><td>3.16159e-09</td></tr>\n",
       "<tr><td>1</td><td>14569</td><td>archived</td><td>Delta Ori</td><td>83.00167</td><td>-0.29908</td><td>56283.254</td><td>ACIS-S</td><td>HETG</td><td>120850</td><td>GO</td><td>Corcoran</td><td>56650</td><td>56283.2539814815</td><td>56283.96498017049</td><td>56284.67520199699</td><td>120850.0</td><td>--</td><td>83.00167</td><td>-0.29908</td><td>acisf14569N002_pha2</td><td>https://heasarc.gsfc.nasa.gov/FTP/chandra/data/science/ao14/cat2/14569/primary/acisf14569N002_pha2.fits.gz</td><td>12.0</td><td>Spectrum-1.0</td><td>ACIS-S</td><td>HEASARC</td><td>application/fits</td><td>0.81</td><td>1.2398e-10</td><td>6.1992e-09</td><td>6.07522e-09</td><td>3.16159e-09</td></tr>\n",
       "<tr><td>2</td><td>7416</td><td>archived</td><td>delta Ori (HD 36486)</td><td>83.00167</td><td>-0.29908</td><td>54413.427</td><td>HRC-S</td><td>LETG</td><td>97080</td><td>GO</td><td>Raassen</td><td>54783</td><td>54413.4270486111</td><td>54413.99748095434</td><td>54414.56715379722</td><td>97080.0</td><td>--</td><td>83.00167</td><td>-0.29908</td><td>hrcf07416N003_pha2</td><td>https://heasarc.gsfc.nasa.gov/FTP/chandra/data/science/ao08/cat2/7416/primary/hrcf07416N003_pha2.fits.gz</td><td>2.0</td><td>Spectrum-1.0</td><td>HRC-S</td><td>HEASARC</td><td>application/fits</td><td>0.81</td><td>1.2398e-10</td><td>6.1992e-09</td><td>6.07522e-09</td><td>3.16159e-09</td></tr>\n",
       "<tr><td>3</td><td>14567</td><td>archived</td><td>Delta Ori</td><td>83.00167</td><td>-0.29908</td><td>56280.7037</td><td>ACIS-S</td><td>HETG</td><td>116500</td><td>GO</td><td>Corcoran</td><td>56647</td><td>56280.7036921296</td><td>56281.38982472211</td><td>56282.07517784063</td><td>116500.0</td><td>--</td><td>83.00167</td><td>-0.29908</td><td>acisf14567N002_pha2</td><td>https://heasarc.gsfc.nasa.gov/FTP/chandra/data/science/ao14/cat2/14567/primary/acisf14567N002_pha2.fits.gz</td><td>12.0</td><td>Spectrum-1.0</td><td>ACIS-S</td><td>HEASARC</td><td>application/fits</td><td>0.81</td><td>1.2398e-10</td><td>6.1992e-09</td><td>6.07522e-09</td><td>3.16159e-09</td></tr>\n",
       "<tr><td>4</td><td>14568</td><td>archived</td><td>Delta Ori</td><td>83.00167</td><td>-0.29908</td><td>56288.1612</td><td>ACIS-S</td><td>HETG</td><td>123600</td><td>GO</td><td>Corcoran</td><td>56655</td><td>56288.1612268519</td><td>56288.89025076302</td><td>56289.61850203206</td><td>123600.0</td><td>--</td><td>83.00167</td><td>-0.29908</td><td>acisf14568N002_pha2</td><td>https://heasarc.gsfc.nasa.gov/FTP/chandra/data/science/ao14/cat2/14568/primary/acisf14568N002_pha2.fits.gz</td><td>12.0</td><td>Spectrum-1.0</td><td>ACIS-S</td><td>HEASARC</td><td>application/fits</td><td>0.81</td><td>1.2398e-10</td><td>6.1992e-09</td><td>6.07522e-09</td><td>3.16159e-09</td></tr>\n",
       "<tr><td>5</td><td>14570</td><td>archived</td><td>Delta Ori</td><td>83.00167</td><td>-0.29908</td><td>56285.5508</td><td>ACIS-S</td><td>HETG</td><td>124100</td><td>GO</td><td>Corcoran</td><td>56652</td><td>56285.5507986111</td><td>56286.28389746857</td><td>56287.016223824656</td><td>124100.0</td><td>--</td><td>83.00167</td><td>-0.29908</td><td>acisf14570N002_pha2</td><td>https://heasarc.gsfc.nasa.gov/FTP/chandra/data/science/ao14/cat2/14570/primary/acisf14570N002_pha2.fits.gz</td><td>12.0</td><td>Spectrum-1.0</td><td>ACIS-S</td><td>HEASARC</td><td>application/fits</td><td>0.81</td><td>1.2398e-10</td><td>6.1992e-09</td><td>6.07522e-09</td><td>3.16159e-09</td></tr>\n",
       "</table><style>table.dataTable {clear: both; width: auto !important; margin: 0 !important;}\n",
       ".dataTables_info, .dataTables_length, .dataTables_filter, .dataTables_paginate{\n",
       "display: inline-block; margin-right: 1em; }\n",
       ".paginate_button { margin-right: 5px; }\n",
       "</style>\n",
       "<script>\n",
       "\n",
       "var astropy_sort_num = function(a, b) {\n",
       "    var a_num = parseFloat(a);\n",
       "    var b_num = parseFloat(b);\n",
       "\n",
       "    if (isNaN(a_num) && isNaN(b_num))\n",
       "        return ((a < b) ? -1 : ((a > b) ? 1 : 0));\n",
       "    else if (!isNaN(a_num) && !isNaN(b_num))\n",
       "        return ((a_num < b_num) ? -1 : ((a_num > b_num) ? 1 : 0));\n",
       "    else\n",
       "        return isNaN(a_num) ? -1 : 1;\n",
       "}\n",
       "\n",
       "require.config({paths: {\n",
       "    datatables: 'https://cdn.datatables.net/1.10.12/js/jquery.dataTables.min'\n",
       "}});\n",
       "require([\"datatables\"], function(){\n",
       "    console.log(\"$('#table140401448836048-978989').dataTable()\");\n",
       "    \n",
       "jQuery.extend( jQuery.fn.dataTableExt.oSort, {\n",
       "    \"optionalnum-asc\": astropy_sort_num,\n",
       "    \"optionalnum-desc\": function (a,b) { return -astropy_sort_num(a, b); }\n",
       "});\n",
       "\n",
       "    $('#table140401448836048-978989').dataTable({\n",
       "        order: [],\n",
       "        pageLength: 50,\n",
       "        lengthMenu: [[10, 25, 50, 100, 500, 1000, -1], [10, 25, 50, 100, 500, 1000, 'All']],\n",
       "        pagingType: \"full_numbers\",\n",
       "        columnDefs: [{targets: [0, 4, 5, 6, 9, 12, 13, 14, 15, 16, 17, 18, 19, 27, 28, 29, 30, 31], type: \"optionalnum\"}]\n",
       "    });\n",
       "});\n",
       "</script>\n"
      ],
      "text/plain": [
       "<IPython.core.display.HTML object>"
      ]
     },
     "execution_count": 1,
     "metadata": {},
     "output_type": "execute_result"
    }
   ],
   "source": [
    "delori = SkyCoord.from_name(\"Delta Ori\")\n",
    "\n",
    "spec_tables = chandra_service.search(pos=delori,diameter=0.1)\n",
    "spec_tables.to_table().show_in_notebook()"
   ]
  },
  {
   "cell_type": "markdown",
   "metadata": {},
   "source": [
    "Accessing one of the spectra."
   ]
  },
  {
   "cell_type": "code",
   "execution_count": 5,
   "metadata": {
    "execution": {
     "iopub.execute_input": "2020-11-25T19:46:15.495718Z",
     "iopub.status.busy": "2020-11-25T19:46:15.494967Z",
     "iopub.status.idle": "2020-11-25T19:46:15.499902Z",
     "shell.execute_reply": "2020-11-25T19:46:15.500477Z"
    }
   },
   "outputs": [],
   "source": [
    "## If you only run this once, you can do it in memory in one line:\n",
    "##  This fetches the FITS as an astropy.io.fits object in memory\n",
    "# hdu_list = spec_tables[0].getdataobj()\n",
    "## But if you might run this notebook repeatedly with limited bandwidth, \n",
    "##  download it once and cache it.  \n",
    "file_name = download_file(spec_tables[0].getdataurl(),cache=True)\n",
    "hdu_list = fits.open(file_name)"
   ]
  },
  {
   "cell_type": "markdown",
   "metadata": {},
   "source": [
    "## Simple example of plotting a spectrum"
   ]
  },
  {
   "cell_type": "code",
   "execution_count": 6,
   "metadata": {
    "execution": {
     "iopub.execute_input": "2020-11-25T19:46:15.504094Z",
     "iopub.status.busy": "2020-11-25T19:46:15.503559Z",
     "iopub.status.idle": "2020-11-25T19:46:15.553934Z",
     "shell.execute_reply": "2020-11-25T19:46:15.554523Z"
    }
   },
   "outputs": [
    {
     "data": {
      "text/html": [
       "<i>Table length=12</i>\n",
       "<table id=\"table140401371751120\" class=\"table-striped table-bordered table-condensed\">\n",
       "<thead><tr><th>SPEC_NUM</th><th>TG_M</th><th>TG_PART</th><th>TG_SRCID</th><th>X</th><th>Y</th><th>CHANNEL [8192]</th><th>COUNTS [8192]</th><th>STAT_ERR [8192]</th><th>BACKGROUND_UP [8192]</th><th>BACKGROUND_DOWN [8192]</th><th>BIN_LO [8192]</th><th>BIN_HI [8192]</th></tr></thead>\n",
       "<thead><tr><th>int16</th><th>int16</th><th>int16</th><th>int16</th><th>float32</th><th>float32</th><th>int16</th><th>int16</th><th>float32</th><th>int16</th><th>int16</th><th>float64</th><th>float64</th></tr></thead>\n",
       "<tr><td>1</td><td>-3</td><td>1</td><td>1</td><td>4102.815</td><td>4131.828</td><td>1 .. 8192</td><td>0 .. 0</td><td>1.8660254 .. 1.8660254</td><td>0 .. 0</td><td>0 .. 0</td><td>7.159166666667378 .. 0.3333333333333333</td><td>7.160000000000712 .. 0.33416666666666667</td></tr>\n",
       "<tr><td>2</td><td>-2</td><td>1</td><td>1</td><td>4102.815</td><td>4131.828</td><td>1 .. 8192</td><td>0 .. 0</td><td>1.8660254 .. 1.8660254</td><td>0 .. 0</td><td>0 .. 0</td><td>10.738750000000886 .. 0.5</td><td>10.740000000000887 .. 0.50125</td></tr>\n",
       "<tr><td>3</td><td>-1</td><td>1</td><td>1</td><td>4102.815</td><td>4131.828</td><td>1 .. 8192</td><td>0 .. 0</td><td>1.8660254 .. 1.8660254</td><td>0 .. 0</td><td>0 .. 0</td><td>21.477500000001772 .. 1.0</td><td>21.480000000001773 .. 1.0025</td></tr>\n",
       "<tr><td>4</td><td>1</td><td>1</td><td>1</td><td>4102.815</td><td>4131.828</td><td>1 .. 8192</td><td>0 .. 0</td><td>1.8660254 .. 1.8660254</td><td>0 .. 0</td><td>0 .. 0</td><td>21.477500000001772 .. 1.0</td><td>21.480000000001773 .. 1.0025</td></tr>\n",
       "<tr><td>5</td><td>2</td><td>1</td><td>1</td><td>4102.815</td><td>4131.828</td><td>1 .. 8192</td><td>0 .. 0</td><td>1.8660254 .. 1.8660254</td><td>0 .. 0</td><td>0 .. 0</td><td>10.738750000000886 .. 0.5</td><td>10.740000000000887 .. 0.50125</td></tr>\n",
       "<tr><td>6</td><td>3</td><td>1</td><td>1</td><td>4102.815</td><td>4131.828</td><td>1 .. 8192</td><td>0 .. 0</td><td>1.8660254 .. 1.8660254</td><td>0 .. 0</td><td>0 .. 0</td><td>7.159166666667378 .. 0.3333333333333333</td><td>7.160000000000712 .. 0.33416666666666667</td></tr>\n",
       "<tr><td>7</td><td>-3</td><td>2</td><td>1</td><td>4102.815</td><td>4131.828</td><td>1 .. 8192</td><td>0 .. 0</td><td>1.8660254 .. 1.8660254</td><td>0 .. 0</td><td>0 .. 0</td><td>13.985000000001373 .. 0.3333333333333333</td><td>13.98666666666804 .. 0.33499999999999996</td></tr>\n",
       "<tr><td>8</td><td>-2</td><td>2</td><td>1</td><td>4102.815</td><td>4131.828</td><td>1 .. 8192</td><td>0 .. 0</td><td>1.8660254 .. 1.8660254</td><td>0 .. 0</td><td>0 .. 0</td><td>20.977500000001505 .. 0.5</td><td>20.980000000001507 .. 0.5025</td></tr>\n",
       "<tr><td>9</td><td>-1</td><td>2</td><td>1</td><td>4102.815</td><td>4131.828</td><td>1 .. 8192</td><td>0 .. 0</td><td>1.8660254 .. 1.8660254</td><td>0 .. 0</td><td>0 .. 0</td><td>41.95500000000301 .. 1.0</td><td>41.960000000003014 .. 1.005</td></tr>\n",
       "<tr><td>10</td><td>1</td><td>2</td><td>1</td><td>4102.815</td><td>4131.828</td><td>1 .. 8192</td><td>0 .. 0</td><td>1.8660254 .. 1.8660254</td><td>0 .. 0</td><td>0 .. 0</td><td>41.95500000000301 .. 1.0</td><td>41.960000000003014 .. 1.005</td></tr>\n",
       "<tr><td>11</td><td>2</td><td>2</td><td>1</td><td>4102.815</td><td>4131.828</td><td>1 .. 8192</td><td>0 .. 0</td><td>1.8660254 .. 1.8660254</td><td>0 .. 0</td><td>0 .. 0</td><td>20.977500000001505 .. 0.5</td><td>20.980000000001507 .. 0.5025</td></tr>\n",
       "<tr><td>12</td><td>3</td><td>2</td><td>1</td><td>4102.815</td><td>4131.828</td><td>1 .. 8192</td><td>0 .. 0</td><td>1.8660254 .. 1.8660254</td><td>0 .. 0</td><td>0 .. 0</td><td>13.985000000001373 .. 0.3333333333333333</td><td>13.98666666666804 .. 0.33499999999999996</td></tr>\n",
       "</table>"
      ],
      "text/plain": [
       "<Table length=12>\n",
       "SPEC_NUM  TG_M ...              BIN_HI [8192]              \n",
       " int16   int16 ...                 float64                 \n",
       "-------- ----- ... ----------------------------------------\n",
       "       1    -3 ... 7.160000000000712 .. 0.33416666666666667\n",
       "       2    -2 ...            10.740000000000887 .. 0.50125\n",
       "       3    -1 ...             21.480000000001773 .. 1.0025\n",
       "       4     1 ...             21.480000000001773 .. 1.0025\n",
       "       5     2 ...            10.740000000000887 .. 0.50125\n",
       "       6     3 ... 7.160000000000712 .. 0.33416666666666667\n",
       "       7    -3 ... 13.98666666666804 .. 0.33499999999999996\n",
       "       8    -2 ...             20.980000000001507 .. 0.5025\n",
       "       9    -1 ...              41.960000000003014 .. 1.005\n",
       "      10     1 ...              41.960000000003014 .. 1.005\n",
       "      11     2 ...             20.980000000001507 .. 0.5025\n",
       "      12     3 ... 13.98666666666804 .. 0.33499999999999996"
      ]
     },
     "execution_count": 1,
     "metadata": {},
     "output_type": "execute_result"
    }
   ],
   "source": [
    "spec_table = Table(hdu_list[1].data)\n",
    "spec_table"
   ]
  },
  {
   "cell_type": "code",
   "execution_count": 7,
   "metadata": {
    "execution": {
     "iopub.execute_input": "2020-11-25T19:46:15.578449Z",
     "iopub.status.busy": "2020-11-25T19:46:15.577808Z",
     "iopub.status.idle": "2020-11-25T19:46:18.699991Z",
     "shell.execute_reply": "2020-11-25T19:46:18.700408Z"
    }
   },
   "outputs": [
    {
     "data": {
      "image/png": "[encoded data removed]",
      "text/plain": [
       "<Figure size 864x720 with 12 Axes>"
      ]
     },
     "metadata": {
      "needs_background": "light"
     },
     "output_type": "display_data"
    }
   ],
   "source": [
    "matplotlib.rcParams['figure.figsize'] = (12, 10)\n",
    "\n",
    "for i in range(len(spec_table)): \n",
    "    \n",
    "    ax = plt.subplot(6,2,i+1)\n",
    "    pha = plt.plot( spec_table['CHANNEL'][i],spec_table['COUNTS'][i])\n",
    "    ax.set_yscale('log')\n",
    "    \n",
    "    if spec_table['TG_PART'][i] == 1:\n",
    "        instr='HEG'\n",
    "    if spec_table['TG_PART'][i] == 2:\n",
    "        instr='MEG'\n",
    "    if spec_table['TG_PART'][i] == 3:\n",
    "        instr='LEG'\n",
    "        \n",
    "    ax.set_title(\"{grating}{order:+d}\".format(grating=instr, order=spec_table['TG_M'][i]))\n",
    "    \n",
    "    plt.tight_layout()"
   ]
  },
  {
   "cell_type": "markdown",
   "metadata": {},
   "source": [
    "This can then be analyzed in your favorite spectral analysis tool, e.g., [pyXspec](https://heasarc.gsfc.nasa.gov/xanadu/xspec/python/html/index.html).  (For the winter 2018 AAS workshop, we demonstrated this in a [notebook](https://github.com/NASA-NAVO/aas_workshop_2018/blob/master/heasarc/heasarc_Spectral_Access.ipynb) that you can consult for how to use pyXspec, but the pyXspec documentation will have more information.)  "
   ]
  },
  {
   "cell_type": "code",
   "execution_count": null,
   "metadata": {},
   "outputs": [],
   "source": []
  }
 ],
 "metadata": {
  "anaconda-cloud": {},
  "kernelspec": {
   "display_name": "Python 3",
   "language": "python",
   "name": "python3"
  },
  "language_info": {
   "codemirror_mode": {
    "name": "ipython",
    "version": 3
   },
   "file_extension": ".py",
   "mimetype": "text/x-python",
   "name": "python",
   "nbconvert_exporter": "python",
   "pygments_lexer": "ipython3",
   "version": "3.7.9"
  },
  "nav_menu": {},
  "toc": {
   "navigate_menu": true,
   "number_sections": true,
   "sideBar": true,
   "threshold": 6,
   "toc_cell": false,
   "toc_section_display": "block",
   "toc_window_display": true
  }
 },
 "nbformat": 4,
 "nbformat_minor": 4
}
