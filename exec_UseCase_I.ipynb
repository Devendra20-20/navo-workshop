{
 "cells": [
  {
   "cell_type": "markdown",
   "metadata": {},
   "source": [
    "# Science User Case - Inspecting a Candidate List\n",
    "\n",
    "Ogle et al. (2016) mined the NASA/IPAC Extragalactic Database (NED) to identify a new type of galaxy: Superluminous Spiral Galaxies.\n",
    "\n",
    "Here's the paper: https://ui.adsabs.harvard.edu//#abs/2016ApJ...817..109O/abstract\n",
    "\n",
    "Table 1 lists the positions of these Super Spirals. Based on those positions, let's create multiwavelength cutouts for each super spiral to see what is unique about this new class of objects."
   ]
  },
  {
   "cell_type": "markdown",
   "metadata": {},
   "source": [
    "## 1. Import the Python modules we'll be using."
   ]
  },
  {
   "cell_type": "code",
   "execution_count": 1,
   "metadata": {
    "execution": {
     "iopub.execute_input": "2020-11-25T19:47:53.928846Z",
     "iopub.status.busy": "2020-11-25T19:47:53.928176Z",
     "iopub.status.idle": "2020-11-25T19:47:56.453374Z",
     "shell.execute_reply": "2020-11-25T19:47:56.453918Z"
    }
   },
   "outputs": [],
   "source": [
    "# Suppress unimportant warnings.\n",
    "import warnings\n",
    "warnings.filterwarnings(\"ignore\", module=\"astropy.io.votable.*\")\n",
    "warnings.filterwarnings(\"ignore\", module=\"pyvo.utils.xml.*\")\n",
    "warnings.filterwarnings('ignore', '.*RADECSYS=*', append=True)\n",
    "\n",
    "import matplotlib.pyplot as plt\n",
    "import numpy as np\n",
    "\n",
    "# For downloading files\n",
    "from astropy.utils.data import download_file\n",
    "\n",
    "from astropy.coordinates import SkyCoord\n",
    "from astropy.io import fits\n",
    "from astropy.nddata import Cutout2D\n",
    "import astropy.visualization as vis\n",
    "from astropy.wcs import WCS\n",
    "from astroquery.ned import Ned\n",
    "\n",
    "import pyvo as vo"
   ]
  },
  {
   "cell_type": "markdown",
   "metadata": {},
   "source": [
    "The next cell prepares the notebook to display our visualizations."
   ]
  },
  {
   "cell_type": "code",
   "execution_count": 2,
   "metadata": {
    "execution": {
     "iopub.execute_input": "2020-11-25T19:47:56.459772Z",
     "iopub.status.busy": "2020-11-25T19:47:56.458973Z",
     "iopub.status.idle": "2020-11-25T19:47:56.461825Z",
     "shell.execute_reply": "2020-11-25T19:47:56.462535Z"
    }
   },
   "outputs": [],
   "source": [
    "%matplotlib inline  "
   ]
  },
  {
   "cell_type": "markdown",
   "metadata": {},
   "source": [
    "## 2. Search NED for objects in this paper.\n",
    "\n",
    "Insert a Code Cell below by clicking on the \"Insert\" Menu and choosing \"Insert Cell Below\". Then consult QuickReference.md to figure out how to use astroquery to search NED for all objects in a paper, based on the refcode of the paper. Inspect the resulting astropy table."
   ]
  },
  {
   "cell_type": "code",
   "execution_count": 3,
   "metadata": {
    "execution": {
     "iopub.execute_input": "2020-11-25T19:47:56.471571Z",
     "iopub.status.busy": "2020-11-25T19:47:56.466952Z",
     "iopub.status.idle": "2020-11-25T19:47:56.579781Z",
     "shell.execute_reply": "2020-11-25T19:47:56.581167Z"
    }
   },
   "outputs": [
    {
     "data": {
      "text/html": [
       "<i>Table length=62</i>\n",
       "<table id=\"table140373017311376-492682\" class=\"table-striped table-bordered table-condensed\">\n",
       "<thead><tr><th>idx</th><th>No.</th><th>Object Name</th><th>RA</th><th>DEC</th><th>Type</th><th>Velocity</th><th>Redshift</th><th>Redshift Flag</th><th>Magnitude and Filter</th><th>Separation</th><th>References</th><th>Notes</th><th>Photometry Points</th><th>Positions</th><th>Redshift Points</th><th>Diameter Points</th><th>Associations</th></tr></thead>\n",
       "<thead><tr><th></th><th></th><th></th><th>degrees</th><th>degrees</th><th></th><th>km / s</th><th></th><th></th><th></th><th>arcmin</th><th></th><th></th><th></th><th></th><th></th><th></th><th></th></tr></thead>\n",
       "<tr><td>0</td><td>1</td><td>WISEA J001550.14-100242.3</td><td>3.95892</td><td>-10.04511</td><td>G</td><td>52788.0</td><td>0.176083</td><td></td><td>17.5g</td><td>--</td><td>12</td><td>0</td><td>63</td><td>7</td><td>4</td><td>10</td><td>0</td></tr>\n",
       "<tr><td>1</td><td>2</td><td>WISEA J003807.80-010936.7</td><td>9.53252</td><td>-1.16024</td><td>G</td><td>62565.0</td><td>0.208695</td><td></td><td>18.0g</td><td>--</td><td>13</td><td>0</td><td>71</td><td>11</td><td>6</td><td>10</td><td>0</td></tr>\n",
       "<tr><td>2</td><td>3</td><td>WISEA J040422.92-054134.8</td><td>61.09548</td><td>-5.69303</td><td>G</td><td>75138.0</td><td>0.250635</td><td></td><td>18.6g</td><td>--</td><td>6</td><td>0</td><td>61</td><td>10</td><td>6</td><td>8</td><td>0</td></tr>\n",
       "<tr><td>3</td><td>4</td><td>WISEA J073806.16+282359.6</td><td>114.52568</td><td>28.39995</td><td>G</td><td>69255.0</td><td>0.23101</td><td></td><td>18.0g</td><td>--</td><td>9</td><td>0</td><td>66</td><td>7</td><td>4</td><td>10</td><td>0</td></tr>\n",
       "<tr><td>4</td><td>5</td><td>2MASX J07550424+1353261</td><td>118.76776</td><td>13.89065</td><td>G</td><td>66754.0</td><td>0.222669</td><td></td><td>18.5g</td><td>--</td><td>8</td><td>0</td><td>38</td><td>6</td><td>4</td><td>6</td><td>0</td></tr>\n",
       "<tr><td>5</td><td>6</td><td>WISEA J082655.11+181147.7</td><td>126.72969</td><td>18.19665</td><td>G</td><td>79608.0</td><td>0.265543</td><td></td><td>18.4g</td><td>--</td><td>5</td><td>0</td><td>46</td><td>6</td><td>4</td><td>6</td><td>0</td></tr>\n",
       "<tr><td>6</td><td>7</td><td>2MASX J08542169+0449308</td><td>133.59033</td><td>4.82511</td><td>G</td><td>47018.0</td><td>0.156835</td><td></td><td>16.7g</td><td>--</td><td>14</td><td>0</td><td>58</td><td>7</td><td>4</td><td>10</td><td>0</td></tr>\n",
       "<tr><td>7</td><td>8</td><td>WHL J090944.8+222607</td><td>137.4367</td><td>22.43539</td><td>GClstr</td><td>90837.0</td><td>0.303</td><td>PHOT</td><td></td><td>--</td><td>5</td><td>0</td><td>0</td><td>4</td><td>5</td><td>0</td><td>0</td></tr>\n",
       "<tr><td>8</td><td>9</td><td>2MASX J09094480+2226078</td><td>137.4367</td><td>22.43538</td><td>G</td><td>85557.0</td><td>0.285386</td><td></td><td>19.0g</td><td>--</td><td>7</td><td>0</td><td>30</td><td>5</td><td>6</td><td>6</td><td>0</td></tr>\n",
       "<tr><td>9</td><td>10</td><td>2MASX J09260805+2405242</td><td>141.53357</td><td>24.09004</td><td>G</td><td>66689.0</td><td>0.222451</td><td></td><td>17.8g</td><td>--</td><td>13</td><td>0</td><td>32</td><td>6</td><td>7</td><td>6</td><td>0</td></tr>\n",
       "<tr><td>10</td><td>11</td><td>WHL J092608.1+240524</td><td>141.53357</td><td>24.09004</td><td>GClstr</td><td>53363.0</td><td>0.178</td><td>PHOT</td><td></td><td>--</td><td>6</td><td>0</td><td>0</td><td>4</td><td>5</td><td>0</td><td>0</td></tr>\n",
       "<tr><td>11</td><td>12</td><td>WISEA J093347.77+211436.7</td><td>143.44901</td><td>21.24346</td><td>G</td><td>51626.0</td><td>0.172206</td><td></td><td>16.9g</td><td>--</td><td>41</td><td>0</td><td>49</td><td>14</td><td>10</td><td>6</td><td>1</td></tr>\n",
       "<tr><td>12</td><td>13</td><td>WISEA J093622.14+390628.9</td><td>144.09222</td><td>39.10801</td><td>G</td><td>84847.0</td><td>0.283019</td><td></td><td>18.5g</td><td>--</td><td>5</td><td>0</td><td>66</td><td>7</td><td>3</td><td>10</td><td>0</td></tr>\n",
       "<tr><td>13</td><td>14</td><td>MSPM 05544</td><td>146.2235</td><td>22.8851</td><td>GClstr</td><td>26738.0</td><td>0.08919</td><td></td><td></td><td>--</td><td>2</td><td>0</td><td>0</td><td>1</td><td>1</td><td>0</td><td>0</td></tr>\n",
       "<tr><td>14</td><td>15</td><td>CGCG 122-067</td><td>146.22351</td><td>22.88512</td><td>G</td><td>26684.0</td><td>0.089008</td><td></td><td>15.3g</td><td>--</td><td>24</td><td>0</td><td>48</td><td>8</td><td>6</td><td>8</td><td>0</td></tr>\n",
       "<tr><td>15</td><td>16</td><td>WISEA J094700.08+254045.8</td><td>146.75035</td><td>25.67938</td><td>G</td><td>32710.0</td><td>0.10911</td><td></td><td>15.8g</td><td>--</td><td>17</td><td>0</td><td>46</td><td>6</td><td>5</td><td>6</td><td>0</td></tr>\n",
       "<tr><td>16</td><td>17</td><td>SDSS J095727.02+083501.7</td><td>149.36259</td><td>8.58383</td><td>G</td><td>76917.0</td><td>0.256568</td><td></td><td>18.3g</td><td>--</td><td>6</td><td>0</td><td>39</td><td>5</td><td>3</td><td>8</td><td>0</td></tr>\n",
       "<tr><td>17</td><td>18</td><td>WISEA J100356.88+382902.1</td><td>150.98703</td><td>38.48391</td><td>G</td><td>77544.0</td><td>0.258658</td><td></td><td>17.8g</td><td>--</td><td>7</td><td>0</td><td>57</td><td>7</td><td>4</td><td>8</td><td>0</td></tr>\n",
       "<tr><td>18</td><td>19</td><td>WISEA J100416.04+295844.1</td><td>151.06683</td><td>29.97899</td><td>G</td><td>89469.0</td><td>0.298435</td><td></td><td>18.7g</td><td>--</td><td>6</td><td>0</td><td>66</td><td>7</td><td>4</td><td>10</td><td>0</td></tr>\n",
       "<tr><td>19</td><td>20</td><td>WISEA J100956.35+261132.0</td><td>152.48475</td><td>26.19223</td><td>G</td><td>72232.0</td><td>0.240939</td><td></td><td>18.1g</td><td>--</td><td>10</td><td>0</td><td>46</td><td>7</td><td>4</td><td>6</td><td>0</td></tr>\n",
       "<tr><td>20</td><td>21</td><td>GMBCG J152.52936+32.89139</td><td>152.52936</td><td>32.89139</td><td>GClstr</td><td>95634.0</td><td>0.319</td><td>PHOT</td><td></td><td>--</td><td>2</td><td>0</td><td>0</td><td>1</td><td>1</td><td>0</td><td>0</td></tr>\n",
       "<tr><td>21</td><td>22</td><td>WISEA J101007.05+325329.0</td><td>152.52936</td><td>32.89141</td><td>G</td><td>86914.0</td><td>0.289913</td><td></td><td>18.7g</td><td>--</td><td>8</td><td>0</td><td>66</td><td>7</td><td>4</td><td>10</td><td>0</td></tr>\n",
       "<tr><td>22</td><td>23</td><td>2MASS J10160396+3037481</td><td>154.01655</td><td>30.62998</td><td>G</td><td>75553.0</td><td>0.252016</td><td></td><td>18.7g</td><td>--</td><td>5</td><td>0</td><td>49</td><td>7</td><td>4</td><td>8</td><td>0</td></tr>\n",
       "<tr><td>23</td><td>24</td><td>WISEA J102154.85+072415.5</td><td>155.47856</td><td>7.40432</td><td>G</td><td>87111.0</td><td>0.29057</td><td></td><td>18.4g</td><td>--</td><td>5</td><td>0</td><td>55</td><td>7</td><td>3</td><td>8</td><td>0</td></tr>\n",
       "<tr><td>24</td><td>25</td><td>WISEA J103015.74-010607.0</td><td>157.56561</td><td>-1.10198</td><td>G</td><td>84617.0</td><td>0.282251</td><td></td><td>18.3g</td><td>--</td><td>9</td><td>0</td><td>62</td><td>9</td><td>5</td><td>10</td><td>0</td></tr>\n",
       "<tr><td>25</td><td>26</td><td>2MASX J10304263+0418219</td><td>157.67753</td><td>4.30602</td><td>G</td><td>48300.0</td><td>0.16111</td><td></td><td>16.8g</td><td>--</td><td>18</td><td>0</td><td>59</td><td>7</td><td>4</td><td>10</td><td>0</td></tr>\n",
       "<tr><td>26</td><td>27</td><td>SDSS CE J160.241898-01.069106</td><td>160.235</td><td>-1.06611</td><td>GClstr</td><td>76153.0</td><td>0.254019</td><td>EST</td><td></td><td>--</td><td>5</td><td>0</td><td>0</td><td>3</td><td>5</td><td>0</td><td>0</td></tr>\n",
       "<tr><td>27</td><td>28</td><td>2MASX J10405643-0103584</td><td>160.23509</td><td>-1.06632</td><td>G</td><td>75039.0</td><td>0.250303</td><td></td><td>18.2g</td><td>--</td><td>14</td><td>0</td><td>51</td><td>8</td><td>6</td><td>10</td><td>0</td></tr>\n",
       "<tr><td>28</td><td>29</td><td>WISEA J104724.97+230917.4</td><td>161.85435</td><td>23.15474</td><td>G</td><td>54754.0</td><td>0.182639</td><td></td><td>18.46</td><td>--</td><td>15</td><td>0</td><td>46</td><td>7</td><td>3</td><td>6</td><td>0</td></tr>\n",
       "<tr><td>29</td><td>30</td><td>WISEA J111917.41+141946.5</td><td>169.8226</td><td>14.3296</td><td>G</td><td>43104.0</td><td>0.143781</td><td></td><td>16.6g</td><td>--</td><td>16</td><td>0</td><td>66</td><td>7</td><td>4</td><td>10</td><td>0</td></tr>\n",
       "<tr><td>30</td><td>31</td><td>2MASS J11292875+0255498</td><td>172.36978</td><td>2.93055</td><td>G</td><td>71860.0</td><td>0.239698</td><td></td><td>17.5g</td><td>--</td><td>7</td><td>0</td><td>49</td><td>7</td><td>4</td><td>8</td><td>0</td></tr>\n",
       "<tr><td>31</td><td>32</td><td>WISEA J113800.86+521303.8</td><td>174.50367</td><td>52.21775</td><td>G</td><td>88744.0</td><td>0.296018</td><td></td><td>19.0g</td><td>--</td><td>7</td><td>0</td><td>57</td><td>7</td><td>3</td><td>8</td><td>0</td></tr>\n",
       "<tr><td>32</td><td>33</td><td>WISEA J114100.04+384807.4</td><td>175.25022</td><td>38.80207</td><td>G</td><td>80215.0</td><td>0.267567</td><td></td><td>18.5g</td><td>--</td><td>6</td><td>0</td><td>66</td><td>8</td><td>6</td><td>10</td><td>0</td></tr>\n",
       "<tr><td>33</td><td>34</td><td>WISEA J115052.96+460448.1</td><td>177.72076</td><td>46.08006</td><td>G</td><td>86801.0</td><td>0.289538</td><td></td><td>18.5g</td><td>--</td><td>8</td><td>0</td><td>53</td><td>8</td><td>6</td><td>8</td><td>0</td></tr>\n",
       "<tr><td>34</td><td>35</td><td>WISEA J115356.21+492355.4</td><td>178.48416</td><td>49.39881</td><td>G</td><td>50033.0</td><td>0.166892</td><td></td><td>17.1g</td><td>--</td><td>14</td><td>0</td><td>66</td><td>7</td><td>4</td><td>10</td><td>0</td></tr>\n",
       "<tr><td>35</td><td>36</td><td>2MASX J11593546+1257080</td><td>179.89761</td><td>12.95205</td><td>G</td><td>79017.0</td><td>0.263572</td><td></td><td>18.3g</td><td>--</td><td>5</td><td>0</td><td>54</td><td>6</td><td>4</td><td>10</td><td>0</td></tr>\n",
       "<tr><td>36</td><td>37</td><td>WISEA J120053.92+480007.8</td><td>180.22477</td><td>48.00213</td><td>G</td><td>83527.0</td><td>0.278617</td><td></td><td>18.4g</td><td>--</td><td>7</td><td>0</td><td>66</td><td>7</td><td>5</td><td>10</td><td>0</td></tr>\n",
       "<tr><td>37</td><td>38</td><td>GMBCG J180.22479+48.00211</td><td>180.22479</td><td>48.00211</td><td>GClstr</td><td>75548.0</td><td>0.252</td><td>PHOT</td><td></td><td>--</td><td>3</td><td>0</td><td>0</td><td>1</td><td>1</td><td>0</td><td>0</td></tr>\n",
       "<tr><td>38</td><td>39</td><td>WISEA J121644.33+122450.5</td><td>184.18477</td><td>12.41404</td><td>G</td><td>77090.0</td><td>0.257144</td><td></td><td>18.3g</td><td>--</td><td>5</td><td>0</td><td>55</td><td>7</td><td>3</td><td>8</td><td>0</td></tr>\n",
       "<tr><td>39</td><td>40</td><td>WISEA J122100.50+482729.1</td><td>185.25209</td><td>48.45807</td><td>G</td><td>89874.0</td><td>0.299787</td><td></td><td>18.7g</td><td>--</td><td>7</td><td>0</td><td>61</td><td>8</td><td>3</td><td>8</td><td>0</td></tr>\n",
       "<tr><td>40</td><td>41</td><td>WISEA J123215.19+102119.1</td><td>188.06311</td><td>10.35535</td><td>G</td><td>49742.0</td><td>0.16592</td><td></td><td>17.2g</td><td>--</td><td>14</td><td>0</td><td>66</td><td>8</td><td>4</td><td>10</td><td>0</td></tr>\n",
       "<tr><td>41</td><td>42</td><td>WISEA J123431.08+515629.7</td><td>188.62952</td><td>51.94146</td><td>G</td><td>88733.0</td><td>0.295982</td><td></td><td>18.1g</td><td>--</td><td>25</td><td>0</td><td>63</td><td>8</td><td>10</td><td>10</td><td>0</td></tr>\n",
       "<tr><td>42</td><td>43</td><td>WISEA J123746.63+481227.5</td><td>189.44448</td><td>48.20767</td><td>G</td><td>81721.0</td><td>0.272592</td><td></td><td>18.2g</td><td>--</td><td>6</td><td>0</td><td>64</td><td>7</td><td>4</td><td>10</td><td>0</td></tr>\n",
       "<tr><td>43</td><td>44</td><td>WISEA J131039.32+223502.8</td><td>197.66385</td><td>22.58407</td><td>G</td><td>69341.0</td><td>0.231295</td><td></td><td>18.1g</td><td>--</td><td>9</td><td>0</td><td>48</td><td>7</td><td>2</td><td>6</td><td>1</td></tr>\n",
       "<tr><td>44</td><td>45</td><td>WISEA J132757.52+334529.3</td><td>201.98969</td><td>33.75806</td><td>G</td><td>74633.0</td><td>0.248949</td><td></td><td>17.7g</td><td>--</td><td>14</td><td>0</td><td>78</td><td>12</td><td>4</td><td>10</td><td>0</td></tr>\n",
       "<tr><td>45</td><td>46</td><td>WISEA J134228.33+115734.5</td><td>205.61806</td><td>11.95954</td><td>G</td><td>83682.0</td><td>0.279133</td><td></td><td>19.0g</td><td>--</td><td>6</td><td>0</td><td>66</td><td>7</td><td>4</td><td>10</td><td>0</td></tr>\n",
       "<tr><td>46</td><td>47</td><td>WISEA J134355.49+244048.1</td><td>205.98124</td><td>24.68001</td><td>G</td><td>41149.0</td><td>0.137258</td><td></td><td>17.81</td><td>--</td><td>14</td><td>0</td><td>46</td><td>6</td><td>2</td><td>6</td><td>0</td></tr>\n",
       "<tr><td>47</td><td>48</td><td>SDSSCGB 16827</td><td>206.99833</td><td>32.44039</td><td>GGroup</td><td>--</td><td>--</td><td></td><td>18.44</td><td>--</td><td>2</td><td>0</td><td>0</td><td>1</td><td>0</td><td>0</td><td>0</td></tr>\n",
       "<tr><td>48</td><td>49</td><td>2MASX J13475962+3227100</td><td>206.99841</td><td>32.45286</td><td>G</td><td>66888.0</td><td>0.223113</td><td></td><td>18.1g</td><td>--</td><td>9</td><td>0</td><td>54</td><td>6</td><td>4</td><td>10</td><td>0</td></tr>\n",
       "<tr><td>49</td><td>50</td><td>WISEA J135546.08+025456.0</td><td>208.942</td><td>2.91553</td><td>G</td><td>71617.0</td><td>0.23889</td><td></td><td>18.7g</td><td>--</td><td>9</td><td>0</td><td>51</td><td>7</td><td>4</td><td>8</td><td>0</td></tr>\n",
       "<tr><td>50</td><td>51</td><td>WISEA J140138.37+263527.6</td><td>210.40991</td><td>26.591</td><td>G</td><td>85152.0</td><td>0.284036</td><td></td><td>18.7g</td><td>--</td><td>6</td><td>0</td><td>30</td><td>5</td><td>4</td><td>4</td><td>0</td></tr>\n",
       "<tr><td>51</td><td>52</td><td>2MASS J14175497+2704341</td><td>214.47905</td><td>27.07624</td><td>G</td><td>47238.0</td><td>0.157569</td><td></td><td>16.9g</td><td>--</td><td>14</td><td>0</td><td>25</td><td>6</td><td>6</td><td>4</td><td>0</td></tr>\n",
       "<tr><td>52</td><td>53</td><td>WISEA J143447.88+020228.8</td><td>218.69942</td><td>2.04129</td><td>G</td><td>83976.0</td><td>0.280115</td><td></td><td>18.6g</td><td>--</td><td>8</td><td>0</td><td>62</td><td>9</td><td>4</td><td>8</td><td>0</td></tr>\n",
       "<tr><td>53</td><td>54</td><td>WISEA J144728.35+590831.9</td><td>221.86807</td><td>59.14209</td><td>G</td><td>73609.0</td><td>0.245534</td><td></td><td>18.3g</td><td>--</td><td>12</td><td>0</td><td>69</td><td>10</td><td>6</td><td>10</td><td>0</td></tr>\n",
       "<tr><td>54</td><td>55</td><td>WISEA J153619.01+452247.7</td><td>234.07909</td><td>45.37968</td><td>G</td><td>70813.0</td><td>0.236206</td><td></td><td>18.1g</td><td>--</td><td>7</td><td>0</td><td>57</td><td>7</td><td>3</td><td>8</td><td>0</td></tr>\n",
       "<tr><td>55</td><td>56</td><td>WISEA J154307.78+193751.7</td><td>235.78241</td><td>19.63104</td><td>G</td><td>68625.0</td><td>0.228909</td><td></td><td>17.0g</td><td>--</td><td>30</td><td>1</td><td>50</td><td>12</td><td>10</td><td>6</td><td>0</td></tr>\n",
       "<tr><td>56</td><td>57</td><td>WISEA J154950.90+234444.0</td><td>237.46216</td><td>23.7456</td><td>G</td><td>78611.0</td><td>0.262217</td><td></td><td>18.5g</td><td>--</td><td>6</td><td>0</td><td>31</td><td>5</td><td>4</td><td>4</td><td>0</td></tr>\n",
       "<tr><td>57</td><td>58</td><td>GMBCG J240.41924+27.30444</td><td>240.41924</td><td>27.30444</td><td>GClstr</td><td>57860.0</td><td>0.193</td><td>PHOT</td><td></td><td>--</td><td>2</td><td>0</td><td>0</td><td>1</td><td>1</td><td>0</td><td>0</td></tr>\n",
       "<tr><td>58</td><td>59</td><td>2MASX J16014061+2718161</td><td>240.41924</td><td>27.30443</td><td>G</td><td>49332.0</td><td>0.164554</td><td></td><td>16.7g</td><td>--</td><td>17</td><td>0</td><td>54</td><td>6</td><td>5</td><td>10</td><td>1</td></tr>\n",
       "<tr><td>59</td><td>60</td><td>WISEA J163945.96+460905.8</td><td>249.94148</td><td>46.1517</td><td>G</td><td>74151.0</td><td>0.247342</td><td></td><td>18.3g</td><td>--</td><td>9</td><td>0</td><td>70</td><td>8</td><td>4</td><td>10</td><td>0</td></tr>\n",
       "<tr><td>60</td><td>61</td><td>WISEA J173406.17+602919.1</td><td>263.52577</td><td>60.48859</td><td>G</td><td>82685.0</td><td>0.275807</td><td></td><td>18.5g</td><td>--</td><td>7</td><td>0</td><td>66</td><td>7</td><td>3</td><td>10</td><td>0</td></tr>\n",
       "<tr><td>61</td><td>62</td><td>SDSSCGB 59704</td><td>263.53292</td><td>60.48197</td><td>GGroup</td><td>82743.0</td><td>0.276</td><td></td><td>17.20</td><td>--</td><td>2</td><td>0</td><td>0</td><td>1</td><td>0</td><td>0</td><td>0</td></tr>\n",
       "</table><style>table.dataTable {clear: both; width: auto !important; margin: 0 !important;}\n",
       ".dataTables_info, .dataTables_length, .dataTables_filter, .dataTables_paginate{\n",
       "display: inline-block; margin-right: 1em; }\n",
       ".paginate_button { margin-right: 5px; }\n",
       "</style>\n",
       "<script>\n",
       "\n",
       "var astropy_sort_num = function(a, b) {\n",
       "    var a_num = parseFloat(a);\n",
       "    var b_num = parseFloat(b);\n",
       "\n",
       "    if (isNaN(a_num) && isNaN(b_num))\n",
       "        return ((a < b) ? -1 : ((a > b) ? 1 : 0));\n",
       "    else if (!isNaN(a_num) && !isNaN(b_num))\n",
       "        return ((a_num < b_num) ? -1 : ((a_num > b_num) ? 1 : 0));\n",
       "    else\n",
       "        return isNaN(a_num) ? -1 : 1;\n",
       "}\n",
       "\n",
       "require.config({paths: {\n",
       "    datatables: 'https://cdn.datatables.net/1.10.12/js/jquery.dataTables.min'\n",
       "}});\n",
       "require([\"datatables\"], function(){\n",
       "    console.log(\"$('#table140373017311376-492682').dataTable()\");\n",
       "    \n",
       "jQuery.extend( jQuery.fn.dataTableExt.oSort, {\n",
       "    \"optionalnum-asc\": astropy_sort_num,\n",
       "    \"optionalnum-desc\": function (a,b) { return -astropy_sort_num(a, b); }\n",
       "});\n",
       "\n",
       "    $('#table140373017311376-492682').dataTable({\n",
       "        order: [],\n",
       "        pageLength: 50,\n",
       "        lengthMenu: [[10, 25, 50, 100, 500, 1000, -1], [10, 25, 50, 100, 500, 1000, 'All']],\n",
       "        pagingType: \"full_numbers\",\n",
       "        columnDefs: [{targets: [0, 1, 3, 4, 6, 7, 10, 11, 12, 13, 14, 15, 16, 17], type: \"optionalnum\"}]\n",
       "    });\n",
       "});\n",
       "</script>\n"
      ],
      "text/plain": [
       "<IPython.core.display.HTML object>"
      ]
     },
     "execution_count": 1,
     "metadata": {},
     "output_type": "execute_result"
    }
   ],
   "source": [
    "objects_in_paper = Ned.query_refcode('2016ApJ...817..109O')\n",
    "objects_in_paper.show_in_notebook()"
   ]
  },
  {
   "cell_type": "markdown",
   "metadata": {},
   "source": [
    "## 3. Filter the NED results.\n",
    "\n",
    "The results from NED will include galaxies, but also other kinds of objects. Print the 'Type' column to see the full range of classifications. Next, print the 'Type' of just the first source in the table, in order to determine its data type (since Python 3 distinguishes between strings and byte strings). Finally, use the data type information to filter the results so that we only keep the galaxies in the list."
   ]
  },
  {
   "cell_type": "code",
   "execution_count": 4,
   "metadata": {
    "execution": {
     "iopub.execute_input": "2020-11-25T19:47:56.589226Z",
     "iopub.status.busy": "2020-11-25T19:47:56.588462Z",
     "iopub.status.idle": "2020-11-25T19:47:56.591499Z",
     "shell.execute_reply": "2020-11-25T19:47:56.592165Z"
    }
   },
   "outputs": [
    {
     "data": {
      "text/html": [
       "&lt;MaskedColumn name=&apos;Type&apos; dtype=&apos;object&apos; description=&quot;NED&apos;s Preferred Object Type: G,GPair,GTrpl,GGroup,GClstr,QSO,AbLS,RadioS,IrS,EmLS,UvES,XrayS,SN&quot; length=62&gt;\n",
       "<table>\n",
       "<tr><td>G</td></tr>\n",
       "<tr><td>G</td></tr>\n",
       "<tr><td>G</td></tr>\n",
       "<tr><td>G</td></tr>\n",
       "<tr><td>G</td></tr>\n",
       "<tr><td>G</td></tr>\n",
       "<tr><td>G</td></tr>\n",
       "<tr><td>GClstr</td></tr>\n",
       "<tr><td>G</td></tr>\n",
       "<tr><td>G</td></tr>\n",
       "<tr><td>GClstr</td></tr>\n",
       "<tr><td>G</td></tr>\n",
       "<tr><td>...</td></tr>\n",
       "<tr><td>G</td></tr>\n",
       "<tr><td>G</td></tr>\n",
       "<tr><td>G</td></tr>\n",
       "<tr><td>G</td></tr>\n",
       "<tr><td>G</td></tr>\n",
       "<tr><td>G</td></tr>\n",
       "<tr><td>G</td></tr>\n",
       "<tr><td>GClstr</td></tr>\n",
       "<tr><td>G</td></tr>\n",
       "<tr><td>G</td></tr>\n",
       "<tr><td>G</td></tr>\n",
       "<tr><td>GGroup</td></tr>\n",
       "</table>"
      ],
      "text/plain": [
       "<MaskedColumn name='Type' dtype='object' description=\"NED's Preferred Object Type: G,GPair,GTrpl,GGroup,GClstr,QSO,AbLS,RadioS,IrS,EmLS,UvES,XrayS,SN\" length=62>\n",
       "     G\n",
       "     G\n",
       "     G\n",
       "     G\n",
       "     G\n",
       "     G\n",
       "     G\n",
       "GClstr\n",
       "     G\n",
       "     G\n",
       "GClstr\n",
       "     G\n",
       "   ...\n",
       "     G\n",
       "     G\n",
       "     G\n",
       "     G\n",
       "     G\n",
       "     G\n",
       "     G\n",
       "GClstr\n",
       "     G\n",
       "     G\n",
       "     G\n",
       "GGroup"
      ]
     },
     "execution_count": 1,
     "metadata": {},
     "output_type": "execute_result"
    }
   ],
   "source": [
    "objects_in_paper['Type']"
   ]
  },
  {
   "cell_type": "code",
   "execution_count": 5,
   "metadata": {
    "execution": {
     "iopub.execute_input": "2020-11-25T19:47:56.597670Z",
     "iopub.status.busy": "2020-11-25T19:47:56.596633Z",
     "iopub.status.idle": "2020-11-25T19:47:56.600250Z",
     "shell.execute_reply": "2020-11-25T19:47:56.601008Z"
    }
   },
   "outputs": [
    {
     "data": {
      "text/plain": [
       "'G'"
      ]
     },
     "execution_count": 1,
     "metadata": {},
     "output_type": "execute_result"
    }
   ],
   "source": [
    "# Let's see whether we are dealing with strings or byte strings\n",
    "objects_in_paper[0]['Type']"
   ]
  },
  {
   "cell_type": "code",
   "execution_count": 6,
   "metadata": {
    "execution": {
     "iopub.execute_input": "2020-11-25T19:47:56.615999Z",
     "iopub.status.busy": "2020-11-25T19:47:56.615149Z",
     "iopub.status.idle": "2020-11-25T19:47:56.618930Z",
     "shell.execute_reply": "2020-11-25T19:47:56.619682Z"
    }
   },
   "outputs": [
    {
     "data": {
      "text/html": [
       "<i>Table length=0</i>\n",
       "<table id=\"table140373047195600-734144\" class=\"table-striped table-bordered table-condensed\">\n",
       "<thead><tr><th>idx</th><th>No.</th><th>Object Name</th><th>RA</th><th>DEC</th><th>Type</th><th>Velocity</th><th>Redshift</th><th>Redshift Flag</th><th>Magnitude and Filter</th><th>Separation</th><th>References</th><th>Notes</th><th>Photometry Points</th><th>Positions</th><th>Redshift Points</th><th>Diameter Points</th><th>Associations</th></tr></thead>\n",
       "<thead><tr><th></th><th></th><th></th><th>degrees</th><th>degrees</th><th></th><th>km / s</th><th></th><th></th><th></th><th>arcmin</th><th></th><th></th><th></th><th></th><th></th><th></th><th></th></tr></thead>\n",
       "</table><style>table.dataTable {clear: both; width: auto !important; margin: 0 !important;}\n",
       ".dataTables_info, .dataTables_length, .dataTables_filter, .dataTables_paginate{\n",
       "display: inline-block; margin-right: 1em; }\n",
       ".paginate_button { margin-right: 5px; }\n",
       "</style>\n",
       "<script>\n",
       "\n",
       "var astropy_sort_num = function(a, b) {\n",
       "    var a_num = parseFloat(a);\n",
       "    var b_num = parseFloat(b);\n",
       "\n",
       "    if (isNaN(a_num) && isNaN(b_num))\n",
       "        return ((a < b) ? -1 : ((a > b) ? 1 : 0));\n",
       "    else if (!isNaN(a_num) && !isNaN(b_num))\n",
       "        return ((a_num < b_num) ? -1 : ((a_num > b_num) ? 1 : 0));\n",
       "    else\n",
       "        return isNaN(a_num) ? -1 : 1;\n",
       "}\n",
       "\n",
       "require.config({paths: {\n",
       "    datatables: 'https://cdn.datatables.net/1.10.12/js/jquery.dataTables.min'\n",
       "}});\n",
       "require([\"datatables\"], function(){\n",
       "    console.log(\"$('#table140373047195600-734144').dataTable()\");\n",
       "    \n",
       "jQuery.extend( jQuery.fn.dataTableExt.oSort, {\n",
       "    \"optionalnum-asc\": astropy_sort_num,\n",
       "    \"optionalnum-desc\": function (a,b) { return -astropy_sort_num(a, b); }\n",
       "});\n",
       "\n",
       "    $('#table140373047195600-734144').dataTable({\n",
       "        order: [],\n",
       "        pageLength: 50,\n",
       "        lengthMenu: [[10, 25, 50, 100, 500, 1000, -1], [10, 25, 50, 100, 500, 1000, 'All']],\n",
       "        pagingType: \"full_numbers\",\n",
       "        columnDefs: [{targets: [0, 1, 3, 4, 6, 7, 10, 11, 12, 13, 14, 15, 16, 17], type: \"optionalnum\"}]\n",
       "    });\n",
       "});\n",
       "</script>\n"
      ],
      "text/plain": [
       "<IPython.core.display.HTML object>"
      ]
     },
     "execution_count": 1,
     "metadata": {},
     "output_type": "execute_result"
    }
   ],
   "source": [
    "# Byte strings it is!\n",
    "galaxies = objects_in_paper[objects_in_paper['Type'] == b'G']\n",
    "\n",
    "galaxies.show_in_notebook()"
   ]
  },
  {
   "cell_type": "markdown",
   "metadata": {},
   "source": [
    "## 4. Search the NAVO Registry for image resources.\n",
    "\n",
    "The paper selected super spirals using WISE, SDSS, and GALEX images. Search the NAVO registry for all image resources, using the 'service_type' search parameter. How many image resources are currently available?"
   ]
  },
  {
   "cell_type": "code",
   "execution_count": 7,
   "metadata": {
    "execution": {
     "iopub.execute_input": "2020-11-25T19:47:56.625723Z",
     "iopub.status.busy": "2020-11-25T19:47:56.624803Z",
     "iopub.status.idle": "2020-11-25T19:48:02.090844Z",
     "shell.execute_reply": "2020-11-25T19:48:02.092405Z"
    }
   },
   "outputs": [
    {
     "name": "stdout",
     "output_type": "stream",
     "text": [
      "319 result(s) found.\n"
     ]
    },
    {
     "data": {
      "text/html": [
       "<i>Table length=319</i>\n",
       "<table id=\"table140373017434640\" class=\"table-striped table-bordered table-condensed\">\n",
       "<thead><tr><th>ivoid</th><th>short_name</th><th>res_title</th></tr></thead>\n",
       "<thead><tr><th>object</th><th>object</th><th>object</th></tr></thead>\n",
       "<tr><td>ivo://3crsnapshots/sia</td><td>3CRSnap.sia</td><td>3CRSnapshots Simple Image Access Service</td></tr>\n",
       "<tr><td>ivo://3crsnapshots/sia</td><td>3CRSnap.sia</td><td>3CRSnapshots Simple Image Access Service</td></tr>\n",
       "<tr><td>ivo://archive.stsci.edu/borg</td><td>BoRG</td><td>Brightest of Reionizing Galaxies (BoRG)</td></tr>\n",
       "<tr><td>ivo://archive.stsci.edu/ghosts</td><td>GHOSTS</td><td>Galaxy Halos, Outer disks, Substructure, Thick disks and Star clusters (GHOSTS)</td></tr>\n",
       "<tr><td>ivo://archive.stsci.edu/sia/galex</td><td>GALEX</td><td>Galaxy Evolution Explorer</td></tr>\n",
       "<tr><td>ivo://archive.stsci.edu/siap/hla</td><td>HLA</td><td>Hubble Legacy Archive</td></tr>\n",
       "<tr><td>ivo://arvo/siap</td><td>ArVO SIAP</td><td>Armenian Virtual Observatory SIAP</td></tr>\n",
       "<tr><td>ivo://astron.nl/apertif_dr1/q/apertif_dr1_continuum_images</td><td>Continuum images</td><td>M) Apertif DR1 - Continuum images</td></tr>\n",
       "<tr><td>ivo://astron.nl/apertif_dr1/q/apertif_dr1_polarization_cubes</td><td>Pol. cubes</td><td>M) Apertif DR1 - Polarization images and cubes</td></tr>\n",
       "<tr><td>ivo://astron.nl/apertif_dr1/q/apertif_dr1_spectral_cubes</td><td>Spectral cubes</td><td>M) Apertif DR1 - HI spectral cubes</td></tr>\n",
       "<tr><td>...</td><td>...</td><td>...</td></tr>\n",
       "<tr><td>ivo://wfau.roe.ac.uk/ukidssdr3-siap</td><td>UKIDSS DR3 SIAP</td><td>UKIDSS DR3 SIAP Service</td></tr>\n",
       "<tr><td>ivo://wfau.roe.ac.uk/ukidssdr4-siap</td><td>UKIDSS DR4 SIAP</td><td>UKIDSS DR4 SIAP Service</td></tr>\n",
       "<tr><td>ivo://wfau.roe.ac.uk/ukidssdr5-siap</td><td>UKIDSS DR5 SIAP</td><td>UKIDSS DR5 SIAP Service</td></tr>\n",
       "<tr><td>ivo://wfau.roe.ac.uk/ukidssdr6-siap</td><td>UKIDSS DR6 SIAP</td><td>UKIDSS DR6 SIAP Service</td></tr>\n",
       "<tr><td>ivo://wfau.roe.ac.uk/ukidssdr7-siap</td><td>UKIDSS DR7 SIAP</td><td>UKIDSS DR7 SIAP Service</td></tr>\n",
       "<tr><td>ivo://wfau.roe.ac.uk/ukidssdr8-siap</td><td>UKIDSS DR8 SIAP</td><td>UKIDSS DR8 SIAP Service</td></tr>\n",
       "<tr><td>ivo://wfau.roe.ac.uk/ukidssdr9-siap</td><td>UKIDSS DR9 SIAP</td><td>UKIDSS DR9 SIAP Service</td></tr>\n",
       "<tr><td>ivo://wfau.roe.ac.uk/vhsdr1-siap</td><td>VHS DR1 SIAP</td><td>VHS DR1 SIAP Service</td></tr>\n",
       "<tr><td>ivo://wfau.roe.ac.uk/vista-siap</td><td>VISTA SIAP</td><td>VISTA SIAP Service</td></tr>\n",
       "<tr><td>ivo://xcatdb/3xmmdr7/epicsia</td><td>3XMM-DR7-SIA</td><td>Epic Image SIAP of the SSC Interface for the  3XMM-DR7 Catalogue</td></tr>\n",
       "</table>"
      ],
      "text/plain": [
       "<Table length=319>\n",
       "                           ivoid                             ...\n",
       "                           object                            ...\n",
       "------------------------------------------------------------ ...\n",
       "                                      ivo://3crsnapshots/sia ...\n",
       "                                      ivo://3crsnapshots/sia ...\n",
       "                                ivo://archive.stsci.edu/borg ...\n",
       "                              ivo://archive.stsci.edu/ghosts ...\n",
       "                           ivo://archive.stsci.edu/sia/galex ...\n",
       "                            ivo://archive.stsci.edu/siap/hla ...\n",
       "                                             ivo://arvo/siap ...\n",
       "  ivo://astron.nl/apertif_dr1/q/apertif_dr1_continuum_images ...\n",
       "ivo://astron.nl/apertif_dr1/q/apertif_dr1_polarization_cubes ...\n",
       "    ivo://astron.nl/apertif_dr1/q/apertif_dr1_spectral_cubes ...\n",
       "                                                         ... ...\n",
       "                         ivo://wfau.roe.ac.uk/ukidssdr3-siap ...\n",
       "                         ivo://wfau.roe.ac.uk/ukidssdr4-siap ...\n",
       "                         ivo://wfau.roe.ac.uk/ukidssdr5-siap ...\n",
       "                         ivo://wfau.roe.ac.uk/ukidssdr6-siap ...\n",
       "                         ivo://wfau.roe.ac.uk/ukidssdr7-siap ...\n",
       "                         ivo://wfau.roe.ac.uk/ukidssdr8-siap ...\n",
       "                         ivo://wfau.roe.ac.uk/ukidssdr9-siap ...\n",
       "                            ivo://wfau.roe.ac.uk/vhsdr1-siap ...\n",
       "                             ivo://wfau.roe.ac.uk/vista-siap ...\n",
       "                                ivo://xcatdb/3xmmdr7/epicsia ..."
      ]
     },
     "execution_count": 1,
     "metadata": {},
     "output_type": "execute_result"
    }
   ],
   "source": [
    "image_services = vo.regsearch(servicetype='image')\n",
    "\n",
    "print(f'{len(image_services)} result(s) found.')\n",
    "\n",
    "image_services.to_table()['ivoid', 'short_name', 'res_title']"
   ]
  },
  {
   "cell_type": "markdown",
   "metadata": {},
   "source": [
    "## 5. Search the NAVO Registry for image resources that will allow you to search for AllWISE images.\n",
    "\n",
    "There are hundreds of image resources...too many to quickly read through. Try adding the 'keywords' search parameter to your registry search, and find the image resource you would need to search the AllWISE images. Remember from the Known Issues that 'keywords' must be a list."
   ]
  },
  {
   "cell_type": "code",
   "execution_count": 8,
   "metadata": {
    "execution": {
     "iopub.execute_input": "2020-11-25T19:48:02.102779Z",
     "iopub.status.busy": "2020-11-25T19:48:02.100248Z",
     "iopub.status.idle": "2020-11-25T19:48:03.521536Z",
     "shell.execute_reply": "2020-11-25T19:48:03.522962Z"
    }
   },
   "outputs": [
    {
     "name": "stdout",
     "output_type": "stream",
     "text": [
      "1 result(s) found.\n"
     ]
    },
    {
     "data": {
      "text/html": [
       "<i>Table length=1</i>\n",
       "<table id=\"table140372978054096\" class=\"table-striped table-bordered table-condensed\">\n",
       "<thead><tr><th>ivoid</th><th>short_name</th><th>res_title</th></tr></thead>\n",
       "<thead><tr><th>object</th><th>object</th><th>object</th></tr></thead>\n",
       "<tr><td>ivo://irsa.ipac/wise/images/allwise/l3a</td><td>AllWISE L3a</td><td>AllWISE Atlas (L3a) Coadd Images</td></tr>\n",
       "</table>"
      ],
      "text/plain": [
       "<Table length=1>\n",
       "                 ivoid                  ...            res_title            \n",
       "                 object                 ...              object             \n",
       "--------------------------------------- ... --------------------------------\n",
       "ivo://irsa.ipac/wise/images/allwise/l3a ... AllWISE Atlas (L3a) Coadd Images"
      ]
     },
     "execution_count": 1,
     "metadata": {},
     "output_type": "execute_result"
    }
   ],
   "source": [
    "allwise_image_services = vo.regsearch(servicetype='image', keywords=['allwise'])\n",
    "\n",
    "print(f'{len(allwise_image_services)} result(s) found.')\n",
    "\n",
    "allwise_image_services.to_table()['ivoid', 'short_name', 'res_title']"
   ]
  },
  {
   "cell_type": "markdown",
   "metadata": {},
   "source": [
    "## 6. Choose the AllWISE image service that you are interested in."
   ]
  },
  {
   "cell_type": "code",
   "execution_count": 9,
   "metadata": {
    "execution": {
     "iopub.execute_input": "2020-11-25T19:48:03.530820Z",
     "iopub.status.busy": "2020-11-25T19:48:03.529519Z",
     "iopub.status.idle": "2020-11-25T19:48:03.535225Z",
     "shell.execute_reply": "2020-11-25T19:48:03.536353Z"
    }
   },
   "outputs": [
    {
     "data": {
      "text/plain": [
       "<pyvo.dal.sia.SIAService at 0x7fab266c8d10>"
      ]
     },
     "execution_count": 1,
     "metadata": {},
     "output_type": "execute_result"
    }
   ],
   "source": [
    "allwise_image_service = allwise_image_services[0]\n",
    "allwise_image_service.service"
   ]
  },
  {
   "cell_type": "markdown",
   "metadata": {},
   "source": [
    "## 7. Choose one of the galaxies in the NED list.\n"
   ]
  },
  {
   "cell_type": "code",
   "execution_count": 1,
   "metadata": {
    "execution": {
     "iopub.execute_input": "2020-11-25T19:48:03.543380Z",
     "iopub.status.busy": "2020-11-25T19:48:03.542521Z",
     "iopub.status.idle": "2020-11-25T19:48:03.701417Z",
     "shell.execute_reply": "2020-11-25T19:48:03.693155Z"
    }
   },
   "outputs": [
    {
     "ename": "IndexError",
     "evalue": "index 0 is out of bounds for axis 0 with size 0",
     "output_type": "error",
     "traceback": [
      "\u001b[1;31m---------------------------------------------------------------------------\u001b[0m",
      "\u001b[1;31mIndexError\u001b[0m                                Traceback (most recent call last)",
      "\u001b[1;32m<ipython-input-1-07ad0c5e4dab>\u001b[0m in \u001b[0;36m<module>\u001b[1;34m\u001b[0m\n\u001b[1;32m----> 1\u001b[1;33m \u001b[0mra\u001b[0m \u001b[1;33m=\u001b[0m \u001b[0mgalaxies\u001b[0m\u001b[1;33m[\u001b[0m\u001b[1;34m'RA'\u001b[0m\u001b[1;33m]\u001b[0m\u001b[1;33m[\u001b[0m\u001b[1;36m0\u001b[0m\u001b[1;33m]\u001b[0m\u001b[1;33m\u001b[0m\u001b[1;33m\u001b[0m\u001b[0m\n\u001b[0m\u001b[0;32m      2\u001b[0m \u001b[0mdec\u001b[0m \u001b[1;33m=\u001b[0m \u001b[0mgalaxies\u001b[0m\u001b[1;33m[\u001b[0m\u001b[1;34m'DEC'\u001b[0m\u001b[1;33m]\u001b[0m\u001b[1;33m[\u001b[0m\u001b[1;36m0\u001b[0m\u001b[1;33m]\u001b[0m\u001b[1;33m\u001b[0m\u001b[1;33m\u001b[0m\u001b[0m\n\u001b[0;32m      3\u001b[0m \u001b[0mpos\u001b[0m \u001b[1;33m=\u001b[0m \u001b[0mSkyCoord\u001b[0m\u001b[1;33m(\u001b[0m\u001b[0mra\u001b[0m\u001b[1;33m,\u001b[0m \u001b[0mdec\u001b[0m\u001b[1;33m,\u001b[0m \u001b[0munit\u001b[0m \u001b[1;33m=\u001b[0m \u001b[1;34m'deg'\u001b[0m\u001b[1;33m)\u001b[0m\u001b[1;33m\u001b[0m\u001b[1;33m\u001b[0m\u001b[0m\n",
      "\u001b[1;32mastropy/table/_column_mixins.pyx\u001b[0m in \u001b[0;36mastropy.table._column_mixins._MaskedColumnGetitemShim.__getitem__\u001b[1;34m()\u001b[0m\n",
      "\u001b[1;32mastropy/table/_column_mixins.pyx\u001b[0m in \u001b[0;36mastropy.table._column_mixins.base_getitem\u001b[1;34m()\u001b[0m\n",
      "\u001b[1;32mastropy/table/_column_mixins.pyx\u001b[0m in \u001b[0;36mastropy.table._column_mixins.masked_column_getitem\u001b[1;34m()\u001b[0m\n",
      "\u001b[1;32m~/miniconda3/envs/navo-workshop/lib/python3.7/site-packages/numpy/ma/core.py\u001b[0m in \u001b[0;36m__getitem__\u001b[1;34m(self, indx)\u001b[0m\n\u001b[0;32m   3223\u001b[0m         \u001b[1;31m# mask of being reshaped if it hasn't been set up properly yet\u001b[0m\u001b[1;33m\u001b[0m\u001b[1;33m\u001b[0m\u001b[1;33m\u001b[0m\u001b[0m\n\u001b[0;32m   3224\u001b[0m         \u001b[1;31m# So it's easier to stick to the current version\u001b[0m\u001b[1;33m\u001b[0m\u001b[1;33m\u001b[0m\u001b[1;33m\u001b[0m\u001b[0m\n\u001b[1;32m-> 3225\u001b[1;33m         \u001b[0mdout\u001b[0m \u001b[1;33m=\u001b[0m \u001b[0mself\u001b[0m\u001b[1;33m.\u001b[0m\u001b[0mdata\u001b[0m\u001b[1;33m[\u001b[0m\u001b[0mindx\u001b[0m\u001b[1;33m]\u001b[0m\u001b[1;33m\u001b[0m\u001b[1;33m\u001b[0m\u001b[0m\n\u001b[0m\u001b[0;32m   3226\u001b[0m         \u001b[0m_mask\u001b[0m \u001b[1;33m=\u001b[0m \u001b[0mself\u001b[0m\u001b[1;33m.\u001b[0m\u001b[0m_mask\u001b[0m\u001b[1;33m\u001b[0m\u001b[1;33m\u001b[0m\u001b[0m\n\u001b[0;32m   3227\u001b[0m \u001b[1;33m\u001b[0m\u001b[0m\n",
      "\u001b[1;32m~/miniconda3/envs/navo-workshop/lib/python3.7/site-packages/numpy/ma/core.py\u001b[0m in \u001b[0;36m__getitem__\u001b[1;34m(self, indx)\u001b[0m\n\u001b[0;32m   3223\u001b[0m         \u001b[1;31m# mask of being reshaped if it hasn't been set up properly yet\u001b[0m\u001b[1;33m\u001b[0m\u001b[1;33m\u001b[0m\u001b[1;33m\u001b[0m\u001b[0m\n\u001b[0;32m   3224\u001b[0m         \u001b[1;31m# So it's easier to stick to the current version\u001b[0m\u001b[1;33m\u001b[0m\u001b[1;33m\u001b[0m\u001b[1;33m\u001b[0m\u001b[0m\n\u001b[1;32m-> 3225\u001b[1;33m         \u001b[0mdout\u001b[0m \u001b[1;33m=\u001b[0m \u001b[0mself\u001b[0m\u001b[1;33m.\u001b[0m\u001b[0mdata\u001b[0m\u001b[1;33m[\u001b[0m\u001b[0mindx\u001b[0m\u001b[1;33m]\u001b[0m\u001b[1;33m\u001b[0m\u001b[1;33m\u001b[0m\u001b[0m\n\u001b[0m\u001b[0;32m   3226\u001b[0m         \u001b[0m_mask\u001b[0m \u001b[1;33m=\u001b[0m \u001b[0mself\u001b[0m\u001b[1;33m.\u001b[0m\u001b[0m_mask\u001b[0m\u001b[1;33m\u001b[0m\u001b[1;33m\u001b[0m\u001b[0m\n\u001b[0;32m   3227\u001b[0m \u001b[1;33m\u001b[0m\u001b[0m\n",
      "\u001b[1;31mIndexError\u001b[0m: index 0 is out of bounds for axis 0 with size 0"
     ]
    }
   ],
   "source": [
    "ra = galaxies['RA'][0]\n",
    "dec = galaxies['DEC'][0]\n",
    "pos = SkyCoord(ra, dec, unit = 'deg')"
   ]
  },
  {
   "cell_type": "markdown",
   "metadata": {},
   "source": [
    "## 8. Search for a list of AllWISE images that cover this galaxy.\n",
    "\n",
    "How many images are returned? Which are you most interested in?"
   ]
  },
  {
   "cell_type": "code",
   "execution_count": null,
   "metadata": {},
   "outputs": [],
   "source": [
    "allwise_image_table = allwise_image_service.search(pos=pos, size=0)\n",
    "allwise_image_table"
   ]
  },
  {
   "cell_type": "markdown",
   "metadata": {},
   "source": [
    "## 9. Use the .to_table() method to view the results as an Astropy table."
   ]
  },
  {
   "cell_type": "code",
   "execution_count": null,
   "metadata": {},
   "outputs": [],
   "source": [
    "allwise_images = allwise_image_table.to_table()\n",
    "allwise_images"
   ]
  },
  {
   "cell_type": "markdown",
   "metadata": {},
   "source": [
    "## 10. From the result in 8., select the first record for an image taken in WISE band W1 (3.6 micron)\n",
    "\n",
    "Hints:\n",
    "* Loop over records and test on the `.bandpass_id` attribute of each record\n",
    "* Print the `.title` and `.bandpass_id` of the record you find, to verify it is the right one."
   ]
  },
  {
   "cell_type": "code",
   "execution_count": null,
   "metadata": {},
   "outputs": [],
   "source": [
    "for allwise_image_record in allwise_image_table:\n",
    "    if 'W1' in allwise_image_record.bandpass_id:\n",
    "        break\n",
    "print(allwise_image_record.title, allwise_image_record.bandpass_id)"
   ]
  },
  {
   "cell_type": "markdown",
   "metadata": {},
   "source": [
    "## 11. Visualize this AllWISE image."
   ]
  },
  {
   "cell_type": "code",
   "execution_count": null,
   "metadata": {},
   "outputs": [],
   "source": [
    "## If you only run this once, you can do it in memory in one line:\n",
    "##  This fetches the FITS as an astropy.io.fits object in memory\n",
    "#allwise_w1_image = allwise_image_record.getdataobj()\n",
    "## But if you might run this notebook repeatedly with limited bandwidth, \n",
    "##  download it once and cache it.  \n",
    "file_name = download_file(allwise_image_record.getdataurl(), cache=True)  \n",
    "allwise_w1_image = fits.open(file_name)"
   ]
  },
  {
   "cell_type": "code",
   "execution_count": null,
   "metadata": {},
   "outputs": [],
   "source": [
    "fig = plt.figure()\n",
    "\n",
    "wcs = WCS(allwise_w1_image[0].header)\n",
    "ax = fig.add_subplot(1, 1, 1, projection=wcs)\n",
    "ax.imshow(allwise_w1_image[0].data, cmap='gray_r', origin='lower', vmax = 10)\n",
    "ax.scatter(ra, dec, transform=ax.get_transform('fk5'), s=500, edgecolor='red', facecolor='none')"
   ]
  },
  {
   "cell_type": "markdown",
   "metadata": {},
   "source": [
    "## 12. Plot a cutout of the AllWISE image, centered on your position.\n",
    "\n",
    "Try a 60 arcsecond cutout."
   ]
  },
  {
   "cell_type": "code",
   "execution_count": null,
   "metadata": {},
   "outputs": [],
   "source": [
    "size = 60\n",
    "cutout = Cutout2D(allwise_w1_image[0].data, pos, (size, size), wcs=wcs)\n",
    "wcs = cutout.wcs\n",
    "\n",
    "fig = plt.figure()\n",
    "\n",
    "ax = fig.add_subplot(1, 1, 1, projection=wcs)\n",
    "ax.imshow(cutout.data, cmap='gray_r', origin='lower', vmax = 10)\n",
    "ax.scatter(ra, dec, transform=ax.get_transform('fk5'), s=500, edgecolor='red', facecolor='none')\n"
   ]
  },
  {
   "cell_type": "markdown",
   "metadata": {},
   "source": [
    "## 13. Try visualizing a cutout of a GALEX image that covers your position.\n",
    "\n",
    "Repeat steps 4, 5, 6, 8 through 12 for GALEX."
   ]
  },
  {
   "cell_type": "code",
   "execution_count": null,
   "metadata": {},
   "outputs": [],
   "source": [
    "galex_image_services = vo.regsearch(keywords=['galex'], servicetype='image')\n",
    "print(f'{len(galex_image_services)} result(s) found.')\n",
    "galex_image_services.to_table()['ivoid', 'short_name', 'res_title']"
   ]
  },
  {
   "cell_type": "code",
   "execution_count": null,
   "metadata": {},
   "outputs": [],
   "source": [
    "galex_image_service = galex_image_services[0]"
   ]
  },
  {
   "cell_type": "code",
   "execution_count": null,
   "metadata": {},
   "outputs": [],
   "source": [
    "galex_image_table = galex_image_service.search(pos=pos, size=0.0, intersect='covers')"
   ]
  },
  {
   "cell_type": "code",
   "execution_count": null,
   "metadata": {},
   "outputs": [],
   "source": [
    "for i in range(len(galex_image_table)):\n",
    "    if (('image/fits' in galex_image_table[i].format) and\n",
    "        (galex_image_table['enrValue'][i]==2.35e-07)):\n",
    "        break\n",
    "galex_image_record = galex_image_table[i]\n",
    "print(galex_image_record.title, galex_image_record.bandpass_id)"
   ]
  },
  {
   "cell_type": "code",
   "execution_count": null,
   "metadata": {},
   "outputs": [],
   "source": [
    "## See above regarding two ways to do this: \n",
    "#galex_nuv_image = fits.open(galex_image_record.getdataurl())\n",
    "file_name = download_file(galex_image_record.getdataurl(), cache=True)  \n",
    "galex_nuv_image=fits.open(file_name)"
   ]
  },
  {
   "cell_type": "code",
   "execution_count": null,
   "metadata": {},
   "outputs": [],
   "source": [
    "image_data = galex_nuv_image[0].data\n",
    "print('Min:', np.min(image_data))\n",
    "print('Max:', np.max(image_data))\n",
    "print('Mean:', np.mean(image_data))\n",
    "print('Stdev:', np.std(image_data))"
   ]
  },
  {
   "cell_type": "code",
   "execution_count": null,
   "metadata": {},
   "outputs": [],
   "source": [
    "fig = plt.figure()\n",
    "ax = fig.add_subplot(1, 1, 1, projection=WCS(galex_nuv_image[0].header))\n",
    "ax.imshow(galex_nuv_image[0].data, cmap='gray_r', origin='lower', vmin=0.0, vmax=0.01)\n",
    "ax.scatter(ra, dec, transform=ax.get_transform('fk5'), s=500, edgecolor='red', facecolor='none')   "
   ]
  },
  {
   "cell_type": "code",
   "execution_count": null,
   "metadata": {},
   "outputs": [],
   "source": [
    "cutout = Cutout2D(galex_nuv_image[0].data, pos, size, wcs=WCS(galex_nuv_image[0].header))\n",
    "\n",
    "fig = plt.figure()\n",
    "\n",
    "ax = fig.add_subplot(1, 1, 1, projection=cutout.wcs)\n",
    "ax.imshow(cutout.data, cmap='gray_r', origin='lower', vmin = 0.0, vmax = 0.01)\n",
    "ax.scatter(ra, dec, transform=ax.get_transform('fk5'), s=500, edgecolor='red', facecolor='none')\n"
   ]
  },
  {
   "cell_type": "markdown",
   "metadata": {},
   "source": [
    "## 14. Try visualizing a cutout of an SDSS image that covers your position.\n",
    "\n",
    "Hints:\n",
    "* Search the registry using `keywords=['sloan']\n",
    "* Find the service with a `short_name` of `b'SDSS SIAP'`\n",
    "* From Known Issues, recall that an empty string must be specified to the `format` parameter dues to a bug in the service.\n",
    "* After obtaining your search results, select r-band images using the `.title` attribute of the records that are returned, since `.bandpass_id` is not populated."
   ]
  },
  {
   "cell_type": "code",
   "execution_count": null,
   "metadata": {},
   "outputs": [],
   "source": [
    "sdss_image_services = vo.regsearch(keywords=['sloan'], servicetype='image')\n",
    "sdss_image_services.to_table()['ivoid', 'short_name', 'res_title', 'source_value']"
   ]
  },
  {
   "cell_type": "code",
   "execution_count": null,
   "metadata": {},
   "outputs": [],
   "source": [
    "#  Use list comprehension to check each service's short_name attribute.\n",
    "#   Given the above, we know the first match is the right one.  \n",
    "sdss_image_service = [s for s in sdss_image_services if 'SDSS SIAP' in s.short_name ][0]\n",
    "sdss_image_service.short_name"
   ]
  },
  {
   "cell_type": "markdown",
   "metadata": {},
   "source": [
    "As a workaround to a bug in the SDSS service, pass `format=''` when searching."
   ]
  },
  {
   "cell_type": "code",
   "execution_count": null,
   "metadata": {},
   "outputs": [],
   "source": [
    "sdss_image_table = sdss_image_service.search(pos=pos, size=0.0, format='', intersect='covers')\n",
    "len(sdss_image_table['Title'])"
   ]
  },
  {
   "cell_type": "code",
   "execution_count": null,
   "metadata": {},
   "outputs": [],
   "source": [
    "for sdss_rband_record in sdss_image_table:\n",
    "    if 'Sloan Digital Sky Survey - Filter r' in sdss_rband_record.title:\n",
    "        break\n",
    "print(sdss_rband_record.title, sdss_rband_record.bandpass_id)"
   ]
  },
  {
   "cell_type": "code",
   "execution_count": null,
   "metadata": {},
   "outputs": [],
   "source": [
    "##  See above regarding two ways to do this\n",
    "# sdss_rband_image = fits.open(sdss_rband_record.getdataurl())\n",
    "file_name = download_file(sdss_rband_record.getdataurl(), cache=True)  \n",
    "sdss_rband_image=fits.open(file_name)"
   ]
  },
  {
   "cell_type": "code",
   "execution_count": null,
   "metadata": {},
   "outputs": [],
   "source": [
    "fig = plt.figure()\n",
    "\n",
    "ax = fig.add_subplot(1, 1, 1, projection=WCS(sdss_rband_image[0].header))\n",
    "\n",
    "interval = vis.PercentileInterval(99.9)\n",
    "vmin,vmax = interval.get_limits(sdss_rband_image[0].data)\n",
    "norm = vis.ImageNormalize(vmin=vmin, vmax=vmax, stretch=vis.LogStretch(1000))\n",
    "ax.imshow(sdss_rband_image[0].data, cmap = 'gray_r', norm = norm, origin = 'lower')          \n",
    "ax.scatter(ra, dec, transform=ax.get_transform('fk5'), s=500, edgecolor='red', facecolor='none')"
   ]
  },
  {
   "cell_type": "code",
   "execution_count": null,
   "metadata": {},
   "outputs": [],
   "source": [
    "cutout = Cutout2D(sdss_rband_image[0].data, pos, size, wcs=WCS(sdss_rband_image[0].header))\n",
    "fig = plt.figure()\n",
    "ax = fig.add_subplot(1, 1, 1, projection=cutout.wcs)\n",
    "vmin,vmax = interval.get_limits(sdss_rband_image[0].data)\n",
    "norm = vis.ImageNormalize(vmin=vmin, vmax=vmax, stretch=vis.LogStretch(1000))\n",
    "ax.imshow(cutout.data, cmap = 'gray_r', norm = norm, origin = 'lower')          \n",
    "ax.scatter(ra, dec, transform=ax.get_transform('fk5'), s=500, edgecolor='red', facecolor='none')"
   ]
  },
  {
   "cell_type": "markdown",
   "metadata": {},
   "source": [
    "## 15. Try looping over all positions and plotting multiwavelength cutouts."
   ]
  },
  {
   "cell_type": "markdown",
   "metadata": {},
   "source": [
    "Warning: this cell takes a long time to run! We limit it to the first three galaxies only."
   ]
  },
  {
   "cell_type": "code",
   "execution_count": null,
   "metadata": {},
   "outputs": [],
   "source": [
    "# Pick the first 3 galaxies.\n",
    "galaxy_subset = galaxies[0:3]\n",
    "\n",
    "# For each galaxy,\n",
    "for galaxy in galaxy_subset:\n",
    "\n",
    "    # Establish the position.\n",
    "    ra = galaxy['RA']\n",
    "    dec = galaxy['DEC']\n",
    "    pos = SkyCoord(ra, dec, unit = 'deg')  \n",
    "    \n",
    "    # Set up the plot for this position.\n",
    "    fig = plt.figure(figsize=(20,6))\n",
    "    plt.suptitle('POSITION = ' + str(ra) + ', ' + str(dec), fontsize=16)\n",
    "\n",
    "    # GALEX\n",
    "    \n",
    "    # Find the GALEX images that overlap the position.\n",
    "    galex_image_table = galex_image_service.search(pos=pos, size=0.25)\n",
    "    \n",
    "    # Find the GALEX All-Sky Image Survey (AIS) Near-UV FITS coadd. \n",
    "    for i in range(len(galex_image_table)):\n",
    "        if (('image/fits' in galex_image_table[i].format) and\n",
    "            (galex_image_table['enrValue'][0]==2.35e-07)):\n",
    "            break\n",
    "    galex_image_record = galex_image_table[i]\n",
    " \n",
    "    # Create a cutout.\n",
    "    file_name = download_file(galex_image_record.getdataurl(), cache=True)  \n",
    "    gimage=fits.open(file_name)\n",
    "    galex_cutout = Cutout2D(gimage[0].data, pos, size, wcs=WCS(gimage[0].header))\n",
    "    \n",
    "    # Plot the cutout in the first position of a 1x3 (rowsxcols) grid.\n",
    "    ax = fig.add_subplot(1, 3, 1, projection=galex_cutout.wcs)\n",
    "    ax.set_title(galex_image_record.title)\n",
    "    ax.imshow(galex_cutout.data, cmap='gray_r', origin='lower', vmin = 0.0, vmax = 0.01)\n",
    "    ax.scatter(ra, dec, transform=ax.get_transform('fk5'), s=500, edgecolor='red', facecolor='none')\n",
    "    \n",
    "    # SDSS\n",
    "    \n",
    "    # Find the SDSS images that overlap the position.\n",
    "    sdss_image_table = sdss_image_service.search(pos=pos, size=0, format='')\n",
    "    \n",
    "    # Find the first SDSS r-band image.\n",
    "    for sdss_rband_record in sdss_image_table:\n",
    "        if 'Sloan Digital Sky Survey - Filter r' in sdss_rband_record.title:\n",
    "            break\n",
    "    file_name = download_file(sdss_rband_record.getdataurl(), cache=True)  \n",
    "    sdss_rband_image=fits.open(file_name)\n",
    "    \n",
    "    # Create a cutout.\n",
    "    sdss_cutout = Cutout2D(sdss_rband_image[0].data, pos, size,\n",
    "                           wcs=WCS(sdss_rband_image[0].header))\n",
    "    \n",
    "    # Plot the cutout in the second position of a 1x3 grid.\n",
    "    vmin,vmax = interval.get_limits(sdss_cutout.data)\n",
    "    norm = vis.ImageNormalize(vmin=vmin, vmax=vmax, stretch=vis.LogStretch(1000))\n",
    "    ax = fig.add_subplot(1, 3, 2, projection=sdss_cutout.wcs)\n",
    "    ax.imshow(sdss_cutout.data, cmap = 'gray_r', norm = norm, origin = 'lower')          \n",
    "    ax.scatter(ra, dec, transform=ax.get_transform('fk5'), s=500, edgecolor='red', facecolor='none')\n",
    "    ax.set_title(sdss_rband_record.title)\n",
    "    \n",
    "    # AllWISE\n",
    "    \n",
    "    # Find the AllWISE images that overlap the position.\n",
    "    allwise_image_table = allwise_image_service.search(pos=pos, size=0)\n",
    "    \n",
    "    # Find the AllWISE W1 channel images.\n",
    "    for allwise_image_record in allwise_image_table:\n",
    "        if 'W1' in allwise_image_record.bandpass_id:\n",
    "            break\n",
    "    file_name = download_file(allwise_image_record.getdataurl(), cache=True)  \n",
    "    allwise_w1_image=fits.open(file_name)\n",
    "\n",
    "    \n",
    "    # Create a cutout.\n",
    "    allwise_cutout = Cutout2D(allwise_w1_image[0].data, pos, (size, size),\n",
    "                              wcs=WCS(allwise_w1_image[0].header))\n",
    "\n",
    "    # Plot the cutout in the third position of a 1x3 grid.\n",
    "    ax = fig.add_subplot(1, 3, 3, projection=allwise_cutout.wcs)\n",
    "    ax.imshow(allwise_cutout.data, cmap='gray_r', origin='lower', vmax = 10)\n",
    "    ax.scatter(ra, dec, transform=ax.get_transform('fk5'), s=500, edgecolor='red', facecolor='none')\n",
    "    ax.set_title(allwise_image_record.title)\n"
   ]
  }
 ],
 "metadata": {
  "kernelspec": {
   "display_name": "Python 3",
   "language": "python",
   "name": "python3"
  },
  "language_info": {
   "codemirror_mode": {
    "name": "ipython",
    "version": 3
   },
   "file_extension": ".py",
   "mimetype": "text/x-python",
   "name": "python",
   "nbconvert_exporter": "python",
   "pygments_lexer": "ipython3",
   "version": "3.7.9"
  }
 },
 "nbformat": 4,
 "nbformat_minor": 4
}
