{
 "cells": [
  {
   "cell_type": "markdown",
   "metadata": {},
   "source": [
    "# Science User Case - Get Hitomi Data"
   ]
  },
  {
   "cell_type": "markdown",
   "metadata": {},
   "source": [
    "## 1. Import the Python modules we'll be using."
   ]
  },
  {
   "cell_type": "code",
   "execution_count": 1,
   "metadata": {},
   "outputs": [],
   "source": [
    "# Suppress unimportant warnings.\n",
    "import warnings\n",
    "warnings.filterwarnings(\"ignore\", module=\"astropy.io.votable.*\")\n",
    "warnings.filterwarnings(\"ignore\", module=\"pyvo.utils.xml.*\")\n",
    "warnings.filterwarnings('ignore', '.*RADECSYS=*', append=True)\n",
    "\n",
    "import matplotlib.pyplot as plt\n",
    "import numpy as np\n",
    "\n",
    "# For downloading files\n",
    "from astropy.utils.data import download_file\n",
    "\n",
    "import astropy.units as u\n",
    "import astropy.constants as const\n",
    "from astropy.coordinates import SkyCoord\n",
    "from astropy.io import fits\n",
    "from astropy.nddata import Cutout2D\n",
    "import astropy.visualization as vis\n",
    "from astropy.wcs import WCS\n",
    "from astroquery.ned import Ned\n",
    "\n",
    "import pyvo as vo\n",
    "\n",
    "from IPython.display import Image as ipImage, display, HTML\n",
    "import os\n",
    "import warnings\n",
    "warnings.filterwarnings('ignore', '.*Unknown element mirrorURL.*', vo.utils.xml.elements.UnknownElementWarning)"
   ]
  },
  {
   "cell_type": "markdown",
   "metadata": {},
   "source": [
    "The next cell prepares the notebook to display our visualizations."
   ]
  },
  {
   "cell_type": "code",
   "execution_count": 2,
   "metadata": {},
   "outputs": [],
   "source": [
    "%matplotlib inline  "
   ]
  },
  {
   "cell_type": "markdown",
   "metadata": {},
   "source": [
    "## Search the NAVO Registry for Hitomi observations.\n",
    "\n",
    "Trying to download Hitomi observations directly. "
   ]
  },
  {
   "cell_type": "code",
   "execution_count": 3,
   "metadata": {},
   "outputs": [
    {
     "data": {
      "text/html": [
       "<i>Table length=1</i>\n",
       "<table id=\"table140438452938320\" class=\"table-striped table-bordered table-condensed\">\n",
       "<thead><tr><th>ivoid</th><th>short_name</th><th>res_title</th></tr></thead>\n",
       "<thead><tr><th>object</th><th>object</th><th>object</th></tr></thead>\n",
       "<tr><td>ivo://nasa.heasarc/hitomaster</td><td>HITOMASTER</td><td>Hitomi Master Catalog</td></tr>\n",
       "</table>"
      ],
      "text/plain": [
       "<Table length=1>\n",
       "            ivoid             short_name       res_title      \n",
       "            object              object           object       \n",
       "----------------------------- ---------- ---------------------\n",
       "ivo://nasa.heasarc/hitomaster HITOMASTER Hitomi Master Catalog"
      ]
     },
     "execution_count": 3,
     "metadata": {},
     "output_type": "execute_result"
    }
   ],
   "source": [
    "services = vo.regsearch(servicetype='scs', keywords=['hitomi'])\n",
    "services.to_table()['ivoid', 'short_name', 'res_title']"
   ]
  },
  {
   "cell_type": "markdown",
   "metadata": {},
   "source": [
    "### Look for Perseus in Hitomaster catalog"
   ]
  },
  {
   "cell_type": "code",
   "execution_count": 4,
   "metadata": {},
   "outputs": [
    {
     "name": "stdout",
     "output_type": "stream",
     "text": [
      "<SkyCoord (ICRS): (ra, dec) in deg\n",
      "    (49.94667, 41.51306)>\n"
     ]
    }
   ],
   "source": [
    "# Better to use the Perseus --> Abell 426\n",
    "coord = SkyCoord.from_name(\"Abell426\")\n",
    "print(coord)"
   ]
  },
  {
   "cell_type": "code",
   "execution_count": 5,
   "metadata": {},
   "outputs": [
    {
     "data": {
      "text/html": [
       "<i>Table length=6</i>\n",
       "<table id=\"table140438453599312\" class=\"table-striped table-bordered table-condensed\">\n",
       "<thead><tr><th>name</th><th>obsid</th><th>ra</th><th>dec</th><th>time</th><th>exposure</th><th>sxsifonfov</th><th>sxiifonfov</th><th>hxi1ifonfov</th><th>hxi2ifonfov</th><th>sgd1ifonfov</th><th>sgd2ifonfov</th><th>Search_Offset</th></tr></thead>\n",
       "<thead><tr><th></th><th></th><th>deg</th><th>deg</th><th>mjd</th><th>s</th><th></th><th></th><th></th><th></th><th></th><th></th><th></th></tr></thead>\n",
       "<thead><tr><th>object</th><th>object</th><th>float64</th><th>float64</th><th>float64</th><th>float64</th><th>object</th><th>object</th><th>object</th><th>object</th><th>object</th><th>object</th><th>float64</th></tr></thead>\n",
       "<tr><td>Perseus_core</td><td>100040010</td><td>49.87414</td><td>41.48386</td><td>57442.091410014</td><td>48723.99476</td><td>YY</td><td>NN</td><td>NN</td><td>NN</td><td>NN</td><td>NN</td><td>3.7003</td></tr>\n",
       "<tr><td>Perseus_adjustment</td><td>100040060</td><td>49.95103</td><td>41.51225</td><td>57454.026343019</td><td>45793.67852</td><td>YY</td><td>YY</td><td>NN</td><td>NN</td><td>NN</td><td>NN</td><td>0.2018</td></tr>\n",
       "<tr><td>Perseus_core_adjustment</td><td>100040020</td><td>49.93161</td><td>41.51939</td><td>57443.092507149</td><td>97441.42291</td><td>YY</td><td>NN</td><td>NN</td><td>NN</td><td>NN</td><td>NN</td><td>0.7759</td></tr>\n",
       "<tr><td>Perseus</td><td>100040040</td><td>49.93212</td><td>41.51986</td><td>57452.500002677</td><td>68133.51563</td><td>YY</td><td>NN</td><td>NN</td><td>NN</td><td>NN</td><td>NN</td><td>0.7705</td></tr>\n",
       "<tr><td>Perseus</td><td>100040030</td><td>49.93242</td><td>41.52013</td><td>57451.028623610</td><td>72511.57813</td><td>YY</td><td>NN</td><td>NN</td><td>NN</td><td>NN</td><td>NN</td><td>0.7682</td></tr>\n",
       "<tr><td>Perseus</td><td>100040050</td><td>49.93226</td><td>41.52148</td><td>57453.817188426</td><td>5451.23438</td><td>YY</td><td>NN</td><td>NN</td><td>NN</td><td>NN</td><td>NN</td><td>0.8209</td></tr>\n",
       "</table>"
      ],
      "text/plain": [
       "<Table length=6>\n",
       "          name            obsid      ra    ... sgd2ifonfov Search_Offset\n",
       "                                    deg    ...                          \n",
       "         object           object  float64  ...    object      float64   \n",
       "----------------------- --------- -------- ... ----------- -------------\n",
       "           Perseus_core 100040010 49.87414 ...          NN        3.7003\n",
       "     Perseus_adjustment 100040060 49.95103 ...          NN        0.2018\n",
       "Perseus_core_adjustment 100040020 49.93161 ...          NN        0.7759\n",
       "                Perseus 100040040 49.93212 ...          NN        0.7705\n",
       "                Perseus 100040030 49.93242 ...          NN        0.7682\n",
       "                Perseus 100040050 49.93226 ...          NN        0.8209"
      ]
     },
     "execution_count": 5,
     "metadata": {},
     "output_type": "execute_result"
    }
   ],
   "source": [
    "## Use the one that's CFAZ. \n",
    "##  Use list comprehension to check each service's short_name attribute and use the first.\n",
    "hitomi_cone_service = [s for s in services if 'HITO' in s.short_name][0] \n",
    "\n",
    "## We are searching for sources within 10 arcminutes of M51. \n",
    "results = hitomi_cone_service.search(pos=coord, radius=10*u.arcmin)\n",
    "results.to_table()"
   ]
  },
  {
   "cell_type": "markdown",
   "metadata": {},
   "source": [
    "Now we know the obs ID for the potentially useful observations"
   ]
  },
  {
   "cell_type": "markdown",
   "metadata": {},
   "source": [
    "# Download file \n",
    "### -- the Clunky Way! \n",
    "Ideally we could generalize this a bit more, but because we know from xamin that the files are in the following directory, we just need to allow use to insert the observation id to the following directory: https://heasarc.gsfc.nasa.gov/FTP/hitomi/data/obs/1/"
   ]
  },
  {
   "cell_type": "markdown",
   "metadata": {},
   "source": [
    "The row could be a prompt to user... for this example, assume we want row 4 (index =3)"
   ]
  },
  {
   "cell_type": "code",
   "execution_count": 6,
   "metadata": {},
   "outputs": [
    {
     "name": "stdout",
     "output_type": "stream",
     "text": [
      "100040040\n"
     ]
    }
   ],
   "source": [
    "row = 4  # could make this interactive\n",
    "pyrow = row-1   # python row index\n",
    "obsid = results[pyrow]['obsid'].decode(\"utf-8\")\n",
    "print(obsid)"
   ]
  },
  {
   "cell_type": "code",
   "execution_count": 7,
   "metadata": {},
   "outputs": [],
   "source": [
    "url = 'https://heasarc.gsfc.nasa.gov/FTP/hitomi/data/obs/1//'+str(obsid)+'/'"
   ]
  },
  {
   "cell_type": "markdown",
   "metadata": {},
   "source": [
    "Turns out that this doesn't quite work because the files are in subdirectories. So we need to know where the relevant file is located. See here for example: https://heasarc.gsfc.nasa.gov/cgi-bin/W3Browse/w3hdprods.pl?files=Preview&Coordinates=Equatorial&Equinox=2000&CheckSize=1&showgifs=1&Target=heasarc_hitomaster%7C%7C%7C__row%3D39%7C%7C&popupFrom=Query%20Results&querytime=1602628274 \n",
    "\n",
    "Once we figure out the files, we can create the correct path name by appending relevant subdirectories and names. "
   ]
  },
  {
   "cell_type": "markdown",
   "metadata": {},
   "source": [
    "## The better way:  try datalink! (a bit beta still)"
   ]
  },
  {
   "cell_type": "markdown",
   "metadata": {},
   "source": [
    "### Next trying with tap service: "
   ]
  },
  {
   "cell_type": "code",
   "execution_count": 8,
   "metadata": {},
   "outputs": [
    {
     "name": "stdout",
     "output_type": "stream",
     "text": [
      "Table Access Protocol Service\n",
      "HEASARC Xamin Catalog Interface\n",
      "Short Name: HEASARC\n",
      "IVOA Identifier: ivo://nasa.heasarc/services/xamin\n",
      "Base URL: https://heasarc.gsfc.nasa.gov/xamin/vo/tap\n",
      "\n",
      "The HEASARC is NASA domain archive for high-energy and microwave astronomy.\n",
      "The Xamin interface provides access to over 600 observation and object tables.\n",
      "This includes observation tables for more than 30 missions and observatories\n",
      "and hundreds of derived object tables. Non-high energy tables are included to\n",
      "make it easier for users to compare information.\n",
      "\n",
      "Subjects: HEASARC\n",
      "Waveband Coverage:\n"
     ]
    }
   ],
   "source": [
    "service=vo.regsearch(keywords=['heasarc'],servicetype='tap')[0]\n",
    "service.describe()"
   ]
  },
  {
   "cell_type": "code",
   "execution_count": 9,
   "metadata": {},
   "outputs": [
    {
     "name": "stdout",
     "output_type": "stream",
     "text": [
      "<SkyCoord (ICRS): (ra, dec) in deg\n",
      "    (49.94667, 41.51306)>\n"
     ]
    }
   ],
   "source": [
    "coord = SkyCoord.from_name(\"Abell426\")\n",
    "print(coord)\n",
    "#  Construct a query to get objects near our source:\n",
    "query=\"\"\"SELECT * FROM hitomaster WHERE \n",
    "        1=CONTAINS(POINT('ICRS', ra, dec),\n",
    "        CIRCLE('ICRS', {}, {}, 1))\"\"\".format(coord.ra.deg,coord.dec.deg)\n",
    "results = service.search(query)\n"
   ]
  },
  {
   "cell_type": "code",
   "execution_count": 10,
   "metadata": {},
   "outputs": [
    {
     "data": {
      "text/html": [
       "<i>Table length=2</i>\n",
       "<table id=\"table140437836383568\" class=\"table-striped table-bordered table-condensed\">\n",
       "<thead><tr><th>description</th><th>content_type</th></tr></thead>\n",
       "<thead><tr><th>object</th><th>object</th></tr></thead>\n",
       "<tr><td>Hitomi observation</td><td>application/x-votable+xml;content=datalink</td></tr>\n",
       "<tr><td>Hitomi observation</td><td>text/html</td></tr>\n",
       "</table>"
      ],
      "text/plain": [
       "<Table length=2>\n",
       "   description                    content_type               \n",
       "      object                         object                  \n",
       "------------------ ------------------------------------------\n",
       "Hitomi observation application/x-votable+xml;content=datalink\n",
       "Hitomi observation                                  text/html"
      ]
     },
     "execution_count": 10,
     "metadata": {},
     "output_type": "execute_result"
    }
   ],
   "source": [
    "links=results[0].getdatalink()\n",
    "links.to_table()['description','content_type']"
   ]
  },
  {
   "cell_type": "code",
   "execution_count": null,
   "metadata": {},
   "outputs": [],
   "source": []
  },
  {
   "cell_type": "markdown",
   "metadata": {},
   "source": [
    "### First a little orientation..."
   ]
  },
  {
   "cell_type": "markdown",
   "metadata": {},
   "source": [
    "In general, since we don't know which one, a priori, will contain the links to images, spectra, etc. we need to iterate over the links. In this case, we can see that the first link contains a datalink, meaning that we can further check what downloadable data are available within the subdirectories."
   ]
  },
  {
   "cell_type": "code",
   "execution_count": 11,
   "metadata": {},
   "outputs": [
    {
     "data": {
      "text/html": [
       "<i>Table length=13</i>\n",
       "<table id=\"table140437836382992\" class=\"table-striped table-bordered table-condensed\">\n",
       "<thead><tr><th>description</th><th>content_type</th></tr></thead>\n",
       "<thead><tr><th>object</th><th>object</th></tr></thead>\n",
       "<tr><td>Hitomi observation</td><td>text/html</td></tr>\n",
       "<tr><td>Auxil All Data</td><td>application/x-votable+xml;content=datalink</td></tr>\n",
       "<tr><td>Auxil All Data</td><td>text/html</td></tr>\n",
       "<tr><td>Log All Files</td><td>application/x-votable+xml;content=datalink</td></tr>\n",
       "<tr><td>Log All Files</td><td>text/html</td></tr>\n",
       "<tr><td>HXI All Data</td><td>application/x-votable+xml;content=datalink</td></tr>\n",
       "<tr><td>HXI All Data</td><td>text/html</td></tr>\n",
       "<tr><td>SGD All Data</td><td>application/x-votable+xml;content=datalink</td></tr>\n",
       "<tr><td>SGD All Data</td><td>text/html</td></tr>\n",
       "<tr><td>SXI All Data</td><td>application/x-votable+xml;content=datalink</td></tr>\n",
       "<tr><td>SXI All Data</td><td>text/html</td></tr>\n",
       "<tr><td>SXS All Data</td><td>application/x-votable+xml;content=datalink</td></tr>\n",
       "<tr><td>SXS All Data</td><td>text/html</td></tr>\n",
       "</table>"
      ],
      "text/plain": [
       "<Table length=13>\n",
       "   description                    content_type               \n",
       "      object                         object                  \n",
       "------------------ ------------------------------------------\n",
       "Hitomi observation                                  text/html\n",
       "    Auxil All Data application/x-votable+xml;content=datalink\n",
       "    Auxil All Data                                  text/html\n",
       "     Log All Files application/x-votable+xml;content=datalink\n",
       "     Log All Files                                  text/html\n",
       "      HXI All Data application/x-votable+xml;content=datalink\n",
       "      HXI All Data                                  text/html\n",
       "      SGD All Data application/x-votable+xml;content=datalink\n",
       "      SGD All Data                                  text/html\n",
       "      SXI All Data application/x-votable+xml;content=datalink\n",
       "      SXI All Data                                  text/html\n",
       "      SXS All Data application/x-votable+xml;content=datalink\n",
       "      SXS All Data                                  text/html"
      ]
     },
     "execution_count": 11,
     "metadata": {},
     "output_type": "execute_result"
    }
   ],
   "source": [
    "# -- more general loop, but in this case, we can see that the links[0] has the content=datalink...\n",
    "#for link in links:\n",
    "#    if \"datalink\" in link.content_type:\n",
    "#        break\n",
    "link=links[0]  # short cut for our specific case...\n",
    "link.getdatalink().to_table()['description','content_type']"
   ]
  },
  {
   "cell_type": "markdown",
   "metadata": {},
   "source": [
    "So at this point, you need to see what files are included. But more than this organization, you probably care about getting specific types of files. So defining a way to extract only those files is useful:"
   ]
  },
  {
   "cell_type": "code",
   "execution_count": 12,
   "metadata": {},
   "outputs": [],
   "source": [
    "def linkwalker( result, level, keyword=None ):\n",
    "    print(\"LEVEL {}\".format(level))\n",
    "    try:\n",
    "        result2=result.getdatalink()\n",
    "        if keyword is None:\n",
    "            print(result2.to_table()['description','content_type'])\n",
    "        else:\n",
    "            t=result2.to_table()['description','content_type']\n",
    "            #print([r for r in t if keyword in r['description'].lower() or keyword in r['content_type'].lower()])\n",
    "            for r in t:\n",
    "                if keyword in r['description'].lower() or keyword in r['content_type'].lower():\n",
    "                    print(r)\n",
    "                \n",
    "    except Exception as e:\n",
    "        print(\"Exception {}\".format(e))\n",
    "        return\n",
    "    for link in [l for l in result2 if \"datalink\" in l.content_type]:\n",
    "        linkwalker(link, level+1, keyword)\n",
    "    \n",
    "    return"
   ]
  },
  {
   "cell_type": "markdown",
   "metadata": {},
   "source": [
    "For example, looking at the GIF files: "
   ]
  },
  {
   "cell_type": "code",
   "execution_count": 13,
   "metadata": {},
   "outputs": [
    {
     "name": "stdout",
     "output_type": "stream",
     "text": [
      "LEVEL 0\n",
      "LEVEL 1\n",
      "LEVEL 1\n",
      "LEVEL 1\n",
      "LEVEL 1\n",
      "LEVEL 1\n",
      "LEVEL 1\n",
      "         description           content_type\n",
      "------------------------------ ------------\n",
      "SXS Image Plot-All Instruments    image/gif\n",
      "           description            content_type\n",
      "--------------------------------- ------------\n",
      "SXS Spectrum Plot-All Instruments    image/gif\n"
     ]
    }
   ],
   "source": [
    "linkwalker(link, 0,keyword=b'gif')"
   ]
  },
  {
   "cell_type": "markdown",
   "metadata": {},
   "source": [
    "So we can see the files we want... So, how do we grab these or display them?"
   ]
  },
  {
   "cell_type": "code",
   "execution_count": 14,
   "metadata": {},
   "outputs": [
    {
     "data": {
      "text/html": [
       "<i>Table length=13</i>\n",
       "<table id=\"table140438728524176\" class=\"table-striped table-bordered table-condensed\">\n",
       "<thead><tr><th>description</th><th>content_type</th></tr></thead>\n",
       "<thead><tr><th>object</th><th>object</th></tr></thead>\n",
       "<tr><td>Hitomi observation</td><td>text/html</td></tr>\n",
       "<tr><td>Auxil All Data</td><td>application/x-votable+xml;content=datalink</td></tr>\n",
       "<tr><td>Auxil All Data</td><td>text/html</td></tr>\n",
       "<tr><td>Log All Files</td><td>application/x-votable+xml;content=datalink</td></tr>\n",
       "<tr><td>Log All Files</td><td>text/html</td></tr>\n",
       "<tr><td>HXI All Data</td><td>application/x-votable+xml;content=datalink</td></tr>\n",
       "<tr><td>HXI All Data</td><td>text/html</td></tr>\n",
       "<tr><td>SGD All Data</td><td>application/x-votable+xml;content=datalink</td></tr>\n",
       "<tr><td>SGD All Data</td><td>text/html</td></tr>\n",
       "<tr><td>SXI All Data</td><td>application/x-votable+xml;content=datalink</td></tr>\n",
       "<tr><td>SXI All Data</td><td>text/html</td></tr>\n",
       "<tr><td>SXS All Data</td><td>application/x-votable+xml;content=datalink</td></tr>\n",
       "<tr><td>SXS All Data</td><td>text/html</td></tr>\n",
       "</table>"
      ],
      "text/plain": [
       "<Table length=13>\n",
       "   description                    content_type               \n",
       "      object                         object                  \n",
       "------------------ ------------------------------------------\n",
       "Hitomi observation                                  text/html\n",
       "    Auxil All Data application/x-votable+xml;content=datalink\n",
       "    Auxil All Data                                  text/html\n",
       "     Log All Files application/x-votable+xml;content=datalink\n",
       "     Log All Files                                  text/html\n",
       "      HXI All Data application/x-votable+xml;content=datalink\n",
       "      HXI All Data                                  text/html\n",
       "      SGD All Data application/x-votable+xml;content=datalink\n",
       "      SGD All Data                                  text/html\n",
       "      SXI All Data application/x-votable+xml;content=datalink\n",
       "      SXI All Data                                  text/html\n",
       "      SXS All Data application/x-votable+xml;content=datalink\n",
       "      SXS All Data                                  text/html"
      ]
     },
     "execution_count": 14,
     "metadata": {},
     "output_type": "execute_result"
    }
   ],
   "source": [
    "new=link.getdatalink()\n",
    "new.to_table()['description', 'content_type']"
   ]
  },
  {
   "cell_type": "code",
   "execution_count": 15,
   "metadata": {},
   "outputs": [
    {
     "data": {
      "text/html": [
       "<i>Table length=21</i>\n",
       "<table id=\"table140438727982032\" class=\"table-striped table-bordered table-condensed\">\n",
       "<thead><tr><th>description</th><th>content_type</th></tr></thead>\n",
       "<thead><tr><th>object</th><th>object</th></tr></thead>\n",
       "<tr><td>SXS All Data</td><td>text/html</td></tr>\n",
       "<tr><td>SXS Housekeeping</td><td>text/html</td></tr>\n",
       "<tr><td>SXS Housekeeping</td><td>application/fits</td></tr>\n",
       "<tr><td>SXS Products</td><td>text/html</td></tr>\n",
       "<tr><td>SXS Ancillary Response</td><td>application/fits</td></tr>\n",
       "<tr><td>SXS Image Plot-All Instruments</td><td>image/gif</td></tr>\n",
       "<tr><td>SXS Image</td><td>application/fits</td></tr>\n",
       "<tr><td>SXS Response Matrix</td><td>application/fits</td></tr>\n",
       "<tr><td>SXS Spectrum Plot-All Instruments</td><td>image/gif</td></tr>\n",
       "<tr><td>SXS Source Lightcurve</td><td>application/fits</td></tr>\n",
       "<tr><td>SXS Source Spectrum</td><td>application/fits</td></tr>\n",
       "<tr><td>SXS Source Region in Det. Coord.</td><td>text/plain</td></tr>\n",
       "<tr><td>SXS Unfiltered</td><td>text/html</td></tr>\n",
       "<tr><td>SXS Unfiltered Antico Events</td><td>application/fits</td></tr>\n",
       "<tr><td>SXS ADR GTI</td><td>application/fits</td></tr>\n",
       "<tr><td>SXS Lost Event GTI</td><td>application/fits</td></tr>\n",
       "<tr><td>SXS Gain File for Cal Pixel 12</td><td>application/fits</td></tr>\n",
       "<tr><td>SXS Pixel GTI</td><td>application/fits</td></tr>\n",
       "<tr><td>SXS Unfiltered Science Events-Open</td><td>application/fits</td></tr>\n",
       "<tr><td>SXS Cal Pixel 12 Events</td><td>application/fits</td></tr>\n",
       "<tr><td>SXS Telemetry Saturation GTI</td><td>application/fits</td></tr>\n",
       "</table>"
      ],
      "text/plain": [
       "<Table length=21>\n",
       "           description               content_type  \n",
       "              object                    object     \n",
       "---------------------------------- ----------------\n",
       "                      SXS All Data        text/html\n",
       "                  SXS Housekeeping        text/html\n",
       "                  SXS Housekeeping application/fits\n",
       "                      SXS Products        text/html\n",
       "            SXS Ancillary Response application/fits\n",
       "    SXS Image Plot-All Instruments        image/gif\n",
       "                         SXS Image application/fits\n",
       "               SXS Response Matrix application/fits\n",
       " SXS Spectrum Plot-All Instruments        image/gif\n",
       "             SXS Source Lightcurve application/fits\n",
       "               SXS Source Spectrum application/fits\n",
       "  SXS Source Region in Det. Coord.       text/plain\n",
       "                    SXS Unfiltered        text/html\n",
       "      SXS Unfiltered Antico Events application/fits\n",
       "                       SXS ADR GTI application/fits\n",
       "                SXS Lost Event GTI application/fits\n",
       "    SXS Gain File for Cal Pixel 12 application/fits\n",
       "                     SXS Pixel GTI application/fits\n",
       "SXS Unfiltered Science Events-Open application/fits\n",
       "           SXS Cal Pixel 12 Events application/fits\n",
       "      SXS Telemetry Saturation GTI application/fits"
      ]
     },
     "execution_count": 15,
     "metadata": {},
     "output_type": "execute_result"
    }
   ],
   "source": [
    "sxsfiles=new[11].getdatalink()\n",
    "sxsfiles.to_table()['description', 'content_type']"
   ]
  },
  {
   "cell_type": "markdown",
   "metadata": {},
   "source": [
    "We see that sxsfile[5] has the image 'GIF' (which we can determine more elegantly), as before... "
   ]
  },
  {
   "cell_type": "code",
   "execution_count": 16,
   "metadata": {},
   "outputs": [],
   "source": [
    "def getrow( result, keyword=None ):\n",
    "    index=0\n",
    "    ind=[]\n",
    "    t=result.to_table()['description','content_type']\n",
    "    for r in t:\n",
    "        if keyword in r['description'].lower() or keyword in r['content_type'].lower():\n",
    "            ind.append(index)\n",
    "        index=index+1\n",
    "    return(ind)"
   ]
  },
  {
   "cell_type": "code",
   "execution_count": 24,
   "metadata": {},
   "outputs": [],
   "source": [
    "file=getrow(sxsfiles, keyword=b'gif')"
   ]
  },
  {
   "cell_type": "markdown",
   "metadata": {},
   "source": [
    "At this point, you can get the urls directly: "
   ]
  },
  {
   "cell_type": "code",
   "execution_count": 25,
   "metadata": {},
   "outputs": [
    {
     "data": {
      "text/html": [
       "&lt;MaskedColumn name=&apos;access_url&apos; dtype=&apos;object&apos; length=2&gt;\n",
       "<table>\n",
       "<tr><td>https://heasarc.gsfc.nasa.gov/FTP/hitomi/data/obs/1//100040010/sxs/products/ah100040010_img.gif</td></tr>\n",
       "<tr><td>https://heasarc.gsfc.nasa.gov/FTP/hitomi/data/obs/1//100040010/sxs/products/ah100040010_pi.gif</td></tr>\n",
       "</table>"
      ],
      "text/plain": [
       "<MaskedColumn name='access_url' dtype='object' length=2>\n",
       "https://heasarc.gsfc.nasa.gov/FTP/hitomi/data/obs/1//100040010/sxs/products/ah100040010_img.gif\n",
       " https://heasarc.gsfc.nasa.gov/FTP/hitomi/data/obs/1//100040010/sxs/products/ah100040010_pi.gif"
      ]
     },
     "execution_count": 25,
     "metadata": {},
     "output_type": "execute_result"
    }
   ],
   "source": [
    "sxsfiles.to_table()['access_url'][data]"
   ]
  },
  {
   "cell_type": "markdown",
   "metadata": {},
   "source": [
    "Or you can display directly: "
   ]
  },
  {
   "cell_type": "code",
   "execution_count": 26,
   "metadata": {},
   "outputs": [
    {
     "data": {
      "image/png": "[encoded data removed]",
      "text/plain": [
       "<IPython.core.display.Image object>"
      ]
     },
     "metadata": {},
     "output_type": "display_data"
    },
    {
     "data": {
      "image/png": "[encoded data removed]",
      "text/plain": [
       "<IPython.core.display.Image object>"
      ]
     },
     "metadata": {},
     "output_type": "display_data"
    }
   ],
   "source": [
    "im=file[0]     # the image data\n",
    "sp=file[1]    # the spectrum\n",
    "display(ipImage(data=sxsfiles[im].getdataset().data))\n",
    "display(ipImage(data=sxsfiles[sp].getdataset().data))"
   ]
  },
  {
   "cell_type": "markdown",
   "metadata": {},
   "source": [
    "## Get FITS files: \n",
    "So probably what is useful are the FITS files. But I just don't know which ones are the relevant ones so leave to you from here! But here's my guess... need the event file?"
   ]
  },
  {
   "cell_type": "code",
   "execution_count": 27,
   "metadata": {},
   "outputs": [
    {
     "name": "stdout",
     "output_type": "stream",
     "text": [
      "LEVEL 0\n",
      "LEVEL 1\n",
      "LEVEL 2\n",
      "LEVEL 2\n",
      "LEVEL 2\n",
      "  description      content_type  \n",
      "---------------- ----------------\n",
      "HXI CAMS1 Events application/fits\n",
      "  description      content_type  \n",
      "---------------- ----------------\n",
      "HXI CAMS2 Events application/fits\n",
      "LEVEL 2\n",
      "LEVEL 2\n",
      "LEVEL 2\n",
      "        description            content_type  \n",
      "---------------------------- ----------------\n",
      "SXS Unfiltered Antico Events application/fits\n",
      "   description       content_type  \n",
      "------------------ ----------------\n",
      "SXS Lost Event GTI application/fits\n",
      "           description               content_type  \n",
      "---------------------------------- ----------------\n",
      "SXS Unfiltered Science Events-Open application/fits\n",
      "      description         content_type  \n",
      "----------------------- ----------------\n",
      "SXS Cal Pixel 12 Events application/fits\n"
     ]
    }
   ],
   "source": [
    "linkwalker(results[0], 0,keyword=b'event')"
   ]
  },
  {
   "cell_type": "markdown",
   "metadata": {},
   "source": [
    "Again, guessing that the SXS Unfiltered Science events is what you want, this is the SXS file again.... so taking some shortcuts from above, but filtering now on 'events':"
   ]
  },
  {
   "cell_type": "code",
   "execution_count": 28,
   "metadata": {},
   "outputs": [],
   "source": [
    "file=getrow(sxsfiles, keyword=b'events')"
   ]
  },
  {
   "cell_type": "markdown",
   "metadata": {},
   "source": [
    "### Downloading the data corresponding to the \"SXS Unfiltered Science Events\" will be data[1] (Note, this takes some time to download):\n",
    "\n",
    "Again, you can do this two ways. Get the URL and download directly or read data into the notebook. Since the latter crashed the notebook, I advise on the former!"
   ]
  },
  {
   "cell_type": "markdown",
   "metadata": {},
   "source": [
    "#### Get URL:\n",
    "\n",
    "You can click and download this from the link "
   ]
  },
  {
   "cell_type": "code",
   "execution_count": 29,
   "metadata": {},
   "outputs": [
    {
     "data": {
      "text/plain": [
       "b'https://heasarc.gsfc.nasa.gov/FTP/hitomi/data/obs/1//100040010/sxs/event_uf/ah100040010sxs_p0px1010_uf.evt.gz'"
      ]
     },
     "execution_count": 29,
     "metadata": {},
     "output_type": "execute_result"
    }
   ],
   "source": [
    "evt=file[1]\n",
    "sxsfiles.to_table()['access_url'][evt]"
   ]
  },
  {
   "cell_type": "markdown",
   "metadata": {},
   "source": [
    "#### Download into notebook directly\n",
    "Caution: may crash notebook!"
   ]
  },
  {
   "cell_type": "code",
   "execution_count": 30,
   "metadata": {},
   "outputs": [],
   "source": [
    "\n",
    "#sxsfiles[evt].getdataset().data"
   ]
  },
  {
   "cell_type": "code",
   "execution_count": null,
   "metadata": {},
   "outputs": [],
   "source": []
  }
 ],
 "metadata": {
  "kernelspec": {
   "display_name": "Python 3",
   "language": "python",
   "name": "python3"
  },
  "language_info": {
   "codemirror_mode": {
    "name": "ipython",
    "version": 3
   },
   "file_extension": ".py",
   "mimetype": "text/x-python",
   "name": "python",
   "nbconvert_exporter": "python",
   "pygments_lexer": "ipython3",
   "version": "3.7.7"
  }
 },
 "nbformat": 4,
 "nbformat_minor": 4
}
