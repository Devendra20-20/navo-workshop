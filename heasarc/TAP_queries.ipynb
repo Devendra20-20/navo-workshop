{
 "cells": [
  {
   "cell_type": "markdown",
   "metadata": {},
   "source": [
    "# Accessing  HEASARC tables through the TAP with ADQL\n",
    "\n",
    "We have used the __[Table Access Protocol](http://www.ivoa.net/documents/TAP/)__ (TAP) protocol in several other notebooks for basic queries.  Here, we expand on its usage and that of the __[Astronomical Data Query Language](http://www.ivoa.net/documents/latest/ADQL.html)__ (ADQL) that it uses.  \n",
    "\n",
    "* [1. Basic](#basic) Table Access Protocol queries\n",
    "* [2. Cross-correlating](#cc) our own catalog with a HEASARC catalog\n",
    "* [3. Combining](#combo) data from multiple catalogs and cross-correlating\n"
   ]
  },
  {
   "cell_type": "code",
   "execution_count": 1,
   "metadata": {},
   "outputs": [],
   "source": [
    "import numpy\n",
    "## There are a number of relatively unimportant warnings that \n",
    "## show up, so for now, suppress them:\n",
    "import warnings\n",
    "warnings.filterwarnings(\"ignore\")\n",
    "\n",
    "## For simple astropy tables\n",
    "import astropy, io, requests\n",
    "\n",
    "## For handling ordinary astropy Tables\n",
    "from astropy.table import Table\n",
    "\n",
    "## For handling VO table type objects\n",
    "from astropy.io import votable as apvot\n",
    "\n",
    "# Use the astroquery TapPlus library.\n",
    "from astroquery.utils.tap.core import TapPlus\n",
    "\n",
    "## Use NAVO utility for Registry and Cone searches\n",
    "from navo_utils.registry import Registry\n",
    "from navo_utils.cone import Cone\n",
    "from navo_utils.tap import Tap\n"
   ]
  },
  {
   "cell_type": "markdown",
   "metadata": {},
   "source": [
    "<a id=\"basic\"></a>\n",
    "\n",
    "# 1. Basic Table Access Protocol queries\n",
    "\n",
    "A TAP query is the most powerful way to search a catalog. Supposed you already know that you want to query the \"zcat\" at the HEASARC.  \n",
    "\n",
    "A Simple Cone Search only allows you to ask for a position and radius:  "
   ]
  },
  {
   "cell_type": "code",
   "execution_count": 2,
   "metadata": {},
   "outputs": [
    {
     "name": "stdout",
     "output_type": "stream",
     "text": [
      "<SkyCoord (ICRS): (ra, dec) in deg\n",
      "    (202.469575, 47.1952583)>\n"
     ]
    },
    {
     "data": {
      "text/html": [
       "<i>Table masked=True length=3</i>\n",
       "<table id=\"table4405342784\" class=\"table-striped table-bordered table-condensed\">\n",
       "<thead><tr><th>waveband</th><th>short_name</th><th>ivoid</th><th>res_description</th><th>access_url</th><th>reference_url</th><th>publisher</th><th>service_type</th></tr></thead>\n",
       "<thead><tr><th>str23</th><th>str9</th><th>str28</th><th>str1745</th><th>str77</th><th>str57</th><th>str17</th><th>str10</th></tr></thead>\n",
       "<tr><td>optical</td><td>ABELLZCAT</td><td>ivo://nasa.heasarc/abellzcat</td><td>The all-sky ACO (Abell, Corwin and Olowin 1989, ApJS, 70, 1) Catalog of 4073 rich clusters of galaxies and 1175 southern poor or distant S-clusters has been searched for published redshifts. Data for 1059 of them were found and classified into various quality classes, e.g. to reduce the problem of foreground contamination of redshifts. Taking the ACO selection criteria for redshifts, a total of 992 entries remain, 21 percent more than ACO. Redshifts for rich clusters are now virtually complete out to a redshift z of 0.05 in the north and of 0.04 in the south. In the north, the magnitude-redshift (m_10 - z) relation agrees with that of Kalinkov et al. (1985, Astr. Nachr., 306, 283). For the southern rich clusters, minor adjustments to the m_10 - z relation of ACO are suggested, while for the S-clusters the redshifts are about 30 percent lower than estimated.</td><td>https://heasarc.gsfc.nasa.gov/cgi-bin/vo/cone/coneGet.pl?table=abellzcat&amp;amp;</td><td>https://heasarc.gsfc.nasa.gov/W3Browse/all/abellzcat.html</td><td>NASA/GSFC HEASARC</td><td>conesearch</td></tr>\n",
       "<tr><td>optical</td><td>CFAZ</td><td>ivo://nasa.heasarc/zcat</td><td>The ZCAT database contains the CfA Redshift Catalog, which incorporates much of the latest velocity data from the Whipple Observatory and other sources, as well as velocities from earlier compilations such as the &amp;amp;quot;Second Reference Catalog&amp;amp;quot; of de Vaucouleurs, de Vaucouleurs, and Corwin; the &amp;amp;quot;Index of Galaxy Spectra&amp;amp;quot; of Gisler and Friel; and the &amp;amp;quot;Catalog of Radial Velocities of Galaxies&amp;amp;quot; of Palumbo, Tanzella-Nitti, and Vettolani. It includes BT magnitudes, some UGC numbers, and increased &amp;amp;quot;accuracy&amp;amp;quot; in the velocity source information. The data presented here have primarily been assembled for the purpose of studying the large scale structure of the universe, and, as such, are nearly complete in redshift information, but are not necessarily complete in such categories as diameter, magnitude, and cross-references to other catalogues.</td><td>https://heasarc.gsfc.nasa.gov/cgi-bin/vo/cone/coneGet.pl?table=zcat&amp;amp;</td><td>https://heasarc.gsfc.nasa.gov/W3Browse/all/zcat.html</td><td>NASA/GSFC HEASARC</td><td>conesearch</td></tr>\n",
       "<tr><td>gamma-ray#optical#x-ray</td><td>ROMABZCAT</td><td>ivo://nasa.heasarc/romabzcat</td><td>This table contains the 5th edition of the Roma-BZCAT catalog of blazars which contains coordinates and multi-frequency data of 3561 sources. It presents several relevant changes with respect to the past editions which are briefly described in the reference paper. The Roma-BZCAT catalog contains data on 3561 sources, about 30% more than in the 1st edition, which either confirmed blazars or exhibiting characteristics close to this type of sources. With respect to the previous editions, this new edition has relevant changes in the sources&apos; classification. The authors emphasize that all the sources in the Roma-BZCAT have a detection in the radio band. Moreover, complete spectroscopic information is published and could be accessed by the authors for all of them, with the exception of BL Lac candidates. Consequently, peculiar sources such as the so called &amp;amp;quot;radio quiet BL Lacs&amp;amp;quot;, which are reported in some other catalogs, are not included here because of possible contamination by hot stars and other extragalactic objects. In the 5th edition, the authors use a similar denomination for the blazars to that adopted in the previous editions. Each blazar is identified by a code, with 5BZ for all blazars, a fourth letter that specifies the type (B, G, Q or U), followed by the truncated equatorial coordinates (J2000). The authors introduced the edition number before the letters BZ to avoid possible confusion due to the fact that several sources changed their old names because of a newly adopted classification. The 5th edition contains 1151 BZB sources (92 of which are reported as candidates because their optical spectra could not be found in the literature), 1909 BZQ sources, 274 BZG sources, and 227 BZU objects.</td><td>https://heasarc.gsfc.nasa.gov/cgi-bin/vo/cone/coneGet.pl?table=romabzcat&amp;amp;</td><td>https://heasarc.gsfc.nasa.gov/W3Browse/all/romabzcat.html</td><td>NASA/GSFC HEASARC</td><td>conesearch</td></tr>\n",
       "</table>"
      ],
      "text/plain": [
       "<Table masked=True length=3>\n",
       "        waveband        short_name ...     publisher     service_type\n",
       "         str23             str9    ...       str17          str10    \n",
       "----------------------- ---------- ... ----------------- ------------\n",
       "                optical  ABELLZCAT ... NASA/GSFC HEASARC   conesearch\n",
       "                optical       CFAZ ... NASA/GSFC HEASARC   conesearch\n",
       "gamma-ray#optical#x-ray  ROMABZCAT ... NASA/GSFC HEASARC   conesearch"
      ]
     },
     "execution_count": 2,
     "metadata": {},
     "output_type": "execute_result"
    }
   ],
   "source": [
    "import astropy.coordinates as coord\n",
    "coord=coord.SkyCoord.from_name(\"m51\")\n",
    "print(coord)\n",
    "services=Registry.query(service_type='cone',source='heasarc%zcat')\n",
    "services"
   ]
  },
  {
   "cell_type": "code",
   "execution_count": 3,
   "metadata": {},
   "outputs": [
    {
     "data": {
      "text/html": [
       "<i>Table masked=True length=1</i>\n",
       "<table id=\"table4651901000\" class=\"table-striped table-bordered table-condensed\">\n",
       "<thead><tr><th>source_number</th><th>name</th><th>ra</th><th>dec</th><th>redshift</th><th>redshift_flag</th><th>flux_1p4_ghz</th><th>rmag</th><th>xray_flux</th><th>object_type</th><th>Search_Offset</th></tr></thead>\n",
       "<thead><tr><th></th><th></th><th>deg</th><th>deg</th><th></th><th></th><th>mJy</th><th>mag</th><th>erg/cm^2/s</th><th></th><th></th></tr></thead>\n",
       "<thead><tr><th>int32</th><th>str25</th><th>float64</th><th>float64</th><th>float64</th><th>str2</th><th>float64</th><th>float64</th><th>float64</th><th>str24</th><th>float64</th></tr></thead>\n",
       "<tr><td>2149</td><td>[MML2015] 5BZQ J1332+4722</td><td>203.188500</td><td>47.372969</td><td>0.668</td><td></td><td>233.0</td><td>17.4</td><td>0.00</td><td>QSO RLoud flat radio sp.</td><td>31.1436</td></tr>\n",
       "</table>"
      ],
      "text/plain": [
       "<Table masked=True length=1>\n",
       "source_number            name           ... Search_Offset\n",
       "                                        ...              \n",
       "    int32               str25           ...    float64   \n",
       "------------- ------------------------- ... -------------\n",
       "         2149 [MML2015] 5BZQ J1332+4722 ...       31.1436"
      ]
     },
     "execution_count": 3,
     "metadata": {},
     "output_type": "execute_result"
    }
   ],
   "source": [
    "## The 3rd is the one we want:\n",
    "table=Cone.query(service=services[2],coords=coord,radius=1)\n",
    "table[0]"
   ]
  },
  {
   "cell_type": "markdown",
   "metadata": {},
   "source": [
    "With the TAP, you can refine the search based on any other attribute in the given catalog.  \n",
    "\n",
    "The basics of ADQL:\n",
    "\n",
    "* *SELECT &#42; FROM catalog as cat* says you want all (\"&#42;\") columns from the catalog called \"catalog\", which you will refer to below by the more compact name of \"cat\", \n",
    "* *WHERE cat.bmag < 14* says that you want to retrieve only those entries in the catalog whose bmag column has a value less than 14\n",
    "* *FROM catalog1 as c1 natural join catalog2 as c2* says that you want to query two catalogs zipped together the \"natural\" way, i.e., by looking for a common column,\n",
    "* etc.\n",
    "\n",
    "There are many other options.  Instead of returning all columns, you can *SELECT cat.RA, cat.DEC, cat.bmag from catalog as cat...* to only return the columns you're interested in.\n",
    "\n",
    "You can also append *ORDER by cat.bmag* to return the result sorted ascending by one of the columns, adding *DESC* to the end for descending. \n",
    "\n",
    "A few special functions in the ADQL allow you to query regions:\n",
    "\n",
    "* *WHERE contains( point('ICRS', cat.ra, cat.dec), circle('ICRS', 210.5, -6.5, 0.5))=1*\n",
    "\n",
    "is how you would ask for any catalog entries whose RA,DEC lie within a circular region defined by RA,DEC 210.5,-6.5 and a radius of 0.5 (all in degrees).  The 'ICRS' specifies the coordinate system.  \n",
    "\n",
    "See the ADQL documentation for more.\n",
    "\n",
    "With these basics, we do the following:"
   ]
  },
  {
   "cell_type": "code",
   "execution_count": 4,
   "metadata": {
    "scrolled": true
   },
   "outputs": [
    {
     "data": {
      "text/plain": [
       "'https://heasarc.gsfc.nasa.gov/xamin/vo/tap'"
      ]
     },
     "execution_count": 4,
     "metadata": {},
     "output_type": "execute_result"
    }
   ],
   "source": [
    "## Find the zcat TAP service we want:\n",
    "tap_services=Registry.query(service_type='table',source='heasarc')\n",
    "tap_services['access_url'][0]"
   ]
  },
  {
   "cell_type": "code",
   "execution_count": 5,
   "metadata": {},
   "outputs": [],
   "source": [
    "## Not sure why TapPlus doesn't work: \n",
    "##\n",
    "#url=tap_services[0]['access_url']+\"/sync\"\n",
    "#url=\"https://heasarc.gsfc.nasa.gov/xamin_test/vo/tap/sync\"\n",
    "#print(url)\n",
    "#xamin_service = TapPlus(url=url,verbose=True)\n",
    "#xamin_job = xamin_service.launch_job(\n",
    "#    f\"\"\"SELECT ra, dec, Radial_Velocity FROM zcat as cat where \n",
    "#    contains(point('ICRS',cat.ra,cat.dec),circle('ICRS',{coord.ra.deg},{coord.dec.deg},{1.0}))=1 and\n",
    "#    cat.bmag < 14\n",
    "#    order by cat.radial_velocity_error\n",
    "#    \"\"\")\n",
    "#xamin_results = xamin_job.get_results()\n",
    "#print(xamin_results)"
   ]
  },
  {
   "cell_type": "code",
   "execution_count": 6,
   "metadata": {},
   "outputs": [
    {
     "data": {
      "text/html": [
       "<i>Table masked=True length=3</i>\n",
       "<table id=\"table4651997056\" class=\"table-striped table-bordered table-condensed\">\n",
       "<thead><tr><th>ra</th><th>dec</th><th>radial_velocity</th></tr></thead>\n",
       "<thead><tr><th>float64</th><th>float64</th><th>int32</th></tr></thead>\n",
       "<tr><td>202.46823227</td><td>47.19814872</td><td>474</td></tr>\n",
       "<tr><td>202.49490508</td><td>47.2679204</td><td>558</td></tr>\n",
       "<tr><td>202.54744757</td><td>46.66995898</td><td>2569</td></tr>\n",
       "</table>"
      ],
      "text/plain": [
       "<Table masked=True length=3>\n",
       "     ra          dec     radial_velocity\n",
       "  float64      float64        int32     \n",
       "------------ ----------- ---------------\n",
       "202.46823227 47.19814872             474\n",
       "202.49490508  47.2679204             558\n",
       "202.54744757 46.66995898            2569"
      ]
     },
     "execution_count": 6,
     "metadata": {},
     "output_type": "execute_result"
    }
   ],
   "source": [
    "query=f\"SELECT ra, dec, Radial_Velocity FROM zcat as cat where contains(point('ICRS',cat.ra,cat.dec),circle('ICRS',{coord.ra.deg},{coord.dec.deg},1.0))=1 and cat.bmag < 14 order by cat.radial_velocity_error\"\n",
    "service=tap_services[0]\n",
    "table=Tap.query(service,query)\n",
    "table"
   ]
  },
  {
   "cell_type": "markdown",
   "metadata": {},
   "source": [
    "If you aren't sure what columns are available, get all attributes of one row and take a look:"
   ]
  },
  {
   "cell_type": "code",
   "execution_count": 7,
   "metadata": {},
   "outputs": [
    {
     "name": "stdout",
     "output_type": "stream",
     "text": [
      "<class 'str'>\n"
     ]
    },
    {
     "data": {
      "text/html": [
       "<i>Table masked=True length=1</i>\n",
       "<table id=\"table4652988568\" class=\"table-striped table-bordered table-condensed\">\n",
       "<thead><tr><th>__row</th><th>name</th><th>ra</th><th>dec</th><th>lii</th><th>bii</th><th>bmag</th><th>radial_velocity</th><th>radial_velocity_error</th><th>ref_bmag</th><th>ref_radial_velocity</th><th>morph_type</th><th>bar_type</th><th>luminosity_class</th><th>structure</th><th>diameter_1</th><th>diameter_2</th><th>bt_mag</th><th>ugc_or_eso</th><th>distance</th><th>rfn_number</th><th>comments</th><th>redshift</th><th>ref_redshift</th><th>notes</th><th>class</th><th>__x_ra_dec</th><th>__y_ra_dec</th><th>__z_ra_dec</th></tr></thead>\n",
       "<thead><tr><th>int32</th><th>str5</th><th>float64</th><th>float64</th><th>float64</th><th>float64</th><th>float32</th><th>int32</th><th>int32</th><th>str2</th><th>int32</th><th>int32</th><th>str2</th><th>int32</th><th>str2</th><th>float64</th><th>float64</th><th>float64</th><th>str6</th><th>float64</th><th>str2</th><th>str2</th><th>float64</th><th>int32</th><th>str2</th><th>int32</th><th>float64</th><th>float64</th><th>float64</th></tr></thead>\n",
       "<tr><td>1</td><td>N2573</td><td>25.40675631</td><td>-89.33515576</td><td>302.7686762</td><td>-27.77712257</td><td>--</td><td>2294</td><td>-1</td><td></td><td>3100</td><td>4</td><td></td><td>-1</td><td></td><td>2.3</td><td>1.0</td><td>--</td><td>001001</td><td>--</td><td></td><td></td><td>--</td><td>-1</td><td></td><td>6200</td><td>0.00497836790120017</td><td>0.0104812285064099</td><td>-0.999932677584865</td></tr>\n",
       "</table>"
      ],
      "text/plain": [
       "<Table masked=True length=1>\n",
       "__row  name      ra     ...     __y_ra_dec         __z_ra_dec    \n",
       "int32  str5   float64   ...      float64            float64      \n",
       "----- ----- ----------- ... ------------------ ------------------\n",
       "    1 N2573 25.40675631 ... 0.0104812285064099 -0.999932677584865"
      ]
     },
     "execution_count": 7,
     "metadata": {},
     "output_type": "execute_result"
    }
   ],
   "source": [
    "url=str(tap_services['access_url'][0])\n",
    "print(type(str(url)))\n",
    "table=Tap.query(url,\"SELECT top 1 * FROM zcat\")\n",
    "table"
   ]
  },
  {
   "cell_type": "markdown",
   "metadata": {},
   "source": [
    "(See the __[information on the zcat](https://heasarc.gsfc.nasa.gov/W3Browse/galaxy-catalog/zcat.html)__ for column information. We will use the 'radial_velocity' column rather than the 'redshift' column.)"
   ]
  },
  {
   "cell_type": "markdown",
   "metadata": {},
   "source": [
    "<a id=\"cc\"></a>\n",
    "# 2. TAP:  Using the TAP to cross-correlate our objects with a catalog"
   ]
  },
  {
   "cell_type": "markdown",
   "metadata": {},
   "source": [
    "Now to search all of our sources in one go, we need to upload our own table and do a 'cross-correlation' with the *zcat* table. For more on creating VOTable objects, see that notebook.  Here, we just read one in:  "
   ]
  },
  {
   "cell_type": "markdown",
   "metadata": {},
   "source": [
    "This is how we'd like it to work, but for the moment, this is broken."
   ]
  },
  {
   "cell_type": "code",
   "execution_count": 8,
   "metadata": {},
   "outputs": [],
   "source": [
    "#query=\"\"\"\n",
    "#    SELECT cat.ra, cat.dec, Radial_Velocity \n",
    "#    FROM zcat cat, tap_upload.mysources mt \n",
    "#    WHERE\n",
    "#    contains(point('ICRS',cat.ra,cat.dec),circle('ICRS',mt.ra,mt.dec,0.1))=1\n",
    "#    and Radial_Velocity > 0\n",
    "#    ORDER by cat.ra\"\"\"\n",
    "#url='https://heasarc.gsfc.nasa.gov/xamin_test/vo/tap'\n",
    "#table=Tap.query(url,query,upload_file=\"../my_sources.xml\",upload_name='mysources')\n",
    "#table.meta"
   ]
  },
  {
   "cell_type": "markdown",
   "metadata": {},
   "source": [
    "### This can be done with requests:\n",
    "\n",
    "(These take a while, i.e. half a minute.)"
   ]
  },
  {
   "cell_type": "code",
   "execution_count": 9,
   "metadata": {},
   "outputs": [
    {
     "data": {
      "text/html": [
       "<i>Table masked=True length=3</i>\n",
       "<table id=\"table4365858128\" class=\"table-striped table-bordered table-condensed\">\n",
       "<thead><tr><th>ra</th><th>dec</th><th>radial_velocity</th></tr></thead>\n",
       "<thead><tr><th>float64</th><th>float64</th><th>int32</th></tr></thead>\n",
       "<tr><td>202.46823227</td><td>47.19814872</td><td>474</td></tr>\n",
       "<tr><td>202.49490508</td><td>47.2679204</td><td>558</td></tr>\n",
       "<tr><td>202.54744757</td><td>46.66995898</td><td>2569</td></tr>\n",
       "</table>"
      ],
      "text/plain": [
       "<Table masked=True length=3>\n",
       "     ra          dec     radial_velocity\n",
       "  float64      float64        int32     \n",
       "------------ ----------- ---------------\n",
       "202.46823227 47.19814872             474\n",
       "202.49490508  47.2679204             558\n",
       "202.54744757 46.66995898            2569"
      ]
     },
     "execution_count": 9,
     "metadata": {},
     "output_type": "execute_result"
    }
   ],
   "source": [
    "files={'uplt':open('../my_sources.xml', 'rb')}\n",
    "\n",
    "cc_params={\n",
    "    'lang': 'ADQL', \n",
    "    'request': 'doQuery',\n",
    "    'upload':'mysources,param:uplt'\n",
    "    }\n",
    "\n",
    "cc_params[\"query\"]=query\n",
    "r = requests.post(tap_services[0]['access_url']+'/sync',data=cc_params,stream=True,files=files)\n",
    "#r.text\n",
    "mytable=Table.read(io.BytesIO(r.content))\n",
    "mytable"
   ]
  },
  {
   "cell_type": "markdown",
   "metadata": {},
   "source": [
    "###  Or with TapPlus"
   ]
  },
  {
   "cell_type": "code",
   "execution_count": 10,
   "metadata": {},
   "outputs": [
    {
     "name": "stdout",
     "output_type": "stream",
     "text": [
      "Created TAP+ (v1.0.1) - Connection:\n",
      "\tHost: heasarc.gsfc.nasa.gov\n",
      "\tUse HTTPS: True\n",
      "\tPort: 443\n",
      "\tSSL Port: 443\n",
      "Launched query: 'SELECT  TOP 2000 ra, dec, Radial_Velocity FROM zcat as cat where contains(point('ICRS',cat.ra,cat.dec),circle('ICRS',202.469575,47.1952583,1.0))=1 and cat.bmag < 14 order by cat.radial_velocity_error'\n",
      "200 OK\n",
      "[('Date', 'Fri, 01 Jun 2018 19:30:02 GMT'), ('Query-Defer', '261'), ('Content-Type', 'text/xml'), ('Transfer-Encoding', 'chunked'), ('Strict-Transport-Security', 'max-age=31536000; includeSubDomains')]\n",
      "Retrieving sync. results...\n",
      "Query finished.\n",
      "     ra          dec     radial_velocity\n",
      "------------ ----------- ---------------\n",
      "202.46823227 47.19814872             474\n",
      "202.49490508  47.2679204             558\n",
      "202.54744757 46.66995898            2569\n"
     ]
    }
   ],
   "source": [
    "from astroquery.utils.tap.core import TapPlus\n",
    "xamin=TapPlus(url=tap_services[0]['access_url'])\n",
    "job=xamin.launch_job(query=query, upload_resource='../my_sources.xml', upload_table_name=\"mysources\", verbose=True)\n",
    "result = job.get_results()\n",
    "result.pprint()"
   ]
  },
  {
   "cell_type": "markdown",
   "metadata": {},
   "source": [
    "<a id=\"combo\"></a>\n",
    "\n",
    "# 3.  Combining data from different catalogs and cross-correlating\n",
    "Now we'd like to take the redshift information (above, as a radial velocity) and determine a search radius to use for each galaxy based on its distance, so that we are are searching within a given physical distance. "
   ]
  },
  {
   "cell_type": "code",
   "execution_count": 11,
   "metadata": {},
   "outputs": [
    {
     "data": {
      "text/html": [
       "<i>Table masked=True length=3</i>\n",
       "<table id=\"table4365858128\" class=\"table-striped table-bordered table-condensed\">\n",
       "<thead><tr><th>ra</th><th>dec</th><th>radial_velocity</th><th>redshift</th><th>angDdeg</th></tr></thead>\n",
       "<thead><tr><th></th><th></th><th></th><th></th><th>deg</th></tr></thead>\n",
       "<thead><tr><th>float64</th><th>float64</th><th>int32</th><th>float64</th><th>float64</th></tr></thead>\n",
       "<tr><td>202.46823227</td><td>47.19814872</td><td>474</td><td>0.00158</td><td>0.007164315980361076</td></tr>\n",
       "<tr><td>202.49490508</td><td>47.2679204</td><td>558</td><td>0.00186</td><td>0.006087942574467991</td></tr>\n",
       "<tr><td>202.54744757</td><td>46.66995898</td><td>2569</td><td>0.008563333333333333</td><td>0.0013332722231319696</td></tr>\n",
       "</table>"
      ],
      "text/plain": [
       "<Table masked=True length=3>\n",
       "     ra          dec     ...       redshift              angDdeg       \n",
       "                         ...                               deg         \n",
       "  float64      float64   ...       float64               float64       \n",
       "------------ ----------- ... -------------------- ---------------------\n",
       "202.46823227 47.19814872 ...              0.00158  0.007164315980361076\n",
       "202.49490508  47.2679204 ...              0.00186  0.006087942574467991\n",
       "202.54744757 46.66995898 ... 0.008563333333333333 0.0013332722231319696"
      ]
     },
     "execution_count": 11,
     "metadata": {},
     "output_type": "execute_result"
    }
   ],
   "source": [
    "## The radial_velocity is in km/s, and this is just c*z, so\n",
    "c=3.0e5 # km/s\n",
    "redshifts=mytable['radial_velocity'].filled(0.)/c  # Filling masked values with zero\n",
    "mytable['redshift']=redshifts\n",
    "from astropy import units\n",
    "physdist=0.05*units.Mpc # 50 kpc physical distance\n",
    "\n",
    "## This needs scipy.  \n",
    "from astropy.cosmology import Planck15\n",
    "angDdist=Planck15.angular_diameter_distance(mytable['redshift'])\n",
    "## angDdist is returned from the astropy.cosmology module as a Quantity object, \n",
    "##  i.e. a value and a unit.  Arctan is smart enough not to operate on quantities\n",
    "##  that aren't unitless.  So angDdist.value to just get the value.\n",
    "angDrad=numpy.arctan(physdist/angDdist)\n",
    "angDdeg=angDrad*units.deg/units.rad\n",
    "mytable['angDdeg']=angDdeg\n",
    "mytable"
   ]
  },
  {
   "cell_type": "markdown",
   "metadata": {},
   "source": [
    "This time, rather than write the table to disk, we'll keep it in memory and give requests a \"file-like\" object using io.BytesIO():"
   ]
  },
  {
   "cell_type": "code",
   "execution_count": 12,
   "metadata": {},
   "outputs": [
    {
     "name": "stdout",
     "output_type": "stream",
     "text": [
      "<TableColumns names=('ra','dec','radial_velocity','redshift','angDdeg')>\n"
     ]
    }
   ],
   "source": [
    "## In memory only, use an IO stream. \n",
    "vot_obj=io.BytesIO()\n",
    "print(mytable.columns)\n",
    "apvot.writeto(apvot.from_table(mytable),vot_obj)\n",
    "## (Reset the \"file-like\" object to the beginning.)\n",
    "vot_obj.seek(0)\n",
    "## 'uplt' is what we'll call it (for 'upload table') \n",
    "##   in the requests parameters below, or what you will:\n",
    "files={'uplt':vot_obj}\n"
   ]
  },
  {
   "cell_type": "markdown",
   "metadata": {},
   "source": [
    "This takes half a minute:"
   ]
  },
  {
   "cell_type": "code",
   "execution_count": 13,
   "metadata": {},
   "outputs": [
    {
     "data": {
      "text/html": [
       "<i>Table masked=True length=3</i>\n",
       "<table id=\"table4673109912\" class=\"table-striped table-bordered table-condensed\">\n",
       "<thead><tr><th>ra</th><th>dec</th><th>radial_velocity</th></tr></thead>\n",
       "<thead><tr><th>float64</th><th>float64</th><th>int32</th></tr></thead>\n",
       "<tr><td>202.46823227</td><td>47.19814872</td><td>474</td></tr>\n",
       "<tr><td>202.49490508</td><td>47.2679204</td><td>558</td></tr>\n",
       "<tr><td>202.54744757</td><td>46.66995898</td><td>2569</td></tr>\n",
       "</table>"
      ],
      "text/plain": [
       "<Table masked=True length=3>\n",
       "     ra          dec     radial_velocity\n",
       "  float64      float64        int32     \n",
       "------------ ----------- ---------------\n",
       "202.46823227 47.19814872             474\n",
       "202.49490508  47.2679204             558\n",
       "202.54744757 46.66995898            2569"
      ]
     },
     "execution_count": 13,
     "metadata": {},
     "output_type": "execute_result"
    }
   ],
   "source": [
    "cc_params={\n",
    "    'lang': 'ADQL', \n",
    "    'request': 'doQuery',\n",
    "    'upload':'mytable,param:uplt'\n",
    "    }\n",
    "## This is your ADQL query, where \"mytable\" here has to \n",
    "##  match what you specified in the upload parameter above\n",
    "cc_params[\"query\"]=\"\"\"\n",
    "    SELECT cat.ra, cat.dec, cat.Radial_Velocity \n",
    "    FROM zcat cat, tap_upload.mytable mt \n",
    "    WHERE\n",
    "    contains(point('ICRS',cat.ra,cat.dec),circle('ICRS',mt.ra,mt.dec,mt.angDdeg))=1\n",
    "    and cat.Radial_Velocity > 0\n",
    "    ORDER by cat.ra\"\"\"\n",
    "## The name you give here (tab1) matches what's in the cc_params\n",
    "r = requests.post('https://heasarc.gsfc.nasa.gov/xamin/vo/tap/sync',data=cc_params,stream=True,files=files)\n",
    "mytable=Table.read(io.BytesIO(r.content))\n",
    "mytable"
   ]
  },
  {
   "cell_type": "code",
   "execution_count": null,
   "metadata": {},
   "outputs": [],
   "source": []
  }
 ],
 "metadata": {
  "anaconda-cloud": {},
  "kernelspec": {
   "display_name": "Python 3",
   "language": "python",
   "name": "python3"
  },
  "language_info": {
   "codemirror_mode": {
    "name": "ipython",
    "version": 3
   },
   "file_extension": ".py",
   "mimetype": "text/x-python",
   "name": "python",
   "nbconvert_exporter": "python",
   "pygments_lexer": "ipython3",
   "version": "3.6.5"
  }
 },
 "nbformat": 4,
 "nbformat_minor": 1
}
