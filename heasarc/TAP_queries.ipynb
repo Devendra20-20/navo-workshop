{
 "cells": [
  {
   "cell_type": "markdown",
   "metadata": {},
   "source": [
    "# Accessing  HEASARC tables through the TAP with ADQL\n",
    "\n",
    "We have used the __[Table Access Protocol](http://www.ivoa.net/documents/TAP/)__ (TAP) protocol in several other notebooks for basic queries.  Here, we expand on its usage and that of the __[Astronomical Data Query Language](http://www.ivoa.net/documents/latest/ADQL.html)__ (ADQL) that it uses.  \n",
    "\n",
    "* [1. Basic](#basic) Table Access Protocol queries\n",
    "* [2. Cross-correlating](#cc) our own catalog with a HEASARC catalog\n",
    "* [3. Combining](#combo) data from multiple catalogs and cross-correlating\n"
   ]
  },
  {
   "cell_type": "code",
   "execution_count": 2,
   "metadata": {},
   "outputs": [],
   "source": [
    "import numpy\n",
    "## There are a number of relatively unimportant warnings that \n",
    "## show up, so for now, suppress them:\n",
    "import warnings\n",
    "warnings.filterwarnings(\"ignore\")\n",
    "\n",
    "## For simple astropy tables\n",
    "import astropy, io, requests\n",
    "\n",
    "## For handling ordinary astropy Tables\n",
    "from astropy.table import Table\n",
    "\n",
    "## For handling VO table type objects\n",
    "from astropy.io import votable as apvot\n",
    "\n",
    "# Use the astroquery TapPlus library.\n",
    "from astroquery.utils.tap.core import TapPlus\n",
    "\n",
    "## Use NAVO utility for Registry and Cone searches\n",
    "import sys\n",
    "sys.path.append(\"../aas_workshop_2018_summer/navo_utils\")\n",
    "from navo_utils.registry import Registry\n",
    "from navo_utils.cone import Cone\n",
    "from navo_utils.tap import Tap\n"
   ]
  },
  {
   "cell_type": "markdown",
   "metadata": {},
   "source": [
    "<a id=\"basic\"></a>\n",
    "\n",
    "# 1. Basic Table Access Protocol queries\n",
    "\n",
    "A TAP query is the most powerful way to search a catalog. A Simple Cone Search only allows you to ask for a position and radius, but TAP allows you to do much more.    \n",
    "\n",
    "Supposed you already know that you want to query the \"zcat\" at the HEASARC. (More on discovering catalogs to query below.)  We use the registry to find the corresponding cone service and then submit our cone search.  "
   ]
  },
  {
   "cell_type": "code",
   "execution_count": 23,
   "metadata": {},
   "outputs": [
    {
     "name": "stdout",
     "output_type": "stream",
     "text": [
      "<SkyCoord (ICRS): (ra, dec) in deg\n",
      "    (202.469575, 47.1952583)>\n"
     ]
    },
    {
     "data": {
      "text/html": [
       "<i>Table masked=True length=3</i>\n",
       "<table id=\"table4456647256\" class=\"table-striped table-bordered table-condensed\">\n",
       "<thead><tr><th>waveband</th><th>short_name</th><th>ivoid</th><th>res_description</th><th>access_url</th><th>reference_url</th><th>publisher</th><th>service_type</th></tr></thead>\n",
       "<thead><tr><th>str23</th><th>str9</th><th>str28</th><th>str24</th><th>str77</th><th>str57</th><th>str17</th><th>str10</th></tr></thead>\n",
       "<tr><td>optical</td><td>ABELLZCAT</td><td>ivo://nasa.heasarc/abellzcat</td><td>No Description Available</td><td>https://heasarc.gsfc.nasa.gov/cgi-bin/vo/cone/coneGet.pl?table=abellzcat&amp;amp;</td><td>https://heasarc.gsfc.nasa.gov/W3Browse/all/abellzcat.html</td><td>NASA/GSFC HEASARC</td><td>conesearch</td></tr>\n",
       "<tr><td>gamma-ray#optical#x-ray</td><td>ROMABZCAT</td><td>ivo://nasa.heasarc/romabzcat</td><td>No Description Available</td><td>https://heasarc.gsfc.nasa.gov/cgi-bin/vo/cone/coneGet.pl?table=romabzcat&amp;amp;</td><td>https://heasarc.gsfc.nasa.gov/W3Browse/all/romabzcat.html</td><td>NASA/GSFC HEASARC</td><td>conesearch</td></tr>\n",
       "<tr><td>optical</td><td>CFAZ</td><td>ivo://nasa.heasarc/zcat</td><td>No Description Available</td><td>https://heasarc.gsfc.nasa.gov/cgi-bin/vo/cone/coneGet.pl?table=zcat&amp;amp;</td><td>https://heasarc.gsfc.nasa.gov/W3Browse/all/zcat.html</td><td>NASA/GSFC HEASARC</td><td>conesearch</td></tr>\n",
       "</table>"
      ],
      "text/plain": [
       "<Table masked=True length=3>\n",
       "        waveband        short_name ...     publisher     service_type\n",
       "         str23             str9    ...       str17          str10    \n",
       "----------------------- ---------- ... ----------------- ------------\n",
       "                optical  ABELLZCAT ... NASA/GSFC HEASARC   conesearch\n",
       "gamma-ray#optical#x-ray  ROMABZCAT ... NASA/GSFC HEASARC   conesearch\n",
       "                optical       CFAZ ... NASA/GSFC HEASARC   conesearch"
      ]
     },
     "execution_count": 23,
     "metadata": {},
     "output_type": "execute_result"
    }
   ],
   "source": [
    "import astropy.coordinates as coord\n",
    "coord=coord.SkyCoord.from_name(\"m51\")\n",
    "print(coord)\n",
    "services=Registry.query(service_type='cone',source='heasarc%zcat')\n",
    "services"
   ]
  },
  {
   "cell_type": "code",
   "execution_count": 24,
   "metadata": {},
   "outputs": [
    {
     "data": {
      "text/html": [
       "<i>Table masked=True length=9</i>\n",
       "<table id=\"table34819892728\" class=\"table-striped table-bordered table-condensed\">\n",
       "<thead><tr><th>name</th><th>ra</th><th>dec</th><th>bmag</th><th>radial_velocity</th><th>radial_velocity_error</th><th>redshift</th><th>class</th><th>Search_Offset</th></tr></thead>\n",
       "<thead><tr><th></th><th>deg</th><th>deg</th><th></th><th>km / s</th><th>km / s</th><th></th><th></th><th></th></tr></thead>\n",
       "<thead><tr><th>str10</th><th>float64</th><th>float64</th><th>float32</th><th>int32</th><th>int32</th><th>float64</th><th>int32</th><th>float64</th></tr></thead>\n",
       "<tr><td>13267+4631</td><td>202.20650</td><td>46.25850</td><td>15.10</td><td>0</td><td>0</td><td>--</td><td>9999</td><td>57.2374</td></tr>\n",
       "<tr><td>N5173</td><td>202.10529</td><td>46.59082</td><td>14.12</td><td>2467</td><td>26</td><td>--</td><td>6300</td><td>39.2217</td></tr>\n",
       "<tr><td>N5198</td><td>202.54745</td><td>46.66996</td><td>13.30</td><td>2569</td><td>25</td><td>--</td><td>6300</td><td>31.6790</td></tr>\n",
       "<tr><td>N5169</td><td>202.04237</td><td>46.67154</td><td>14.70</td><td>2482</td><td>40</td><td>--</td><td>6200</td><td>35.9691</td></tr>\n",
       "<tr><td>I4263</td><td>202.13883</td><td>46.92671</td><td>15.40</td><td>2663</td><td>25</td><td>--</td><td>6200</td><td>21.0327</td></tr>\n",
       "<tr><td>N5194</td><td>202.46823</td><td>47.19815</td><td>9.03</td><td>474</td><td>23</td><td>--</td><td>6200</td><td>0.1819</td></tr>\n",
       "<tr><td>N5195</td><td>202.49491</td><td>47.26792</td><td>10.94</td><td>558</td><td>23</td><td>--</td><td>6200</td><td>4.4802</td></tr>\n",
       "<tr><td>1325+4754</td><td>201.87771</td><td>47.64124</td><td>--</td><td>18107</td><td>179</td><td>--</td><td>9999</td><td>35.9641</td></tr>\n",
       "<tr><td>1325+4754</td><td>201.95234</td><td>47.64138</td><td>--</td><td>18296</td><td>11</td><td>--</td><td>9999</td><td>34.0210</td></tr>\n",
       "</table>"
      ],
      "text/plain": [
       "<Table masked=True length=9>\n",
       "   name        ra      dec      bmag  ... redshift class Search_Offset\n",
       "              deg      deg            ...                             \n",
       "  str10     float64  float64  float32 ... float64  int32    float64   \n",
       "---------- --------- -------- ------- ... -------- ----- -------------\n",
       "13267+4631 202.20650 46.25850   15.10 ...       --  9999       57.2374\n",
       "     N5173 202.10529 46.59082   14.12 ...       --  6300       39.2217\n",
       "     N5198 202.54745 46.66996   13.30 ...       --  6300       31.6790\n",
       "     N5169 202.04237 46.67154   14.70 ...       --  6200       35.9691\n",
       "     I4263 202.13883 46.92671   15.40 ...       --  6200       21.0327\n",
       "     N5194 202.46823 47.19815    9.03 ...       --  6200        0.1819\n",
       "     N5195 202.49491 47.26792   10.94 ...       --  6200        4.4802\n",
       " 1325+4754 201.87771 47.64124      -- ...       --  9999       35.9641\n",
       " 1325+4754 201.95234 47.64138      -- ...       --  9999       34.0210"
      ]
     },
     "execution_count": 24,
     "metadata": {},
     "output_type": "execute_result"
    }
   ],
   "source": [
    "## Different tries seem to come back in different order!  Want CFAZ.  \n",
    "table=Cone.query(service=services[2],coords=coord,radius=1)\n",
    "table[0]"
   ]
  },
  {
   "cell_type": "markdown",
   "metadata": {},
   "source": [
    "With the TAP, you can refine the search based on any other attribute in the given catalog.  "
   ]
  },
  {
   "cell_type": "markdown",
   "metadata": {},
   "source": [
    "Now, we saw above with the results of the Registry query for cone services that the HEASARC lists every catalog as a separate cone service.  So we can find it with a search for source='heasarc%zcat', where the \"%\" is a wildcard.  But for TAP services, HEASARC lists in the Registry one TAP service that can access many catalogs:"
   ]
  },
  {
   "cell_type": "code",
   "execution_count": 16,
   "metadata": {
    "scrolled": true
   },
   "outputs": [
    {
     "name": "stdout",
     "output_type": "stream",
     "text": [
      "https://heasarc.gsfc.nasa.gov/xamin/vo/tap\n"
     ]
    }
   ],
   "source": [
    "tap_services=Registry.query(service_type='table',source='heasarc')\n",
    "url=tap_services[0]['access_url']\n",
    "print(url)"
   ]
  },
  {
   "cell_type": "code",
   "execution_count": 46,
   "metadata": {
    "scrolled": true
   },
   "outputs": [
    {
     "data": {
      "text/html": [
       "<i>Row index=20 masked=True</i>\n",
       "<table id=\"table4455382880\">\n",
       "<thead><tr><th>waveband</th><th>short_name</th><th>ivoid</th><th>res_description</th><th>access_url</th><th>reference_url</th><th>publisher</th><th>service_type</th></tr></thead>\n",
       "<thead><tr><th>str16</th><th>str16</th><th>str45</th><th>str3760</th><th>str58</th><th>str155</th><th>str93</th><th>str11</th></tr></thead>\n",
       "<tr><td>x-ray</td><td>CDA</td><td>ivo://cxc.harvard.edu/cda</td><td>The Chandra X-ray Observatory is the U.S. follow-on to the Einstein Observatory. Chandra was formerly known as AXAF, the Advanced X-ray Astrophysics Facility, but renamed by NASA in December, 1998. Originally three instruments and a high-resolution mirror carried in one spacecraft, the project was reworked in 1992 and 1993. The Chandra spacecraft carries a high resolution mirror, two imaging detectors, and two sets of transmission gratings. Important Chandra features are: an order of magnitude improvement in spatial resolution, good sensitivity from 0.1 to 10 keV, and the capability for high spectral resolution observations over most of this range.</td><td>http://cda.harvard.edu/cxctap</td><td>http://cxc.harvard.edu/cda/</td><td>Chandra X-ray Observatory</td><td>tableaccess</td></tr>\n",
       "</table>"
      ],
      "text/plain": [
       "<Row index=20 masked=True>\n",
       "waveband short_name           ivoid                                                                                                                                                                                                                                                                                                                                           res_description                                                                                                                                                                                                                                                                                                                                            access_url                 reference_url                publisher         service_type\n",
       " str16     str16              str45                                                                                                                                                                                                                                                                                                                                               str3760                                                                                                                                                                                                                                                                                                                                                  str58                        str155                     str93              str11    \n",
       "-------- ---------- ------------------------- -------------------------------------------------------------------------------------------------------------------------------------------------------------------------------------------------------------------------------------------------------------------------------------------------------------------------------------------------------------------------------------------------------------------------------------------------------------------------------------------------------------------------------------------------------------------------------------------------------------------------------------------------------------------------------- ----------------------------- --------------------------- ------------------------- ------------\n",
       "   x-ray        CDA ivo://cxc.harvard.edu/cda The Chandra X-ray Observatory is the U.S. follow-on to the Einstein Observatory. Chandra was formerly known as AXAF, the Advanced X-ray Astrophysics Facility, but renamed by NASA in December, 1998. Originally three instruments and a high-resolution mirror carried in one spacecraft, the project was reworked in 1992 and 1993. The Chandra spacecraft carries a high resolution mirror, two imaging detectors, and two sets of transmission gratings. Important Chandra features are: an order of magnitude improvement in spatial resolution, good sensitivity from 0.1 to 10 keV, and the capability for high spectral resolution observations over most of this range. http://cda.harvard.edu/cxctap http://cxc.harvard.edu/cda/ Chandra X-ray Observatory  tableaccess"
      ]
     },
     "execution_count": 46,
     "metadata": {},
     "output_type": "execute_result"
    }
   ],
   "source": [
    "tap_services=Registry.query(service_type='table')\n",
    "tap_services[20]"
   ]
  },
  {
   "cell_type": "markdown",
   "metadata": {},
   "source": [
    "How do we know which we want if we did not know it was called \"public.zcat\"?  You can also use TapPlus to get the names of all of the catalogs a given service provides.  This could be done in a loop over *all* the Registry results for table services if you don't know which service provides the one you want.  "
   ]
  },
  {
   "cell_type": "code",
   "execution_count": 43,
   "metadata": {},
   "outputs": [
    {
     "name": "stdout",
     "output_type": "stream",
     "text": [
      "Created TAP+ (v1.0.1) - Connection:\n",
      "\tHost: cda.harvard.edu\n",
      "\tUse HTTPS: False\n",
      "\tPort: 80\n",
      "\tSSL Port: 443\n",
      "Retrieving tables...\n",
      "Parsing tables...\n",
      "Done.\n",
      "TAP_SCHEMA.TAP_SCHEMA.schemas\n",
      "TAP_SCHEMA.TAP_SCHEMA.tables\n",
      "TAP_SCHEMA.TAP_SCHEMA.columns\n",
      "TAP_SCHEMA.TAP_SCHEMA.keys\n",
      "TAP_SCHEMA.TAP_SCHEMA.key_columns\n",
      "ivoa.ivoa.ObsCore\n",
      "cxc.cxc.proposal\n",
      "cxc.cxc.observation\n",
      "cxc.cxc.image\n",
      "cxc.cxc.cone\n"
     ]
    }
   ],
   "source": [
    "cxc = TapPlus(url=tap_services[20]['access_url'])\n",
    "tables = cxc.load_tables()\n",
    "for table in (tables):\n",
    "    print(table.get_qualified_name())\n"
   ]
  },
  {
   "cell_type": "code",
   "execution_count": 45,
   "metadata": {},
   "outputs": [
    {
     "name": "stdout",
     "output_type": "stream",
     "text": [
      "Retrieving table 'cxc.cxc.image'\n",
      "Parsing table 'cxc.cxc.image'...\n",
      "Done.\n",
      "schema_name\n",
      "description\n",
      "utype\n",
      "id\n"
     ]
    }
   ],
   "source": [
    "cxc_table = cxc.load_table('cxc.cxc.image')\n",
    "for column in (cxc_table.get_columns()):\n",
    "    print(column.get_name())\n"
   ]
  },
  {
   "cell_type": "markdown",
   "metadata": {},
   "source": [
    "Then after you've selected the *public.zcat* table, you want to know what columns you can query:  "
   ]
  },
  {
   "cell_type": "code",
   "execution_count": 49,
   "metadata": {},
   "outputs": [
    {
     "name": "stdout",
     "output_type": "stream",
     "text": [
      "http://cda.harvard.edu/cxctap\n",
      "Created TAP+ (v1.0.1) - Connection:\n",
      "\tHost: cda.harvard.edu\n",
      "\tUse HTTPS: False\n",
      "\tPort: 80\n",
      "\tSSL Port: 443\n",
      "Retrieving tables...\n",
      "Parsing tables...\n",
      "Done.\n",
      "TAP_SCHEMA.TAP_SCHEMA.schemas\n",
      "TAP_SCHEMA.TAP_SCHEMA.tables\n",
      "TAP_SCHEMA.TAP_SCHEMA.columns\n",
      "TAP_SCHEMA.TAP_SCHEMA.keys\n",
      "TAP_SCHEMA.TAP_SCHEMA.key_columns\n",
      "ivoa.ivoa.ObsCore\n",
      "cxc.cxc.proposal\n",
      "cxc.cxc.observation\n",
      "cxc.cxc.image\n",
      "cxc.cxc.cone\n",
      "Retrieving table 'cxc.cxc.image'\n",
      "Parsing table 'cxc.cxc.image'...\n",
      "Done.\n",
      "schema_name\n",
      "description\n",
      "utype\n",
      "id\n"
     ]
    }
   ],
   "source": [
    "## Use the Registry to find all TAP services and select one, which CXC\n",
    "tap_services=Registry.query(service_type='table')\n",
    "print(tap_services[20]['access_url'])\n",
    "\n",
    "## Then get all the tables served by this service:\n",
    "cxc = TapPlus(url=tap_services[20]['access_url'])\n",
    "tables = cxc.load_tables()\n",
    "for table in (tables):\n",
    "    print(table.get_qualified_name())\n",
    "\n",
    "## Then try to find the columns\n",
    "cxc_table = cxc.load_table('cxc.cxc.image')\n",
    "for column in (cxc_table.get_columns()):\n",
    "    print(column.get_name())\n"
   ]
  },
  {
   "cell_type": "markdown",
   "metadata": {},
   "source": [
    "## Why does this work for this Gaia table but not for HEASARC's zcat or CXC stuff?"
   ]
  },
  {
   "cell_type": "code",
   "execution_count": 26,
   "metadata": {
    "scrolled": true
   },
   "outputs": [
    {
     "name": "stdout",
     "output_type": "stream",
     "text": [
      "Created TAP+ (v1.0.1) - Connection:\n",
      "\tHost: gea.esac.esa.int\n",
      "\tUse HTTPS: False\n",
      "\tPort: 80\n",
      "\tSSL Port: 443\n",
      "Retrieving table 'gaiadr1.gaia_source'\n",
      "Parsing table 'gaiadr1.gaia_source'...\n",
      "Done.\n",
      "solution_id\n",
      "source_id\n",
      "random_index\n",
      "ref_epoch\n",
      "ra\n",
      "ra_error\n",
      "dec\n",
      "dec_error\n",
      "parallax\n",
      "parallax_error\n",
      "pmra\n",
      "pmra_error\n",
      "pmdec\n",
      "pmdec_error\n",
      "ra_dec_corr\n",
      "ra_parallax_corr\n",
      "ra_pmra_corr\n",
      "ra_pmdec_corr\n",
      "dec_parallax_corr\n",
      "dec_pmra_corr\n",
      "dec_pmdec_corr\n",
      "parallax_pmra_corr\n",
      "parallax_pmdec_corr\n",
      "pmra_pmdec_corr\n",
      "astrometric_n_obs_al\n",
      "astrometric_n_obs_ac\n",
      "astrometric_n_good_obs_al\n",
      "astrometric_n_good_obs_ac\n",
      "astrometric_n_bad_obs_al\n",
      "astrometric_n_bad_obs_ac\n",
      "astrometric_delta_q\n",
      "astrometric_excess_noise\n",
      "astrometric_excess_noise_sig\n",
      "astrometric_primary_flag\n",
      "astrometric_relegation_factor\n",
      "astrometric_weight_al\n",
      "astrometric_weight_ac\n",
      "astrometric_priors_used\n",
      "matched_observations\n",
      "duplicated_source\n",
      "scan_direction_strength_k1\n",
      "scan_direction_strength_k2\n",
      "scan_direction_strength_k3\n",
      "scan_direction_strength_k4\n",
      "scan_direction_mean_k1\n",
      "scan_direction_mean_k2\n",
      "scan_direction_mean_k3\n",
      "scan_direction_mean_k4\n",
      "phot_g_n_obs\n",
      "phot_g_mean_flux\n",
      "phot_g_mean_flux_error\n",
      "phot_g_mean_mag\n",
      "phot_variable_flag\n",
      "l\n",
      "b\n",
      "ecl_lon\n",
      "ecl_lat\n"
     ]
    }
   ],
   "source": [
    "gaia = TapPlus(url=\"http://gea.esac.esa.int/tap-server/tap\")\n",
    "gaiadr1_table = gaia.load_table('gaiadr1.gaia_source')\n",
    "for column in (gaiadr1_table.get_columns()):\n",
    "    print(column.get_name())\n"
   ]
  },
  {
   "cell_type": "markdown",
   "metadata": {},
   "source": [
    "If you look at this url, you'll see the raw XML that it's using.  \n",
    "\n",
    "http://gea.esac.esa.int/tap-server/tap/tables \n",
    "\n",
    "For this Gaia example, it's parsing what you see correctly and finding the gaiadr1.gaia_source table somewhere down in the middle.\n",
    "\n",
    "But if you look at the HEASARC XML, you see\n",
    "\n",
    "view-source:https://heasarc.gsfc.nasa.gov/xamin/vo/tap/tables\n",
    "\n",
    "and the very first table there is the TAP_SCHEMA.columns, and TapPlus is listing its columns instead of finding the public.zcat table which is further down.  So TapPlus and our TAP service tables endpoint are not playing correctly.  This is apparently the same for Chandra as well."
   ]
  },
  {
   "cell_type": "code",
   "execution_count": 27,
   "metadata": {},
   "outputs": [
    {
     "name": "stdout",
     "output_type": "stream",
     "text": [
      "Created TAP+ (v1.0.1) - Connection:\n",
      "\tHost: heasarc.gsfc.nasa.gov\n",
      "\tUse HTTPS: True\n",
      "\tPort: 443\n",
      "\tSSL Port: 443\n",
      "Retrieving table 'public.zcat'\n",
      "Parsing table 'public.zcat'...\n",
      "Done.\n",
      "datatype\n",
      "description\n",
      "column_name\n",
      "size\n",
      "indexed\n",
      "std\n",
      "utype\n",
      "ucd\n",
      "unit\n",
      "principal\n",
      "table_name\n"
     ]
    }
   ],
   "source": [
    "heasarc_tap = TapPlus(url=url)\n",
    "zcat_table=heasarc_tap.load_table('public.zcat')\n",
    "for column in (zcat_table.get_columns()):\n",
    "    print(column.get_name())"
   ]
  },
  {
   "cell_type": "code",
   "execution_count": 28,
   "metadata": {},
   "outputs": [
    {
     "name": "stdout",
     "output_type": "stream",
     "text": [
      "Created TAP+ (v1.0.1) - Connection:\n",
      "\tHost: heasarc.gsfc.nasa.gov\n",
      "\tUse HTTPS: True\n",
      "\tPort: 443\n",
      "\tSSL Port: 443\n",
      "Retrieving table 'public.ascao'\n",
      "Parsing table 'public.ascao'...\n",
      "Done.\n",
      "datatype\n",
      "description\n",
      "column_name\n",
      "size\n",
      "indexed\n",
      "std\n",
      "utype\n",
      "ucd\n",
      "unit\n",
      "principal\n",
      "table_name\n"
     ]
    }
   ],
   "source": [
    "heasarc_tap = TapPlus(url=url)\n",
    "table=heasarc_tap.load_table('public.ascao')\n",
    "for column in (table.get_columns()):\n",
    "    print(column.get_name())"
   ]
  },
  {
   "cell_type": "markdown",
   "metadata": {},
   "source": [
    "##  If you ever get the above working, then here's the rest about ADQL with examples"
   ]
  },
  {
   "cell_type": "markdown",
   "metadata": {},
   "source": [
    "So lets reproduce the cone search but using TAP and a query expressed in ADQL.  \n",
    "\n",
    "The basics of ADQL:\n",
    "\n",
    "* *SELECT &#42; FROM my.interesting.catalog as cat* \n",
    "\n",
    "says you want all (\"&#42;\") columns from the catalog called \"my.interesting.catalog\", which you will refer to below by the more compact name of \"cat\".  \n",
    "\n",
    "Instead of returning all columns, you can \n",
    "\n",
    "* *SELECT cat.RA, cat.DEC, cat.bmag from catalog as cat...* \n",
    "\n",
    "to only return the columns you're interested in. To use multiple catalogs, your query could start, e.g.,\n",
    "\n",
    "* *SELECT c1.RA,c1.DEC,c2.BMAG FROM catalog1 as c1 natural join catalog2 as c2* \n",
    "\n",
    "says that you want to query two catalogs zipped together the \"natural\" way, i.e., by looking for a common column.\n",
    "\n",
    "To select only some rows of the catalog based on the value in a column, you can add:  \n",
    "\n",
    "* *WHERE cat.bmag < 14* \n",
    "\n",
    "says that you want to retrieve only those entries in the catalog whose bmag column has a value less than 14.\n",
    "\n",
    "You can also append \n",
    "\n",
    "* *ORDER by cat.bmag* \n",
    "\n",
    "to return the result sorted ascending by one of the columns, adding *DESC* to the end for descending. \n",
    "\n",
    "A few special functions in the ADQL allow you to query regions:\n",
    "\n",
    "* *WHERE contains( point('ICRS', cat.ra, cat.dec), circle('ICRS', 210.5, -6.5, 0.5))=1*\n",
    "\n",
    "is how you would ask for any catalog entries whose RA,DEC lie within a circular region defined by RA,DEC 210.5,-6.5 and a radius of 0.5 (all in degrees).  The 'ICRS' specifies the coordinate system.  \n",
    "\n",
    "See the ADQL documentation for more.\n",
    "\n",
    "An ADQL query might look like this (we will discuss how to define the table and column names below):"
   ]
  },
  {
   "cell_type": "code",
   "execution_count": 20,
   "metadata": {},
   "outputs": [],
   "source": [
    "##  Recall that in Python3, f\"this is the value of my variable: {variable}\" \n",
    "##  will print the value of the variable enclosed by the {}.  So this asks for \n",
    "##  rows of public.zcat where the row's ra and dec are within radius 1deg of the\n",
    "##  given RA and DEC we got above for M51, and where the bmag column is less than 14.  \n",
    "query=f\"\"\"SELECT ra, dec, Radial_Velocity FROM public.zcat as cat where \n",
    "    contains(point('ICRS',cat.ra,cat.dec),circle('ICRS',{coord.ra.deg},{coord.dec.deg},{1.0}))=1 and\n",
    "    cat.bmag < 14\n",
    "    order by cat.radial_velocity_error\n",
    "    \"\"\""
   ]
  },
  {
   "cell_type": "code",
   "execution_count": 21,
   "metadata": {
    "scrolled": true
   },
   "outputs": [
    {
     "name": "stdout",
     "output_type": "stream",
     "text": [
      "Created TAP+ (v1.0.1) - Connection:\n",
      "\tHost: heasarc.gsfc.nasa.gov\n",
      "\tUse HTTPS: True\n",
      "\tPort: 443\n",
      "\tSSL Port: 443\n"
     ]
    },
    {
     "data": {
      "text/html": [
       "<i>Table masked=True length=3</i>\n",
       "<table id=\"table34801058368\" class=\"table-striped table-bordered table-condensed\">\n",
       "<thead><tr><th>ra</th><th>dec</th><th>radial_velocity</th></tr></thead>\n",
       "<thead><tr><th>float64</th><th>float64</th><th>int32</th></tr></thead>\n",
       "<tr><td>202.46823227</td><td>47.19814872</td><td>474</td></tr>\n",
       "<tr><td>202.49490508</td><td>47.2679204</td><td>558</td></tr>\n",
       "<tr><td>202.54744757</td><td>46.66995898</td><td>2569</td></tr>\n",
       "</table>"
      ],
      "text/plain": [
       "<Table masked=True length=3>\n",
       "     ra          dec     radial_velocity\n",
       "  float64      float64        int32     \n",
       "------------ ----------- ---------------\n",
       "202.46823227 47.19814872             474\n",
       "202.49490508  47.2679204             558\n",
       "202.54744757 46.66995898            2569"
      ]
     },
     "execution_count": 21,
     "metadata": {},
     "output_type": "execute_result"
    }
   ],
   "source": [
    "heasarc_tap = TapPlus(url=url,verbose=True)\n",
    "heasarc_tap.launch_job(query).get_results()"
   ]
  },
  {
   "cell_type": "markdown",
   "metadata": {},
   "source": [
    "### TO BE REMOVED?  So what do we need our own Tap for?"
   ]
  },
  {
   "cell_type": "code",
   "execution_count": 13,
   "metadata": {},
   "outputs": [
    {
     "data": {
      "text/html": [
       "<i>Table masked=True length=3</i>\n",
       "<table id=\"table34879354640\" class=\"table-striped table-bordered table-condensed\">\n",
       "<thead><tr><th>ra</th><th>dec</th><th>radial_velocity</th></tr></thead>\n",
       "<thead><tr><th>float64</th><th>float64</th><th>int32</th></tr></thead>\n",
       "<tr><td>202.46823227</td><td>47.19814872</td><td>474</td></tr>\n",
       "<tr><td>202.49490508</td><td>47.2679204</td><td>558</td></tr>\n",
       "<tr><td>202.54744757</td><td>46.66995898</td><td>2569</td></tr>\n",
       "</table>"
      ],
      "text/plain": [
       "<Table masked=True length=3>\n",
       "     ra          dec     radial_velocity\n",
       "  float64      float64        int32     \n",
       "------------ ----------- ---------------\n",
       "202.46823227 47.19814872             474\n",
       "202.49490508  47.2679204             558\n",
       "202.54744757 46.66995898            2569"
      ]
     },
     "execution_count": 13,
     "metadata": {},
     "output_type": "execute_result"
    }
   ],
   "source": [
    "query=f\"SELECT ra, dec, Radial_Velocity FROM public.zcat as cat where contains(point('ICRS',cat.ra,cat.dec),circle('ICRS',{coord.ra.deg},{coord.dec.deg},1.0))=1 and cat.bmag < 14 order by cat.radial_velocity_error\"\n",
    "service=tap_services[0]\n",
    "table=Tap.query(service,query)\n",
    "table"
   ]
  },
  {
   "cell_type": "code",
   "execution_count": null,
   "metadata": {},
   "outputs": [],
   "source": []
  },
  {
   "cell_type": "markdown",
   "metadata": {},
   "source": [
    "If you aren't sure what columns are available, get all attributes of one row and take a look:"
   ]
  },
  {
   "cell_type": "code",
   "execution_count": 22,
   "metadata": {},
   "outputs": [
    {
     "ename": "TypeError",
     "evalue": "string indices must be integers",
     "output_type": "error",
     "traceback": [
      "\u001b[0;31m---------------------------------------------------------------------------\u001b[0m",
      "\u001b[0;31mTypeError\u001b[0m                                 Traceback (most recent call last)",
      "\u001b[0;32m<ipython-input-22-c3c93c60f3d4>\u001b[0m in \u001b[0;36m<module>\u001b[0;34m()\u001b[0m\n\u001b[0;32m----> 1\u001b[0;31m \u001b[0mtable\u001b[0m\u001b[0;34m=\u001b[0m\u001b[0mTap\u001b[0m\u001b[0;34m.\u001b[0m\u001b[0mquery\u001b[0m\u001b[0;34m(\u001b[0m\u001b[0murl\u001b[0m\u001b[0;34m,\u001b[0m\u001b[0;34m\"SELECT top 1 * FROM zcat\"\u001b[0m\u001b[0;34m)\u001b[0m\u001b[0;34m\u001b[0m\u001b[0m\n\u001b[0m\u001b[1;32m      2\u001b[0m \u001b[0mtable\u001b[0m\u001b[0;34m\u001b[0m\u001b[0m\n",
      "\u001b[0;32m~/space/sw/heasarc/nasa-navo/notebooks/heasarc/navo_utils/tap.py\u001b[0m in \u001b[0;36mquery\u001b[0;34m(self, service, query, upload_file, upload_name)\u001b[0m\n\u001b[1;32m     29\u001b[0m             \u001b[0mservice\u001b[0m \u001b[0;34m=\u001b[0m \u001b[0;34m{\u001b[0m\u001b[0;34m\"access_url\"\u001b[0m\u001b[0;34m:\u001b[0m\u001b[0mservice\u001b[0m\u001b[0;34m}\u001b[0m\u001b[0;34m\u001b[0m\u001b[0m\n\u001b[1;32m     30\u001b[0m \u001b[0;34m\u001b[0m\u001b[0m\n\u001b[0;32m---> 31\u001b[0;31m         \u001b[0murl\u001b[0m \u001b[0;34m=\u001b[0m \u001b[0mservice\u001b[0m\u001b[0;34m[\u001b[0m\u001b[0;34m'access_url'\u001b[0m\u001b[0;34m]\u001b[0m \u001b[0;34m+\u001b[0m \u001b[0;34m'/sync?'\u001b[0m\u001b[0;34m\u001b[0m\u001b[0m\n\u001b[0m\u001b[1;32m     32\u001b[0m \u001b[0;34m\u001b[0m\u001b[0m\n\u001b[1;32m     33\u001b[0m         tap_params = {\n",
      "\u001b[0;31mTypeError\u001b[0m: string indices must be integers"
     ]
    }
   ],
   "source": [
    "url=str(tap_services['access_url'][0])\n",
    "print(type(str(url)))\n",
    "table=Tap.query(url,\"SELECT top 1 * FROM zcat\")\n",
    "table"
   ]
  },
  {
   "cell_type": "markdown",
   "metadata": {},
   "source": [
    "(See the __[information on the zcat](https://heasarc.gsfc.nasa.gov/W3Browse/galaxy-catalog/zcat.html)__ for column information. We will use the 'radial_velocity' column rather than the 'redshift' column.)"
   ]
  },
  {
   "cell_type": "markdown",
   "metadata": {},
   "source": [
    "<a id=\"cc\"></a>\n",
    "# 2. TAP:  Using the TAP to cross-correlate our objects with a catalog"
   ]
  },
  {
   "cell_type": "markdown",
   "metadata": {},
   "source": [
    "Now to search all of our sources in one go, we need to upload our own table and do a 'cross-correlation' with the *zcat* table. For more on creating VOTable objects, see that notebook.  Here, we just read one in:  "
   ]
  },
  {
   "cell_type": "markdown",
   "metadata": {},
   "source": [
    "This is how we'd like it to work, but for the moment, this is broken."
   ]
  },
  {
   "cell_type": "code",
   "execution_count": 8,
   "metadata": {},
   "outputs": [],
   "source": [
    "#query=\"\"\"\n",
    "#    SELECT cat.ra, cat.dec, Radial_Velocity \n",
    "#    FROM zcat cat, tap_upload.mysources mt \n",
    "#    WHERE\n",
    "#    contains(point('ICRS',cat.ra,cat.dec),circle('ICRS',mt.ra,mt.dec,0.1))=1\n",
    "#    and Radial_Velocity > 0\n",
    "#    ORDER by cat.ra\"\"\"\n",
    "#url='https://heasarc.gsfc.nasa.gov/xamin_test/vo/tap'\n",
    "#table=Tap.query(url,query,upload_file=\"../my_sources.xml\",upload_name='mysources')\n",
    "#table.meta"
   ]
  },
  {
   "cell_type": "markdown",
   "metadata": {},
   "source": [
    "### This can be done with requests:\n",
    "\n",
    "(These take a while, i.e. half a minute.)"
   ]
  },
  {
   "cell_type": "code",
   "execution_count": 9,
   "metadata": {},
   "outputs": [
    {
     "data": {
      "text/html": [
       "<i>Table masked=True length=3</i>\n",
       "<table id=\"table4365858128\" class=\"table-striped table-bordered table-condensed\">\n",
       "<thead><tr><th>ra</th><th>dec</th><th>radial_velocity</th></tr></thead>\n",
       "<thead><tr><th>float64</th><th>float64</th><th>int32</th></tr></thead>\n",
       "<tr><td>202.46823227</td><td>47.19814872</td><td>474</td></tr>\n",
       "<tr><td>202.49490508</td><td>47.2679204</td><td>558</td></tr>\n",
       "<tr><td>202.54744757</td><td>46.66995898</td><td>2569</td></tr>\n",
       "</table>"
      ],
      "text/plain": [
       "<Table masked=True length=3>\n",
       "     ra          dec     radial_velocity\n",
       "  float64      float64        int32     \n",
       "------------ ----------- ---------------\n",
       "202.46823227 47.19814872             474\n",
       "202.49490508  47.2679204             558\n",
       "202.54744757 46.66995898            2569"
      ]
     },
     "execution_count": 9,
     "metadata": {},
     "output_type": "execute_result"
    }
   ],
   "source": [
    "files={'uplt':open('../my_sources.xml', 'rb')}\n",
    "\n",
    "cc_params={\n",
    "    'lang': 'ADQL', \n",
    "    'request': 'doQuery',\n",
    "    'upload':'mysources,param:uplt'\n",
    "    }\n",
    "\n",
    "cc_params[\"query\"]=query\n",
    "r = requests.post(tap_services[0]['access_url']+'/sync',data=cc_params,stream=True,files=files)\n",
    "#r.text\n",
    "mytable=Table.read(io.BytesIO(r.content))\n",
    "mytable"
   ]
  },
  {
   "cell_type": "markdown",
   "metadata": {},
   "source": [
    "###  Or with TapPlus"
   ]
  },
  {
   "cell_type": "code",
   "execution_count": 10,
   "metadata": {},
   "outputs": [
    {
     "name": "stdout",
     "output_type": "stream",
     "text": [
      "Created TAP+ (v1.0.1) - Connection:\n",
      "\tHost: heasarc.gsfc.nasa.gov\n",
      "\tUse HTTPS: True\n",
      "\tPort: 443\n",
      "\tSSL Port: 443\n",
      "Launched query: 'SELECT  TOP 2000 ra, dec, Radial_Velocity FROM zcat as cat where contains(point('ICRS',cat.ra,cat.dec),circle('ICRS',202.469575,47.1952583,1.0))=1 and cat.bmag < 14 order by cat.radial_velocity_error'\n",
      "200 OK\n",
      "[('Date', 'Fri, 01 Jun 2018 19:30:02 GMT'), ('Query-Defer', '261'), ('Content-Type', 'text/xml'), ('Transfer-Encoding', 'chunked'), ('Strict-Transport-Security', 'max-age=31536000; includeSubDomains')]\n",
      "Retrieving sync. results...\n",
      "Query finished.\n",
      "     ra          dec     radial_velocity\n",
      "------------ ----------- ---------------\n",
      "202.46823227 47.19814872             474\n",
      "202.49490508  47.2679204             558\n",
      "202.54744757 46.66995898            2569\n"
     ]
    }
   ],
   "source": [
    "from astroquery.utils.tap.core import TapPlus\n",
    "xamin=TapPlus(url=tap_services[0]['access_url'])\n",
    "job=xamin.launch_job(query=query, upload_resource='../my_sources.xml', upload_table_name=\"mysources\", verbose=True)\n",
    "result = job.get_results()\n",
    "result.pprint()"
   ]
  },
  {
   "cell_type": "markdown",
   "metadata": {},
   "source": [
    "<a id=\"combo\"></a>\n",
    "\n",
    "# 3.  Combining data from different catalogs and cross-correlating\n",
    "Now we'd like to take the redshift information (above, as a radial velocity) and determine a search radius to use for each galaxy based on its distance, so that we are are searching within a given physical distance. "
   ]
  },
  {
   "cell_type": "code",
   "execution_count": 11,
   "metadata": {},
   "outputs": [
    {
     "data": {
      "text/html": [
       "<i>Table masked=True length=3</i>\n",
       "<table id=\"table4365858128\" class=\"table-striped table-bordered table-condensed\">\n",
       "<thead><tr><th>ra</th><th>dec</th><th>radial_velocity</th><th>redshift</th><th>angDdeg</th></tr></thead>\n",
       "<thead><tr><th></th><th></th><th></th><th></th><th>deg</th></tr></thead>\n",
       "<thead><tr><th>float64</th><th>float64</th><th>int32</th><th>float64</th><th>float64</th></tr></thead>\n",
       "<tr><td>202.46823227</td><td>47.19814872</td><td>474</td><td>0.00158</td><td>0.007164315980361076</td></tr>\n",
       "<tr><td>202.49490508</td><td>47.2679204</td><td>558</td><td>0.00186</td><td>0.006087942574467991</td></tr>\n",
       "<tr><td>202.54744757</td><td>46.66995898</td><td>2569</td><td>0.008563333333333333</td><td>0.0013332722231319696</td></tr>\n",
       "</table>"
      ],
      "text/plain": [
       "<Table masked=True length=3>\n",
       "     ra          dec     ...       redshift              angDdeg       \n",
       "                         ...                               deg         \n",
       "  float64      float64   ...       float64               float64       \n",
       "------------ ----------- ... -------------------- ---------------------\n",
       "202.46823227 47.19814872 ...              0.00158  0.007164315980361076\n",
       "202.49490508  47.2679204 ...              0.00186  0.006087942574467991\n",
       "202.54744757 46.66995898 ... 0.008563333333333333 0.0013332722231319696"
      ]
     },
     "execution_count": 11,
     "metadata": {},
     "output_type": "execute_result"
    }
   ],
   "source": [
    "## The radial_velocity is in km/s, and this is just c*z, so\n",
    "c=3.0e5 # km/s\n",
    "redshifts=mytable['radial_velocity'].filled(0.)/c  # Filling masked values with zero\n",
    "mytable['redshift']=redshifts\n",
    "from astropy import units\n",
    "physdist=0.05*units.Mpc # 50 kpc physical distance\n",
    "\n",
    "## This needs scipy.  \n",
    "from astropy.cosmology import Planck15\n",
    "angDdist=Planck15.angular_diameter_distance(mytable['redshift'])\n",
    "## angDdist is returned from the astropy.cosmology module as a Quantity object, \n",
    "##  i.e. a value and a unit.  Arctan is smart enough not to operate on quantities\n",
    "##  that aren't unitless.  So angDdist.value to just get the value.\n",
    "angDrad=numpy.arctan(physdist/angDdist)\n",
    "angDdeg=angDrad*units.deg/units.rad\n",
    "mytable['angDdeg']=angDdeg\n",
    "mytable"
   ]
  },
  {
   "cell_type": "markdown",
   "metadata": {},
   "source": [
    "This time, rather than write the table to disk, we'll keep it in memory and give requests a \"file-like\" object using io.BytesIO():"
   ]
  },
  {
   "cell_type": "code",
   "execution_count": 12,
   "metadata": {},
   "outputs": [
    {
     "name": "stdout",
     "output_type": "stream",
     "text": [
      "<TableColumns names=('ra','dec','radial_velocity','redshift','angDdeg')>\n"
     ]
    }
   ],
   "source": [
    "## In memory only, use an IO stream. \n",
    "vot_obj=io.BytesIO()\n",
    "print(mytable.columns)\n",
    "apvot.writeto(apvot.from_table(mytable),vot_obj)\n",
    "## (Reset the \"file-like\" object to the beginning.)\n",
    "vot_obj.seek(0)\n",
    "## 'uplt' is what we'll call it (for 'upload table') \n",
    "##   in the requests parameters below, or what you will:\n",
    "files={'uplt':vot_obj}\n"
   ]
  },
  {
   "cell_type": "markdown",
   "metadata": {},
   "source": [
    "This takes half a minute:"
   ]
  },
  {
   "cell_type": "code",
   "execution_count": 13,
   "metadata": {},
   "outputs": [
    {
     "data": {
      "text/html": [
       "<i>Table masked=True length=3</i>\n",
       "<table id=\"table4673109912\" class=\"table-striped table-bordered table-condensed\">\n",
       "<thead><tr><th>ra</th><th>dec</th><th>radial_velocity</th></tr></thead>\n",
       "<thead><tr><th>float64</th><th>float64</th><th>int32</th></tr></thead>\n",
       "<tr><td>202.46823227</td><td>47.19814872</td><td>474</td></tr>\n",
       "<tr><td>202.49490508</td><td>47.2679204</td><td>558</td></tr>\n",
       "<tr><td>202.54744757</td><td>46.66995898</td><td>2569</td></tr>\n",
       "</table>"
      ],
      "text/plain": [
       "<Table masked=True length=3>\n",
       "     ra          dec     radial_velocity\n",
       "  float64      float64        int32     \n",
       "------------ ----------- ---------------\n",
       "202.46823227 47.19814872             474\n",
       "202.49490508  47.2679204             558\n",
       "202.54744757 46.66995898            2569"
      ]
     },
     "execution_count": 13,
     "metadata": {},
     "output_type": "execute_result"
    }
   ],
   "source": [
    "cc_params={\n",
    "    'lang': 'ADQL', \n",
    "    'request': 'doQuery',\n",
    "    'upload':'mytable,param:uplt'\n",
    "    }\n",
    "## This is your ADQL query, where \"mytable\" here has to \n",
    "##  match what you specified in the upload parameter above\n",
    "cc_params[\"query\"]=\"\"\"\n",
    "    SELECT cat.ra, cat.dec, cat.Radial_Velocity \n",
    "    FROM zcat cat, tap_upload.mytable mt \n",
    "    WHERE\n",
    "    contains(point('ICRS',cat.ra,cat.dec),circle('ICRS',mt.ra,mt.dec,mt.angDdeg))=1\n",
    "    and cat.Radial_Velocity > 0\n",
    "    ORDER by cat.ra\"\"\"\n",
    "## The name you give here (tab1) matches what's in the cc_params\n",
    "r = requests.post('https://heasarc.gsfc.nasa.gov/xamin/vo/tap/sync',data=cc_params,stream=True,files=files)\n",
    "mytable=Table.read(io.BytesIO(r.content))\n",
    "mytable"
   ]
  },
  {
   "cell_type": "code",
   "execution_count": null,
   "metadata": {},
   "outputs": [],
   "source": []
  }
 ],
 "metadata": {
  "anaconda-cloud": {},
  "kernelspec": {
   "display_name": "Python 3",
   "language": "python",
   "name": "python3"
  },
  "language_info": {
   "codemirror_mode": {
    "name": "ipython",
    "version": 3
   },
   "file_extension": ".py",
   "mimetype": "text/x-python",
   "name": "python",
   "nbconvert_exporter": "python",
   "pygments_lexer": "ipython3",
   "version": "3.6.5"
  }
 },
 "nbformat": 4,
 "nbformat_minor": 1
}
