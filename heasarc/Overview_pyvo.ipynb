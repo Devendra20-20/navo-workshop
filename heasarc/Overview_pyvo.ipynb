{
 "cells": [
  {
   "cell_type": "code",
   "execution_count": 44,
   "metadata": {},
   "outputs": [],
   "source": [
    "import matplotlib, numpy, astropy, warnings\n",
    "import matplotlib.pyplot as plt\n",
    "%matplotlib inline  \n",
    "## There are a number of relatively unimportant warnings that \n",
    "## show up, so for now, suppress them:\n",
    "warnings.filterwarnings(\"ignore\")\n",
    "\n",
    "## Basic libraries\n",
    "import requests, io\n",
    "from astropy.table import Table\n",
    "\n",
    "\n",
    "from IPython.display import Image as ipyImage, display\n",
    "\n",
    "## For handling VO table type objects\n",
    "from astropy.io import votable as apvot\n",
    "\n",
    "## For reading FITS files\n",
    "import astropy.io.fits as apfits\n",
    "\n",
    "## NAVO tools\n",
    "from navo_utils.registry import Registry\n",
    "from navo_utils.cone import Cone\n",
    "from navo_utils.image import Image\n",
    "from navo_utils.spectra import Spectra\n",
    "\n",
    "import pyvo"
   ]
  },
  {
   "cell_type": "markdown",
   "metadata": {
    "collapsed": true
   },
   "source": [
    "## Registry doesn't seem to work"
   ]
  },
  {
   "cell_type": "markdown",
   "metadata": {},
   "source": [
    "See https://pyvo.readthedocs.io/en/latest/api/pyvo.registry.search.html#pyvo.registry.search for the pyvo registry search documentation."
   ]
  },
  {
   "cell_type": "code",
   "execution_count": 2,
   "metadata": {},
   "outputs": [
    {
     "ename": "DALQueryError",
     "evalue": "Field query: Query timed out (took too long).\nUnless you know why the query took that long, please contact msdemlei@ari.uni-heidelberg.de.  Otherwise, use TAP's async mode.\nMeanwhile, if this failure happened with a cross match, please try exchanging the large and the small catalog in POINT and CIRCLE.",
     "output_type": "error",
     "traceback": [
      "\u001b[0;31m---------------------------------------------------------------------------\u001b[0m",
      "\u001b[0;31mDALQueryError\u001b[0m                             Traceback (most recent call last)",
      "\u001b[0;32m<ipython-input-2-a3dbd8100e4f>\u001b[0m in \u001b[0;36m<module>\u001b[0;34m()\u001b[0m\n\u001b[1;32m      1\u001b[0m \u001b[0;32mfrom\u001b[0m \u001b[0mpyvo\u001b[0m\u001b[0;34m.\u001b[0m\u001b[0mregistry\u001b[0m \u001b[0;32mimport\u001b[0m \u001b[0msearch\u001b[0m \u001b[0;32mas\u001b[0m \u001b[0mregsearch\u001b[0m\u001b[0;34m\u001b[0m\u001b[0m\n\u001b[0;32m----> 2\u001b[0;31m \u001b[0mchan_services\u001b[0m\u001b[0;34m=\u001b[0m\u001b[0mregsearch\u001b[0m\u001b[0;34m(\u001b[0m\u001b[0mservicetype\u001b[0m\u001b[0;34m=\u001b[0m\u001b[0;34m'conesearch'\u001b[0m\u001b[0;34m,\u001b[0m\u001b[0mkeywords\u001b[0m\u001b[0;34m=\u001b[0m\u001b[0;34m'chandra'\u001b[0m\u001b[0;34m)\u001b[0m\u001b[0;34m\u001b[0m\u001b[0m\n\u001b[0m\u001b[1;32m      3\u001b[0m \u001b[0;31m#chan_services=Registry.query(source='chanmaster',service_type='cone')\u001b[0m\u001b[0;34m\u001b[0m\u001b[0;34m\u001b[0m\u001b[0m\n\u001b[1;32m      4\u001b[0m \u001b[0mchan_services\u001b[0m\u001b[0;34m\u001b[0m\u001b[0m\n",
      "\u001b[0;32m~/anaconda3/lib/python3.6/site-packages/pyvo/registry/regtap.py\u001b[0m in \u001b[0;36msearch\u001b[0;34m(keywords, servicetype, waveband, datamodel)\u001b[0m\n\u001b[1;32m    140\u001b[0m     \u001b[0mservice\u001b[0m \u001b[0;34m=\u001b[0m \u001b[0mtap\u001b[0m\u001b[0;34m.\u001b[0m\u001b[0mTAPService\u001b[0m\u001b[0;34m(\u001b[0m\u001b[0mREGISTRY_BASEURL\u001b[0m\u001b[0;34m)\u001b[0m\u001b[0;34m\u001b[0m\u001b[0m\n\u001b[1;32m    141\u001b[0m     \u001b[0mquery\u001b[0m \u001b[0;34m=\u001b[0m \u001b[0mRegistryQuery\u001b[0m\u001b[0;34m(\u001b[0m\u001b[0mservice\u001b[0m\u001b[0;34m.\u001b[0m\u001b[0mbaseurl\u001b[0m\u001b[0;34m,\u001b[0m \u001b[0mquery\u001b[0m\u001b[0;34m,\u001b[0m \u001b[0mmaxrec\u001b[0m\u001b[0;34m=\u001b[0m\u001b[0mservice\u001b[0m\u001b[0;34m.\u001b[0m\u001b[0mhardlimit\u001b[0m\u001b[0;34m)\u001b[0m\u001b[0;34m\u001b[0m\u001b[0m\n\u001b[0;32m--> 142\u001b[0;31m     \u001b[0;32mreturn\u001b[0m \u001b[0mquery\u001b[0m\u001b[0;34m.\u001b[0m\u001b[0mexecute\u001b[0m\u001b[0;34m(\u001b[0m\u001b[0;34m)\u001b[0m\u001b[0;34m\u001b[0m\u001b[0m\n\u001b[0m\u001b[1;32m    143\u001b[0m \u001b[0;34m\u001b[0m\u001b[0m\n\u001b[1;32m    144\u001b[0m \u001b[0;34m\u001b[0m\u001b[0m\n",
      "\u001b[0;32m~/anaconda3/lib/python3.6/site-packages/pyvo/registry/regtap.py\u001b[0m in \u001b[0;36mexecute\u001b[0;34m(self)\u001b[0m\n\u001b[1;32m    158\u001b[0m            \u001b[0;32mfor\u001b[0m \u001b[0merrors\u001b[0m \u001b[0mparsing\u001b[0m \u001b[0mthe\u001b[0m \u001b[0mVOTable\u001b[0m \u001b[0mresponse\u001b[0m\u001b[0;34m\u001b[0m\u001b[0m\n\u001b[1;32m    159\u001b[0m         \"\"\"\n\u001b[0;32m--> 160\u001b[0;31m         \u001b[0;32mreturn\u001b[0m \u001b[0mRegistryResults\u001b[0m\u001b[0;34m(\u001b[0m\u001b[0mself\u001b[0m\u001b[0;34m.\u001b[0m\u001b[0mexecute_votable\u001b[0m\u001b[0;34m(\u001b[0m\u001b[0;34m)\u001b[0m\u001b[0;34m,\u001b[0m \u001b[0mself\u001b[0m\u001b[0;34m.\u001b[0m\u001b[0mqueryurl\u001b[0m\u001b[0;34m)\u001b[0m\u001b[0;34m\u001b[0m\u001b[0m\n\u001b[0m\u001b[1;32m    161\u001b[0m \u001b[0;34m\u001b[0m\u001b[0m\n\u001b[1;32m    162\u001b[0m \u001b[0;34m\u001b[0m\u001b[0m\n",
      "\u001b[0;32m~/anaconda3/lib/python3.6/site-packages/pyvo/dal/query.py\u001b[0m in \u001b[0;36m__init__\u001b[0;34m(self, votable, url)\u001b[0m\n\u001b[1;32m    356\u001b[0m         \u001b[0mself\u001b[0m\u001b[0;34m.\u001b[0m\u001b[0m_status\u001b[0m \u001b[0;34m=\u001b[0m \u001b[0mself\u001b[0m\u001b[0;34m.\u001b[0m\u001b[0m_findstatus\u001b[0m\u001b[0;34m(\u001b[0m\u001b[0mvotable\u001b[0m\u001b[0;34m)\u001b[0m\u001b[0;34m\u001b[0m\u001b[0m\n\u001b[1;32m    357\u001b[0m         \u001b[0;32mif\u001b[0m \u001b[0mself\u001b[0m\u001b[0;34m.\u001b[0m\u001b[0m_status\u001b[0m\u001b[0;34m[\u001b[0m\u001b[0;36m0\u001b[0m\u001b[0;34m]\u001b[0m\u001b[0;34m.\u001b[0m\u001b[0mupper\u001b[0m\u001b[0;34m(\u001b[0m\u001b[0;34m)\u001b[0m \u001b[0;32mnot\u001b[0m \u001b[0;32min\u001b[0m \u001b[0;34m(\u001b[0m\u001b[0;34m\"OK\"\u001b[0m\u001b[0;34m,\u001b[0m \u001b[0;34m\"OVERFLOW\"\u001b[0m\u001b[0;34m)\u001b[0m\u001b[0;34m:\u001b[0m\u001b[0;34m\u001b[0m\u001b[0m\n\u001b[0;32m--> 358\u001b[0;31m             \u001b[0;32mraise\u001b[0m \u001b[0mDALQueryError\u001b[0m\u001b[0;34m(\u001b[0m\u001b[0mself\u001b[0m\u001b[0;34m.\u001b[0m\u001b[0m_status\u001b[0m\u001b[0;34m[\u001b[0m\u001b[0;36m1\u001b[0m\u001b[0;34m]\u001b[0m\u001b[0;34m,\u001b[0m \u001b[0mself\u001b[0m\u001b[0;34m.\u001b[0m\u001b[0m_status\u001b[0m\u001b[0;34m[\u001b[0m\u001b[0;36m0\u001b[0m\u001b[0;34m]\u001b[0m\u001b[0;34m,\u001b[0m \u001b[0murl\u001b[0m\u001b[0;34m)\u001b[0m\u001b[0;34m\u001b[0m\u001b[0m\n\u001b[0m\u001b[1;32m    359\u001b[0m \u001b[0;34m\u001b[0m\u001b[0m\n\u001b[1;32m    360\u001b[0m         \u001b[0mself\u001b[0m\u001b[0;34m.\u001b[0m\u001b[0mvotable\u001b[0m \u001b[0;34m=\u001b[0m \u001b[0mself\u001b[0m\u001b[0;34m.\u001b[0m\u001b[0m_findresultstable\u001b[0m\u001b[0;34m(\u001b[0m\u001b[0mvotable\u001b[0m\u001b[0;34m)\u001b[0m\u001b[0;34m\u001b[0m\u001b[0m\n",
      "\u001b[0;31mDALQueryError\u001b[0m: Field query: Query timed out (took too long).\nUnless you know why the query took that long, please contact msdemlei@ari.uni-heidelberg.de.  Otherwise, use TAP's async mode.\nMeanwhile, if this failure happened with a cross match, please try exchanging the large and the small catalog in POINT and CIRCLE."
     ]
    }
   ],
   "source": [
    "from pyvo.registry import search as regsearch\n",
    "chan_services=regsearch(servicetype='conesearch',keywords='chandra')\n",
    "#chan_services=Registry.query(source='chanmaster',service_type='cone')\n",
    "chan_services"
   ]
  },
  {
   "cell_type": "code",
   "execution_count": 19,
   "metadata": {},
   "outputs": [
    {
     "data": {
      "text/html": [
       "&lt;Table masked=True length=1&gt;\n",
       "<table id=\"table4486169320\" class=\"table-striped table-bordered table-condensed\">\n",
       "<thead><tr><th>waveband</th><th>short_name</th><th>ivoid</th><th>res_description</th><th>access_url</th><th>reference_url</th><th>publisher</th><th>service_type</th></tr></thead>\n",
       "<thead><tr><th>str5</th><th>str7</th><th>str29</th><th>str2899</th><th>str78</th><th>str58</th><th>str17</th><th>str10</th></tr></thead>\n",
       "<tr><td>x-ray</td><td>Chandra</td><td>ivo://nasa.heasarc/chanmaster</td><td>This database table contains all of the observations made by the Chandra X-Ray Observatory (CXO, formerly known as the Advanced X-ray Astrophysics Facility or AXAF) as part of the Performance Verification and Calibration (PVC) phase and also contains all of the subsequent Cycles&apos; Guaranteed Time Observers (GTO) and General Observer (GO) targets, and any Director&apos;s Discretionary Time (DDT) targets that have been observed. It also includes scheduled and as-yet-not-scheduled targets. The HEASARC updates this database table on a twice-weekly basis by querying the database table at the Chandra X-Ray Center (CXC) website, as discussed in the Provenance section. For observations whose status is &apos;archived&apos;, data products can be retrieved from the HEASARC&apos;s mirror of the CXC&apos;s Chandra Data Archive (CDA). The CXC should be acknowledged as the source of Chandra data. The PVC phase was during the first few months of the CXO mission; some of the calibration observations that are for monitoring purposes will be performed in later mission cycles. All calibration data (entries with Type = CAL in this database) are placed immediately into the CXO public data archive at the Chandra X-Ray Observatory Center (CXC); please see the Web page at &amp;amp;lt;a href=&quot;http://asc.harvard.edu/&quot;&amp;amp;gt;http://asc.harvard.edu/&amp;amp;lt;/a&amp;amp;gt; for more information on the CXC data archive). GTO observations during Cycle 1 or any subsequent Cycle will probably occupy 100% of months 3-4, 30% of months 5-22, and 15% of the available time for the remainder of the mission. Guaranteed Time Observers will have the same proprietary data rights as General Observers (i.e., their data will be placed in the public CXC archive 12 months after they have received the data in usable form). For detailed information on the Chandra Observatory and datasets see: &amp;amp;lt;pre&amp;amp;gt; &amp;amp;lt;a href=&quot;http://cxc.harvard.edu/&quot;&amp;amp;gt;http://cxc.harvard.edu/&amp;amp;lt;/a&amp;amp;gt; for general Chandra information &amp;amp;lt;a href=&quot;http://cxc.harvard.edu/cda/&quot;&amp;amp;gt;http://cxc.harvard.edu/cda/&amp;amp;lt;/a&amp;amp;gt; for the Chandra Data Archive &amp;amp;lt;a href=&quot;http://cxc.harvard.edu/cal/&quot;&amp;amp;gt;http://cxc.harvard.edu/cal/&amp;amp;lt;/a&amp;amp;gt; for calibration information &amp;amp;lt;a href=&quot;http://cxc.harvard.edu/caldb/&quot;&amp;amp;gt;http://cxc.harvard.edu/caldb/&amp;amp;lt;/a&amp;amp;gt; for the calibration database &amp;amp;lt;a href=&quot;http://cxc.harvard.edu/ciao/&quot;&amp;amp;gt;http://cxc.harvard.edu/ciao/&amp;amp;lt;/a&amp;amp;gt; for data analysis &amp;amp;lt;a href=&quot;http://cxc.harvard.edu/ciao/download/&quot;&amp;amp;gt;http://cxc.harvard.edu/ciao/download/&amp;amp;lt;/a&amp;amp;gt; for analysis software &amp;amp;lt;a href=&quot;http://cxc.harvard.edu/ciao/threads/&quot;&amp;amp;gt;http://cxc.harvard.edu/ciao/threads/&amp;amp;lt;/a&amp;amp;gt; for analysis threads &amp;amp;lt;a href=&quot;http://cda.harvard.edu/chaser/&quot;&amp;amp;gt;http://cda.harvard.edu/chaser/&amp;amp;lt;/a&amp;amp;gt; for WebChaSeR &amp;amp;lt;/pre&amp;amp;gt;</td><td>https://heasarc.gsfc.nasa.gov/cgi-bin/vo/cone/coneGet.pl?table=chanmaster&amp;amp;</td><td>https://heasarc.gsfc.nasa.gov/W3Browse/all/chanmaster.html</td><td>NASA/GSFC HEASARC</td><td>conesearch</td></tr>\n",
       "</table>"
      ],
      "text/plain": [
       "<Table masked=True length=1>\n",
       "waveband short_name ...     publisher     service_type\n",
       "  str5      str7    ...       str17          str10    \n",
       "-------- ---------- ... ----------------- ------------\n",
       "   x-ray    Chandra ... NASA/GSFC HEASARC   conesearch"
      ]
     },
     "execution_count": 19,
     "metadata": {},
     "output_type": "execute_result"
    }
   ],
   "source": [
    "chan_services=Registry.query(source='chanmaster',service_type='cone')\n",
    "chan_services"
   ]
  },
  {
   "cell_type": "markdown",
   "metadata": {},
   "source": [
    "The example from their page \n",
    "\n",
    "https://pyvo.readthedocs.io/en/latest/registry/index.html\n",
    "\n",
    "cut and paste:"
   ]
  },
  {
   "cell_type": "code",
   "execution_count": 3,
   "metadata": {},
   "outputs": [
    {
     "ename": "DALQueryError",
     "evalue": "Field query: Query timed out (took too long).\nUnless you know why the query took that long, please contact msdemlei@ari.uni-heidelberg.de.  Otherwise, use TAP's async mode.\nMeanwhile, if this failure happened with a cross match, please try exchanging the large and the small catalog in POINT and CIRCLE.",
     "output_type": "error",
     "traceback": [
      "\u001b[0;31m---------------------------------------------------------------------------\u001b[0m",
      "\u001b[0;31mDALQueryError\u001b[0m                             Traceback (most recent call last)",
      "\u001b[0;32m<ipython-input-3-4e4bd5af8521>\u001b[0m in \u001b[0;36m<module>\u001b[0;34m()\u001b[0m\n\u001b[0;32m----> 1\u001b[0;31m \u001b[0mservices\u001b[0m \u001b[0;34m=\u001b[0m \u001b[0mregsearch\u001b[0m\u001b[0;34m(\u001b[0m\u001b[0mkeywords\u001b[0m\u001b[0;34m=\u001b[0m\u001b[0;34m[\u001b[0m\u001b[0;34m'quasar'\u001b[0m\u001b[0;34m]\u001b[0m\u001b[0;34m,\u001b[0m \u001b[0mservicetype\u001b[0m\u001b[0;34m=\u001b[0m\u001b[0;34m'tap'\u001b[0m\u001b[0;34m)\u001b[0m\u001b[0;34m\u001b[0m\u001b[0m\n\u001b[0m\u001b[1;32m      2\u001b[0m \u001b[0mservices\u001b[0m\u001b[0;34m\u001b[0m\u001b[0m\n",
      "\u001b[0;32m~/anaconda3/lib/python3.6/site-packages/pyvo/registry/regtap.py\u001b[0m in \u001b[0;36msearch\u001b[0;34m(keywords, servicetype, waveband, datamodel)\u001b[0m\n\u001b[1;32m    140\u001b[0m     \u001b[0mservice\u001b[0m \u001b[0;34m=\u001b[0m \u001b[0mtap\u001b[0m\u001b[0;34m.\u001b[0m\u001b[0mTAPService\u001b[0m\u001b[0;34m(\u001b[0m\u001b[0mREGISTRY_BASEURL\u001b[0m\u001b[0;34m)\u001b[0m\u001b[0;34m\u001b[0m\u001b[0m\n\u001b[1;32m    141\u001b[0m     \u001b[0mquery\u001b[0m \u001b[0;34m=\u001b[0m \u001b[0mRegistryQuery\u001b[0m\u001b[0;34m(\u001b[0m\u001b[0mservice\u001b[0m\u001b[0;34m.\u001b[0m\u001b[0mbaseurl\u001b[0m\u001b[0;34m,\u001b[0m \u001b[0mquery\u001b[0m\u001b[0;34m,\u001b[0m \u001b[0mmaxrec\u001b[0m\u001b[0;34m=\u001b[0m\u001b[0mservice\u001b[0m\u001b[0;34m.\u001b[0m\u001b[0mhardlimit\u001b[0m\u001b[0;34m)\u001b[0m\u001b[0;34m\u001b[0m\u001b[0m\n\u001b[0;32m--> 142\u001b[0;31m     \u001b[0;32mreturn\u001b[0m \u001b[0mquery\u001b[0m\u001b[0;34m.\u001b[0m\u001b[0mexecute\u001b[0m\u001b[0;34m(\u001b[0m\u001b[0;34m)\u001b[0m\u001b[0;34m\u001b[0m\u001b[0m\n\u001b[0m\u001b[1;32m    143\u001b[0m \u001b[0;34m\u001b[0m\u001b[0m\n\u001b[1;32m    144\u001b[0m \u001b[0;34m\u001b[0m\u001b[0m\n",
      "\u001b[0;32m~/anaconda3/lib/python3.6/site-packages/pyvo/registry/regtap.py\u001b[0m in \u001b[0;36mexecute\u001b[0;34m(self)\u001b[0m\n\u001b[1;32m    158\u001b[0m            \u001b[0;32mfor\u001b[0m \u001b[0merrors\u001b[0m \u001b[0mparsing\u001b[0m \u001b[0mthe\u001b[0m \u001b[0mVOTable\u001b[0m \u001b[0mresponse\u001b[0m\u001b[0;34m\u001b[0m\u001b[0m\n\u001b[1;32m    159\u001b[0m         \"\"\"\n\u001b[0;32m--> 160\u001b[0;31m         \u001b[0;32mreturn\u001b[0m \u001b[0mRegistryResults\u001b[0m\u001b[0;34m(\u001b[0m\u001b[0mself\u001b[0m\u001b[0;34m.\u001b[0m\u001b[0mexecute_votable\u001b[0m\u001b[0;34m(\u001b[0m\u001b[0;34m)\u001b[0m\u001b[0;34m,\u001b[0m \u001b[0mself\u001b[0m\u001b[0;34m.\u001b[0m\u001b[0mqueryurl\u001b[0m\u001b[0;34m)\u001b[0m\u001b[0;34m\u001b[0m\u001b[0m\n\u001b[0m\u001b[1;32m    161\u001b[0m \u001b[0;34m\u001b[0m\u001b[0m\n\u001b[1;32m    162\u001b[0m \u001b[0;34m\u001b[0m\u001b[0m\n",
      "\u001b[0;32m~/anaconda3/lib/python3.6/site-packages/pyvo/dal/query.py\u001b[0m in \u001b[0;36m__init__\u001b[0;34m(self, votable, url)\u001b[0m\n\u001b[1;32m    356\u001b[0m         \u001b[0mself\u001b[0m\u001b[0;34m.\u001b[0m\u001b[0m_status\u001b[0m \u001b[0;34m=\u001b[0m \u001b[0mself\u001b[0m\u001b[0;34m.\u001b[0m\u001b[0m_findstatus\u001b[0m\u001b[0;34m(\u001b[0m\u001b[0mvotable\u001b[0m\u001b[0;34m)\u001b[0m\u001b[0;34m\u001b[0m\u001b[0m\n\u001b[1;32m    357\u001b[0m         \u001b[0;32mif\u001b[0m \u001b[0mself\u001b[0m\u001b[0;34m.\u001b[0m\u001b[0m_status\u001b[0m\u001b[0;34m[\u001b[0m\u001b[0;36m0\u001b[0m\u001b[0;34m]\u001b[0m\u001b[0;34m.\u001b[0m\u001b[0mupper\u001b[0m\u001b[0;34m(\u001b[0m\u001b[0;34m)\u001b[0m \u001b[0;32mnot\u001b[0m \u001b[0;32min\u001b[0m \u001b[0;34m(\u001b[0m\u001b[0;34m\"OK\"\u001b[0m\u001b[0;34m,\u001b[0m \u001b[0;34m\"OVERFLOW\"\u001b[0m\u001b[0;34m)\u001b[0m\u001b[0;34m:\u001b[0m\u001b[0;34m\u001b[0m\u001b[0m\n\u001b[0;32m--> 358\u001b[0;31m             \u001b[0;32mraise\u001b[0m \u001b[0mDALQueryError\u001b[0m\u001b[0;34m(\u001b[0m\u001b[0mself\u001b[0m\u001b[0;34m.\u001b[0m\u001b[0m_status\u001b[0m\u001b[0;34m[\u001b[0m\u001b[0;36m1\u001b[0m\u001b[0;34m]\u001b[0m\u001b[0;34m,\u001b[0m \u001b[0mself\u001b[0m\u001b[0;34m.\u001b[0m\u001b[0m_status\u001b[0m\u001b[0;34m[\u001b[0m\u001b[0;36m0\u001b[0m\u001b[0;34m]\u001b[0m\u001b[0;34m,\u001b[0m \u001b[0murl\u001b[0m\u001b[0;34m)\u001b[0m\u001b[0;34m\u001b[0m\u001b[0m\n\u001b[0m\u001b[1;32m    359\u001b[0m \u001b[0;34m\u001b[0m\u001b[0m\n\u001b[1;32m    360\u001b[0m         \u001b[0mself\u001b[0m\u001b[0;34m.\u001b[0m\u001b[0mvotable\u001b[0m \u001b[0;34m=\u001b[0m \u001b[0mself\u001b[0m\u001b[0;34m.\u001b[0m\u001b[0m_findresultstable\u001b[0m\u001b[0;34m(\u001b[0m\u001b[0mvotable\u001b[0m\u001b[0;34m)\u001b[0m\u001b[0;34m\u001b[0m\u001b[0m\n",
      "\u001b[0;31mDALQueryError\u001b[0m: Field query: Query timed out (took too long).\nUnless you know why the query took that long, please contact msdemlei@ari.uni-heidelberg.de.  Otherwise, use TAP's async mode.\nMeanwhile, if this failure happened with a cross match, please try exchanging the large and the small catalog in POINT and CIRCLE."
     ]
    }
   ],
   "source": [
    "services = regsearch(keywords=['quasar'], servicetype='tap')\n",
    "services"
   ]
  },
  {
   "cell_type": "code",
   "execution_count": 4,
   "metadata": {},
   "outputs": [
    {
     "data": {
      "text/html": [
       "&lt;Table masked=True length=1&gt;\n",
       "<table id=\"table4486115056\" class=\"table-striped table-bordered table-condensed\">\n",
       "<thead><tr><th>waveband</th><th>short_name</th><th>ivoid</th><th>res_description</th><th>access_url</th><th>reference_url</th><th>publisher</th><th>service_type</th></tr></thead>\n",
       "<thead><tr><th>str5</th><th>str5</th><th>str28</th><th>str1173</th><th>str77</th><th>str57</th><th>str17</th><th>str10</th></tr></thead>\n",
       "<tr><td>x-ray</td><td>ROSAT</td><td>ivo://nasa.heasarc/rosmaster</td><td>This database table contains the list of all Rontgen Satellite (ROSAT) X-Ray Telescope (XRT) pointing-mode observations for which data sets are available, i.e., it excludes the ROSAT All-Sky Survey observations. Users should consult the RASSMASTER database table for those XRT observations which were made in scanning mode during the ROSAT All-Sky Survey (RASS) phase (30 July 1990 to 25 January 1991, and 3 August 1991 to 13 August 1991). For each observation listed in this table, parameters such as the focal-plane instrument used, the data processing site, and the target name and coordinates are given, as well as the ROSAT Observation Request (ROR) number, the actual and requested exposure times, the date(s) on which the observation took place, etc. For details about the ROSAT instruments, consult the ROSAT Guest Observer Facility (GOF) website at &amp;amp;lt;a href=&quot;http://rosat.gsfc.nasa.gov/&quot;&amp;amp;gt;http://rosat.gsfc.nasa.gov/&amp;amp;lt;/a&amp;amp;gt; e.g., a list of the available on-line ROSAT documentation can be found at &amp;amp;lt;a href=&quot;http://rosat.gsfc.nasa.gov/docs/rosat/rosdocs.html&quot;&amp;amp;gt;http://rosat.gsfc.nasa.gov/docs/rosat/rosdocs.html&amp;amp;lt;/a&amp;amp;gt;</td><td>https://heasarc.gsfc.nasa.gov/cgi-bin/vo/cone/coneGet.pl?table=rosmaster&amp;amp;</td><td>https://heasarc.gsfc.nasa.gov/W3Browse/all/rosmaster.html</td><td>NASA/GSFC HEASARC</td><td>conesearch</td></tr>\n",
       "</table>"
      ],
      "text/plain": [
       "<Table masked=True length=1>\n",
       "waveband short_name ...     publisher     service_type\n",
       "  str5      str5    ...       str17          str10    \n",
       "-------- ---------- ... ----------------- ------------\n",
       "   x-ray      ROSAT ... NASA/GSFC HEASARC   conesearch"
      ]
     },
     "execution_count": 4,
     "metadata": {},
     "output_type": "execute_result"
    }
   ],
   "source": [
    "ros_services=Registry.query(source='rosmaster',service_type='cone')\n",
    "ros_services"
   ]
  },
  {
   "cell_type": "markdown",
   "metadata": {},
   "source": [
    "<a id=\"votable\"></a>\n",
    "# 1. VOTable:  working with VO Table objects\n"
   ]
  },
  {
   "cell_type": "markdown",
   "metadata": {},
   "source": [
    "\n",
    "\n",
    "<a id=\"votable1\"></a>\n",
    "\n",
    "## 1.1 Retrieving a catalog as a VO Table\n",
    "\n"
   ]
  },
  {
   "cell_type": "markdown",
   "metadata": {},
   "source": [
    "<font color='red'>Something more VOic? Use Cone to fetch all of rosmaster? Only get 10k of them. Limited where? Why would one want to fetch the full VO table? Perhaps remove this?</font>"
   ]
  },
  {
   "cell_type": "code",
   "execution_count": 5,
   "metadata": {
    "collapsed": true
   },
   "outputs": [],
   "source": [
    "params = {'name': 'rosmaster'}\n",
    "r = requests.get('http://heasarc.gsfc.nasa.gov/cgi-bin/W3Browse/getvotable.pl', params=params)"
   ]
  },
  {
   "cell_type": "markdown",
   "metadata": {},
   "source": [
    "## SCS seems to work fine for *their* url\n",
    "\n",
    "This is also a lot faster:"
   ]
  },
  {
   "cell_type": "code",
   "execution_count": 6,
   "metadata": {},
   "outputs": [
    {
     "data": {
      "text/html": [
       "&lt;Table masked=True length=3&gt;\n",
       "<table id=\"table4486477808\" class=\"table-striped table-bordered table-condensed\">\n",
       "<thead><tr><th>distCol</th><th>hipno</th><th>raj2000</th><th>dej2000</th><th>pmra</th><th>pmde</th><th>err_ra</th><th>err_pmra</th><th>err_de</th><th>err_pmde</th><th>parallax</th><th>vrad</th><th>mv</th><th>km</th><th>kbin</th><th>kae</th><th>raLTP</th><th>deLTP</th><th>pmraLTP</th><th>pmdeLTP</th><th>raSTP</th><th>deSTP</th><th>pmraSTP</th><th>pmdeSTP</th><th>raHIP</th><th>deHIP</th><th>pmraHIP</th><th>pmdeHIP</th></tr></thead>\n",
       "<thead><tr><th>deg</th><th></th><th>deg</th><th>deg</th><th>deg / yr</th><th>deg / yr</th><th>deg</th><th>deg / yr</th><th>deg</th><th>deg / yr</th><th>deg</th><th>km / s</th><th>mag</th><th></th><th></th><th></th><th>deg</th><th>deg</th><th>deg / yr</th><th>deg / yr</th><th>deg</th><th>deg</th><th>deg / yr</th><th>deg / yr</th><th>deg</th><th>deg</th><th>deg / yr</th><th>deg / yr</th></tr></thead>\n",
       "<thead><tr><th>float64</th><th>object</th><th>float64</th><th>float64</th><th>float32</th><th>float32</th><th>float32</th><th>float32</th><th>float32</th><th>float32</th><th>float32</th><th>float32</th><th>float32</th><th>bytes1</th><th>object</th><th>bytes1</th><th>float64</th><th>float64</th><th>float32</th><th>float32</th><th>float64</th><th>float64</th><th>float32</th><th>float32</th><th>float64</th><th>float64</th><th>float32</th><th>float32</th></tr></thead>\n",
       "<tr><td>0.272820119950972</td><td>64271</td><td>197.588584170833</td><td>-23.62464885</td><td>3.4638899e-06</td><td>-1.00556e-06</td><td>2.16667e-07</td><td>2.3888899e-07</td><td>1.52778e-07</td><td>1.52778e-07</td><td>1.17778e-06</td><td>--</td><td>7.7800002</td><td></td><td>11</td><td>2</td><td>197.588586541762</td><td>-23.624647922222199</td><td>3.7166701e-06</td><td>-8.9999997e-07</td><td>197.58858354626599</td><td>-23.624648505555601</td><td>3.4027801e-06</td><td>-9.6666702e-07</td><td>197.588582782233</td><td>-23.624648133333299</td><td>3.32778e-06</td><td>-9.2499999e-07</td></tr>\n",
       "<tr><td>0.38128583860037302</td><td>64133</td><td>197.16399180833301</td><td>-23.1065042194444</td><td>-3.4155601e-05</td><td>-1.46861e-05</td><td>1.88889e-07</td><td>1.86111e-07</td><td>1.25e-07</td><td>1.08333e-07</td><td>2.4388901e-06</td><td>--</td><td>6.6900001</td><td></td><td>11</td><td>3</td><td>197.16399287139299</td><td>-23.106502741666699</td><td>-3.4044398e-05</td><td>-1.45167e-05</td><td>197.16399158786899</td><td>-23.106504294444399</td><td>-3.41778e-05</td><td>-1.46944e-05</td><td>197.16399142176601</td><td>-23.106504344444399</td><td>-3.41944e-05</td><td>-1.47e-05</td></tr>\n",
       "<tr><td>0.41151954461663898</td><td>64124</td><td>197.136413979167</td><td>-23.679351263888901</td><td>5.0444401e-06</td><td>-4.3611099e-06</td><td>2.6388901e-07</td><td>2.3888899e-07</td><td>1.83333e-07</td><td>1.61111e-07</td><td>5.3055601e-07</td><td>--</td><td>8.8800001</td><td>1</td><td>11</td><td>2</td><td>197.13641429158099</td><td>-23.6793517444444</td><td>5.0777799e-06</td><td>-4.41667e-06</td><td>197.13641370921701</td><td>-23.679351111111099</td><td>5.01667e-06</td><td>-4.3444402e-06</td><td>197.136412859936</td><td>-23.679350763888898</td><td>4.93056e-06</td><td>-4.3055602e-06</td></tr>\n",
       "</table>"
      ],
      "text/plain": [
       "<Table masked=True length=3>\n",
       "      distCol       hipno       raj2000       ...   pmraHIP       pmdeHIP    \n",
       "        deg                       deg         ...   deg / yr      deg / yr   \n",
       "      float64       object      float64       ...   float32       float32    \n",
       "------------------- ------ ------------------ ... ------------ --------------\n",
       "  0.272820119950972  64271   197.588584170833 ...  3.32778e-06 -9.2499999e-07\n",
       "0.38128583860037302  64133 197.16399180833301 ... -3.41944e-05      -1.47e-05\n",
       "0.41151954461663898  64124   197.136413979167 ...  4.93056e-06 -4.3055602e-06"
      ]
     },
     "execution_count": 6,
     "metadata": {},
     "output_type": "execute_result"
    }
   ],
   "source": [
    "#result=Cone.query(ros_services[0],coords='0,0',radius=180)\n",
    "from astropy.units import Quantity\n",
    "from astropy.coordinates import SkyCoord\n",
    "\n",
    "pos = SkyCoord.from_name('NGC 4993')\n",
    "size = Quantity(0.5, unit=\"deg\")\n",
    "scs_srv = pyvo.dal.SCSService('http://dc.zah.uni-heidelberg.de/arihip/q/cone/scs.xml')\n",
    "scs_results = scs_srv.search(pos=pos, radius=size)\n",
    "scs_results.votable.to_table()"
   ]
  },
  {
   "cell_type": "markdown",
   "metadata": {},
   "source": [
    "## And for ours"
   ]
  },
  {
   "cell_type": "code",
   "execution_count": 14,
   "metadata": {},
   "outputs": [
    {
     "data": {
      "text/plain": [
       "[<Table masked=True length=8>\n",
       "    seq_id   instrument exposure    ra      dec        name     Search_Offset\n",
       "                           s       deg      deg                              \n",
       "    str11       str5     int32   float64  float64     str13        float64   \n",
       " ----------- ---------- -------- -------- ------- ------------- -------------\n",
       " RH601096N00        HRI     1117 148.4500 69.3000                     25.2549\n",
       " RP600576N00      PSPCB    17022 148.9600 69.3300 M81/M82 GROUP       20.9829\n",
       " RP600110A00      PSPCB    13121 148.9700 69.6800           M82        0.0367\n",
       " RP600110A01      PSPCB    12653 148.9700 69.6800           M82        0.0367\n",
       " RH600021N00        HRI    24645 148.9600 69.6800           M82        0.1771\n",
       " RH600021A01        HRI     9496 148.9600 69.6800           M82        0.1771\n",
       " RH600476N00        HRI     5877 148.9800 69.6800           M82        0.2411\n",
       " RH701658N00        HRI    53074 148.9500 69.6800           M82        0.3850]"
      ]
     },
     "execution_count": 14,
     "metadata": {},
     "output_type": "execute_result"
    }
   ],
   "source": [
    "pos=SkyCoord.from_name('m82')\n",
    "Cone.query(ros_services[0],coords=pos,radius=0.5)"
   ]
  },
  {
   "cell_type": "code",
   "execution_count": 15,
   "metadata": {},
   "outputs": [
    {
     "data": {
      "text/html": [
       "&lt;Table masked=True length=8&gt;\n",
       "<table id=\"table4639595656\" class=\"table-striped table-bordered table-condensed\">\n",
       "<thead><tr><th>seq_id</th><th>instrument</th><th>exposure</th><th>ra</th><th>dec</th><th>name</th><th>Search_Offset</th></tr></thead>\n",
       "<thead><tr><th></th><th></th><th>s</th><th>deg</th><th>deg</th><th></th><th></th></tr></thead>\n",
       "<thead><tr><th>object</th><th>object</th><th>int32</th><th>float64</th><th>float64</th><th>object</th><th>float64</th></tr></thead>\n",
       "<tr><td>RH601096N00</td><td>HRI</td><td>1117</td><td>148.4500</td><td>69.3000</td><td></td><td>25.2549</td></tr>\n",
       "<tr><td>RP600576N00</td><td>PSPCB</td><td>17022</td><td>148.9600</td><td>69.3300</td><td>M81/M82 GROUP</td><td>20.9829</td></tr>\n",
       "<tr><td>RP600110A00</td><td>PSPCB</td><td>13121</td><td>148.9700</td><td>69.6800</td><td>M82</td><td>0.0367</td></tr>\n",
       "<tr><td>RP600110A01</td><td>PSPCB</td><td>12653</td><td>148.9700</td><td>69.6800</td><td>M82</td><td>0.0367</td></tr>\n",
       "<tr><td>RH600021N00</td><td>HRI</td><td>24645</td><td>148.9600</td><td>69.6800</td><td>M82</td><td>0.1771</td></tr>\n",
       "<tr><td>RH600021A01</td><td>HRI</td><td>9496</td><td>148.9600</td><td>69.6800</td><td>M82</td><td>0.1771</td></tr>\n",
       "<tr><td>RH600476N00</td><td>HRI</td><td>5877</td><td>148.9800</td><td>69.6800</td><td>M82</td><td>0.2411</td></tr>\n",
       "<tr><td>RH701658N00</td><td>HRI</td><td>53074</td><td>148.9500</td><td>69.6800</td><td>M82</td><td>0.3850</td></tr>\n",
       "</table>"
      ],
      "text/plain": [
       "<Table masked=True length=8>\n",
       "   seq_id   instrument exposure    ra      dec        name     Search_Offset\n",
       "                          s       deg      deg                              \n",
       "   object     object    int32   float64  float64     object       float64   \n",
       "----------- ---------- -------- -------- ------- ------------- -------------\n",
       "RH601096N00        HRI     1117 148.4500 69.3000                     25.2549\n",
       "RP600576N00      PSPCB    17022 148.9600 69.3300 M81/M82 GROUP       20.9829\n",
       "RP600110A00      PSPCB    13121 148.9700 69.6800           M82        0.0367\n",
       "RP600110A01      PSPCB    12653 148.9700 69.6800           M82        0.0367\n",
       "RH600021N00        HRI    24645 148.9600 69.6800           M82        0.1771\n",
       "RH600021A01        HRI     9496 148.9600 69.6800           M82        0.1771\n",
       "RH600476N00        HRI     5877 148.9800 69.6800           M82        0.2411\n",
       "RH701658N00        HRI    53074 148.9500 69.6800           M82        0.3850"
      ]
     },
     "execution_count": 15,
     "metadata": {},
     "output_type": "execute_result"
    }
   ],
   "source": [
    "ros_srv=pyvo.dal.SCSService(ros_services[0]['access_url'])\n",
    "ros_results=ros_srv.search(pos=pos,radius=size)\n",
    "ros_results.votable.to_table()"
   ]
  },
  {
   "cell_type": "markdown",
   "metadata": {
    "collapsed": true
   },
   "source": [
    "<a id=\"votable2\"></a>\n",
    "## 1.2 Creating a VO Table from scratch"
   ]
  },
  {
   "cell_type": "markdown",
   "metadata": {},
   "source": [
    "Alternatively, we can create a table from scratch using an array of values.  \n",
    "\n",
    "There are several ways of doing this, and there are a few object layers here, which can be confusing.  There are standard astropy Table objects, there are votable Table objects, and there are votable VOTableFile objects that might contain multiple votable Tables. Though some things can be done with generic astropy Tables, other VO operations can only be done with VO Tables or VOTableFile objects.  \n",
    "\n",
    "This is easiest to see in an example. In the following we create an astropy Table of RA and Dec values:"
   ]
  },
  {
   "cell_type": "code",
   "execution_count": 16,
   "metadata": {},
   "outputs": [
    {
     "name": "stdout",
     "output_type": "stream",
     "text": [
      "Table type is <class 'astropy.table.table.Table'>\n"
     ]
    },
    {
     "data": {
      "text/html": [
       "&lt;Table length=22&gt;\n",
       "<table id=\"table4639664840-103699\" class=\"table-striped table-bordered table-condensed\">\n",
       "<thead><tr><th>idx</th><th>RA</th><th>DEC</th></tr></thead>\n",
       "<tr><td>0</td><td>19.0186</td><td>46.7304</td></tr>\n",
       "<tr><td>1</td><td>20.2887</td><td>40.4703</td></tr>\n",
       "<tr><td>2</td><td>125.8860</td><td>21.3377</td></tr>\n",
       "<tr><td>3</td><td>136.0020</td><td>21.9679</td></tr>\n",
       "<tr><td>4</td><td>141.0570</td><td>40.6372</td></tr>\n",
       "<tr><td>5</td><td>146.7000</td><td>22.0116</td></tr>\n",
       "<tr><td>6</td><td>148.7850</td><td>14.2922</td></tr>\n",
       "<tr><td>7</td><td>149.7510</td><td>17.8168</td></tr>\n",
       "<tr><td>8</td><td>175.0390</td><td>15.3270</td></tr>\n",
       "<tr><td>9</td><td>191.5420</td><td>30.7317</td></tr>\n",
       "<tr><td>10</td><td>194.9130</td><td>28.8959</td></tr>\n",
       "<tr><td>11</td><td>199.0260</td><td>41.5011</td></tr>\n",
       "<tr><td>12</td><td>206.5770</td><td>43.8511</td></tr>\n",
       "<tr><td>13</td><td>209.9630</td><td>38.1821</td></tr>\n",
       "<tr><td>14</td><td>213.5560</td><td>15.6214</td></tr>\n",
       "<tr><td>15</td><td>219.9670</td><td>42.7421</td></tr>\n",
       "<tr><td>16</td><td>226.6930</td><td>12.8502</td></tr>\n",
       "<tr><td>17</td><td>237.4890</td><td>20.8057</td></tr>\n",
       "<tr><td>18</td><td>241.5190</td><td>20.8014</td></tr>\n",
       "<tr><td>19</td><td>317.0880</td><td>18.2002</td></tr>\n",
       "<tr><td>20</td><td>329.2350</td><td>6.6485</td></tr>\n",
       "<tr><td>21</td><td>333.8300</td><td>37.3012</td></tr>\n",
       "</table><style>table.dataTable {clear: both; width: auto !important; margin: 0 !important;}\n",
       ".dataTables_info, .dataTables_length, .dataTables_filter, .dataTables_paginate{\n",
       "display: inline-block; margin-right: 1em; }\n",
       ".paginate_button { margin-right: 5px; }\n",
       "</style>\n",
       "<script>\n",
       "\n",
       "var astropy_sort_num = function(a, b) {\n",
       "    var a_num = parseFloat(a);\n",
       "    var b_num = parseFloat(b);\n",
       "\n",
       "    if (isNaN(a_num) && isNaN(b_num))\n",
       "        return ((a < b) ? -1 : ((a > b) ? 1 : 0));\n",
       "    else if (!isNaN(a_num) && !isNaN(b_num))\n",
       "        return ((a_num < b_num) ? -1 : ((a_num > b_num) ? 1 : 0));\n",
       "    else\n",
       "        return isNaN(a_num) ? -1 : 1;\n",
       "}\n",
       "\n",
       "require.config({paths: {\n",
       "    datatables: 'https://cdn.datatables.net/1.10.12/js/jquery.dataTables.min'\n",
       "}});\n",
       "require([\"datatables\"], function(){\n",
       "    console.log(\"$('#table4639664840-103699').dataTable()\");\n",
       "    \n",
       "jQuery.extend( jQuery.fn.dataTableExt.oSort, {\n",
       "    \"optionalnum-asc\": astropy_sort_num,\n",
       "    \"optionalnum-desc\": function (a,b) { return -astropy_sort_num(a, b); }\n",
       "});\n",
       "\n",
       "    $('#table4639664840-103699').dataTable({\n",
       "        order: [],\n",
       "        pageLength: 50,\n",
       "        lengthMenu: [[10, 25, 50, 100, 500, 1000, -1], [10, 25, 50, 100, 500, 1000, 'All']],\n",
       "        pagingType: \"full_numbers\",\n",
       "        columnDefs: [{targets: [0, 1, 2], type: \"optionalnum\"}]\n",
       "    });\n",
       "});\n",
       "</script>\n"
      ],
      "text/plain": [
       "<IPython.core.display.HTML object>"
      ]
     },
     "execution_count": 16,
     "metadata": {},
     "output_type": "execute_result"
    }
   ],
   "source": [
    "##  Create a table with only two columns starting from an astropy Table:  \n",
    "from astropy.table import Table as apTable\n",
    "aptable=apTable(\n",
    "    numpy.array([\n",
    "            [19.0186,       46.7304],\n",
    "            [20.2887,       40.4703],\n",
    "            [125.886,       21.3377],\n",
    "            [136.002,       21.9679],\n",
    "            [141.057,       40.6372],\n",
    "            [146.700,       22.0116],\n",
    "            [148.785,       14.2922],\n",
    "            [149.751,       17.8168],\n",
    "            [175.039,       15.3270],\n",
    "            [191.542,       30.7317],\n",
    "            [194.913,       28.8959],\n",
    "            [199.026,       41.5011],\n",
    "            [206.577,       43.8511],\n",
    "            [209.963,       38.1821],\n",
    "            [213.556,       15.6214],\n",
    "            [219.967,       42.7421],\n",
    "            [226.693,       12.8502],\n",
    "            [237.489,       20.8057],\n",
    "            [241.519,       20.8014],\n",
    "            [317.088,       18.2002],\n",
    "            [329.235,       6.64845],\n",
    "            [333.830,       37.3012] ]), \n",
    "    names=[\"RA\",\"DEC\"])\n",
    "print(\"Table type is {ttype}\".format(ttype=type(aptable)))\n",
    "aptable['RA'].format=\".4f\"\n",
    "aptable['DEC'].format=\".4f\"\n",
    "aptable.show_in_notebook()\n",
    "\n"
   ]
  },
  {
   "cell_type": "markdown",
   "metadata": {},
   "source": [
    "## 1.3 Converting to a VOTableFile instance"
   ]
  },
  {
   "cell_type": "code",
   "execution_count": 17,
   "metadata": {},
   "outputs": [
    {
     "name": "stdout",
     "output_type": "stream",
     "text": [
      "<class 'astropy.io.votable.tree.VOTableFile'>\n",
      "<class 'astropy.io.votable.tree.Table'>\n",
      "        RA                DEC        \n",
      "------------------ ------------------\n",
      "19.018599999999999 46.730400000000003\n",
      "20.288699999999999 40.470300000000002\n",
      "           125.886 21.337700000000002\n",
      "136.00200000000001            21.9679\n",
      "141.05699999999999            40.6372\n",
      "146.69999999999999 22.011600000000001\n",
      "           148.785 14.292199999999999\n",
      "           149.751 17.816800000000001\n",
      "175.03899999999999             15.327\n",
      "           191.542            30.7317\n",
      "194.91300000000001 28.895900000000001\n",
      "199.02600000000001 41.501100000000001\n",
      "           206.577 43.851100000000002\n",
      "209.96299999999999 38.182099999999998\n",
      "213.55600000000001            15.6214\n",
      "219.96700000000001 42.742100000000001\n",
      "226.69300000000001 12.850199999999999\n",
      "           237.489 20.805700000000002\n",
      "241.51900000000001 20.801400000000001\n",
      "317.08800000000002 18.200199999999999\n",
      "329.23500000000001 6.6484500000000004\n",
      "333.82999999999998 37.301200000000001\n"
     ]
    }
   ],
   "source": [
    "## Then convert this to a VOTableFile object.\n",
    "votablefile = apvot.from_table(aptable)\n",
    "print(type(votablefile))\n",
    "## Which contains a nested set of RESOURCES\n",
    "for r in votablefile.resources:\n",
    "    ## And tables (in this case, only one of each)\n",
    "    mytable=r\n",
    "    for t in r.tables:\n",
    "        print(type(t))\n",
    "        print(t)\n"
   ]
  },
  {
   "cell_type": "markdown",
   "metadata": {},
   "source": [
    "<a id=\"scs\"></a>\n",
    "# 2. SCS:  Using the Simple Cone Search to query a different catalog in a loop\n",
    "The __[Simple Cone Search (SCS) protocol](http://www.ivoa.net/documents/latest/ConeSearch.html)__ is used to search a given table with a given position and radius, getting again a VOTable XML result.  See also the notebook on [using SCS](heasarc_Cone_Search.ipynb) for more details.  \n",
    "\n",
    "In our science example, <i> we might want to search for available information for the source in the table created above in different HEASARC catalogs.</i> For example, suppose we were considering proposing for observing time with Chandra. Let's check first to see whether any of our sources were already observed by Chandra, XMM or ROSAT. \n",
    "\n",
    "Below, we show the search of the table 'chanmaster', the master catalog of observed Chandra targets, with a search radius of 0.1 degrees. "
   ]
  },
  {
   "cell_type": "markdown",
   "metadata": {},
   "source": [
    "<a id=\"scs1\"></a>\n",
    "The SCS protocol is quite straightforward.  The ``params`` dictionary should specify the ``RA`` and ``Dec`` for the source of interest, a search radius ``SR`` in degrees, along with the ``table`` to be queried.  An example is shown below where we loop through the first five positions specified in our source table (``aptable``) created above"
   ]
  },
  {
   "cell_type": "markdown",
   "metadata": {},
   "source": [
    "<a id=\"scs1\"></a>\n",
    "The SCS protocol is quite straightforward.  The ``params`` dictionary should specify the ``RA`` and ``Dec`` for the source of interest, a search radius ``SR`` in degrees, along with the ``table`` to be queried.  An example is shown below where we loop through the first five positions specified in our source table (``aptable``) created above"
   ]
  },
  {
   "cell_type": "code",
   "execution_count": 20,
   "metadata": {
    "scrolled": true
   },
   "outputs": [
    {
     "name": "stdout",
     "output_type": "stream",
     "text": [
      "Source RA, Dec =(19.0186, 46.7304)\n",
      "No Chandra Observation within 0.1 degrees\n",
      "Source RA, Dec =(20.2887, 40.4703)\n",
      "No Chandra Observation within 0.1 degrees\n",
      "Source RA, Dec =(125.886, 21.3377)\n",
      "obsid  status      ra      dec    exposure Search_Offset\n",
      "                  deg      deg       s                  \n",
      "----- -------- --------- -------- -------- -------------\n",
      " 7937 archived 125.81833 21.38608    30030        4.7748\n",
      "Source RA, Dec =(136.002, 21.9679)\n",
      "No Chandra Observation within 0.1 degrees\n",
      "Source RA, Dec =(141.057, 40.6372)\n",
      "No Chandra Observation within 0.1 degrees\n",
      "End of Chanmaster Search\n",
      "\n"
     ]
    }
   ],
   "source": [
    "SR=0.1 # Search radius in degrees\n",
    "for row in aptable[:5]:\n",
    "    print(f\"Source RA, Dec =({row['RA']}, {row['DEC']})\")\n",
    "    table=Cone.query(chan_services[0],coords=f\"{row['RA']},{row['DEC']}\",radius=SR)\n",
    "    if len(table[0]) > 0:\n",
    "        #print \"Source RA, Dec =({ra}, {dec})\".format(ra=row['RA'], dec=row['DEC'])\n",
    "        print(table[0]['obsid','status','ra','dec','exposure','Search_Offset'])\n",
    "    else:\n",
    "        #print \"Source RA, Dec =({ra}, {dec})\".format(ra=row['RA'], dec=row['DEC'])\n",
    "        print(\"No Chandra Observation within {sr} degrees\".format(sr=SR))\n",
    "print(\"End of Chanmaster Search\\n\")\n",
    "    "
   ]
  },
  {
   "cell_type": "code",
   "execution_count": 26,
   "metadata": {
    "scrolled": true
   },
   "outputs": [
    {
     "name": "stdout",
     "output_type": "stream",
     "text": [
      "Source RA, Dec =(19.0186, 46.7304)\n",
      "No Chandra Observation within 0.1 deg degrees\n",
      "Source RA, Dec =(20.2887, 40.4703)\n",
      "No Chandra Observation within 0.1 deg degrees\n",
      "Source RA, Dec =(125.886, 21.3377)\n",
      "obsid  status      ra      dec    exposure Search_Offset\n",
      "                  deg      deg       s                  \n",
      "----- -------- --------- -------- -------- -------------\n",
      " 7937 archived 125.81833 21.38608    30030        4.7670\n",
      "Source RA, Dec =(136.002, 21.9679)\n",
      "No Chandra Observation within 0.1 deg degrees\n",
      "Source RA, Dec =(141.057, 40.6372)\n",
      "No Chandra Observation within 0.1 deg degrees\n",
      "End of Chanmaster Search\n",
      "\n"
     ]
    }
   ],
   "source": [
    "SR=Quantity(0.1,unit='deg') # Search radius in degrees\n",
    "chan_srv=pyvo.dal.SCSService(chan_services[0]['access_url'])\n",
    "for row in aptable[:5]:\n",
    "    pos=SkyCoord(row['RA'],row['DEC'],unit='deg')\n",
    "    print(f\"Source RA, Dec =({row['RA']}, {row['DEC']})\")\n",
    "    table=chan_srv.search(pos=pos,radius=SR).votable.to_table()\n",
    "    if len(table) > 0:\n",
    "        #print \"Source RA, Dec =({ra}, {dec})\".format(ra=row['RA'], dec=row['DEC'])\n",
    "        print(table['obsid','status','ra','dec','exposure','Search_Offset'])\n",
    "    else:\n",
    "        #print \"Source RA, Dec =({ra}, {dec})\".format(ra=row['RA'], dec=row['DEC'])\n",
    "        print(\"No Chandra Observation within {sr} degrees\".format(sr=SR))\n",
    "print(\"End of Chanmaster Search\\n\")\n"
   ]
  },
  {
   "cell_type": "markdown",
   "metadata": {},
   "source": [
    "Alternatively, give your list to the Cone.query(). It wants coordinates either as a string, a tuple/list of (ra,dec),  an astropy coordinates object, or a list of any of these:"
   ]
  },
  {
   "cell_type": "code",
   "execution_count": 27,
   "metadata": {
    "scrolled": true
   },
   "outputs": [
    {
     "data": {
      "text/plain": [
       "[<Table masked=True length=0>\n",
       " obsid status  name     ra     dec   ...  type    pi   public_date Search_Offset\n",
       "                       deg     deg   ...                   mjd                  \n",
       " int32 object object float64 float64 ... object object    int32       float64   \n",
       " ----- ------ ------ ------- ------- ... ------ ------ ----------- -------------,\n",
       " <Table masked=True length=0>\n",
       " obsid status  name     ra     dec   ...  type    pi   public_date Search_Offset\n",
       "                       deg     deg   ...                   mjd                  \n",
       " int32 object object float64 float64 ... object object    int32       float64   \n",
       " ----- ------ ------ ------- ------- ... ------ ------ ----------- -------------,\n",
       " <Table masked=True length=1>\n",
       " obsid  status      name        ra    ... type    pi    public_date Search_Offset\n",
       "                               deg    ...                   mjd                  \n",
       " int32   str8      str11     float64  ... str2   str8      int32       float64   \n",
       " ----- -------- ----------- --------- ... ---- -------- ----------- -------------\n",
       "  7937 archived NGC2563-P14 125.81833 ...   GO Mulchaey       54461        4.7748,\n",
       " <Table masked=True length=0>\n",
       " obsid status  name     ra     dec   ...  type    pi   public_date Search_Offset\n",
       "                       deg     deg   ...                   mjd                  \n",
       " int32 object object float64 float64 ... object object    int32       float64   \n",
       " ----- ------ ------ ------- ------- ... ------ ------ ----------- -------------,\n",
       " <Table masked=True length=0>\n",
       " obsid status  name     ra     dec   ...  type    pi   public_date Search_Offset\n",
       "                       deg     deg   ...                   mjd                  \n",
       " int32 object object float64 float64 ... object object    int32       float64   \n",
       " ----- ------ ------ ------- ------- ... ------ ------ ----------- -------------,\n",
       " <Table masked=True length=0>\n",
       " obsid status  name     ra     dec   ...  type    pi   public_date Search_Offset\n",
       "                       deg     deg   ...                   mjd                  \n",
       " int32 object object float64 float64 ... object object    int32       float64   \n",
       " ----- ------ ------ ------- ------- ... ------ ------ ----------- -------------,\n",
       " <Table masked=True length=0>\n",
       " obsid status  name     ra     dec   ...  type    pi   public_date Search_Offset\n",
       "                       deg     deg   ...                   mjd                  \n",
       " int32 object object float64 float64 ... object object    int32       float64   \n",
       " ----- ------ ------ ------- ------- ... ------ ------ ----------- -------------,\n",
       " <Table masked=True length=0>\n",
       " obsid status  name     ra     dec   ...  type    pi   public_date Search_Offset\n",
       "                       deg     deg   ...                   mjd                  \n",
       " int32 object object float64 float64 ... object object    int32       float64   \n",
       " ----- ------ ------ ------- ------- ... ------ ------ ----------- -------------,\n",
       " <Table masked=True length=0>\n",
       " obsid status  name     ra     dec   ...  type    pi   public_date Search_Offset\n",
       "                       deg     deg   ...                   mjd                  \n",
       " int32 object object float64 float64 ... object object    int32       float64   \n",
       " ----- ------ ------ ------- ------- ... ------ ------ ----------- -------------,\n",
       " <Table masked=True length=1>\n",
       " obsid  status    name      ra    ... type  pi  public_date Search_Offset\n",
       "                           deg    ...               mjd                  \n",
       " int32   str8     str7   float64  ... str2 str4    int32       float64   \n",
       " ----- -------- ------- --------- ... ---- ---- ----------- -------------\n",
       "  2043 archived ARP 242 191.55083 ...   GO Read       52429        0.5298,\n",
       " <Table masked=True length=0>\n",
       " obsid status  name     ra     dec   ...  type    pi   public_date Search_Offset\n",
       "                       deg     deg   ...                   mjd                  \n",
       " int32 object object float64 float64 ... object object    int32       float64   \n",
       " ----- ------ ------ ------- ------- ... ------ ------ ----------- -------------,\n",
       " <Table masked=True length=0>\n",
       " obsid status  name     ra     dec   ...  type    pi   public_date Search_Offset\n",
       "                       deg     deg   ...                   mjd                  \n",
       " int32 object object float64 float64 ... object object    int32       float64   \n",
       " ----- ------ ------ ------- ------- ... ------ ------ ----------- -------------,\n",
       " <Table masked=True length=1>\n",
       " obsid  status    name       ra    ... type    pi   public_date Search_Offset\n",
       "                            deg    ...                  mjd                  \n",
       " int32   str8     str8    float64  ... str2   str7     int32       float64   \n",
       " ----- -------- -------- --------- ... ---- ------- ----------- -------------\n",
       " 19370 observed NGC 5297 206.59875 ...   GO McHardy       58417        1.5626,\n",
       " <Table masked=True length=0>\n",
       " obsid status  name     ra     dec   ...  type    pi   public_date Search_Offset\n",
       "                       deg     deg   ...                   mjd                  \n",
       " int32 object object float64 float64 ... object object    int32       float64   \n",
       " ----- ------ ------ ------- ------- ... ------ ------ ----------- -------------,\n",
       " <Table masked=True length=0>\n",
       " obsid status  name     ra     dec   ...  type    pi   public_date Search_Offset\n",
       "                       deg     deg   ...                   mjd                  \n",
       " int32 object object float64 float64 ... object object    int32       float64   \n",
       " ----- ------ ------ ------- ------- ... ------ ------ ----------- -------------,\n",
       " <Table masked=True length=0>\n",
       " obsid status  name     ra     dec   ...  type    pi   public_date Search_Offset\n",
       "                       deg     deg   ...                   mjd                  \n",
       " int32 object object float64 float64 ... object object    int32       float64   \n",
       " ----- ------ ------ ------- ------- ... ------ ------ ----------- -------------,\n",
       " <Table masked=True length=0>\n",
       " obsid status  name     ra     dec   ...  type    pi   public_date Search_Offset\n",
       "                       deg     deg   ...                   mjd                  \n",
       " int32 object object float64 float64 ... object object    int32       float64   \n",
       " ----- ------ ------ ------- ------- ... ------ ------ ----------- -------------,\n",
       " <Table masked=True length=0>\n",
       " obsid status  name     ra     dec   ...  type    pi   public_date Search_Offset\n",
       "                       deg     deg   ...                   mjd                  \n",
       " int32 object object float64 float64 ... object object    int32       float64   \n",
       " ----- ------ ------ ------- ------- ... ------ ------ ----------- -------------,\n",
       " <Table masked=True length=0>\n",
       " obsid status  name     ra     dec   ...  type    pi   public_date Search_Offset\n",
       "                       deg     deg   ...                   mjd                  \n",
       " int32 object object float64 float64 ... object object    int32       float64   \n",
       " ----- ------ ------ ------- ------- ... ------ ------ ----------- -------------,\n",
       " <Table masked=True length=0>\n",
       " obsid status  name     ra     dec   ...  type    pi   public_date Search_Offset\n",
       "                       deg     deg   ...                   mjd                  \n",
       " int32 object object float64 float64 ... object object    int32       float64   \n",
       " ----- ------ ------ ------- ------- ... ------ ------ ----------- -------------,\n",
       " <Table masked=True length=0>\n",
       " obsid status  name     ra     dec   ...  type    pi   public_date Search_Offset\n",
       "                       deg     deg   ...                   mjd                  \n",
       " int32 object object float64 float64 ... object object    int32       float64   \n",
       " ----- ------ ------ ------- ------- ... ------ ------ ----------- -------------,\n",
       " <Table masked=True length=0>\n",
       " obsid status  name     ra     dec   ...  type    pi   public_date Search_Offset\n",
       "                       deg     deg   ...                   mjd                  \n",
       " int32 object object float64 float64 ... object object    int32       float64   \n",
       " ----- ------ ------ ------- ------- ... ------ ------ ----------- -------------]"
      ]
     },
     "execution_count": 27,
     "metadata": {},
     "output_type": "execute_result"
    }
   ],
   "source": [
    "SR=0.1 # Search radius in degrees\n",
    "coords=numpy.transpose( [aptable['RA'].data, aptable['DEC'].data ] ).tolist()\n",
    "table=Cone.query(chan_services[0],coords=coords,radius=SR)\n",
    "table"
   ]
  },
  {
   "cell_type": "code",
   "execution_count": 28,
   "metadata": {},
   "outputs": [
    {
     "data": {
      "text/plain": [
       "0"
      ]
     },
     "execution_count": 28,
     "metadata": {},
     "output_type": "execute_result"
    }
   ],
   "source": [
    "len(table[0])"
   ]
  },
  {
   "cell_type": "markdown",
   "metadata": {},
   "source": [
    "<a id=\"sia\"></a>\n",
    "# 3. SIA:  Using the Simple Image Access protocol.\n"
   ]
  },
  {
   "cell_type": "markdown",
   "metadata": {},
   "source": [
    "The __[HEASARC VO](https://heasarc.gsfc.nasa.gov/docs/archive/vo/instructions.html#_accessing)__ page describes how to access SkyView images with the SIA protocol. See also the dedicated notebook on [using SIA](heasarc_Image_Access.ipynb).  \n",
    "\n",
    "But first, how do you know what sorts of images are available?"
   ]
  },
  {
   "cell_type": "markdown",
   "metadata": {},
   "source": [
    "## 3.1:  Finding SkyView SIA resources\n",
    "\n",
    "As above, we use the Registry class to search for an image service. Suppose we know we want Swift UVOT images:"
   ]
  },
  {
   "cell_type": "code",
   "execution_count": 29,
   "metadata": {},
   "outputs": [
    {
     "data": {
      "text/html": [
       "&lt;Table masked=True length=1&gt;\n",
       "<table id=\"table4641061744\" class=\"table-striped table-bordered table-condensed\">\n",
       "<thead><tr><th>waveband</th><th>short_name</th><th>ivoid</th><th>res_description</th><th>access_url</th><th>reference_url</th><th>publisher</th><th>service_type</th></tr></thead>\n",
       "<thead><tr><th>str10</th><th>str9</th><th>str36</th><th>str7035</th><th>str69</th><th>str29</th><th>str17</th><th>str17</th></tr></thead>\n",
       "<tr><td>uv#optical</td><td>SWIFTUVOT</td><td>ivo://nasa.heasarc/skyview/swiftuvot</td><td>The Swift UVOT instrument is a 30 cm modified Ritchey-Chretien reflecting telescope launched on board the Swift satellite on November 20, 2004. The range of optical and UV filters can accomodate wavebands between 1700 and 6500 Angstroms. A full field image covers 17x17 arcminutes and at maximum spatial sampling is imaged onto 2048x2048 0.5&quot; pixels. A 1000 second observation can detect point sources to m=22.3 when no filter is used. The Swift Serendipitous Source Catalog (Page et al., 2015) detects sources down to m=23-26 for the six filters in very deep observations, but the typical limits are substantially brighter (~20-23 magnitude). &amp;amp;lt;p&amp;amp;gt; These surveys are mosaics of all Swift UVOT observations released between the start of the mission and July 2017. Data were extracted from the HEASARC archive from the UVOT products directory. Mosaics are provided in six filters and also with no filter, i.e., WHITE. The table below gives the number of observations and bandpasses for each of the filters. For each UVOT observation standard processing generates a counts and exposure file as a single multi-extension FITS file with a separate extension for each filter. To aid processing, these extensions were copied into separate files in directory trees for each filter. Four observations in which the exposure and counts maps did not agree on the filters used were omitted from the processing. &amp;amp;lt;p&amp;amp;gt; Some observations were recorded with 0.5&quot; pixels while others were binned to 1&quot;. All 0.5&quot; observations (typically fewer than 10%) were rebinned to the larger pixels for the counts maps since the counts data scales with the pixel size. Since the exposure values are intensive and do not vary significantly based upon the resolution, these data were not generally rebinned unless it was needed to ensure that Order 9 Hips data were produced. &amp;amp;lt;p&amp;amp;gt; The CDS Hipsgen software was used to generate Order 9 HiPS data (~0.8&quot; pixels) for both the Counts and Exposure images. The HiPS (Hierarchical Progressive Survey VO standard) supports multi-resolution mosaics. Any quantitative use of these images should note that the rebinning increases the total counts by a factor of ~(1.0/0.8)^2 ~ 1.56. This software uses a bilinear interpolation to generate HEALPix tiles of an appropriate order (18 in this case). &amp;amp;lt;i&amp;amp;gt;SkyView&amp;amp;lt;/i&amp;amp;gt; developed software was used to divide the level 9 counts maps tiles by the corresponding exposure maps to create intensity tiles. Pixels where the exposure was less than 5 seconds were left as NaNs. The lower order (8 to 3) order intensity tiles were then generated by averaging 2x2 sets of the higher order maps treating any missing maps or pixels as NaNs. A HiPS all-sky image was generated by averaged the Order 3 tiles. &amp;amp;lt;p&amp;amp;gt; Only the Intensity HIPS files are presented in the SkyView web page directly, but intensity, counts and exposure maps are available for all seven filters. Note that unlike the XRT HiPS data, the exposure and counts maps have not been clipped. I.e., the source FITS files have been aligned with the coordinate system and thus contain large numbers of unexposed pixels with 0 values. These 0&apos;s are simply propogated to HiPS tiles. NaNs are returned in regions which lie swiftuvot\\.xml\\.outside any of the original source images. For the Intensity map, any pixel for which the exposure was less than 5s is returned as a NaN. &amp;amp;lt;table border&amp;amp;gt; &amp;amp;lt;tr&amp;amp;gt;&amp;amp;lt;th align=center&amp;amp;gt;Filter&amp;amp;lt;/th&amp;amp;gt;&amp;amp;lt;th&amp;amp;gt;Count&amp;amp;lt;/th&amp;amp;gt;&amp;amp;lt;th&amp;amp;gt;Central Wavelength (&amp;amp;amp;amp;#8491;;)&amp;amp;lt;/th&amp;amp;gt;&amp;amp;lt;th&amp;amp;gt;Bandpass (&amp;amp;amp;amp;#8491;;)&amp;amp;lt;/th&amp;amp;gt;&amp;amp;lt;th&amp;amp;gt;Central Frequency(THz)&amp;amp;lt;/th&amp;amp;gt;&amp;amp;lt;th&amp;amp;gt;Bandpass (THz)&amp;amp;lt;/th&amp;amp;gt;&amp;amp;lt;th&amp;amp;gt;Coverage&amp;amp;lt;/th&amp;amp;gt;&amp;amp;lt;/tr&amp;amp;gt; &amp;amp;lt;tr&amp;amp;gt;&amp;amp;lt;th align=center&amp;amp;gt;WHITE&amp;amp;lt;/th&amp;amp;gt;&amp;amp;lt;td align=&apos;center&apos;&amp;amp;gt;3,000&amp;amp;lt;/td&amp;amp;gt;&amp;amp;lt;td align=&apos;center&apos;&amp;amp;gt;3600&amp;amp;lt;/td&amp;amp;gt;&amp;amp;lt;td align=&apos;center&apos;&amp;amp;gt;1600-6000&amp;amp;lt;/td&amp;amp;gt;&amp;amp;lt;td align=&apos;center&apos;&amp;amp;gt;832&amp;amp;lt;/td&amp;amp;gt;&amp;amp;lt;td align=&apos;center&apos;&amp;amp;gt;500-1874&amp;amp;lt;/td&amp;amp;gt; &amp;amp;lt;td&amp;amp;gt;0.0017&amp;amp;lt;/td&amp;amp;gt;&amp;amp;lt;/tr&amp;amp;gt; &amp;amp;lt;tr&amp;amp;gt;&amp;amp;lt;th align=center&amp;amp;gt;V&amp;amp;lt;/th&amp;amp;gt;&amp;amp;lt;td align=&apos;center&apos;&amp;amp;gt;30,557&amp;amp;lt;/td&amp;amp;gt;&amp;amp;lt;td align=&apos;center&apos;&amp;amp;gt;5468&amp;amp;lt;/td&amp;amp;gt;&amp;amp;lt;td align=&apos;center&apos;&amp;amp;gt;5083-5852&amp;amp;lt;/td&amp;amp;gt;&amp;amp;lt; &amp;amp;lt;td align=&apos;center&apos;&amp;amp;gt;548&amp;amp;lt;/td&amp;amp;gt;&amp;amp;lt;td align=&apos;center&apos;&amp;amp;gt;512-590&amp;amp;lt;/td&amp;amp;gt; &amp;amp;lt;td&amp;amp;gt;0.0171&amp;amp;lt;/td&amp;amp;gt;&amp;amp;lt;/tr&amp;amp;gt; &amp;amp;lt;tr&amp;amp;gt;&amp;amp;lt;th align=center&amp;amp;gt;B&amp;amp;lt;/th&amp;amp;gt;&amp;amp;lt;td align=&apos;center&apos;&amp;amp;gt;28,347&amp;amp;lt;/td&amp;amp;gt;&amp;amp;lt;td align=&apos;center&apos;&amp;amp;gt;4392&amp;amp;lt;/td&amp;amp;gt;&amp;amp;lt;td align=&apos;center&apos;&amp;amp;gt;3904-4880&amp;amp;lt;/td&amp;amp;gt; &amp;amp;lt;td align=&apos;center&apos;&amp;amp;gt;683&amp;amp;lt;/td&amp;amp;gt;&amp;amp;lt;td align=&apos;center&apos;&amp;amp;gt;614-768&amp;amp;lt;/td&amp;amp;gt; &amp;amp;lt;td&amp;amp;gt;0.0112&amp;amp;lt;td&amp;amp;gt;&amp;amp;lt;/tr&amp;amp;gt; &amp;amp;lt;tr&amp;amp;gt;&amp;amp;lt;th align=center&amp;amp;gt;U&amp;amp;lt;/th&amp;amp;gt;&amp;amp;lt;td align=&apos;center&apos;&amp;amp;gt;49,954&amp;amp;lt;/td&amp;amp;gt;&amp;amp;lt;td align=&apos;center&apos;&amp;amp;gt;3465&amp;amp;lt;/td&amp;amp;gt;&amp;amp;lt;td align=&apos;center&apos;&amp;amp;gt;3072-3875&amp;amp;lt;/td&amp;amp;gt; &amp;amp;lt;td align=&apos;center&apos;&amp;amp;gt;865&amp;amp;lt;/td&amp;amp;gt;&amp;amp;lt;td align=&apos;center&apos;&amp;amp;gt;774-975&amp;amp;lt;/td&amp;amp;gt; &amp;amp;lt;td&amp;amp;gt;0.0287&amp;amp;lt;/td&amp;amp;gt;&amp;amp;lt;/tr&amp;amp;gt; &amp;amp;lt;tr&amp;amp;gt;&amp;amp;lt;th align=center&amp;amp;gt;UVW1&amp;amp;lt;/th&amp;amp;gt;&amp;amp;lt;td align=&apos;center&apos;&amp;amp;gt;60,690&amp;amp;lt;/td&amp;amp;gt;&amp;amp;lt;td align=&apos;center&apos;&amp;amp;gt;2600&amp;amp;lt;/td&amp;amp;gt;&amp;amp;lt;td align=&apos;center&apos;&amp;amp;gt;2253-2946&amp;amp;lt;/td&amp;amp;gt; &amp;amp;lt;td align=&apos;center&apos;&amp;amp;gt;1154&amp;amp;lt;/td&amp;amp;gt;&amp;amp;lt;td align=&apos;center&apos;&amp;amp;gt;1017-1330&amp;amp;lt;/td&amp;amp;gt;&amp;amp;lt;td&amp;amp;gt;0.0277&amp;amp;lt;/td&amp;amp;gt;&amp;amp;lt;/tr&amp;amp;gt; &amp;amp;lt;tr&amp;amp;gt;&amp;amp;lt;th align=center&amp;amp;gt;UVM2&amp;amp;lt;/th&amp;amp;gt;&amp;amp;lt;td align=&apos;center&apos;&amp;amp;gt;56,977&amp;amp;lt;/td&amp;amp;gt;&amp;amp;lt;td align=&apos;center&apos;&amp;amp;gt;2246&amp;amp;lt;/td&amp;amp;gt;&amp;amp;lt;td align=&apos;center&apos;&amp;amp;gt;1997-2495&amp;amp;lt;/td&amp;amp;gt; &amp;amp;lt;td align=&apos;center&apos;&amp;amp;gt;1334&amp;amp;lt;/td&amp;amp;gt;&amp;amp;lt;td align=&apos;center&apos;&amp;amp;gt;1201-1501&amp;amp;lt;/td&amp;amp;gt;&amp;amp;gt;td&amp;amp;gt;0.0314&amp;amp;lt;/td&amp;amp;gt;&amp;amp;lt;/tr&amp;amp;gt; &amp;amp;lt;tr&amp;amp;gt;&amp;amp;lt;th align=center&amp;amp;gt;UVW2&amp;amp;lt;/th&amp;amp;gt;&amp;amp;lt;td align=&apos;center&apos;&amp;amp;gt;54,590&amp;amp;lt;/td&amp;amp;gt;&amp;amp;lt;td align=&apos;center&apos;&amp;amp;gt;1928&amp;amp;lt;/td&amp;amp;gt;&amp;amp;lt;td align=&apos;center&apos;&amp;amp;gt;1600-2256&amp;amp;lt;/td&amp;amp;gt; &amp;amp;lt;td align=&apos;center&apos;&amp;amp;gt;1554&amp;amp;lt;/td&amp;amp;gt;&amp;amp;lt;td align=&apos;center&apos;&amp;amp;gt;1328-1874&amp;amp;lt;/td&amp;amp;gt;&amp;amp;lt;td&amp;amp;gt;0.0260&amp;amp;lt;/td&amp;amp;gt;&amp;amp;lt;/tr&amp;amp;gt; &amp;amp;lt;/table&amp;amp;gt; &amp;amp;lt;strong&amp;amp;gt;Observation counts and bandpasses for UVOT Filters&amp;amp;lt;/strong&amp;amp;gt; &amp;amp;lt;p&amp;amp;gt;</td><td>https://skyview.gsfc.nasa.gov/cgi-bin/vo/sia.pl?survey=swiftuvot&amp;amp;</td><td>https://skyview.gsfc.nasa.gov</td><td>NASA/GSFC HEASARC</td><td>simpleimageaccess</td></tr>\n",
       "</table>"
      ],
      "text/plain": [
       "<Table masked=True length=1>\n",
       " waveband  short_name ...     publisher        service_type  \n",
       "  str10       str9    ...       str17             str17      \n",
       "---------- ---------- ... ----------------- -----------------\n",
       "uv#optical  SWIFTUVOT ... NASA/GSFC HEASARC simpleimageaccess"
      ]
     },
     "execution_count": 29,
     "metadata": {},
     "output_type": "execute_result"
    }
   ],
   "source": [
    "img_services=Registry.query(keyword='swiftuvot',service_type='image')\n",
    "img_services"
   ]
  },
  {
   "cell_type": "markdown",
   "metadata": {},
   "source": [
    "### 3.2 Using SIA to retrieve an image from SkyView:\n",
    "\n",
    "Now we pick one of these catalogs, SwiftUVOT, and look for our sources.  See __[the SIA definition](http://www.ivoa.net/documents/WD/SIA/sia-20040524.html)__ for usage.  In short, you specify the central position, POS, the angular SIZE, and the NAXIS, i.e., the number of ``rows,columns``.  (SkyView will bin/interpolate as needed from the archive data.)  "
   ]
  },
  {
   "cell_type": "code",
   "execution_count": 37,
   "metadata": {},
   "outputs": [
    {
     "name": "stdout",
     "output_type": "stream",
     "text": [
      "19.0186,46.7304\n",
      "https://skyview.gsfc.nasa.gov/cgi-bin/vo/sia.pl?survey=swiftuvot&amp;\n"
     ]
    },
    {
     "data": {
      "text/html": [
       "&lt;ImageTable masked=True length=12&gt;\n",
       "<table id=\"table4642186632\" class=\"table-striped table-bordered table-condensed\">\n",
       "<thead><tr><th>Survey</th><th>Ra</th><th>Dec</th><th>Dim</th><th>Size</th><th>Scale</th><th>Format</th><th>PixFlags</th><th>URL</th><th>LogicalName</th></tr></thead>\n",
       "<thead><tr><th>str16</th><th>float64</th><th>float64</th><th>int32</th><th>object</th><th>object</th><th>str10</th><th>str1</th><th>str239</th><th>str1</th></tr></thead>\n",
       "<tr><td>swiftuvotvint</td><td>19.018599999999999</td><td>46.730429999999998</td><td>2</td><td>[300 300]</td><td>[-0.00019999999999999998 0.00019999999999999998]</td><td>image/fits</td><td>F</td><td>https://skyview.gsfc.nasa.gov/cgi-bin/images?position=19.0186%2C46.73043&amp;survey=swiftuvotvint&amp;pixels=300%2C300&amp;sampler=LI&amp;size=0.06%2C0.06&amp;projection=Tan&amp;coordinates=J2000.0&amp;requestID=skv1528214579964&amp;return=FITS</td><td>1</td></tr>\n",
       "<tr><td>swiftuvotvint</td><td>19.018599999999999</td><td>46.730429999999998</td><td>2</td><td>[300 300]</td><td>[-0.00019999999999999998 0.00019999999999999998]</td><td>image/jpeg</td><td>F</td><td>https://skyview.gsfc.nasa.gov/cgi-bin/images?position=19.0186%2C46.73043&amp;survey=swiftuvotvint&amp;pixels=300%2C300&amp;sampler=LI&amp;size=0.06%2C0.06&amp;projection=Tan&amp;coordinates=J2000.0&amp;requestID=skv1528214579964&amp;nofits=1&amp;quicklook=jpeg&amp;return=jpeg</td><td>1</td></tr>\n",
       "<tr><td>swiftuvotbint</td><td>19.018599999999999</td><td>46.730429999999998</td><td>2</td><td>[300 300]</td><td>[-0.00019999999999999998 0.00019999999999999998]</td><td>image/fits</td><td>F</td><td>https://skyview.gsfc.nasa.gov/cgi-bin/images?position=19.0186%2C46.73043&amp;survey=swiftuvotbint&amp;pixels=300%2C300&amp;sampler=LI&amp;size=0.06%2C0.06&amp;projection=Tan&amp;coordinates=J2000.0&amp;requestID=skv1528214580574&amp;return=FITS</td><td>2</td></tr>\n",
       "<tr><td>swiftuvotbint</td><td>19.018599999999999</td><td>46.730429999999998</td><td>2</td><td>[300 300]</td><td>[-0.00019999999999999998 0.00019999999999999998]</td><td>image/jpeg</td><td>F</td><td>https://skyview.gsfc.nasa.gov/cgi-bin/images?position=19.0186%2C46.73043&amp;survey=swiftuvotbint&amp;pixels=300%2C300&amp;sampler=LI&amp;size=0.06%2C0.06&amp;projection=Tan&amp;coordinates=J2000.0&amp;requestID=skv1528214580574&amp;nofits=1&amp;quicklook=jpeg&amp;return=jpeg</td><td>2</td></tr>\n",
       "<tr><td>swiftuvotuint</td><td>19.018599999999999</td><td>46.730429999999998</td><td>2</td><td>[300 300]</td><td>[-0.00019999999999999998 0.00019999999999999998]</td><td>image/fits</td><td>F</td><td>https://skyview.gsfc.nasa.gov/cgi-bin/images?position=19.0186%2C46.73043&amp;survey=swiftuvotuint&amp;pixels=300%2C300&amp;sampler=LI&amp;size=0.06%2C0.06&amp;projection=Tan&amp;coordinates=J2000.0&amp;requestID=skv1528214581795&amp;return=FITS</td><td>3</td></tr>\n",
       "<tr><td>swiftuvotuint</td><td>19.018599999999999</td><td>46.730429999999998</td><td>2</td><td>[300 300]</td><td>[-0.00019999999999999998 0.00019999999999999998]</td><td>image/jpeg</td><td>F</td><td>https://skyview.gsfc.nasa.gov/cgi-bin/images?position=19.0186%2C46.73043&amp;survey=swiftuvotuint&amp;pixels=300%2C300&amp;sampler=LI&amp;size=0.06%2C0.06&amp;projection=Tan&amp;coordinates=J2000.0&amp;requestID=skv1528214581795&amp;nofits=1&amp;quicklook=jpeg&amp;return=jpeg</td><td>3</td></tr>\n",
       "<tr><td>swiftuvotuvw1int</td><td>19.018599999999999</td><td>46.730429999999998</td><td>2</td><td>[300 300]</td><td>[-0.00019999999999999998 0.00019999999999999998]</td><td>image/fits</td><td>F</td><td>https://skyview.gsfc.nasa.gov/cgi-bin/images?position=19.0186%2C46.73043&amp;survey=swiftuvotuvw1int&amp;pixels=300%2C300&amp;sampler=LI&amp;size=0.06%2C0.06&amp;projection=Tan&amp;coordinates=J2000.0&amp;requestID=skv1528214582719&amp;return=FITS</td><td>4</td></tr>\n",
       "<tr><td>swiftuvotuvw1int</td><td>19.018599999999999</td><td>46.730429999999998</td><td>2</td><td>[300 300]</td><td>[-0.00019999999999999998 0.00019999999999999998]</td><td>image/jpeg</td><td>F</td><td>https://skyview.gsfc.nasa.gov/cgi-bin/images?position=19.0186%2C46.73043&amp;survey=swiftuvotuvw1int&amp;pixels=300%2C300&amp;sampler=LI&amp;size=0.06%2C0.06&amp;projection=Tan&amp;coordinates=J2000.0&amp;requestID=skv1528214582719&amp;nofits=1&amp;quicklook=jpeg&amp;return=jpeg</td><td>4</td></tr>\n",
       "<tr><td>swiftuvotuvw2int</td><td>19.018599999999999</td><td>46.730429999999998</td><td>2</td><td>[300 300]</td><td>[-0.00019999999999999998 0.00019999999999999998]</td><td>image/fits</td><td>F</td><td>https://skyview.gsfc.nasa.gov/cgi-bin/images?position=19.0186%2C46.73043&amp;survey=swiftuvotuvw2int&amp;pixels=300%2C300&amp;sampler=LI&amp;size=0.06%2C0.06&amp;projection=Tan&amp;coordinates=J2000.0&amp;requestID=skv1528214583913&amp;return=FITS</td><td>5</td></tr>\n",
       "<tr><td>swiftuvotuvw2int</td><td>19.018599999999999</td><td>46.730429999999998</td><td>2</td><td>[300 300]</td><td>[-0.00019999999999999998 0.00019999999999999998]</td><td>image/jpeg</td><td>F</td><td>https://skyview.gsfc.nasa.gov/cgi-bin/images?position=19.0186%2C46.73043&amp;survey=swiftuvotuvw2int&amp;pixels=300%2C300&amp;sampler=LI&amp;size=0.06%2C0.06&amp;projection=Tan&amp;coordinates=J2000.0&amp;requestID=skv1528214583913&amp;nofits=1&amp;quicklook=jpeg&amp;return=jpeg</td><td>5</td></tr>\n",
       "<tr><td>swiftuvotuvm2int</td><td>19.018599999999999</td><td>46.730429999999998</td><td>2</td><td>[300 300]</td><td>[-0.00019999999999999998 0.00019999999999999998]</td><td>image/fits</td><td>F</td><td>https://skyview.gsfc.nasa.gov/cgi-bin/images?position=19.0186%2C46.73043&amp;survey=swiftuvotuvm2int&amp;pixels=300%2C300&amp;sampler=LI&amp;size=0.06%2C0.06&amp;projection=Tan&amp;coordinates=J2000.0&amp;requestID=skv1528214584934&amp;return=FITS</td><td>6</td></tr>\n",
       "<tr><td>swiftuvotuvm2int</td><td>19.018599999999999</td><td>46.730429999999998</td><td>2</td><td>[300 300]</td><td>[-0.00019999999999999998 0.00019999999999999998]</td><td>image/jpeg</td><td>F</td><td>https://skyview.gsfc.nasa.gov/cgi-bin/images?position=19.0186%2C46.73043&amp;survey=swiftuvotuvm2int&amp;pixels=300%2C300&amp;sampler=LI&amp;size=0.06%2C0.06&amp;projection=Tan&amp;coordinates=J2000.0&amp;requestID=skv1528214584934&amp;nofits=1&amp;quicklook=jpeg&amp;return=jpeg</td><td>6</td></tr>\n",
       "</table>"
      ],
      "text/plain": [
       "<ImageTable masked=True length=12>\n",
       "     Survey              Ra         ... LogicalName\n",
       "     str16            float64       ...     str1   \n",
       "---------------- ------------------ ... -----------\n",
       "   swiftuvotvint 19.018599999999999 ...           1\n",
       "   swiftuvotvint 19.018599999999999 ...           1\n",
       "   swiftuvotbint 19.018599999999999 ...           2\n",
       "   swiftuvotbint 19.018599999999999 ...           2\n",
       "   swiftuvotuint 19.018599999999999 ...           3\n",
       "   swiftuvotuint 19.018599999999999 ...           3\n",
       "swiftuvotuvw1int 19.018599999999999 ...           4\n",
       "swiftuvotuvw1int 19.018599999999999 ...           4\n",
       "swiftuvotuvw2int 19.018599999999999 ...           5\n",
       "swiftuvotuvw2int 19.018599999999999 ...           5\n",
       "swiftuvotuvm2int 19.018599999999999 ...           6\n",
       "swiftuvotuvm2int 19.018599999999999 ...           6"
      ]
     },
     "execution_count": 37,
     "metadata": {},
     "output_type": "execute_result"
    }
   ],
   "source": [
    "pos='{},{}'.format(aptable[0]['RA'],aptable[0]['DEC'])\n",
    "#import pdb; pdb.set_trace()\n",
    "print(pos)\n",
    "print(img_services[0]['access_url'])\n",
    "#results=Image.query('https://skyview.gsfc.nasa.gov/cgi-bin/vo/sia.pl?survey=swiftuvot&amp;',coords='19.,45.7',radius='0.03')\n",
    "results=Image.query(service=img_services[0],coords=pos,radius='0.03')\n",
    "results[0]\n"
   ]
  },
  {
   "cell_type": "code",
   "execution_count": 36,
   "metadata": {
    "scrolled": true
   },
   "outputs": [
    {
     "data": {
      "text/html": [
       "&lt;Table masked=True length=30&gt;\n",
       "<table id=\"table4641999784\" class=\"table-striped table-bordered table-condensed\">\n",
       "<thead><tr><th>Survey</th><th>Ra</th><th>Dec</th><th>Dim</th><th>Size</th><th>Scale</th><th>Format</th><th>PixFlags</th><th>URL</th><th>LogicalName</th></tr></thead>\n",
       "<thead><tr><th>object</th><th>float64</th><th>float64</th><th>int32</th><th>object</th><th>object</th><th>object</th><th>object</th><th>object</th><th>object</th></tr></thead>\n",
       "<tr><td>swiftuvotvint</td><td>19.018599999999999</td><td>46.730400000000003</td><td>2</td><td>[300 300]</td><td>[-9.999999999999999e-05 9.999999999999999e-05]</td><td>image/fits</td><td>F</td><td>https://skyview.gsfc.nasa.gov/cgi-bin/images?position=19.0186%2C46.7304&amp;survey=swiftuvotvint&amp;pixels=300%2C300&amp;sampler=LI&amp;size=0.03%2C0.03&amp;projection=Tan&amp;coordinates=J2000.0&amp;requestID=skv1528214567056&amp;return=FITS</td><td>1</td></tr>\n",
       "<tr><td>swiftuvotvint</td><td>19.018599999999999</td><td>46.730400000000003</td><td>2</td><td>[300 300]</td><td>[-9.999999999999999e-05 9.999999999999999e-05]</td><td>image/tiff</td><td>F</td><td>https://skyview.gsfc.nasa.gov/cgi-bin/images?position=19.0186%2C46.7304&amp;survey=swiftuvotvint&amp;pixels=300%2C300&amp;sampler=LI&amp;size=0.03%2C0.03&amp;projection=Tan&amp;coordinates=J2000.0&amp;requestID=skv1528214567056&amp;nofits=1&amp;quicklook=tiff&amp;return=tiff</td><td>1</td></tr>\n",
       "<tr><td>swiftuvotvint</td><td>19.018599999999999</td><td>46.730400000000003</td><td>2</td><td>[300 300]</td><td>[-9.999999999999999e-05 9.999999999999999e-05]</td><td>image/gif</td><td>F</td><td>https://skyview.gsfc.nasa.gov/cgi-bin/images?position=19.0186%2C46.7304&amp;survey=swiftuvotvint&amp;pixels=300%2C300&amp;sampler=LI&amp;size=0.03%2C0.03&amp;projection=Tan&amp;coordinates=J2000.0&amp;requestID=skv1528214567056&amp;nofits=1&amp;quicklook=gif&amp;return=gif</td><td>1</td></tr>\n",
       "<tr><td>swiftuvotvint</td><td>19.018599999999999</td><td>46.730400000000003</td><td>2</td><td>[300 300]</td><td>[-9.999999999999999e-05 9.999999999999999e-05]</td><td>image/png</td><td>F</td><td>https://skyview.gsfc.nasa.gov/cgi-bin/images?position=19.0186%2C46.7304&amp;survey=swiftuvotvint&amp;pixels=300%2C300&amp;sampler=LI&amp;size=0.03%2C0.03&amp;projection=Tan&amp;coordinates=J2000.0&amp;requestID=skv1528214567056&amp;nofits=1&amp;quicklook=png&amp;return=png</td><td>1</td></tr>\n",
       "<tr><td>swiftuvotvint</td><td>19.018599999999999</td><td>46.730400000000003</td><td>2</td><td>[300 300]</td><td>[-9.999999999999999e-05 9.999999999999999e-05]</td><td>image/jpeg</td><td>F</td><td>https://skyview.gsfc.nasa.gov/cgi-bin/images?position=19.0186%2C46.7304&amp;survey=swiftuvotvint&amp;pixels=300%2C300&amp;sampler=LI&amp;size=0.03%2C0.03&amp;projection=Tan&amp;coordinates=J2000.0&amp;requestID=skv1528214567056&amp;nofits=1&amp;quicklook=jpeg&amp;return=jpeg</td><td>1</td></tr>\n",
       "<tr><td>swiftuvotbint</td><td>19.018599999999999</td><td>46.730400000000003</td><td>2</td><td>[300 300]</td><td>[-9.999999999999999e-05 9.999999999999999e-05]</td><td>image/fits</td><td>F</td><td>https://skyview.gsfc.nasa.gov/cgi-bin/images?position=19.0186%2C46.7304&amp;survey=swiftuvotbint&amp;pixels=300%2C300&amp;sampler=LI&amp;size=0.03%2C0.03&amp;projection=Tan&amp;coordinates=J2000.0&amp;requestID=skv1528214567349&amp;return=FITS</td><td>2</td></tr>\n",
       "<tr><td>swiftuvotbint</td><td>19.018599999999999</td><td>46.730400000000003</td><td>2</td><td>[300 300]</td><td>[-9.999999999999999e-05 9.999999999999999e-05]</td><td>image/tiff</td><td>F</td><td>https://skyview.gsfc.nasa.gov/cgi-bin/images?position=19.0186%2C46.7304&amp;survey=swiftuvotbint&amp;pixels=300%2C300&amp;sampler=LI&amp;size=0.03%2C0.03&amp;projection=Tan&amp;coordinates=J2000.0&amp;requestID=skv1528214567349&amp;nofits=1&amp;quicklook=tiff&amp;return=tiff</td><td>2</td></tr>\n",
       "<tr><td>swiftuvotbint</td><td>19.018599999999999</td><td>46.730400000000003</td><td>2</td><td>[300 300]</td><td>[-9.999999999999999e-05 9.999999999999999e-05]</td><td>image/gif</td><td>F</td><td>https://skyview.gsfc.nasa.gov/cgi-bin/images?position=19.0186%2C46.7304&amp;survey=swiftuvotbint&amp;pixels=300%2C300&amp;sampler=LI&amp;size=0.03%2C0.03&amp;projection=Tan&amp;coordinates=J2000.0&amp;requestID=skv1528214567349&amp;nofits=1&amp;quicklook=gif&amp;return=gif</td><td>2</td></tr>\n",
       "<tr><td>swiftuvotbint</td><td>19.018599999999999</td><td>46.730400000000003</td><td>2</td><td>[300 300]</td><td>[-9.999999999999999e-05 9.999999999999999e-05]</td><td>image/png</td><td>F</td><td>https://skyview.gsfc.nasa.gov/cgi-bin/images?position=19.0186%2C46.7304&amp;survey=swiftuvotbint&amp;pixels=300%2C300&amp;sampler=LI&amp;size=0.03%2C0.03&amp;projection=Tan&amp;coordinates=J2000.0&amp;requestID=skv1528214567349&amp;nofits=1&amp;quicklook=png&amp;return=png</td><td>2</td></tr>\n",
       "<tr><td>swiftuvotbint</td><td>19.018599999999999</td><td>46.730400000000003</td><td>2</td><td>[300 300]</td><td>[-9.999999999999999e-05 9.999999999999999e-05]</td><td>image/jpeg</td><td>F</td><td>https://skyview.gsfc.nasa.gov/cgi-bin/images?position=19.0186%2C46.7304&amp;survey=swiftuvotbint&amp;pixels=300%2C300&amp;sampler=LI&amp;size=0.03%2C0.03&amp;projection=Tan&amp;coordinates=J2000.0&amp;requestID=skv1528214567349&amp;nofits=1&amp;quicklook=jpeg&amp;return=jpeg</td><td>2</td></tr>\n",
       "<tr><td>...</td><td>...</td><td>...</td><td>...</td><td>...</td><td>...</td><td>...</td><td>...</td><td>...</td><td>...</td></tr>\n",
       "<tr><td>swiftuvotuvw2int</td><td>19.018599999999999</td><td>46.730400000000003</td><td>2</td><td>[300 300]</td><td>[-9.999999999999999e-05 9.999999999999999e-05]</td><td>image/fits</td><td>F</td><td>https://skyview.gsfc.nasa.gov/cgi-bin/images?position=19.0186%2C46.7304&amp;survey=swiftuvotuvw2int&amp;pixels=300%2C300&amp;sampler=LI&amp;size=0.03%2C0.03&amp;projection=Tan&amp;coordinates=J2000.0&amp;requestID=skv1528214569550&amp;return=FITS</td><td>5</td></tr>\n",
       "<tr><td>swiftuvotuvw2int</td><td>19.018599999999999</td><td>46.730400000000003</td><td>2</td><td>[300 300]</td><td>[-9.999999999999999e-05 9.999999999999999e-05]</td><td>image/tiff</td><td>F</td><td>https://skyview.gsfc.nasa.gov/cgi-bin/images?position=19.0186%2C46.7304&amp;survey=swiftuvotuvw2int&amp;pixels=300%2C300&amp;sampler=LI&amp;size=0.03%2C0.03&amp;projection=Tan&amp;coordinates=J2000.0&amp;requestID=skv1528214569550&amp;nofits=1&amp;quicklook=tiff&amp;return=tiff</td><td>5</td></tr>\n",
       "<tr><td>swiftuvotuvw2int</td><td>19.018599999999999</td><td>46.730400000000003</td><td>2</td><td>[300 300]</td><td>[-9.999999999999999e-05 9.999999999999999e-05]</td><td>image/gif</td><td>F</td><td>https://skyview.gsfc.nasa.gov/cgi-bin/images?position=19.0186%2C46.7304&amp;survey=swiftuvotuvw2int&amp;pixels=300%2C300&amp;sampler=LI&amp;size=0.03%2C0.03&amp;projection=Tan&amp;coordinates=J2000.0&amp;requestID=skv1528214569550&amp;nofits=1&amp;quicklook=gif&amp;return=gif</td><td>5</td></tr>\n",
       "<tr><td>swiftuvotuvw2int</td><td>19.018599999999999</td><td>46.730400000000003</td><td>2</td><td>[300 300]</td><td>[-9.999999999999999e-05 9.999999999999999e-05]</td><td>image/png</td><td>F</td><td>https://skyview.gsfc.nasa.gov/cgi-bin/images?position=19.0186%2C46.7304&amp;survey=swiftuvotuvw2int&amp;pixels=300%2C300&amp;sampler=LI&amp;size=0.03%2C0.03&amp;projection=Tan&amp;coordinates=J2000.0&amp;requestID=skv1528214569550&amp;nofits=1&amp;quicklook=png&amp;return=png</td><td>5</td></tr>\n",
       "<tr><td>swiftuvotuvw2int</td><td>19.018599999999999</td><td>46.730400000000003</td><td>2</td><td>[300 300]</td><td>[-9.999999999999999e-05 9.999999999999999e-05]</td><td>image/jpeg</td><td>F</td><td>https://skyview.gsfc.nasa.gov/cgi-bin/images?position=19.0186%2C46.7304&amp;survey=swiftuvotuvw2int&amp;pixels=300%2C300&amp;sampler=LI&amp;size=0.03%2C0.03&amp;projection=Tan&amp;coordinates=J2000.0&amp;requestID=skv1528214569550&amp;nofits=1&amp;quicklook=jpeg&amp;return=jpeg</td><td>5</td></tr>\n",
       "<tr><td>swiftuvotuvm2int</td><td>19.018599999999999</td><td>46.730400000000003</td><td>2</td><td>[300 300]</td><td>[-9.999999999999999e-05 9.999999999999999e-05]</td><td>image/fits</td><td>F</td><td>https://skyview.gsfc.nasa.gov/cgi-bin/images?position=19.0186%2C46.7304&amp;survey=swiftuvotuvm2int&amp;pixels=300%2C300&amp;sampler=LI&amp;size=0.03%2C0.03&amp;projection=Tan&amp;coordinates=J2000.0&amp;requestID=skv1528214570274&amp;return=FITS</td><td>6</td></tr>\n",
       "<tr><td>swiftuvotuvm2int</td><td>19.018599999999999</td><td>46.730400000000003</td><td>2</td><td>[300 300]</td><td>[-9.999999999999999e-05 9.999999999999999e-05]</td><td>image/tiff</td><td>F</td><td>https://skyview.gsfc.nasa.gov/cgi-bin/images?position=19.0186%2C46.7304&amp;survey=swiftuvotuvm2int&amp;pixels=300%2C300&amp;sampler=LI&amp;size=0.03%2C0.03&amp;projection=Tan&amp;coordinates=J2000.0&amp;requestID=skv1528214570274&amp;nofits=1&amp;quicklook=tiff&amp;return=tiff</td><td>6</td></tr>\n",
       "<tr><td>swiftuvotuvm2int</td><td>19.018599999999999</td><td>46.730400000000003</td><td>2</td><td>[300 300]</td><td>[-9.999999999999999e-05 9.999999999999999e-05]</td><td>image/gif</td><td>F</td><td>https://skyview.gsfc.nasa.gov/cgi-bin/images?position=19.0186%2C46.7304&amp;survey=swiftuvotuvm2int&amp;pixels=300%2C300&amp;sampler=LI&amp;size=0.03%2C0.03&amp;projection=Tan&amp;coordinates=J2000.0&amp;requestID=skv1528214570274&amp;nofits=1&amp;quicklook=gif&amp;return=gif</td><td>6</td></tr>\n",
       "<tr><td>swiftuvotuvm2int</td><td>19.018599999999999</td><td>46.730400000000003</td><td>2</td><td>[300 300]</td><td>[-9.999999999999999e-05 9.999999999999999e-05]</td><td>image/png</td><td>F</td><td>https://skyview.gsfc.nasa.gov/cgi-bin/images?position=19.0186%2C46.7304&amp;survey=swiftuvotuvm2int&amp;pixels=300%2C300&amp;sampler=LI&amp;size=0.03%2C0.03&amp;projection=Tan&amp;coordinates=J2000.0&amp;requestID=skv1528214570274&amp;nofits=1&amp;quicklook=png&amp;return=png</td><td>6</td></tr>\n",
       "<tr><td>swiftuvotuvm2int</td><td>19.018599999999999</td><td>46.730400000000003</td><td>2</td><td>[300 300]</td><td>[-9.999999999999999e-05 9.999999999999999e-05]</td><td>image/jpeg</td><td>F</td><td>https://skyview.gsfc.nasa.gov/cgi-bin/images?position=19.0186%2C46.7304&amp;survey=swiftuvotuvm2int&amp;pixels=300%2C300&amp;sampler=LI&amp;size=0.03%2C0.03&amp;projection=Tan&amp;coordinates=J2000.0&amp;requestID=skv1528214570274&amp;nofits=1&amp;quicklook=jpeg&amp;return=jpeg</td><td>6</td></tr>\n",
       "</table>"
      ],
      "text/plain": [
       "<Table masked=True length=30>\n",
       "     Survey              Ra         ... LogicalName\n",
       "     object           float64       ...    object  \n",
       "---------------- ------------------ ... -----------\n",
       "   swiftuvotvint 19.018599999999999 ...           1\n",
       "   swiftuvotvint 19.018599999999999 ...           1\n",
       "   swiftuvotvint 19.018599999999999 ...           1\n",
       "   swiftuvotvint 19.018599999999999 ...           1\n",
       "   swiftuvotvint 19.018599999999999 ...           1\n",
       "   swiftuvotbint 19.018599999999999 ...           2\n",
       "   swiftuvotbint 19.018599999999999 ...           2\n",
       "   swiftuvotbint 19.018599999999999 ...           2\n",
       "   swiftuvotbint 19.018599999999999 ...           2\n",
       "   swiftuvotbint 19.018599999999999 ...           2\n",
       "             ...                ... ...         ...\n",
       "swiftuvotuvw2int 19.018599999999999 ...           5\n",
       "swiftuvotuvw2int 19.018599999999999 ...           5\n",
       "swiftuvotuvw2int 19.018599999999999 ...           5\n",
       "swiftuvotuvw2int 19.018599999999999 ...           5\n",
       "swiftuvotuvw2int 19.018599999999999 ...           5\n",
       "swiftuvotuvm2int 19.018599999999999 ...           6\n",
       "swiftuvotuvm2int 19.018599999999999 ...           6\n",
       "swiftuvotuvm2int 19.018599999999999 ...           6\n",
       "swiftuvotuvm2int 19.018599999999999 ...           6\n",
       "swiftuvotuvm2int 19.018599999999999 ...           6"
      ]
     },
     "execution_count": 36,
     "metadata": {},
     "output_type": "execute_result"
    }
   ],
   "source": [
    "pos=SkyCoord(aptable[0]['RA'],aptable[0]['DEC'],unit='deg')\n",
    "sia_service = pyvo.dal.SIAService(img_services[0]['access_url'])\n",
    "sia_results = sia_service.search(pos=pos, size=Quantity(0.03,unit='deg'))\n",
    "#results=Image.query(service=img_services[0],coords=pos,radius='0.03')\n",
    "sia_results.votable.to_table()\n"
   ]
  },
  {
   "cell_type": "markdown",
   "metadata": {},
   "source": [
    "Extract the fields you're interested in, e.g., the URLs of the images made by skyview.  Note that specifying as we did SwiftUVOT, we get a number of different images, e.g., UVOT U, V, B, W1, W2, etc.  For each survey, there are two URLs, first the FITS IMAGE and second the JPEG:"
   ]
  },
  {
   "cell_type": "code",
   "execution_count": 39,
   "metadata": {
    "scrolled": true
   },
   "outputs": [
    {
     "data": {
      "text/html": [
       "&lt;ImageTable masked=True length=12&gt;\n",
       "<table id=\"table4642186632-372398\" class=\"table-striped table-bordered table-condensed\">\n",
       "<thead><tr><th>idx</th><th>Survey</th><th>Ra</th><th>Dec</th><th>Dim</th><th>Size</th><th>Scale</th><th>Format</th><th>PixFlags</th><th>URL</th><th>LogicalName</th></tr></thead>\n",
       "<tr><td>0</td><td>swiftuvotvint</td><td>19.0186</td><td>46.7304</td><td>2</td><td>[300 300]</td><td>[-0.00019999999999999998 0.00019999999999999998]</td><td>image/fits</td><td>F</td><td>https://skyview.gsfc.nasa.gov/cgi-bin/images?position=19.0186%2C46.73043&amp;survey=swiftuvotvint&amp;pixels=300%2C300&amp;sampler=LI&amp;size=0.06%2C0.06&amp;projection=Tan&amp;coordinates=J2000.0&amp;requestID=skv1528214579964&amp;return=FITS</td><td>1</td></tr>\n",
       "<tr><td>1</td><td>swiftuvotvint</td><td>19.0186</td><td>46.7304</td><td>2</td><td>[300 300]</td><td>[-0.00019999999999999998 0.00019999999999999998]</td><td>image/jpeg</td><td>F</td><td>https://skyview.gsfc.nasa.gov/cgi-bin/images?position=19.0186%2C46.73043&amp;survey=swiftuvotvint&amp;pixels=300%2C300&amp;sampler=LI&amp;size=0.06%2C0.06&amp;projection=Tan&amp;coordinates=J2000.0&amp;requestID=skv1528214579964&amp;nofits=1&amp;quicklook=jpeg&amp;return=jpeg</td><td>1</td></tr>\n",
       "<tr><td>2</td><td>swiftuvotbint</td><td>19.0186</td><td>46.7304</td><td>2</td><td>[300 300]</td><td>[-0.00019999999999999998 0.00019999999999999998]</td><td>image/fits</td><td>F</td><td>https://skyview.gsfc.nasa.gov/cgi-bin/images?position=19.0186%2C46.73043&amp;survey=swiftuvotbint&amp;pixels=300%2C300&amp;sampler=LI&amp;size=0.06%2C0.06&amp;projection=Tan&amp;coordinates=J2000.0&amp;requestID=skv1528214580574&amp;return=FITS</td><td>2</td></tr>\n",
       "<tr><td>3</td><td>swiftuvotbint</td><td>19.0186</td><td>46.7304</td><td>2</td><td>[300 300]</td><td>[-0.00019999999999999998 0.00019999999999999998]</td><td>image/jpeg</td><td>F</td><td>https://skyview.gsfc.nasa.gov/cgi-bin/images?position=19.0186%2C46.73043&amp;survey=swiftuvotbint&amp;pixels=300%2C300&amp;sampler=LI&amp;size=0.06%2C0.06&amp;projection=Tan&amp;coordinates=J2000.0&amp;requestID=skv1528214580574&amp;nofits=1&amp;quicklook=jpeg&amp;return=jpeg</td><td>2</td></tr>\n",
       "<tr><td>4</td><td>swiftuvotuint</td><td>19.0186</td><td>46.7304</td><td>2</td><td>[300 300]</td><td>[-0.00019999999999999998 0.00019999999999999998]</td><td>image/fits</td><td>F</td><td>https://skyview.gsfc.nasa.gov/cgi-bin/images?position=19.0186%2C46.73043&amp;survey=swiftuvotuint&amp;pixels=300%2C300&amp;sampler=LI&amp;size=0.06%2C0.06&amp;projection=Tan&amp;coordinates=J2000.0&amp;requestID=skv1528214581795&amp;return=FITS</td><td>3</td></tr>\n",
       "<tr><td>5</td><td>swiftuvotuint</td><td>19.0186</td><td>46.7304</td><td>2</td><td>[300 300]</td><td>[-0.00019999999999999998 0.00019999999999999998]</td><td>image/jpeg</td><td>F</td><td>https://skyview.gsfc.nasa.gov/cgi-bin/images?position=19.0186%2C46.73043&amp;survey=swiftuvotuint&amp;pixels=300%2C300&amp;sampler=LI&amp;size=0.06%2C0.06&amp;projection=Tan&amp;coordinates=J2000.0&amp;requestID=skv1528214581795&amp;nofits=1&amp;quicklook=jpeg&amp;return=jpeg</td><td>3</td></tr>\n",
       "<tr><td>6</td><td>swiftuvotuvw1int</td><td>19.0186</td><td>46.7304</td><td>2</td><td>[300 300]</td><td>[-0.00019999999999999998 0.00019999999999999998]</td><td>image/fits</td><td>F</td><td>https://skyview.gsfc.nasa.gov/cgi-bin/images?position=19.0186%2C46.73043&amp;survey=swiftuvotuvw1int&amp;pixels=300%2C300&amp;sampler=LI&amp;size=0.06%2C0.06&amp;projection=Tan&amp;coordinates=J2000.0&amp;requestID=skv1528214582719&amp;return=FITS</td><td>4</td></tr>\n",
       "<tr><td>7</td><td>swiftuvotuvw1int</td><td>19.0186</td><td>46.7304</td><td>2</td><td>[300 300]</td><td>[-0.00019999999999999998 0.00019999999999999998]</td><td>image/jpeg</td><td>F</td><td>https://skyview.gsfc.nasa.gov/cgi-bin/images?position=19.0186%2C46.73043&amp;survey=swiftuvotuvw1int&amp;pixels=300%2C300&amp;sampler=LI&amp;size=0.06%2C0.06&amp;projection=Tan&amp;coordinates=J2000.0&amp;requestID=skv1528214582719&amp;nofits=1&amp;quicklook=jpeg&amp;return=jpeg</td><td>4</td></tr>\n",
       "<tr><td>8</td><td>swiftuvotuvw2int</td><td>19.0186</td><td>46.7304</td><td>2</td><td>[300 300]</td><td>[-0.00019999999999999998 0.00019999999999999998]</td><td>image/fits</td><td>F</td><td>https://skyview.gsfc.nasa.gov/cgi-bin/images?position=19.0186%2C46.73043&amp;survey=swiftuvotuvw2int&amp;pixels=300%2C300&amp;sampler=LI&amp;size=0.06%2C0.06&amp;projection=Tan&amp;coordinates=J2000.0&amp;requestID=skv1528214583913&amp;return=FITS</td><td>5</td></tr>\n",
       "<tr><td>9</td><td>swiftuvotuvw2int</td><td>19.0186</td><td>46.7304</td><td>2</td><td>[300 300]</td><td>[-0.00019999999999999998 0.00019999999999999998]</td><td>image/jpeg</td><td>F</td><td>https://skyview.gsfc.nasa.gov/cgi-bin/images?position=19.0186%2C46.73043&amp;survey=swiftuvotuvw2int&amp;pixels=300%2C300&amp;sampler=LI&amp;size=0.06%2C0.06&amp;projection=Tan&amp;coordinates=J2000.0&amp;requestID=skv1528214583913&amp;nofits=1&amp;quicklook=jpeg&amp;return=jpeg</td><td>5</td></tr>\n",
       "<tr><td>10</td><td>swiftuvotuvm2int</td><td>19.0186</td><td>46.7304</td><td>2</td><td>[300 300]</td><td>[-0.00019999999999999998 0.00019999999999999998]</td><td>image/fits</td><td>F</td><td>https://skyview.gsfc.nasa.gov/cgi-bin/images?position=19.0186%2C46.73043&amp;survey=swiftuvotuvm2int&amp;pixels=300%2C300&amp;sampler=LI&amp;size=0.06%2C0.06&amp;projection=Tan&amp;coordinates=J2000.0&amp;requestID=skv1528214584934&amp;return=FITS</td><td>6</td></tr>\n",
       "<tr><td>11</td><td>swiftuvotuvm2int</td><td>19.0186</td><td>46.7304</td><td>2</td><td>[300 300]</td><td>[-0.00019999999999999998 0.00019999999999999998]</td><td>image/jpeg</td><td>F</td><td>https://skyview.gsfc.nasa.gov/cgi-bin/images?position=19.0186%2C46.73043&amp;survey=swiftuvotuvm2int&amp;pixels=300%2C300&amp;sampler=LI&amp;size=0.06%2C0.06&amp;projection=Tan&amp;coordinates=J2000.0&amp;requestID=skv1528214584934&amp;nofits=1&amp;quicklook=jpeg&amp;return=jpeg</td><td>6</td></tr>\n",
       "</table><style>table.dataTable {clear: both; width: auto !important; margin: 0 !important;}\n",
       ".dataTables_info, .dataTables_length, .dataTables_filter, .dataTables_paginate{\n",
       "display: inline-block; margin-right: 1em; }\n",
       ".paginate_button { margin-right: 5px; }\n",
       "</style>\n",
       "<script>\n",
       "\n",
       "var astropy_sort_num = function(a, b) {\n",
       "    var a_num = parseFloat(a);\n",
       "    var b_num = parseFloat(b);\n",
       "\n",
       "    if (isNaN(a_num) && isNaN(b_num))\n",
       "        return ((a < b) ? -1 : ((a > b) ? 1 : 0));\n",
       "    else if (!isNaN(a_num) && !isNaN(b_num))\n",
       "        return ((a_num < b_num) ? -1 : ((a_num > b_num) ? 1 : 0));\n",
       "    else\n",
       "        return isNaN(a_num) ? -1 : 1;\n",
       "}\n",
       "\n",
       "require.config({paths: {\n",
       "    datatables: 'https://cdn.datatables.net/1.10.12/js/jquery.dataTables.min'\n",
       "}});\n",
       "require([\"datatables\"], function(){\n",
       "    console.log(\"$('#table4642186632-372398').dataTable()\");\n",
       "    \n",
       "jQuery.extend( jQuery.fn.dataTableExt.oSort, {\n",
       "    \"optionalnum-asc\": astropy_sort_num,\n",
       "    \"optionalnum-desc\": function (a,b) { return -astropy_sort_num(a, b); }\n",
       "});\n",
       "\n",
       "    $('#table4642186632-372398').dataTable({\n",
       "        order: [],\n",
       "        pageLength: 5,\n",
       "        lengthMenu: [[5, 10, 25, 50, 100, 500, 1000, -1], [5, 10, 25, 50, 100, 500, 1000, 'All']],\n",
       "        pagingType: \"full_numbers\",\n",
       "        columnDefs: [{targets: [0, 2, 3, 4], type: \"optionalnum\"}]\n",
       "    });\n",
       "});\n",
       "</script>\n"
      ],
      "text/plain": [
       "<IPython.core.display.HTML object>"
      ]
     },
     "execution_count": 39,
     "metadata": {},
     "output_type": "execute_result"
    }
   ],
   "source": [
    "table=results[0]\n",
    "table['Ra'].format='.4f'\n",
    "table['Dec'].format = '.4f'\n",
    "table.show_in_notebook(display_length=5)"
   ]
  },
  {
   "cell_type": "code",
   "execution_count": 40,
   "metadata": {},
   "outputs": [
    {
     "name": "stdout",
     "output_type": "stream",
     "text": [
      "https://skyview.gsfc.nasa.gov/cgi-bin/images?position=19.0186%2C46.73043&survey=swiftuvotuint&pixels=300%2C300&sampler=LI&size=0.06%2C0.06&projection=Tan&coordinates=J2000.0&requestID=skv1528214581795&return=FITS\n",
      "https://skyview.gsfc.nasa.gov/cgi-bin/images?position=19.0186%2C46.73043&survey=swiftuvotuint&pixels=300%2C300&sampler=LI&size=0.06%2C0.06&projection=Tan&coordinates=J2000.0&requestID=skv1528214581795&nofits=1&quicklook=jpeg&return=jpeg\n"
     ]
    }
   ],
   "source": [
    "###  Inside the table is a numpy record array that you can access like this, for example:\n",
    "#print(table.array[4][8])\n",
    "#  Or like this\n",
    "print(table[4]['URL'])\n",
    "### To download the FITS image itself:\n",
    "print(table[5]['URL'])"
   ]
  },
  {
   "cell_type": "markdown",
   "metadata": {},
   "source": [
    "### Resulting image\n",
    "You can display it in python by\n",
    "(give it ~10 seconds to appear)\n"
   ]
  },
  {
   "cell_type": "code",
   "execution_count": 45,
   "metadata": {},
   "outputs": [
    {
     "data": {
      "text/html": [
       "<img src=\"https://skyview.gsfc.nasa.gov/cgi-bin/images?position=19.0186%2C46.73043&survey=swiftuvotuint&pixels=300%2C300&sampler=LI&size=0.06%2C0.06&projection=Tan&coordinates=J2000.0&requestID=skv1528214581795&nofits=1&quicklook=jpeg&return=jpeg\"/>"
      ],
      "text/plain": [
       "<IPython.core.display.Image object>"
      ]
     },
     "metadata": {},
     "output_type": "display_data"
    }
   ],
   "source": [
    "##  Note that there are bugs with some of these datasets, \n",
    "##  since they are new in SkyView.  Selecting the U-band image.\n",
    "##  (The decode is needed in Python 3.5 because it comes back a byte type.)\n",
    "display(ipyImage(url=table['URL'][5]))"
   ]
  },
  {
   "cell_type": "markdown",
   "metadata": {},
   "source": [
    "Or download the FITS image as ``image.fits``\n"
   ]
  },
  {
   "cell_type": "code",
   "execution_count": 47,
   "metadata": {},
   "outputs": [],
   "source": [
    "r=requests.get(table['URL'][4], stream=True)\n",
    "with open('image.fits','wb') as f:\n",
    "    f.write(r.content)"
   ]
  },
  {
   "cell_type": "markdown",
   "metadata": {},
   "source": [
    "(If the above gives you a \"time out\" error, just try it again.)\n",
    "\n",
    "Then read the fits image you just created and display it:"
   ]
  },
  {
   "cell_type": "code",
   "execution_count": 48,
   "metadata": {
    "scrolled": true
   },
   "outputs": [
    {
     "data": {
      "text/plain": [
       "<matplotlib.image.AxesImage at 0x1149d4b70>"
      ]
     },
     "execution_count": 48,
     "metadata": {},
     "output_type": "execute_result"
    },
    {
     "data": {
      "image/png": "[encoded data removed]",
      "text/plain": [
       "<matplotlib.figure.Figure at 0x114aa0080>"
      ]
     },
     "metadata": {},
     "output_type": "display_data"
    }
   ],
   "source": [
    "#hdu_list=apfits.open(table['URL'][4].decode(\"utf-8\"))\n",
    "hdu_list=apfits.open('image.fits')\n",
    "plt.imshow(hdu_list[0].data, cmap='gray', origin='lower',vmax=0.1)"
   ]
  },
  {
   "cell_type": "markdown",
   "metadata": {},
   "source": [
    "### Alternatively, we can use Aplpy to make an image with coordinates"
   ]
  },
  {
   "cell_type": "code",
   "execution_count": 49,
   "metadata": {
    "scrolled": false
   },
   "outputs": [
    {
     "ename": "ModuleNotFoundError",
     "evalue": "No module named 'aplpy'",
     "output_type": "error",
     "traceback": [
      "\u001b[0;31m---------------------------------------------------------------------------\u001b[0m",
      "\u001b[0;31mModuleNotFoundError\u001b[0m                       Traceback (most recent call last)",
      "\u001b[0;32m<ipython-input-49-c8767e2028f9>\u001b[0m in \u001b[0;36m<module>\u001b[0;34m()\u001b[0m\n\u001b[0;32m----> 1\u001b[0;31m \u001b[0;32mimport\u001b[0m \u001b[0maplpy\u001b[0m\u001b[0;34m\u001b[0m\u001b[0m\n\u001b[0m\u001b[1;32m      2\u001b[0m \u001b[0mgc\u001b[0m \u001b[0;34m=\u001b[0m \u001b[0maplpy\u001b[0m\u001b[0;34m.\u001b[0m\u001b[0mFITSFigure\u001b[0m\u001b[0;34m(\u001b[0m\u001b[0mhdu_list\u001b[0m\u001b[0;34m)\u001b[0m\u001b[0;34m\u001b[0m\u001b[0m\n\u001b[1;32m      3\u001b[0m \u001b[0mgc\u001b[0m\u001b[0;34m.\u001b[0m\u001b[0mshow_grayscale\u001b[0m\u001b[0;34m(\u001b[0m\u001b[0mstretch\u001b[0m\u001b[0;34m=\u001b[0m\u001b[0;34m'log'\u001b[0m\u001b[0;34m,\u001b[0m \u001b[0mvmin\u001b[0m\u001b[0;34m=\u001b[0m\u001b[0;36m6e-3\u001b[0m\u001b[0;34m,\u001b[0m \u001b[0mvmax\u001b[0m\u001b[0;34m=\u001b[0m\u001b[0;36m1.4e-1\u001b[0m\u001b[0;34m)\u001b[0m\u001b[0;34m\u001b[0m\u001b[0m\n",
      "\u001b[0;31mModuleNotFoundError\u001b[0m: No module named 'aplpy'"
     ]
    }
   ],
   "source": [
    "import aplpy\n",
    "gc = aplpy.FITSFigure(hdu_list)\n",
    "gc.show_grayscale(stretch='log', vmin=6e-3, vmax=1.4e-1)"
   ]
  },
  {
   "cell_type": "markdown",
   "metadata": {},
   "source": [
    "### A related example with multiple VO interfaces\n",
    "A very similar example uses the SkyView SIA protocol to retrieve an image from a different survey, SDSS, which is not held on the HEASARC SkyView server but at the Barbara A. Mikulski Archive for Space Telescopes ([MAST](https://mast.stsci.edu)).  The user does not need to be aware of where the data is actually stored - under the hood, SkyView is using SIA to get the data from MAST transparently.  \n"
   ]
  },
  {
   "cell_type": "code",
   "execution_count": null,
   "metadata": {
    "collapsed": true
   },
   "outputs": [],
   "source": [
    "params['survey']='sdssg'\n",
    "r = requests.get('https://skyview.gsfc.nasa.gov/cgi-bin/vo/sia.pl', params=params)"
   ]
  },
  {
   "cell_type": "markdown",
   "metadata": {},
   "source": [
    "(It may take a few seconds for the displyed image to appear.)"
   ]
  },
  {
   "cell_type": "code",
   "execution_count": null,
   "metadata": {
    "collapsed": true
   },
   "outputs": [],
   "source": [
    "table=Table.read(io.BytesIO(r.content))\n",
    "display(Image(url=table['URL'][1].decode(\"utf-8\")))"
   ]
  },
  {
   "cell_type": "markdown",
   "metadata": {},
   "source": [
    "<a id=\"tap\"></a>\n",
    "# 4. TAP: Using the Table Access Protocol to find VO Resources"
   ]
  },
  {
   "cell_type": "markdown",
   "metadata": {},
   "source": [
    "<a id=\"tap1\"></a>\n",
    "# 4a. TAP:  Using the Table Access Protocol to find additional information on our sources\n",
    "TAP is described in more detail in the dedicated [TAP notebook](heasarc_TAP_queries.ipynb).\n",
    "\n",
    "In this example, we will use our tabulated list of 22 sources (``aptable``) we create above.  <i> Continuing with our hypothetical science example of preparing an observing proposal for these objects, we would now like to find their redshifts, e.g., to calculate exposure times based on being able to significantly detect a 10<sup>39</sup> erg/s source.</i>\n",
    "\n",
    "First, find out what catalogs HEASARC holds that might have redshifts, specifying the query in ADQL:"
   ]
  },
  {
   "cell_type": "code",
   "execution_count": null,
   "metadata": {
    "collapsed": true
   },
   "outputs": [],
   "source": [
    "\n",
    "tap_params[\"query\"]=\"\"\"\n",
    "    select a.name,b.value\n",
    "      from metainfo a, metainfo b\n",
    "      where\n",
    "         a.type='table' and b.type='table' and\n",
    "         a.relation='defaultSearchRadius' and\n",
    "         b.relation='description' and\n",
    "         a.name=b.name and\n",
    "         b.value like '%Redshift%' \n",
    "      order by name    \n",
    "      \"\"\"\n",
    "r = requests.get('https://heasarc.gsfc.nasa.gov/xamin/vo/tap/sync', params=tap_params)\n",
    "table=Table.read(io.BytesIO(r.content))\n",
    "table.show_in_notebook()"
   ]
  },
  {
   "cell_type": "markdown",
   "metadata": {},
   "source": [
    "Of all the tables with redshift information, probably the ``CfA Redshift Catalog`` (``zcat``) is best for our purposes.  <i> Since these are galaxies found in close pairs or groups, we expect multiple matches at each location. </i> Let's first start with one object and search within 0.1 degree.\n",
    "\n",
    "(See the __[information on the zcat](https://heasarc.gsfc.nasa.gov/W3Browse/galaxy-catalog/zcat.html)__ for column information. We will actually use the 'radial_velocity' column rather than the 'redshift' column.)"
   ]
  },
  {
   "cell_type": "code",
   "execution_count": null,
   "metadata": {
    "collapsed": true
   },
   "outputs": [],
   "source": [
    "##  Pick a radius in degrees to search around our input coordinates:\n",
    "radius=0.1\n",
    "\n",
    "query = \"\"\"SELECT ra, dec, Radial_Velocity FROM zcat as cat where \n",
    "    contains(point('ICRS',cat.ra,cat.dec),circle('ICRS',{0},{1},{2}))=1\n",
    "    \"\"\".format(aptable[0]['RA'],aptable[0]['DEC'],radius)\n",
    "print(query)\n",
    "\n",
    "tap_params = {\n",
    "    \"request\":\"doQuery\",\n",
    "    \"lang\":\"ADQL\",\n",
    "    \"query\":\"{q}\".format(q=query)\n",
    "    }\n",
    "r = requests.get('https://heasarc.gsfc.nasa.gov/xamin/vo/tap/sync', params=tap_params)\n",
    "#r.content\n",
    "table=Table.read(io.BytesIO(r.content))\n",
    "table['ra'].format='.4f'\n",
    "table['dec'].format='.4f'\n",
    "table.show_in_notebook()"
   ]
  },
  {
   "cell_type": "markdown",
   "metadata": {},
   "source": [
    "### !!! in the above query, how do we know we should return \"Radial_Velocity\" and not \"Redshift\"?  i.e. how does the user know that, for zcat, the Redshift parameter is called Radial_Velocity (and given in, presumably, km/s)?"
   ]
  },
  {
   "cell_type": "markdown",
   "metadata": {},
   "source": [
    "<a id=\"tap2\"></a>\n",
    "# 4b. TAP:  Cross-correlating our objects with a catalog"
   ]
  },
  {
   "cell_type": "markdown",
   "metadata": {},
   "source": [
    "Now to search all of our 22 sources in ``aptable`` in one go, we need to upload ``aptable`` as a VOTable file instance to the VO service ``https://heasarc.gsfc.nasa.gov/xamin/vo/tap/sync`` and do a cross-correlation with the ``zcat``table. \n",
    "\n",
    "In Section 1.3 above we had already created a VOTableFile instance called ``votablefile`` from our ``aptable``. Now we need to use the ``requests`` method to upload this ``votablefile`` and use it in our TAP request.\n",
    "\n",
    "First, create a \"file-like\" object from ``votablefile`` that you can give to ``requests``.  This is a bit arcane:"
   ]
  },
  {
   "cell_type": "code",
   "execution_count": null,
   "metadata": {
    "collapsed": true
   },
   "outputs": [],
   "source": [
    "vot_obj=io.BytesIO() # Create a file-like IO stream in memory\n",
    "apvot.writeto(votablefile,vot_obj) # write the VOTable to this file-like stream\n",
    "vot_obj.seek(0) # make sure you've reset seek to beginning of buffer\n",
    "## 'uplt' is what we'll call it (for 'upload table') \n",
    "##   in the requests parameters below, or what you will:\n",
    "files={'uplt':vot_obj}"
   ]
  },
  {
   "cell_type": "markdown",
   "metadata": {},
   "source": [
    "Alternatively, you could have written ``votablefile`` to disk:\n",
    "```\n",
    "apvot.writeto(votablefile, \"new_votable.xml\")\n",
    "files={'uplt':open('new_votable.xml', 'rb')}\n",
    "```"
   ]
  },
  {
   "cell_type": "code",
   "execution_count": null,
   "metadata": {
    "collapsed": true
   },
   "outputs": [],
   "source": [
    "# NOTE THAT THIS request may take tens of seconds to complete\n",
    "\n",
    "## The parameters below are defined in the TAP standard.  \n",
    "##  The string 'uplt' is what we set above as the name\n",
    "##  of the parameter containing this data, and\n",
    "##  the string 'mysources' is how we refer to it in \n",
    "##  the ADQL query string:\n",
    "cc_params={\n",
    "    'lang': 'ADQL', \n",
    "    'request': 'doQuery',\n",
    "    'upload':'mysources,param:uplt'\n",
    "    }\n",
    "# Define the query to cross-correlate each item in our list of source positions \n",
    "#   with zcat to find the radial velocities of the sources\n",
    "cc_params[\"query\"]=\"\"\"\n",
    "    SELECT cat.ra, cat.dec, Radial_Velocity \n",
    "    FROM zcat cat, tap_upload.mysources mt \n",
    "    WHERE\n",
    "    contains(point('ICRS',cat.ra,cat.dec),circle('ICRS',mt.ra,mt.dec,0.1))=1\n",
    "    and Radial_Velocity > 0\n",
    "    ORDER by cat.ra\"\"\"\n",
    "# Send the request \n",
    "r = requests.post('https://heasarc.gsfc.nasa.gov/xamin/vo/tap/sync',data=cc_params,stream=True,files=files)\n",
    "mytable=Table.read(io.BytesIO(r.content))\n",
    "mytable['ra'].format='.4f'\n",
    "mytable['dec'].format='.4f'\n",
    "mytable.show_in_notebook(display_length=10)"
   ]
  },
  {
   "cell_type": "markdown",
   "metadata": {},
   "source": [
    "In mytable are the RAs and Decs of the nearest matching source in zcat. We want the RA and Dec of the source from our own aptable as well as the RA and Dec of the nearest matching source in zcat, the source offset and the radial_velocity.  So for each source in aptable, find the nearest source in mytable, extract it's ra, dec, radial_velocity and offset, and add that info as new columns in aptable."
   ]
  },
  {
   "cell_type": "code",
   "execution_count": null,
   "metadata": {
    "collapsed": true
   },
   "outputs": [],
   "source": [
    "from astropy import units as u\n",
    "from astropy.coordinates import SkyCoord\n",
    "\n",
    "capt = SkyCoord(aptable['RA']*u.degree, aptable['DEC']*u.degree)\n",
    "cmyt = SkyCoord(mytable['ra']*u.degree, mytable['dec']*u.degree)\n",
    "# use match_to_catalog method to match aptable sources with the nearest catalogued sources\n",
    "idx, d2d, d3d = capt.match_to_catalog_sky(cmyt)  \n",
    "\n",
    "# create new table\n",
    "newaptable=aptable.copy()\n",
    "radvel = mytable[idx]['radial_velocity']\n",
    "newaptable['radvel']=radvel\n",
    "newaptable['ra_match']=mytable[idx]['ra']\n",
    "newaptable['dec_match']=mytable[idx]['dec']\n",
    "newaptable['offset']=d2d.to(u.arcmin)\n",
    "newaptable['ra_match'].format='.4f'\n",
    "newaptable['dec_match'].format='.4f'\n",
    "newaptable['offset'].format='.3f'\n",
    "newaptable.show_in_notebook()"
   ]
  },
  {
   "cell_type": "markdown",
   "metadata": {},
   "source": [
    "<a id=\"combo\"></a>\n",
    "\n",
    "# 4c. Another example with TAP table cross-correlation: Combining data from different catalogs\n",
    "Now we'd like to take the redshift information (above, as a radial velocity) and determine a search radius to use for each galaxy based on its distance, so that we are are searching within a given physical distance. <i>E.g., for our science proposal, we need to check that the redshifts (or radial velocities) of the galaxies that are close on the sky (within 50 kpc physical distances) have similar distances, suggesting these are truly close in 3-dimensions and therefore potentially interacting galaxies.</i>"
   ]
  },
  {
   "cell_type": "code",
   "execution_count": null,
   "metadata": {
    "collapsed": true
   },
   "outputs": [],
   "source": [
    "## The radial_velocity is in km/s, and this is just c*z, so\n",
    "c=3.0e5 # km/s\n",
    "\n",
    "newaptable['redshift']=newaptable['radvel']/c  # Filling masked values with zero\n",
    "\n",
    "physdist=0.05*u.Mpc # 50 kpc physical distance\n",
    "\n",
    "## This needs scipy.  \n",
    "from astropy.cosmology import Planck15\n",
    "\n",
    "angDdist=Planck15.angular_diameter_distance(newaptable['redshift'])\n",
    "\n",
    "## angDdist is returned from the astropy.cosmology module as a Quantity object, \n",
    "##  i.e. a value and a unit.  Arctan is smart enough not to operate on quantities\n",
    "##  that aren't unitless.  So angDdist.value to just get the value.\n",
    "angDrad=numpy.arctan(physdist/angDdist)\n",
    "angDdeg=angDrad.to(u.degree)\n",
    "newaptable['angDdeg']=angDdeg\n",
    "newaptable['RA'].format='.4f'\n",
    "newaptable['DEC'].format='.4f'\n",
    "newaptable['redshift'].format='.3f'\n",
    "newaptable['angDdeg'].format='.2e'\n",
    "newaptable.show_in_notebook()"
   ]
  },
  {
   "cell_type": "markdown",
   "metadata": {},
   "source": [
    "<a id=\"ssa\"></a>\n",
    "# 6. SSA:  Using the Simple Spectral Access protocol to retrieve spectra."
   ]
  },
  {
   "cell_type": "markdown",
   "metadata": {},
   "source": [
    "See also the [notebook](heasarc_Spectral_Access.ipynb) specific to the Simple Spectral Access __[Protocol](http://www.ivoa.net/documents/SSA/)__.\n",
    "\n",
    "<i>Returning to our science example, suppose that we have analyzed the available Chandra image for the three matches above and discovered that one of these galaxies appears to have a potential ultraluminous X-ray source (ULX)! Now, we want to charatcterize the spectrum for this source. Therefore we will ask for a large exposure time and need to justify this by showing the spectrum of a prototypical ULX, M82 X-1. </i>\n"
   ]
  },
  {
   "cell_type": "code",
   "execution_count": null,
   "metadata": {
    "collapsed": true
   },
   "outputs": [],
   "source": [
    "import astropy.coordinates as coord\n",
    "m82=coord.SkyCoord.from_name(\"m82\")\n",
    "pos='{},{}'.format(m82.ra.deg,m82.dec.deg)\n",
    "params = {'table': 'chanmaster',\"POS\":pos,\"SIZE\":\".01\", \"REQUEST\":\"queryData\"}\n",
    "r = requests.get('https://heasarc.nasa.gov/xamin/vo/ssa', params=params)\n",
    "spec_table = Table.read(io.BytesIO(r.content))\n",
    "spec_table.show_in_notebook()"
   ]
  },
  {
   "cell_type": "code",
   "execution_count": null,
   "metadata": {
    "collapsed": true
   },
   "outputs": [],
   "source": [
    "## Get the first spectrum (since it has a long-ish exposure.)\n",
    "import astropy.io.fits as fits\n",
    "hdu_list=fits.open(spec_table[0]['SSA_reference'].decode()) # Byte format, so just decode() to string\n",
    "#hdu_list.info()\n",
    "table = Table(hdu_list[1].data)\n",
    "table.show_in_notebook()\n"
   ]
  },
  {
   "cell_type": "code",
   "execution_count": null,
   "metadata": {
    "collapsed": true
   },
   "outputs": [],
   "source": [
    "## Here, you just have to be familiar with the format of these spectra by reading Chandra documentation.\n",
    "for i in range(len(table)):\n",
    "    matplotlib.rcParams['figure.figsize'] = (6, 6)\n",
    "    ax=plt.subplot(6,2,i+1)\n",
    "    pha = plt.plot( table['CHANNEL'][i],table['COUNTS'][i])\n",
    "    ax.set_yscale('log')\n",
    "    if table['TG_PART'][i] == 1:\n",
    "        instr='HEG'\n",
    "    if table['TG_PART'][i] == 2:\n",
    "        instr='MEG'\n",
    "    if table['TG_PART'][i] == 3:\n",
    "        instr='LEG'\n",
    "    ax.set_title(str(table['TG_M'][i])+' '+instr)\n",
    "    plt.tight_layout()\n"
   ]
  },
  {
   "cell_type": "markdown",
   "metadata": {
    "collapsed": true
   },
   "source": [
    "Note: The 12 plots here show all the different HEG and MEG components (+/- 3, +/- 2, and +/- 1 for each grating) for the grating data, as titled. In practice, you might want to download the fits file and use a different analysis and plotting tool to create an energy spectrum plot using SHERPA or XSPEC, etc. \n",
    "\n",
    "You can download the file directly using requests:"
   ]
  },
  {
   "cell_type": "code",
   "execution_count": null,
   "metadata": {
    "collapsed": true,
    "scrolled": true
   },
   "outputs": [],
   "source": [
    "## Because urllib is hard to make Python 2/3 compatible, just use requests:\n",
    "r=requests.get(spec_table[0]['SSA_reference'].decode(), stream=True)\n",
    "with open('my_M82_spectrum.fits','wb') as f:\n",
    "    f.write(r.content)"
   ]
  },
  {
   "cell_type": "markdown",
   "metadata": {
    "collapsed": true
   },
   "source": [
    "You can then run Xspec etc. to analyze the spectrum. See the [SSA notebook](heasarc_Spectral_Access.ipynb) for that example. "
   ]
  }
 ],
 "metadata": {
  "anaconda-cloud": {},
  "kernelspec": {
   "display_name": "Python 3",
   "language": "python",
   "name": "python3"
  },
  "language_info": {
   "codemirror_mode": {
    "name": "ipython",
    "version": 3
   },
   "file_extension": ".py",
   "mimetype": "text/x-python",
   "name": "python",
   "nbconvert_exporter": "python",
   "pygments_lexer": "ipython3",
   "version": "3.6.3"
  },
  "nav_menu": {},
  "toc": {
   "navigate_menu": true,
   "number_sections": false,
   "sideBar": true,
   "threshold": 6,
   "toc_cell": false,
   "toc_section_display": "block",
   "toc_window_display": false
  }
 },
 "nbformat": 4,
 "nbformat_minor": 1
}
