{
 "cells": [
  {
   "cell_type": "markdown",
   "metadata": {},
   "source": [
    "# Simple Cone Search of catalog data\n",
    "\n",
    "The __[Simple Cone Search (SCS) protocol](http://www.ivoa.net/documents/latest/ConeSearch.html)__ is used to search a given table with a given position and radius, getting back a table of results. The interface requires only a position and search radius.   \n",
    "\n",
    "**This should perhaps be a Catalog notebook covering the trivial uses of Cone and *also* the more powerful TAP.**"
   ]
  },
  {
   "cell_type": "markdown",
   "metadata": {},
   "source": [
    "# 1. Finding SCS services\n",
    "First, we find out what cone searches are available in the Registry"
   ]
  },
  {
   "cell_type": "code",
   "execution_count": 13,
   "metadata": {},
   "outputs": [],
   "source": [
    "import requests, io\n",
    "import numpy as np\n",
    "from astropy.table import Table\n",
    "\n",
    "# VO astroquery module\n",
    "from navo_utils.registry import Registry\n",
    "from navo_utils.cone import Cone"
   ]
  },
  {
   "cell_type": "markdown",
   "metadata": {},
   "source": [
    "Suppose we're browsing for what we can find out about fluxes in the gamma-ray regime:"
   ]
  },
  {
   "cell_type": "code",
   "execution_count": 16,
   "metadata": {},
   "outputs": [
    {
     "data": {
      "text/html": [
       "<i>Table masked=True length=444</i>\n",
       "<table id=\"table34590111784\" class=\"table-striped table-bordered table-condensed\">\n",
       "<thead><tr><th>waveband</th><th>short_name</th><th>ivoid</th><th>res_description</th><th>access_url</th><th>reference_url</th><th>publisher</th><th>service_type</th></tr></thead>\n",
       "<thead><tr><th>str56</th><th>str16</th><th>str39</th><th>str2002</th><th>str102</th><th>str58</th><th>str36</th><th>str10</th></tr></thead>\n",
       "<tr><td>radio#millimeter#infrared#optical#uv#euv#x-ray#gamma-ray</td><td>ADS</td><td>ivo://ads.harvard.edu/cone</td><td>The Astrophysics Data System (ADS) provides access to the astronomical literature. It is funded by NASA and hosted at the Harvard- Smithsonian Center for Astrophysics. It consists of two main parts. The abstract service allows you to search the tables of contents and abstracts of essentially the whole astronomical literature. The article service contains the scanned full articles of a large part of the astronomical literature. Access to the ADS is free to anybody world-wide.</td><td>http://adsabs.harvard.edu/cgi-bin/abs_connect?data_type=VOTABLE&amp;amp;</td><td>http://ads.harvard.edu</td><td>NASA Astrophysics Data System</td><td>conesearch</td></tr>\n",
       "<tr><td>gamma-ray</td><td>1BIGB cone</td><td>ivo://bsdc.icranet.org/onebigb/q/cone</td><td>The 1BIGB catalog.</td><td>http://vo.bsdc.icranet.org/onebigb/q/cone/scs.xml?</td><td>http://vo.bsdc.icranet.org/onebigb/q/cone/info</td><td>BSDC</td><td>conesearch</td></tr>\n",
       "<tr><td>infrared#radio#gamma-ray#x-ray</td><td>whsp cone</td><td>ivo://bsdc.icranet.org/whsp/q/cone</td><td>The catalog 1WHSP is the result of a multi-frequency selection for blazars like SED, further filtered using IR-radio and IR-X-ray flux-ratios. The sample assembled contains almost 992 sources of HSP blazars, of which 425 are previously known blazars, 151 new identifications and 416 blazar candidates. On the very high energy trend, 299 are confirmed GeV gamma-ray photons emitters and 36 have already been detected in the TeV band.</td><td>http://vo.bsdc.icranet.org/whsp/q/cone/scs.xml?</td><td>http://vo.bsdc.icranet.org/whsp/q/cone/info</td><td>BSDC</td><td>conesearch</td></tr>\n",
       "<tr><td>radio#millimeter#infrared#optical#uv#x-ray#gamma-ray</td><td>Simbad</td><td>ivo://cds.simbad/cone</td><td>The SIMBAD astronomical database provides basic data, cross- identifications and bibliography for astronomical objects outside the solar system.</td><td>http://simbad.u-strasbg.fr/simbad/sim-cone?</td><td>http://simbad.u-strasbg.fr/Simbad</td><td>CDS</td><td>conesearch</td></tr>\n",
       "<tr><td>gamma-ray</td><td>IX/20A</td><td>ivo://cds.vizier/ix/20a</td><td>This is the fourth catalogue of the BATSE instrument on board of the Compton Gamma-ray Observatory (CGRO), launched on April 5, 1991. It contains the locations and times for 1637 triggered gamma-ray bursts (nominal energy range 50-300keV) observed from 19 April, 1991 until 29 August, 1996. This 4Br version has been revised from the version first circulated on CD-ROM in September 1997 (4B, file &quot;4b.dat&quot;) to include improved locations for a subset of bursts that have been reprocessed using additional data. The Interplanetary Network (IPN) localization information for 147 gamma-ray bursts observed by the Burst and Transient Source Experiment between the end of the Third BATSE catalog and the end of the Fourth BATSE catalog, obtained by analyzing the arrival times of these bursts at the Ulysses and Compton Gamma-Ray Observatory (CGRO) spacecraft. are included in the table &quot;ulysses.dat&quot;. Bursts found later (1607 triggers until 9 September 2000) are included in the file &quot;grb.dat&quot;; the data related to these events (those having a TrigNo&amp;gt;=5589) should be considered as preliminary. The Exposure table and Trigger Criteria tables are not included here; please consult the statistical results on the BATSE pages (http://gammaray.msfc.nasa.gov/batse/)</td><td>http://vizier.u-strasbg.fr/viz-bin/conesearch/IX/20A/batse?</td><td>http://cdsarc.u-strasbg.fr/cgi-bin/Cat?IX/20A</td><td>CDS</td><td>conesearch</td></tr>\n",
       "<tr><td>gamma-ray</td><td>IX/20A</td><td>ivo://cds.vizier/ix/20a</td><td>This is the fourth catalogue of the BATSE instrument on board of the Compton Gamma-ray Observatory (CGRO), launched on April 5, 1991. It contains the locations and times for 1637 triggered gamma-ray bursts (nominal energy range 50-300keV) observed from 19 April, 1991 until 29 August, 1996. This 4Br version has been revised from the version first circulated on CD-ROM in September 1997 (4B, file &quot;4b.dat&quot;) to include improved locations for a subset of bursts that have been reprocessed using additional data. The Interplanetary Network (IPN) localization information for 147 gamma-ray bursts observed by the Burst and Transient Source Experiment between the end of the Third BATSE catalog and the end of the Fourth BATSE catalog, obtained by analyzing the arrival times of these bursts at the Ulysses and Compton Gamma-Ray Observatory (CGRO) spacecraft. are included in the table &quot;ulysses.dat&quot;. Bursts found later (1607 triggers until 9 September 2000) are included in the file &quot;grb.dat&quot;; the data related to these events (those having a TrigNo&amp;gt;=5589) should be considered as preliminary. The Exposure table and Trigger Criteria tables are not included here; please consult the statistical results on the BATSE pages (http://gammaray.msfc.nasa.gov/batse/)</td><td>http://vizier.u-strasbg.fr/viz-bin/conesearch/IX/20A/ulysses?</td><td>http://cdsarc.u-strasbg.fr/cgi-bin/Cat?IX/20A</td><td>CDS</td><td>conesearch</td></tr>\n",
       "<tr><td>gamma-ray</td><td>IX/51</td><td>ivo://cds.vizier/ix/51</td><td>To investigate the potentialities of the SKA related to the GRB detections in radio band, we need a good instrumental probability, so that we present here a useful repository of all GRBs taken by several catalogues. The thesis is available at: http://www.fedoa.unina.it/10538/1/Ruggeri_Alan_Cosimo_27.pdf The paper is available at: http://adsabs.harvard.edu/abs/2016Ap%26SS.361..279R</td><td>http://vizier.u-strasbg.fr/viz-bin/conesearch/IX/51/table2?</td><td>http://cdsarc.u-strasbg.fr/cgi-bin/Cat?IX/51</td><td>CDS</td><td>conesearch</td></tr>\n",
       "<tr><td>gamma-ray#radio</td><td>J/A+A/370/468</td><td>ivo://cds.vizier/j/a+a/370/468</td><td>We present a study of 40 low-latitude unidentified 3EG gamma-ray sources which were found to be not positionally coincident with any known class of potential gamma-ray emitters in the Galaxy (Romero et al., 1999A&amp;amp;A...348..868R). We have performed a variability analysis which reveals that many of these 40 sources are variable. These sources have, in addition, a steep mean value of the gamma-ray spectral index, &amp;lt;{Gamma}&amp;gt;=2.41+/-0.2, which, combined with the high level of variability, seems to rule out a pulsar origin. The positional coincidences with uncatalogued candidates to supernova remnants were also studied. Only 7 sources in the sample are spatially coincident with these candidates, a result that is shown to be consistent with the expected level of pure chance association. A complementary search for weak radio counterparts was also conducted and the results are presented as an extensive table containing all significant point-like radio sources within the 40 EGRET fields. We argue that in order to produce the high variability, steep gamma-ray spectra, and absence of strong radio counterparts observed in some of the gamma-ray sources of our sample, a new class of objects should be postulated, and we analyze a viable candidate.</td><td>http://vizier.u-strasbg.fr/viz-bin/conesearch/J/A+A/370/468/table1?</td><td>http://cdsarc.u-strasbg.fr/cgi-bin/Cat?J/A+A/370/468</td><td>CDS</td><td>conesearch</td></tr>\n",
       "<tr><td>gamma-ray#radio</td><td>J/A+A/370/468</td><td>ivo://cds.vizier/j/a+a/370/468</td><td>We present a study of 40 low-latitude unidentified 3EG gamma-ray sources which were found to be not positionally coincident with any known class of potential gamma-ray emitters in the Galaxy (Romero et al., 1999A&amp;amp;A...348..868R). We have performed a variability analysis which reveals that many of these 40 sources are variable. These sources have, in addition, a steep mean value of the gamma-ray spectral index, &amp;lt;{Gamma}&amp;gt;=2.41+/-0.2, which, combined with the high level of variability, seems to rule out a pulsar origin. The positional coincidences with uncatalogued candidates to supernova remnants were also studied. Only 7 sources in the sample are spatially coincident with these candidates, a result that is shown to be consistent with the expected level of pure chance association. A complementary search for weak radio counterparts was also conducted and the results are presented as an extensive table containing all significant point-like radio sources within the 40 EGRET fields. We argue that in order to produce the high variability, steep gamma-ray spectra, and absence of strong radio counterparts observed in some of the gamma-ray sources of our sample, a new class of objects should be postulated, and we analyze a viable candidate.</td><td>http://vizier.u-strasbg.fr/viz-bin/conesearch/J/A+A/370/468/table5a?</td><td>http://cdsarc.u-strasbg.fr/cgi-bin/Cat?J/A+A/370/468</td><td>CDS</td><td>conesearch</td></tr>\n",
       "<tr><td>gamma-ray#radio</td><td>J/A+A/370/468</td><td>ivo://cds.vizier/j/a+a/370/468</td><td>We present a study of 40 low-latitude unidentified 3EG gamma-ray sources which were found to be not positionally coincident with any known class of potential gamma-ray emitters in the Galaxy (Romero et al., 1999A&amp;amp;A...348..868R). We have performed a variability analysis which reveals that many of these 40 sources are variable. These sources have, in addition, a steep mean value of the gamma-ray spectral index, &amp;lt;{Gamma}&amp;gt;=2.41+/-0.2, which, combined with the high level of variability, seems to rule out a pulsar origin. The positional coincidences with uncatalogued candidates to supernova remnants were also studied. Only 7 sources in the sample are spatially coincident with these candidates, a result that is shown to be consistent with the expected level of pure chance association. A complementary search for weak radio counterparts was also conducted and the results are presented as an extensive table containing all significant point-like radio sources within the 40 EGRET fields. We argue that in order to produce the high variability, steep gamma-ray spectra, and absence of strong radio counterparts observed in some of the gamma-ray sources of our sample, a new class of objects should be postulated, and we analyze a viable candidate.</td><td>http://vizier.u-strasbg.fr/viz-bin/conesearch/J/A+A/370/468/table5b?</td><td>http://cdsarc.u-strasbg.fr/cgi-bin/Cat?J/A+A/370/468</td><td>CDS</td><td>conesearch</td></tr>\n",
       "<tr><td>...</td><td>...</td><td>...</td><td>...</td><td>...</td><td>...</td><td>...</td><td>...</td></tr>\n",
       "<tr><td>gamma-ray</td><td>SwiftBAT</td><td>ivo://nasa.heasarc/swiftbalog</td><td>No Description Available</td><td>https://heasarc.gsfc.nasa.gov/cgi-bin/vo/cone/coneGet.pl?table=swiftbalog&amp;amp;</td><td>https://heasarc.gsfc.nasa.gov/W3Browse/all/swiftbalog.html</td><td>NASA/GSFC HEASARC</td><td>conesearch</td></tr>\n",
       "<tr><td>gamma-ray</td><td>SWIFTGRB</td><td>ivo://nasa.heasarc/swiftgrb</td><td>No Description Available</td><td>https://heasarc.gsfc.nasa.gov/cgi-bin/vo/cone/coneGet.pl?table=swiftgrb&amp;amp;</td><td>https://heasarc.gsfc.nasa.gov/W3Browse/all/swiftgrb.html</td><td>NASA/GSFC HEASARC</td><td>conesearch</td></tr>\n",
       "<tr><td>gamma-ray</td><td>Swift</td><td>ivo://nasa.heasarc/swiftmastr</td><td>No Description Available</td><td>https://heasarc.gsfc.nasa.gov/cgi-bin/vo/cone/coneGet.pl?table=swiftmastr&amp;amp;</td><td>https://heasarc.gsfc.nasa.gov/W3Browse/all/swiftmastr.html</td><td>NASA/GSFC HEASARC</td><td>conesearch</td></tr>\n",
       "<tr><td>gamma-ray</td><td>SWIFTTDRSS</td><td>ivo://nasa.heasarc/swifttdrss</td><td>No Description Available</td><td>https://heasarc.gsfc.nasa.gov/cgi-bin/vo/cone/coneGet.pl?table=swifttdrss&amp;amp;</td><td>https://heasarc.gsfc.nasa.gov/W3Browse/all/swifttdrss.html</td><td>NASA/GSFC HEASARC</td><td>conesearch</td></tr>\n",
       "<tr><td>gamma-ray</td><td>SwiftUVOT</td><td>ivo://nasa.heasarc/swiftuvlog</td><td>No Description Available</td><td>https://heasarc.gsfc.nasa.gov/cgi-bin/vo/cone/coneGet.pl?table=swiftuvlog&amp;amp;</td><td>https://heasarc.gsfc.nasa.gov/W3Browse/all/swiftuvlog.html</td><td>NASA/GSFC HEASARC</td><td>conesearch</td></tr>\n",
       "<tr><td>gamma-ray</td><td>SwiftXRT</td><td>ivo://nasa.heasarc/swiftxrlog</td><td>No Description Available</td><td>https://heasarc.gsfc.nasa.gov/cgi-bin/vo/cone/coneGet.pl?table=swiftxrlog&amp;amp;</td><td>https://heasarc.gsfc.nasa.gov/W3Browse/all/swiftxrlog.html</td><td>NASA/GSFC HEASARC</td><td>conesearch</td></tr>\n",
       "<tr><td>gamma-ray</td><td>TEVCAT</td><td>ivo://nasa.heasarc/tevcat</td><td>No Description Available</td><td>https://heasarc.gsfc.nasa.gov/cgi-bin/vo/cone/coneGet.pl?table=tevcat&amp;amp;</td><td>https://heasarc.gsfc.nasa.gov/W3Browse/all/tevcat.html</td><td>NASA/GSFC HEASARC</td><td>conesearch</td></tr>\n",
       "<tr><td>gamma-ray</td><td>VELA5B</td><td>ivo://nasa.heasarc/vela5b</td><td>No Description Available</td><td>https://heasarc.gsfc.nasa.gov/cgi-bin/vo/cone/coneGet.pl?table=vela5b&amp;amp;</td><td>https://heasarc.gsfc.nasa.gov/W3Browse/all/vela5b.html</td><td>NASA/GSFC HEASARC</td><td>conesearch</td></tr>\n",
       "<tr><td>gamma-ray#infrared</td><td>WISEHSPCAT</td><td>ivo://nasa.heasarc/wisehspcat</td><td>No Description Available</td><td>https://heasarc.gsfc.nasa.gov/cgi-bin/vo/cone/coneGet.pl?table=wisehspcat&amp;amp;</td><td>https://heasarc.gsfc.nasa.gov/W3Browse/all/wisehspcat.html</td><td>NASA/GSFC HEASARC</td><td>conesearch</td></tr>\n",
       "<tr><td>radio#millimeter#infrared#optical#uv#euv#x-ray#gamma-ray</td><td>NED(sources)</td><td>ivo://ned.ipac/basic_data_near_position</td><td>NED Cone Search service (search for objects Near Position): The NASA/IPAC Extragalactic Database (NED) provides a comprehensive fusion of multi-wavelength data for hundreds of millions of objects located beyond the Milky Way galaxy. This service searches NED&apos;s master list of extragalactic objects for entries near a given position. NED&apos;s position interpreter recognizes most of the standard position (coordinate) formats used in astronomy.</td><td>http://ned.ipac.caltech.edu/cgi-bin/NEDobjsearch?search_type=Near+Position+Search&amp;amp;of=xml_main&amp;amp;</td><td>http://ned.ipac.caltech.edu/help/object_help.html#nrpos</td><td>The NASA/IPAC Extragalactic Database</td><td>conesearch</td></tr>\n",
       "</table>"
      ],
      "text/plain": [
       "<Table masked=True length=444>\n",
       "                        waveband                         ... service_type\n",
       "                         str56                           ...    str10    \n",
       "-------------------------------------------------------- ... ------------\n",
       "radio#millimeter#infrared#optical#uv#euv#x-ray#gamma-ray ...   conesearch\n",
       "                                               gamma-ray ...   conesearch\n",
       "                          infrared#radio#gamma-ray#x-ray ...   conesearch\n",
       "    radio#millimeter#infrared#optical#uv#x-ray#gamma-ray ...   conesearch\n",
       "                                               gamma-ray ...   conesearch\n",
       "                                               gamma-ray ...   conesearch\n",
       "                                               gamma-ray ...   conesearch\n",
       "                                         gamma-ray#radio ...   conesearch\n",
       "                                         gamma-ray#radio ...   conesearch\n",
       "                                         gamma-ray#radio ...   conesearch\n",
       "                                                     ... ...          ...\n",
       "                                               gamma-ray ...   conesearch\n",
       "                                               gamma-ray ...   conesearch\n",
       "                                               gamma-ray ...   conesearch\n",
       "                                               gamma-ray ...   conesearch\n",
       "                                               gamma-ray ...   conesearch\n",
       "                                               gamma-ray ...   conesearch\n",
       "                                               gamma-ray ...   conesearch\n",
       "                                               gamma-ray ...   conesearch\n",
       "                                      gamma-ray#infrared ...   conesearch\n",
       "radio#millimeter#infrared#optical#uv#euv#x-ray#gamma-ray ...   conesearch"
      ]
     },
     "execution_count": 16,
     "metadata": {},
     "output_type": "execute_result"
    }
   ],
   "source": [
    "uv_tables=Registry.query(service_type='cone',waveband='gamma')\n",
    "uv_tables"
   ]
  },
  {
   "cell_type": "markdown",
   "metadata": {
    "collapsed": true
   },
   "source": [
    "And now we want to narrow down this search to the Swift BAT sources:"
   ]
  },
  {
   "cell_type": "code",
   "execution_count": 17,
   "metadata": {},
   "outputs": [
    {
     "data": {
      "text/html": [
       "<i>Table masked=True length=1</i>\n",
       "<table id=\"table34589897896\" class=\"table-striped table-bordered table-condensed\">\n",
       "<thead><tr><th>short_name</th><th>access_url</th></tr></thead>\n",
       "<thead><tr><th>str16</th><th>str102</th></tr></thead>\n",
       "<tr><td>SwiftBAT</td><td>https://heasarc.gsfc.nasa.gov/cgi-bin/vo/cone/coneGet.pl?table=swiftbalog&amp;amp;</td></tr>\n",
       "</table>"
      ],
      "text/plain": [
       "<Table masked=True length=1>\n",
       "short_name ...\n",
       "  str16    ...\n",
       "---------- ...\n",
       "  SwiftBAT ..."
      ]
     },
     "execution_count": 17,
     "metadata": {},
     "output_type": "execute_result"
    }
   ],
   "source": [
    "bat_tables = uv_tables[np.isin(uv_tables['short_name'],['SwiftBAT'])]\n",
    "bat_tables['short_name', 'access_url']"
   ]
  },
  {
   "cell_type": "markdown",
   "metadata": {},
   "source": [
    "<a id=\"scs\"></a>\n",
    "# 2. SCS:  Using the Simple Cone Search \n"
   ]
  },
  {
   "cell_type": "markdown",
   "metadata": {},
   "source": [
    "<a id=\"scs1\"></a>\n",
    "The SCS is quite straightforward:"
   ]
  },
  {
   "cell_type": "code",
   "execution_count": 20,
   "metadata": {},
   "outputs": [
    {
     "name": "stdout",
     "output_type": "stream",
     "text": [
      "[<Table masked=True length=116>\n",
      "target_id    obsid        ra    ... operation_mode pointing_mode Search_Offset\n",
      "                         deg    ...                                           \n",
      "  int32      str11     float64  ...     str12          str13        float64   \n",
      "--------- ----------- --------- ... -------------- ------------- -------------\n",
      "    81780 00081780001 148.98367 ...   Rates_Arr_1s      POINTING        0.5173\n",
      "    81780 00081780001 148.98367 ...         Survey      POINTING        0.5173\n",
      "    81780 00081780001 148.98367 ...   Rates_Arr_1s      POINTING        0.5173\n",
      "    81780 00081780001 148.98367 ...         Survey      POINTING        0.5173\n",
      "   671775 00671775000 148.98367 ...          Event SLEW_POINTING        0.5173\n",
      "   671780 00671780000 148.98367 ...          Event SLEW_POINTING        0.5173\n",
      "    32503 00032503150 148.95265 ...   Rates_Arr_1s      POINTING        0.4875\n",
      "    32503 00032503150 148.95265 ...         Survey      POINTING        0.4875\n",
      "    32503 00032503150 148.95265 ...   Rates_Arr_1s      POINTING        0.4875\n",
      "      ...         ...       ... ...            ...           ...           ...\n",
      "    32503 00032503021 148.94872 ...   Rates_Arr_1s      POINTING        0.5172\n",
      "    32503 00032503021 148.94872 ...         Survey      POINTING        0.5172\n",
      "   537070 00537070000 148.94872 ...          Event SLEW_POINTING        0.5172\n",
      "    32503 00032503190 148.97910 ...   Rates_Arr_1s      POINTING        0.5313\n",
      "    32503 00032503190 148.97910 ...         Survey      POINTING        0.5313\n",
      "    32503 00032503190 148.97910 ...   Rates_Arr_1s      POINTING        0.5313\n",
      "    32503 00032503190 148.97910 ...         Survey      POINTING        0.5313\n",
      "   777813 00777813000 148.97910 ...          Event SLEW_POINTING        0.5313\n",
      "   777814 00777814000 148.97910 ...          Event SLEW_POINTING        0.5313\n",
      "   777815 00777815000 148.97910 ...          Event SLEW_POINTING        0.5313]\n"
     ]
    },
    {
     "name": "stderr",
     "output_type": "stream",
     "text": [
      "WARNING: W03: None:4:2: W03: Implicitly generating an ID from a name 'Info:Name resolution' -> 'Info_Name_resolution' [astropy.io.votable.xmlutil]\n",
      "WARNING: W50: None:19:3: W50: Invalid unit string 'mjd' [astropy.io.votable.tree]\n"
     ]
    }
   ],
   "source": [
    "from astropy.coordinates import SkyCoord\n",
    "coords=SkyCoord.from_name(\"m82\")\n",
    "table=Cone.query(service=bat_tables[0],coords=coords,radius=0.01)\n",
    "print(table)               "
   ]
  },
  {
   "cell_type": "code",
   "execution_count": null,
   "metadata": {
    "collapsed": true
   },
   "outputs": [],
   "source": []
  }
 ],
 "metadata": {
  "anaconda-cloud": {},
  "kernelspec": {
   "display_name": "Python 3",
   "language": "python",
   "name": "python3"
  },
  "language_info": {
   "codemirror_mode": {
    "name": "ipython",
    "version": 3
   },
   "file_extension": ".py",
   "mimetype": "text/x-python",
   "name": "python",
   "nbconvert_exporter": "python",
   "pygments_lexer": "ipython3",
   "version": "3.6.5"
  }
 },
 "nbformat": 4,
 "nbformat_minor": 1
}
