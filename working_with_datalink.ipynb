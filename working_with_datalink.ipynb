{
 "cells": [
  {
   "cell_type": "markdown",
   "metadata": {},
   "source": [
    "#  Using DataLink to retrieve associated data products\n",
    "\n",
    "In this example, we will query an SSA service for spectra, but then we will look at what products are associated with each spectrum using DataLink.\n"
   ]
  },
  {
   "cell_type": "code",
   "execution_count": null,
   "metadata": {},
   "outputs": [],
   "source": [
    "import pyvo as vo\n",
    "from astropy.coordinates import SkyCoord\n",
    "from IPython.display import Image as ipImage, display, HTML\n",
    "import os\n",
    "import warnings\n",
    "warnings.filterwarnings('ignore', '.*Unknown element mirrorURL.*', vo.utils.xml.elements.UnknownElementWarning)\n",
    "    "
   ]
  },
  {
   "cell_type": "code",
   "execution_count": null,
   "metadata": {},
   "outputs": [],
   "source": [
    "#  Pick an object\n",
    "pos = SkyCoord.from_name('NGC 2264')"
   ]
  },
  {
   "cell_type": "markdown",
   "metadata": {},
   "source": [
    "### Simple example\n",
    "\n",
    "See what the Registry has for SSA services that mention a datalink:"
   ]
  },
  {
   "cell_type": "code",
   "execution_count": null,
   "metadata": {},
   "outputs": [],
   "source": [
    "service=vo.regsearch(keywords=['datalink'],servicetype='ssa')[0]\n",
    "service.describe()"
   ]
  },
  {
   "cell_type": "code",
   "execution_count": null,
   "metadata": {
    "scrolled": true
   },
   "outputs": [],
   "source": [
    "#  Search for spectra:\n",
    "results=service.search(pos=pos,size=0.1)\n",
    "results.to_table()"
   ]
  },
  {
   "cell_type": "markdown",
   "metadata": {},
   "source": [
    "The above table shows the results of the SSA query, i.e. the spectra we can download and their metadata.  \n",
    "\n",
    "But each of these results may have further associated data through DataLink.  <font color=red>(How should this be tested for?  As below, if you call getdatalink() on a service that doesn't have one, it doesn't exit gracefully IMO.)</font>  Let's see what else is available through DataLink for *one* of these spectra:"
   ]
  },
  {
   "cell_type": "code",
   "execution_count": null,
   "metadata": {
    "scrolled": true
   },
   "outputs": [],
   "source": [
    "links=results[2].getdatalink()\n",
    "links.to_table()"
   ]
  },
  {
   "cell_type": "markdown",
   "metadata": {},
   "source": [
    "This shows that for *each* of the spectra returned by our SSA query, there are four linked datasets that we might be interested in.  "
   ]
  },
  {
   "cell_type": "markdown",
   "metadata": {},
   "source": [
    "Note that, as usual, the structure of the 'links' object used above isn't actually a table, since inside it's based on a set of XML objects.  But you can can browse it as a table by using the to_table() method, and to access each of the linked datasets, you can iterate over them as through they are rows.  (Be careful;  to_table() doesn't consistently return rows in the same order as the iterator over the results object would.  Don't use row numbers but check attributes instead.)  \n",
    "\n",
    "For example, from the description and content_type columns above, we see that this service offers PNG previews of the spectra as the last of those four linked objects.  Let's take a look at one:     "
   ]
  },
  {
   "cell_type": "code",
   "execution_count": null,
   "metadata": {},
   "outputs": [],
   "source": [
    "display(ipImage(data=links[3].getdataset().data))"
   ]
  },
  {
   "cell_type": "markdown",
   "metadata": {},
   "source": [
    "### Accessing multiple datalinks"
   ]
  },
  {
   "cell_type": "markdown",
   "metadata": {},
   "source": [
    "Now let's suppose we didn't look at just one catalog result and ourself inspect what linked objects it has.  We can instead have a script iterate through all 19 catalog results, and look for *any* linked object that is of type image/png.  You could build your own for loop on the results above like this, sending a query to get the datalink for each row of your results:  "
   ]
  },
  {
   "cell_type": "code",
   "execution_count": null,
   "metadata": {},
   "outputs": [],
   "source": [
    "#for result in results:\n",
    "#    link=result.getdatalink()\n",
    "#    ..."
   ]
  },
  {
   "cell_type": "markdown",
   "metadata": {},
   "source": [
    "But there is a more efficient iterator demonstrated below.  \n",
    "\n",
    "Under the hood, there is (at most) one DataLink resource returned with the results object by the TAP service with each VOTable it returns.  That resource tells PyVO whether there's a DataLink and how to construct the DataLink query for each of the rows in the result. This iterator is more efficient than writing your own loop, because it collects the different DataLink calls into one query for the server and then gives you an iterator for the results. So it looks almost the same, but generally this will  be faster, (though there may be circumstances in which one method is preferable to another depending on the sizes of the jobs and the server).  "
   ]
  },
  {
   "cell_type": "code",
   "execution_count": null,
   "metadata": {
    "scrolled": true
   },
   "outputs": [],
   "source": [
    "#  Iterate over the TAP results calling getdatalink() for each\n",
    "cnt=0\n",
    "for links in results.iter_datalinks():\n",
    "    print(f\"On {cnt}th datalink\")\n",
    "    cnt+=1\n",
    "    #  Then look at all the linked objects for each TAP result\n",
    "    #   and find the type we want\n",
    "    for link in links:\n",
    "        if link.content_type == \"image/png\":\n",
    "            display(ipImage(data=link.getdataset().data))"
   ]
  },
  {
   "cell_type": "markdown",
   "metadata": {},
   "source": [
    "### Error handling\n",
    "\n",
    "Let's take a look at a different service:"
   ]
  },
  {
   "cell_type": "code",
   "execution_count": null,
   "metadata": {},
   "outputs": [],
   "source": [
    "service=vo.regsearch(servicetype='sia',keywords=['uvot'])[0]"
   ]
  },
  {
   "cell_type": "code",
   "execution_count": null,
   "metadata": {
    "scrolled": true
   },
   "outputs": [],
   "source": [
    "results=service.search(pos=pos,size=0.1)\n",
    "results.to_table()"
   ]
  },
  {
   "cell_type": "markdown",
   "metadata": {},
   "source": [
    "<font color=red>SkyView doesn't give any DataLink.  Where should this error checking be done?  This should return None rather than an exception.  Though buried in the two exceptions is a sensible </font>\n",
    "\n",
    "    DALServiceError: No Adhoc Service with ivo-id b'ivo://ivoa.net/std/datalink'!\n",
    "\n",
    "<font color=red>Is there a way to check a TAPResults or SIAResults object for whether there's any DataLink before calling this? </font>"
   ]
  },
  {
   "cell_type": "code",
   "execution_count": null,
   "metadata": {
    "scrolled": true
   },
   "outputs": [],
   "source": [
    "try:\n",
    "    results[0].getdatalink()\n",
    "except Exception as e:\n",
    "    print(f\"Exception:  {e}\")"
   ]
  },
  {
   "cell_type": "markdown",
   "metadata": {},
   "source": [
    "### A more complicated example\n",
    "\n",
    "\n",
    "Let's try HEASARC's DataLink service through a TAP query to the Chandra master catalog:"
   ]
  },
  {
   "cell_type": "code",
   "execution_count": null,
   "metadata": {},
   "outputs": [],
   "source": [
    "#  Get the HEASARC TAP resource from the Registry\n",
    "services=vo.regsearch(servicetype='tap',keywords=['heasarc'])\n",
    "#  Construct a query to get objects near our source:\n",
    "query=\"\"\"SELECT * FROM chanmaster WHERE \n",
    "        1=CONTAINS(POINT('ICRS', ra, dec),\n",
    "        CIRCLE('ICRS', {}, {}, 1))\"\"\".format(pos.ra.deg,pos.dec.deg)\n",
    "results = services[0].search(query)\n",
    "results.to_table()"
   ]
  },
  {
   "cell_type": "markdown",
   "metadata": {},
   "source": [
    "And look at what DataLink's are available for one of these results:  "
   ]
  },
  {
   "cell_type": "code",
   "execution_count": null,
   "metadata": {
    "scrolled": true
   },
   "outputs": [],
   "source": [
    "links=results[0].getdatalink()\n",
    "links.to_table()['description','content_type']"
   ]
  },
  {
   "cell_type": "markdown",
   "metadata": {},
   "source": [
    "So this service offers, for each row in the Chandra catalog, access to the proposal abstract, related ADS bibcodes, nearby XMM, RXTE, ASCA, and ROSAT observations, etc. as HTML results.   "
   ]
  },
  {
   "cell_type": "markdown",
   "metadata": {},
   "source": [
    "As above, one can iterate over each of these results:"
   ]
  },
  {
   "cell_type": "code",
   "execution_count": null,
   "metadata": {
    "scrolled": true
   },
   "outputs": [],
   "source": [
    "##  If you need to re-run this cell, first re-run the query to\n",
    "##   make sure the iterator is also reset.  \n",
    "#results = services[0].search(query)\n",
    "for links in results.iter_datalinks():\n",
    "    #  Then look at all the linked objects for each TAP result\n",
    "    #   and find the type we want\n",
    "    for link in links:\n",
    "        print(link.description)\n",
    "        if \"ADS\" in link.description:\n",
    "            # Let's just look at one of them\n",
    "            l=link\n",
    "    break\n",
    "display(HTML(l.getdataset().data.decode()))"
   ]
  },
  {
   "cell_type": "markdown",
   "metadata": {},
   "source": [
    "Note that one of DataLinks takes us to the Chandra observation itself with a content_type that indicates it is itself a datalink.  In other words, our original TAP query returned a number of rows in the catalog, each of which has a DataLink associated with it. That DataLink leads to a number of HTML results as well as another DataLink.   Let's look at the next DataLink level down and see what it gives:  "
   ]
  },
  {
   "cell_type": "code",
   "execution_count": null,
   "metadata": {},
   "outputs": [],
   "source": [
    "for link in links:\n",
    "    if \"datalink\" in link.content_type:\n",
    "        break\n",
    "link.getdatalink().to_table()['description','content_type']"
   ]
  },
  {
   "cell_type": "markdown",
   "metadata": {},
   "source": [
    "This shows that there are more datalinks below that, for the FITS images, orbit files, etc.  The user can therefore continue down the chain of links looking for particular types of data they are interested in.\n",
    "\n",
    "Here's an example routine that recurses down to see what's there, showing the content types it finds at each level.  Note that there is no method iter_datalinks() for the results that are already DataLink results.  (Each row of a DataLink result has its own independent URL.)"
   ]
  },
  {
   "cell_type": "code",
   "execution_count": null,
   "metadata": {},
   "outputs": [],
   "source": [
    "def linkwalker( result, level):\n",
    "    print(\"LEVEL {}\".format(level))\n",
    "    try:\n",
    "        result2=result.getdatalink()\n",
    "        print(result2.to_table()['description','content_type'])\n",
    "    except Exception as e:\n",
    "        print(\"Exception {}\".format(e))\n",
    "        return\n",
    "    for link in [l for l in result2 if \"datalink\" in l.content_type]:\n",
    "        linkwalker(link, level+1)\n",
    "    return"
   ]
  },
  {
   "cell_type": "code",
   "execution_count": null,
   "metadata": {},
   "outputs": [],
   "source": [
    "linkwalker(results[0], 0)"
   ]
  },
  {
   "cell_type": "markdown",
   "metadata": {},
   "source": [
    "You could then insert something to check for specific type of data product you're interested in and then submit such a query to a set of different services.  For instance, let's look for all FITS images."
   ]
  },
  {
   "cell_type": "code",
   "execution_count": null,
   "metadata": {},
   "outputs": [],
   "source": []
  },
  {
   "cell_type": "code",
   "execution_count": null,
   "metadata": {},
   "outputs": [],
   "source": [
    "def linkwalker( result, level, keyword=None ):\n",
    "    print(\"LEVEL {}\".format(level))\n",
    "    try:\n",
    "        result2=result.getdatalink()\n",
    "        if keyword is None:\n",
    "            print(result2.to_table()['description','content_type'])\n",
    "        else:\n",
    "            t=result2.to_table()['description','content_type']\n",
    "            #print([r for r in t if keyword in r['description'].lower() or keyword in r['content_type'].lower()])\n",
    "            for r in t:\n",
    "                if keyword in r['description'].lower() or keyword in r['content_type'].lower():\n",
    "                    print(r)\n",
    "    except Exception as e:\n",
    "        print(\"Exception {}\".format(e))\n",
    "        return\n",
    "    for link in [l for l in result2 if \"datalink\" in l.content_type]:\n",
    "        linkwalker(link, level+1, keyword)\n",
    "    return"
   ]
  },
  {
   "cell_type": "code",
   "execution_count": null,
   "metadata": {},
   "outputs": [],
   "source": [
    "linkwalker(results[0], 0,keyword=b'fits')"
   ]
  },
  {
   "cell_type": "code",
   "execution_count": null,
   "metadata": {},
   "outputs": [],
   "source": []
  }
 ],
 "metadata": {
  "kernelspec": {
   "display_name": "Python 3",
   "language": "python",
   "name": "python3"
  },
  "language_info": {
   "codemirror_mode": {
    "name": "ipython",
    "version": 3
   },
   "file_extension": ".py",
   "mimetype": "text/x-python",
   "name": "python",
   "nbconvert_exporter": "python",
   "pygments_lexer": "ipython3",
   "version": "3.7.8"
  }
 },
 "nbformat": 4,
 "nbformat_minor": 4
}
